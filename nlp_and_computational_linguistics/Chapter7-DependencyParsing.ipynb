{
 "cells": [
  {
   "cell_type": "code",
   "execution_count": 8,
   "metadata": {},
   "outputs": [],
   "source": [
    "import spacy\n",
    "nlp = spacy.load('en')"
   ]
  },
  {
   "cell_type": "code",
   "execution_count": 9,
   "metadata": {},
   "outputs": [],
   "source": [
    "sent_0 = nlp(u'Myriam saw Clement with a telescope.')\n",
    "sent_1 = nlp(u'Self-driving cars shift insurance liability toward manufacturers.')\n",
    "sent_2 = nlp(u'I shot the elephant in my pyjamas.')"
   ]
  },
  {
   "cell_type": "code",
   "execution_count": 11,
   "metadata": {},
   "outputs": [
    {
     "name": "stdout",
     "output_type": "stream",
     "text": [
      "('Myriam', 'Myriam', 'nsubj', 'saw')\n",
      "('Clement', 'Clement', 'dobj', 'saw')\n",
      "('a telescope', 'telescope', 'pobj', 'with')\n"
     ]
    }
   ],
   "source": [
    "for chunk in sent_0.noun_chunks:\n",
    "    print((chunk.text, chunk.root.text, chunk.root.dep_, chunk.root.head.text))"
   ]
  },
  {
   "cell_type": "code",
   "execution_count": 17,
   "metadata": {},
   "outputs": [
    {
     "name": "stdout",
     "output_type": "stream",
     "text": [
      "('Myriam', 'nsubj', 'saw', 'VERB', [])\n",
      "('saw', 'ROOT', 'saw', 'VERB', [Myriam, Clement, with, .])\n",
      "('Clement', 'dobj', 'saw', 'VERB', [])\n",
      "('with', 'prep', 'saw', 'VERB', [telescope])\n",
      "('a', 'det', 'telescope', 'NOUN', [])\n",
      "('telescope', 'pobj', 'with', 'ADP', [a])\n",
      "('.', 'punct', 'saw', 'VERB', [])\n"
     ]
    }
   ],
   "source": [
    "for token in sent_0 :\n",
    "    print((token.text, token.dep_, token.head.text, token.head. pos_, [child for child in token .children ] ))"
   ]
  },
  {
   "cell_type": "code",
   "execution_count": 12,
   "metadata": {},
   "outputs": [
    {
     "name": "stdout",
     "output_type": "stream",
     "text": [
      "('Self-driving cars', 'cars', 'nsubj', 'shift')\n",
      "('insurance liability', 'liability', 'dobj', 'shift')\n",
      "('manufacturers', 'manufacturers', 'pobj', 'toward')\n"
     ]
    }
   ],
   "source": [
    "for chunk in sent_1.noun_chunks:\n",
    "    print((chunk.text, chunk.root.text, chunk.root.dep_, chunk.root.head.text))"
   ]
  },
  {
   "cell_type": "code",
   "execution_count": 18,
   "metadata": {},
   "outputs": [
    {
     "name": "stdout",
     "output_type": "stream",
     "text": [
      "('Self', 'npadvmod', 'driving', 'VERB', [])\n",
      "('-', 'punct', 'driving', 'VERB', [])\n",
      "('driving', 'amod', 'cars', 'NOUN', [Self, -])\n",
      "('cars', 'nsubj', 'shift', 'VERB', [driving])\n",
      "('shift', 'ROOT', 'shift', 'VERB', [cars, liability, toward, .])\n",
      "('insurance', 'compound', 'liability', 'NOUN', [])\n",
      "('liability', 'dobj', 'shift', 'VERB', [insurance])\n",
      "('toward', 'prep', 'shift', 'VERB', [manufacturers])\n",
      "('manufacturers', 'pobj', 'toward', 'ADP', [])\n",
      "('.', 'punct', 'shift', 'VERB', [])\n"
     ]
    }
   ],
   "source": [
    "for token in sent_1:\n",
    "    print((token.text, token.dep_, token.head.text, token.head. pos_, [child for child in token .children ] ))"
   ]
  },
  {
   "cell_type": "code",
   "execution_count": 16,
   "metadata": {},
   "outputs": [
    {
     "name": "stdout",
     "output_type": "stream",
     "text": [
      "('I', 'I', 'nsubj', 'shot')\n",
      "('the elephant', 'elephant', 'dobj', 'shot')\n",
      "('my pyjamas', 'pyjamas', 'pobj', 'in')\n"
     ]
    }
   ],
   "source": [
    "for chunk in sent_2.noun_chunks:\n",
    "    print((chunk.text, chunk.root.text, chunk.root.dep_, chunk.root.head.text))"
   ]
  },
  {
   "cell_type": "code",
   "execution_count": 19,
   "metadata": {},
   "outputs": [
    {
     "name": "stdout",
     "output_type": "stream",
     "text": [
      "('I', 'nsubj', 'shot', 'VERB', [])\n",
      "('shot', 'ROOT', 'shot', 'VERB', [I, elephant, in, .])\n",
      "('the', 'det', 'elephant', 'NOUN', [])\n",
      "('elephant', 'dobj', 'shot', 'VERB', [the])\n",
      "('in', 'prep', 'shot', 'VERB', [pyjamas])\n",
      "('my', 'poss', 'pyjamas', 'NOUN', [])\n",
      "('pyjamas', 'pobj', 'in', 'ADP', [my])\n",
      "('.', 'punct', 'shot', 'VERB', [])\n"
     ]
    }
   ],
   "source": [
    "for token in sent_2 :\n",
    "    print((token.text, token.dep_, token.head.text, token.head. pos_, [child for child in token .children ] ))"
   ]
  },
  {
   "cell_type": "code",
   "execution_count": 22,
   "metadata": {},
   "outputs": [
    {
     "name": "stdout",
     "output_type": "stream",
     "text": [
      "{shift}\n"
     ]
    }
   ],
   "source": [
    "from spacy.symbols import nsubj, VERB\n",
    "\n",
    "verbs = set()\n",
    "for possible_subject in sent_1:\n",
    "    if possible_subject.dep == nsubj and possible_subject.head.pos == VERB:\n",
    "        verbs.add(possible_subject.head)\n",
    "        \n",
    "print(verbs)"
   ]
  },
  {
   "cell_type": "code",
   "execution_count": 24,
   "metadata": {},
   "outputs": [
    {
     "name": "stdout",
     "output_type": "stream",
     "text": [
      "('Self', 'npadvmod', 0, 0, ['driving', 'cars', 'shift'])\n",
      "('-', 'punct', 0, 0, ['driving', 'cars', 'shift'])\n",
      "('driving', 'amod', 2, 0, ['cars', 'shift'])\n",
      "('cars', 'nsubj', 1, 0, ['shift'])\n"
     ]
    }
   ],
   "source": [
    "root = [token for token in sent_1 if token.head == token][0]\n",
    "subject = list(root.lefts)[0]\n",
    "for descendant in subject.subtree:\n",
    "    assert subject is descendant or subject.is_ancestor(descendant)\n",
    "    print((descendant.text, descendant.dep_, descendant.n_lefts, descendant.n_rights,\n",
    "          [ancestor.text for ancestor in descendant.ancestors]))\n"
   ]
  },
  {
   "cell_type": "markdown",
   "metadata": {},
   "source": [
    "# Training our dependency parsers"
   ]
  },
  {
   "cell_type": "code",
   "execution_count": 27,
   "metadata": {},
   "outputs": [
    {
     "name": "stdout",
     "output_type": "stream",
     "text": [
      "Created blank 'en' model\n",
      "Warning: Unnamed vectors -- this won't allow multiple vectors models to be loaded. (Shape: (0, 0))\n",
      "{'parser': 11.298212479960057}\n",
      "{'parser': 5.9547552042770215}\n",
      "{'parser': 2.917428063696304}\n",
      "{'parser': 1.1171131859917285}\n",
      "{'parser': 1.7865017133655645}\n",
      "{'parser': 0.0010677267878588155}\n",
      "{'parser': 0.0013433697685028753}\n",
      "{'parser': 9.223689810625636e-07}\n",
      "{'parser': 2.986945557667453e-06}\n",
      "{'parser': 1.4261345918727126e-08}\n",
      "Dependencies [('I', 'nsubj', 'like'), ('like', 'ROOT', 'like'), ('securities', 'dobj', 'like'), ('.', 'punct', 'like')]\n"
     ]
    }
   ],
   "source": [
    "from __future__ import unicode_literals, print_function\n",
    "\n",
    "import random\n",
    "from pathlib import Path\n",
    "import spacy\n",
    "\n",
    "\n",
    "# training data\n",
    "TRAIN_DATA = [\n",
    "    (\"They trade mortgage-backed securities.\", {\n",
    "        'heads': [1, 1, 4, 4, 5, 1, 1],\n",
    "        'deps': ['nsubj', 'ROOT', 'compound', 'punct', 'nmod', 'dobj', 'punct']\n",
    "    }),\n",
    "    (\"I like London and Berlin.\", {\n",
    "        'heads': [1, 1, 1, 2, 2, 1],\n",
    "        'deps': ['nsubj', 'ROOT', 'dobj', 'cc', 'conj', 'punct']\n",
    "    })\n",
    "]\n",
    "\n",
    "def main(model=None, output_dir=None, n_iter=10):\n",
    "    \"\"\"Load the model, set up the pipeline and train the parser.\"\"\"\n",
    "    if model is not None:\n",
    "        nlp = spacy.load(model)  # load existing spaCy model\n",
    "        print(\"Loaded model '%s'\" % model)\n",
    "    else:\n",
    "        nlp = spacy.blank('en')  # create blank Language class\n",
    "        print(\"Created blank 'en' model\")\n",
    "\n",
    "    # add the parser to the pipeline if it doesn't exist\n",
    "    # nlp.create_pipe works for built-ins that are registered with spaCy\n",
    "    if 'parser' not in nlp.pipe_names:\n",
    "        parser = nlp.create_pipe('parser')\n",
    "        nlp.add_pipe(parser, first=True)\n",
    "    # otherwise, get it, so we can add labels to it\n",
    "    else:\n",
    "        parser = nlp.get_pipe('parser')\n",
    "\n",
    "    # add labels to the parser\n",
    "    for _, annotations in TRAIN_DATA:\n",
    "        for dep in annotations.get('deps', []):\n",
    "            parser.add_label(dep)\n",
    "\n",
    "    # get names of other pipes to disable them during training\n",
    "    other_pipes = [pipe for pipe in nlp.pipe_names if pipe != 'parser']\n",
    "    with nlp.disable_pipes(*other_pipes):  # only train parser\n",
    "        optimizer = nlp.begin_training()\n",
    "        for itn in range(n_iter):\n",
    "            random.shuffle(TRAIN_DATA)\n",
    "            losses = {}\n",
    "            for text, annotations in TRAIN_DATA:\n",
    "                nlp.update([text], [annotations], sgd=optimizer, losses=losses)\n",
    "            print(losses)\n",
    "\n",
    "    # test the trained model\n",
    "    test_text = \"I like securities.\"\n",
    "    doc = nlp(test_text)\n",
    "    print('Dependencies', [(t.text, t.dep_, t.head.text) for t in doc])\n",
    "\n",
    "    # save model to output directory\n",
    "    if output_dir is not None:\n",
    "        output_dir = Path(output_dir)\n",
    "        if not output_dir.exists():\n",
    "            output_dir.mkdir()\n",
    "        nlp.to_disk(output_dir)\n",
    "        print(\"Saved model to\", output_dir)\n",
    "\n",
    "        # test the saved model\n",
    "        print(\"Loading from\", output_dir)\n",
    "        nlp2 = spacy.load(output_dir)\n",
    "        doc = nlp2(test_text)\n",
    "        print('Dependencies', [(t.text, t.dep_, t.head.text) for t in doc])\n",
    "\n",
    "\n",
    "if __name__ == '__main__':\n",
    "    main()"
   ]
  },
  {
   "cell_type": "markdown",
   "metadata": {},
   "source": [
    "Using the parser to recognise your own semantics spaCy's parser component can be used to trained to predict any type of tree structure over your input text. You can also predict trees over whole documents or chat logs, with connections between the sentence-roots used to annotate discourse structure. In this example, we'll build a message parser for a common \"chat intent\": finding local businesses. Our message semantics will have the following types of relations: ROOT, PLACE, QUALITY, ATTRIBUTE, TIME, LOCATION.\n",
    "\n",
    "\"show me the best hotel in berlin\"\n",
    "- ('show', 'ROOT', 'show')\n",
    "- ('best', 'QUALITY', 'hotel') --> hotel with QUALITY best\n",
    "- ('hotel', 'PLACE', 'show') --> show PLACE hotel\n",
    "- ('berlin', 'LOCATION', 'hotel') --> hotel with LOCATION berlin\n",
    "Compatible with: spaCy v2.0.0+"
   ]
  },
  {
   "cell_type": "code",
   "execution_count": 36,
   "metadata": {},
   "outputs": [
    {
     "name": "stdout",
     "output_type": "stream",
     "text": [
      "Created blank 'en' model\n",
      "Warning: Unnamed vectors -- this won't allow multiple vectors models to be loaded. (Shape: (0, 0))\n",
      "{'parser': 51.407414456036236}\n",
      "{'parser': 31.480874742963184}\n",
      "{'parser': 20.12761407093807}\n",
      "{'parser': 19.185761280429674}\n",
      "{'parser': 15.29019559702668}\n",
      "{'parser': 11.334652493114973}\n",
      "{'parser': 6.416284825391444}\n",
      "{'parser': 12.452193891421608}\n",
      "{'parser': 1.953789578566763}\n",
      "{'parser': 7.76863297926673e-06}\n",
      "{'parser': 0.009107380910317153}\n",
      "{'parser': 0.0007426568706164702}\n",
      "{'parser': 1.6191893502016575e-07}\n",
      "{'parser': 1.0665281457102804}\n",
      "{'parser': 2.4679586752613613e-08}\n",
      "{'parser': 6.584187440729652e-08}\n",
      "{'parser': 1.5149161229617652e-08}\n",
      "{'parser': 3.6550350058416912e-09}\n",
      "{'parser': 3.152468886002731e-09}\n",
      "{'parser': 1.2200577720914826e-09}\n",
      "find a hotel with good wifi\n",
      "\n",
      "[('find', 'ROOT', 'find'),\n",
      " ('hotel', 'PLACE', 'find'),\n",
      " ('with', 'QUALITY', 'wifi'),\n",
      " ('good', 'QUALITY', 'wifi'),\n",
      " ('wifi', 'ATTRIBUTE', 'hotel')]\n",
      "find me the cheapest gym near work\n",
      "\n",
      "[('find', 'ROOT', 'find'),\n",
      " ('cheapest', 'QUALITY', 'gym'),\n",
      " ('gym', 'PLACE', 'find'),\n",
      " ('near', 'ATTRIBUTE', 'gym')]\n",
      "show me the best hotel in berlin\n",
      "\n",
      "[('show', 'ROOT', 'show'),\n",
      " ('best', 'QUALITY', 'hotel'),\n",
      " ('hotel', 'PLACE', 'show'),\n",
      " ('berlin', 'LOCATION', 'hotel')]\n"
     ]
    }
   ],
   "source": [
    "from __future__ import unicode_literals, print_function\n",
    "import random\n",
    "import spacy\n",
    "from pathlib import Path\n",
    "from pprint import pprint\n",
    "\n",
    "# training data: texts, heads and dependency labels\n",
    "# for no relation, we simply chose an arbitrary dependency label, e.g. '-'\n",
    "TRAIN_DATA = [\n",
    "    (\"find a cafe with great wifi\", {\n",
    "        'heads': [0, 2, 0, 5, 5, 2],  # index of token head\n",
    "        'deps': ['ROOT', '-', 'PLACE', '-', 'QUALITY', 'ATTRIBUTE']\n",
    "    }),\n",
    "    (\"find a hotel near the beach\", {\n",
    "        'heads': [0, 2, 0, 5, 5, 2],\n",
    "        'deps': ['ROOT', '-', 'PLACE', 'QUALITY', '-', 'ATTRIBUTE']\n",
    "    }),\n",
    "    (\"find me the closest gym that's open late\", {\n",
    "        'heads': [0, 0, 4, 4, 0, 6, 4, 6, 6],\n",
    "        'deps': ['ROOT', '-', '-', 'QUALITY', 'PLACE', '-', '-', 'ATTRIBUTE', 'TIME']\n",
    "    }),\n",
    "    (\"show me the cheapest store that sells flowers\", {\n",
    "        'heads': [0, 0, 4, 4, 0, 4, 4, 4],  # attach \"flowers\" to store!\n",
    "        'deps': ['ROOT', '-', '-', 'QUALITY', 'PLACE', '-', '-', 'PRODUCT']\n",
    "    }),\n",
    "    (\"find a nice restaurant in london\", {\n",
    "        'heads': [0, 3, 3, 0, 3, 3],\n",
    "        'deps': ['ROOT', '-', 'QUALITY', 'PLACE', '-', 'LOCATION']\n",
    "    }),\n",
    "    (\"show me the coolest hostel in berlin\", {\n",
    "        'heads': [0, 0, 4, 4, 0, 4, 4],\n",
    "        'deps': ['ROOT', '-', '-', 'QUALITY', 'PLACE', '-', 'LOCATION']\n",
    "    }),\n",
    "    (\"find a good italian restaurant near work\", {\n",
    "        'heads': [0, 4, 4, 4, 0, 4, 5],\n",
    "        'deps': ['ROOT', '-', 'QUALITY', 'ATTRIBUTE', 'PLACE', 'ATTRIBUTE', 'LOCATION']\n",
    "    })\n",
    "]\n",
    "\n",
    "def main(model=None, output_dir=None, n_iter=20):\n",
    "    \"\"\"Load the model, set up the pipeline and train the parser.\"\"\"\n",
    "    if model is not None:\n",
    "        nlp = spacy.load(model)  # load existing spaCy model\n",
    "        print(\"Loaded model '%s'\" % model)\n",
    "    else:\n",
    "        nlp = spacy.blank('en')  # create blank Language class\n",
    "        print(\"Created blank 'en' model\")\n",
    "\n",
    "    # We'll use the built-in dependency parser class, but we want to create a\n",
    "    # fresh instance – just in case.\n",
    "    if 'parser' in nlp.pipe_names:\n",
    "        nlp.remove_pipe('parser')\n",
    "    parser = nlp.create_pipe('parser')\n",
    "    nlp.add_pipe(parser, first=True)\n",
    "\n",
    "    for text, annotations in TRAIN_DATA:\n",
    "        for dep in annotations.get('deps', []):\n",
    "            parser.add_label(dep)\n",
    "\n",
    "    other_pipes = [pipe for pipe in nlp.pipe_names if pipe != 'parser']\n",
    "    with nlp.disable_pipes(*other_pipes):  # only train parser\n",
    "        optimizer = nlp.begin_training()\n",
    "        for itn in range(n_iter):\n",
    "            random.shuffle(TRAIN_DATA)\n",
    "            losses = {}\n",
    "            for text, annotations in TRAIN_DATA:\n",
    "                nlp.update([text], [annotations], sgd=optimizer, losses=losses)\n",
    "            print(losses)\n",
    "\n",
    "    # test the trained model\n",
    "    test_model(nlp)\n",
    "\n",
    "    # save model to output directory\n",
    "    if output_dir is not None:\n",
    "        output_dir = Path(output_dir)\n",
    "        if not output_dir.exists():\n",
    "            output_dir.mkdir()\n",
    "        nlp.to_disk(output_dir)\n",
    "        print(\"Saved model to\", output_dir)\n",
    "\n",
    "        # test the saved model\n",
    "        print(\"Loading from\", output_dir)\n",
    "        nlp2 = spacy.load(output_dir)\n",
    "        test_model(nlp2)\n",
    "\n",
    "        \n",
    "def test_model(nlp):\n",
    "    texts = [\"find a hotel with good wifi\",\n",
    "             \"find me the cheapest gym near work\",\n",
    "             \"show me the best hotel in berlin\"]\n",
    "    docs = nlp.pipe(texts)\n",
    "    for doc in docs:\n",
    "        print(doc.text, end=\"\\n\\n\")\n",
    "        pprint([(t.text, t.dep_, t.head.text) for t in doc if t.dep_ != '-'])\n",
    "        \n",
    "if __name__ == '__main__':\n",
    "    main()"
   ]
  },
  {
   "cell_type": "code",
   "execution_count": null,
   "metadata": {},
   "outputs": [],
   "source": []
  }
 ],
 "metadata": {
  "kernelspec": {
   "display_name": "Python 3",
   "language": "python",
   "name": "python3"
  },
  "language_info": {
   "codemirror_mode": {
    "name": "ipython",
    "version": 3
   },
   "file_extension": ".py",
   "mimetype": "text/x-python",
   "name": "python",
   "nbconvert_exporter": "python",
   "pygments_lexer": "ipython3",
   "version": "3.6.6"
  }
 },
 "nbformat": 4,
 "nbformat_minor": 2
}
