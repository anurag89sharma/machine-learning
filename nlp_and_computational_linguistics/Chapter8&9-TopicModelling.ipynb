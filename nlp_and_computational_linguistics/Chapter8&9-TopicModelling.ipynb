{
 "cells": [
  {
   "cell_type": "code",
   "execution_count": 107,
   "metadata": {},
   "outputs": [],
   "source": [
    "import matplotlib.pyplot as plt\n",
    "import gensim\n",
    "import numpy as np\n",
    "import spacy\n",
    "\n",
    "from gensim.models import CoherenceModel, LdaModel, LsiModel, HdpModel\n",
    "from gensim.models.wrappers import LdaMallet\n",
    "from gensim.corpora import Dictionary\n",
    "import pyLDAvis.gensim\n",
    "import logging\n",
    "logging.basicConfig(format='%(asctime)s : %(levelname)s : %(message)s', level=logging.INFO)\n",
    "\n",
    "import os, re, operator, warnings\n",
    "warnings.filterwarnings('ignore')  # Let's not pay heed to them right now\n",
    "%matplotlib inline"
   ]
  },
  {
   "cell_type": "code",
   "execution_count": 108,
   "metadata": {},
   "outputs": [],
   "source": [
    "def clean(text):\n",
    "    return ''.join([i if ord(i) < 128 else ' ' for i in text])\n",
    "\n",
    "test_data_dir = '{}'.format(os.sep).join([gensim.__path__[0], 'test', 'test_data'])\n",
    "lee_train_file = test_data_dir + os.sep + 'lee_background.cor'\n",
    "text = open(lee_train_file).read()"
   ]
  },
  {
   "cell_type": "code",
   "execution_count": 109,
   "metadata": {},
   "outputs": [],
   "source": [
    "nlp = spacy.load('en')"
   ]
  },
  {
   "cell_type": "code",
   "execution_count": 110,
   "metadata": {},
   "outputs": [],
   "source": [
    "my_stop_words = ['say', '\\'s', 'Mr', 'be', 'said', 'says', 'saying']\n",
    "for stopword in my_stop_words:\n",
    "    lexeme = nlp.vocab[stopword]\n",
    "    lexeme.is_stop = True"
   ]
  },
  {
   "cell_type": "code",
   "execution_count": 111,
   "metadata": {},
   "outputs": [],
   "source": [
    "doc = nlp(clean(text))"
   ]
  },
  {
   "cell_type": "code",
   "execution_count": 33,
   "metadata": {},
   "outputs": [
    {
     "data": {
      "text/plain": [
       "spacy.tokens.doc.Doc"
      ]
     },
     "execution_count": 33,
     "metadata": {},
     "output_type": "execute_result"
    }
   ],
   "source": [
    "type(doc)"
   ]
  },
  {
   "cell_type": "code",
   "execution_count": 115,
   "metadata": {},
   "outputs": [],
   "source": [
    "# we add some words to the stop word list\n",
    "texts, article, skl_texts = [], [], []\n",
    "for w in doc:\n",
    "    # if it's not a stop word or punctuation mark, add it to our article!\n",
    "    if w.text != '\\n' and not w.is_stop and not w.is_punct and not w.like_num:\n",
    "        # we add the lematized version of the word\n",
    "        article.append(w.lemma_)\n",
    "    # if it's a new line, it means we're onto our next document\n",
    "    if w.text == '\\n':\n",
    "        skl_texts.append(' '.join(article))\n",
    "        texts.append(article)\n",
    "        article = []"
   ]
  },
  {
   "cell_type": "code",
   "execution_count": 116,
   "metadata": {},
   "outputs": [
    {
     "name": "stdout",
     "output_type": "stream",
     "text": [
      "hundred people force vacate home southern highlands new south wales strong wind today push huge bushfire town hill top a new blaze near goulburn south west sydney force closure hume highway at 4:00pm aedt marked deterioration weather storm cell move east blue mountains force authority decision evacuate people home outlying street hill top new south wales southern highland an estimate resident leave home nearby mittagong the new south wales rural fire service weather condition cause fire burn finger formation ease fire unit hill top optimistic defend property as blaze burn new year eve new south wales fire crew call new fire gunning south goulburn while detail available stage fire authority close hume highway direction meanwhile new fire sydney west longer threaten property cranebrook area rain fall part illawarra sydney hunter valley north coast but bureau meteorology claire richards rain little ease fire burn state the fall isolate area generally fall millimetre in place significant millimetre not relief far rain concern in fact have probably hamper effort firefighter wind gust associate thunderstorm\n",
      "indian security force shoot dead suspect militant night long encounter southern kashmir the shootout take place dora village kilometer south kashmiri summer capital srinagar the death come pakistani police arrest dozen militant extremist group accuse stag attack india parliament india accuse pakistan base lashkar e taiba jaish e mohammad carry attack december behest pakistani military intelligence military tension soar raid side mass troop border trading tit tat diplomatic sanction yesterday pakistan announce arrest lashkar e taiba chief hafiz mohammed saeed police karachi likely raid launch group militant organisation accuse targett india military tension india pakistan escalate level see war\n",
      "the national road toll christmas new year holiday period stand few time year people die new south wales road fatality queensland victoria western australia northern territory south australia record death act tasmania remain fatality free\n",
      "argentina political economic crisis deepen resignation interim president take office week ago aldolfo rodregiuez saa tell stunned nation rescue argentina key fellow peronists support default massive foreign debt repayment plan new currency -PRON- week ago promise new job end year recession day predecessor resign follow series fail rescue package after announce senate leader ramon puerta assume presidency congress appoint new caretaker president government quit senior lawmaker act role fresh election schedule march leave assume presidency daunting task tackle argentina bad crisis year time isolate international lending agency\n",
      "six midwife suspend wollongong hospital south sydney inappropriate use nitrous oxide work hour occasion woman labour the illawarra area health service follow investigation unprofessional conduct midwife relocate area hospital the service chief executive officer tony sherbon risk staff involve use nitrous oxide able care woman labour well be concerned body midwife hospital midwife work service annoyed angry inappropriate behaviour senior people know better and have action suspend will consider action week\n",
      "the federal government safe afghani asylum seeker australia return home environment secure the government suspend application interim government establish kabul the foreign affairs minister alexander downer refuse long claim process hold but major threat people seek asylum longer many afghans try australia matter britain country north west europe claim flee taliban well taliban longer power afghanistan taliban finish meanwhile mass airlift detainee christmas island pacific island nauru in total people fly island operation charter aircraft the second airlift today deliver asylum seeker nauru await processing claim temporary visa the department immigration detainee remain christmas island a spokesman decision future\n",
      "the united states team monica seles jan michael gambill score decisive victory unseeded france hopman cup match burswood dome perth the pair runner $ dollar mixed team event year win single encounter us unbeatable lead the 28-year old sele currently rank eighth recover shaky start overpower virginie razzano rank 72nd sele fight hard home straight set win minute then 24-year old gambill rank 21st wear determined arnaud clement 18th win minute the americans aim good year beat swiss pair martina hingis roger federer final nation contest gambill win great way start tennis year -PRON- get little tentative end great start year arnaud great scrapper -PRON- delighted beat -PRON- frankly bit shape that reason -PRON- -PRON- shape end tournament -PRON- aim improve new year -PRON- -PRON- think -PRON- chance beat -PRON- play gambill press hard clement take set minute but american gain ascendancy second set break fifth game sele expect clash razzano tough -PRON- junior player world surprise fight sele hunger strive regain position sport this play but -PRON- want try peak early season sele slow stride slip opening set razzano recover quickly claim set snatch game row in second set seles break opponent opening game complete victory relative ease despite razzano tenacious effort\n",
      "hundred canoeist enjoy hard earn new years eve celebration follow day paddle murray river marathon after exhausting kilometre battle hot dusty condition melbourne team take strongly contest k cup afternoon two canoe leave yarrawonga thursday paddling finish line swan hill the fall victim gruelling condition the event raise $ red cross\n",
      "there welcome relief firefighter new south wales overnight milder weather allow strengthen containment line severe fire but fire authority get overly optimistic dry hot weather forecast continue the weather bureau forecast temperature high 30 westerly wind friday mean fire authority reluctant excited night favourable condition marks sullivan rural fire service fire fighter remain guard a lot fire burn area sydney north coast south burn area know contain however fire will not pose threat give weather condition come day despite caution rural fire service state fire threaten property burn containment line greater sydney ring fire north west south two flare overnight one appin southern highland quickly bring control another flare spencer north city contain north western flank threaten property in low blue mountains west sydney firefighter spend night set kilometre containment line protect community great western highway glenbrook bulaburra two fire burn near cessnock west newcastle containment line in state north aircraft morning check lightning large electrical storm overnight spark new fire grafton aircraft shoalhaven area state south drop incendiary device start fire control line inaccessible area the rural fire service commissioner phil koperberg fire activity increase hundred new year eve firework celebration new south wales cancel\n",
      "some road close dangerous condition cause bushfire smoke motorist ask avoid hume highway picton road illawarra highway police reduce speed limit kilometre hour in southern sydney picton road close wilton bulli appin road close appin bulli tops access road royal national park closed motorist ask avoid illawarra highway hume highway robertson great western highway penrith springwood reduced visibility in north western sydney local resident allow use wisemans ferry road upper color road police escort\n"
     ]
    }
   ],
   "source": [
    "for i in range(10):\n",
    "    print(\" \".join(texts[i]))"
   ]
  },
  {
   "cell_type": "markdown",
   "metadata": {},
   "source": [
    "# Creating Bigrams"
   ]
  },
  {
   "cell_type": "code",
   "execution_count": 117,
   "metadata": {},
   "outputs": [
    {
     "name": "stderr",
     "output_type": "stream",
     "text": [
      "2018-12-10 16:11:55,316 : INFO : collecting all words and their counts\n",
      "2018-12-10 16:11:55,320 : INFO : PROGRESS: at sentence #0, processed 0 words and 0 word types\n",
      "2018-12-10 16:11:55,648 : INFO : collected 31194 word types from a corpus of 32405 words (unigram + bigrams) and 299 sentences\n",
      "2018-12-10 16:11:55,673 : INFO : using 31194 counts as vocab in Phrases<0 vocab, min_count=5, threshold=10.0, max_vocab_size=40000000>\n"
     ]
    }
   ],
   "source": [
    "bigram = gensim.models.Phrases(texts)"
   ]
  },
  {
   "cell_type": "code",
   "execution_count": 118,
   "metadata": {},
   "outputs": [],
   "source": [
    "texts = [bigram[line] for line in texts]"
   ]
  },
  {
   "cell_type": "code",
   "execution_count": 119,
   "metadata": {},
   "outputs": [
    {
     "data": {
      "text/plain": [
       "['indian',\n",
       " 'security_force',\n",
       " 'shoot_dead',\n",
       " 'suspect',\n",
       " 'militant',\n",
       " 'night',\n",
       " 'long',\n",
       " 'encounter',\n",
       " 'southern',\n",
       " 'kashmir']"
      ]
     },
     "execution_count": 119,
     "metadata": {},
     "output_type": "execute_result"
    }
   ],
   "source": [
    "texts[1][0:10]"
   ]
  },
  {
   "cell_type": "code",
   "execution_count": 120,
   "metadata": {},
   "outputs": [
    {
     "name": "stderr",
     "output_type": "stream",
     "text": [
      "2018-12-10 16:12:00,073 : INFO : adding document #0 to Dictionary(0 unique tokens: [])\n",
      "2018-12-10 16:12:00,160 : INFO : built Dictionary(5661 unique tokens: ['4:00pm', 'a', 'aedt', 'an', 'area']...) from 299 documents (total 30718 corpus positions)\n"
     ]
    }
   ],
   "source": [
    "dictionary = Dictionary(texts)\n",
    "corpus = [dictionary.doc2bow(text) for text in texts]"
   ]
  },
  {
   "cell_type": "code",
   "execution_count": 121,
   "metadata": {},
   "outputs": [
    {
     "data": {
      "text/plain": [
       "[(83, 1),\n",
       " (94, 1),\n",
       " (95, 1),\n",
       " (102, 2),\n",
       " (118, 3),\n",
       " (119, 1),\n",
       " (120, 2),\n",
       " (121, 2),\n",
       " (122, 1),\n",
       " (123, 1)]"
      ]
     },
     "execution_count": 121,
     "metadata": {},
     "output_type": "execute_result"
    }
   ],
   "source": [
    "corpus[1][0:10]"
   ]
  },
  {
   "cell_type": "markdown",
   "metadata": {},
   "source": [
    "# Latent Dirichlet allocation - LDA model"
   ]
  },
  {
   "cell_type": "code",
   "execution_count": 22,
   "metadata": {},
   "outputs": [
    {
     "name": "stderr",
     "output_type": "stream",
     "text": [
      "2018-12-10 14:50:35,940 : INFO : using symmetric alpha at 0.1\n",
      "2018-12-10 14:50:35,956 : INFO : using symmetric eta at 0.1\n",
      "2018-12-10 14:50:35,963 : INFO : using serial LDA version on this node\n",
      "2018-12-10 14:50:35,993 : INFO : running online (single-pass) LDA training, 10 topics, 1 passes over the supplied corpus of 299 documents, updating model once every 299 documents, evaluating perplexity every 299 documents, iterating 50x with a convergence threshold of 0.001000\n",
      "2018-12-10 14:50:35,995 : WARNING : too few updates, training might not converge; consider increasing the number of passes or iterations to improve accuracy\n",
      "2018-12-10 14:50:36,686 : INFO : -11.343 per-word bound, 2597.8 perplexity estimate based on a held-out corpus of 299 documents with 30718 words\n",
      "2018-12-10 14:50:36,687 : INFO : PROGRESS: pass 0, at document #299/299\n",
      "2018-12-10 14:50:36,996 : INFO : topic #1 (0.100): 0.013*\"-PRON-\" + 0.012*\"the\" + 0.005*\"israeli\" + 0.005*\"people\" + 0.004*\"day\" + 0.004*\"arrest\" + 0.003*\"tell\" + 0.003*\"australian\" + 0.003*\"child\" + 0.003*\"good\"\n",
      "2018-12-10 14:50:36,998 : INFO : topic #3 (0.100): 0.012*\"the\" + 0.009*\"-PRON-\" + 0.006*\"australia\" + 0.004*\"australian\" + 0.004*\"qantas\" + 0.004*\"day\" + 0.004*\"company\" + 0.004*\"tell\" + 0.004*\"a\" + 0.004*\"people\"\n",
      "2018-12-10 14:50:37,004 : INFO : topic #5 (0.100): 0.022*\"the\" + 0.011*\"-PRON-\" + 0.004*\"force\" + 0.004*\"australian\" + 0.004*\"kill\" + 0.004*\"government\" + 0.003*\"today\" + 0.003*\"us\" + 0.003*\"year\" + 0.003*\"official\"\n",
      "2018-12-10 14:50:37,007 : INFO : topic #4 (0.100): 0.011*\"the\" + 0.009*\"-PRON-\" + 0.007*\"government\" + 0.006*\"people\" + 0.006*\"us\" + 0.006*\"palestinian\" + 0.004*\"fire\" + 0.004*\"israeli\" + 0.004*\"year\" + 0.003*\"afghanistan\"\n",
      "2018-12-10 14:50:37,010 : INFO : topic #7 (0.100): 0.023*\"the\" + 0.011*\"-PRON-\" + 0.005*\"people\" + 0.005*\"day\" + 0.005*\"force\" + 0.004*\"australian\" + 0.004*\"australia\" + 0.003*\"pakistan\" + 0.003*\"government\" + 0.003*\"fire\"\n",
      "2018-12-10 14:50:37,015 : INFO : topic diff=4.503033, rho=1.000000\n"
     ]
    }
   ],
   "source": [
    "ldamodel = LdaModel(corpus=corpus, num_topics=10, id2word=dictionary)"
   ]
  },
  {
   "cell_type": "code",
   "execution_count": 23,
   "metadata": {},
   "outputs": [
    {
     "data": {
      "text/plain": [
       "[(0,\n",
       "  '0.018*\"-PRON-\" + 0.009*\"the\" + 0.008*\"australian\" + 0.005*\"australia\" + 0.004*\"arafat\" + 0.004*\"attack\" + 0.004*\"police\" + 0.004*\"year\" + 0.003*\"israeli\" + 0.003*\"palestinian\"'),\n",
       " (1,\n",
       "  '0.013*\"-PRON-\" + 0.012*\"the\" + 0.005*\"israeli\" + 0.005*\"people\" + 0.004*\"day\" + 0.004*\"arrest\" + 0.003*\"tell\" + 0.003*\"australian\" + 0.003*\"child\" + 0.003*\"good\"'),\n",
       " (2,\n",
       "  '0.015*\"the\" + 0.012*\"-PRON-\" + 0.005*\"year\" + 0.004*\"company\" + 0.003*\"attack\" + 0.003*\"a\" + 0.003*\"tell\" + 0.003*\"group\" + 0.003*\"australia\" + 0.003*\"cent\"'),\n",
       " (3,\n",
       "  '0.012*\"the\" + 0.009*\"-PRON-\" + 0.006*\"australia\" + 0.004*\"australian\" + 0.004*\"qantas\" + 0.004*\"day\" + 0.004*\"company\" + 0.004*\"tell\" + 0.004*\"a\" + 0.004*\"people\"'),\n",
       " (4,\n",
       "  '0.011*\"the\" + 0.009*\"-PRON-\" + 0.007*\"government\" + 0.006*\"people\" + 0.006*\"us\" + 0.006*\"palestinian\" + 0.004*\"fire\" + 0.004*\"israeli\" + 0.004*\"year\" + 0.003*\"afghanistan\"'),\n",
       " (5,\n",
       "  '0.022*\"the\" + 0.011*\"-PRON-\" + 0.004*\"force\" + 0.004*\"australian\" + 0.004*\"kill\" + 0.004*\"government\" + 0.003*\"today\" + 0.003*\"us\" + 0.003*\"year\" + 0.003*\"official\"'),\n",
       " (6,\n",
       "  '0.012*\"the\" + 0.010*\"-PRON-\" + 0.006*\"government\" + 0.005*\"palestinian\" + 0.004*\"force\" + 0.004*\"israeli\" + 0.004*\"official\" + 0.004*\"a\" + 0.004*\"united_states\" + 0.004*\"man\"'),\n",
       " (7,\n",
       "  '0.023*\"the\" + 0.011*\"-PRON-\" + 0.005*\"people\" + 0.005*\"day\" + 0.005*\"force\" + 0.004*\"australian\" + 0.004*\"australia\" + 0.003*\"pakistan\" + 0.003*\"government\" + 0.003*\"fire\"'),\n",
       " (8,\n",
       "  '0.016*\"the\" + 0.007*\"australia\" + 0.007*\"-PRON-\" + 0.006*\"government\" + 0.005*\"australian\" + 0.004*\"force\" + 0.004*\"good\" + 0.004*\"day\" + 0.004*\"new\" + 0.004*\"afghanistan\"'),\n",
       " (9,\n",
       "  '0.019*\"the\" + 0.010*\"-PRON-\" + 0.006*\"year\" + 0.005*\"report\" + 0.004*\"australian\" + 0.004*\"company\" + 0.004*\"day\" + 0.003*\"people\" + 0.003*\"a\" + 0.003*\"test\"')]"
      ]
     },
     "execution_count": 23,
     "metadata": {},
     "output_type": "execute_result"
    }
   ],
   "source": [
    "ldamodel.show_topics()"
   ]
  },
  {
   "cell_type": "code",
   "execution_count": 58,
   "metadata": {},
   "outputs": [
    {
     "data": {
      "text/plain": [
       "[(8, 0.9944775)]"
      ]
     },
     "execution_count": 58,
     "metadata": {},
     "output_type": "execute_result"
    }
   ],
   "source": [
    "ldamodel[corpus[0]]"
   ]
  },
  {
   "cell_type": "markdown",
   "metadata": {},
   "source": [
    "# Latent semantic indexing - LSI Model"
   ]
  },
  {
   "cell_type": "code",
   "execution_count": 35,
   "metadata": {},
   "outputs": [
    {
     "name": "stderr",
     "output_type": "stream",
     "text": [
      "2018-12-10 15:00:58,297 : INFO : using serial LSI version on this node\n",
      "2018-12-10 15:00:58,341 : INFO : updating model with new documents\n",
      "2018-12-10 15:00:58,408 : INFO : preparing a new chunk of documents\n",
      "2018-12-10 15:00:58,498 : INFO : using 100 extra samples and 2 power iterations\n",
      "2018-12-10 15:00:58,503 : INFO : 1st phase: constructing (5661, 110) action matrix\n",
      "2018-12-10 15:00:58,666 : INFO : orthonormalizing (5661, 110) action matrix\n",
      "2018-12-10 15:00:59,071 : INFO : 2nd phase: running dense svd on (110, 299) matrix\n",
      "2018-12-10 15:00:59,151 : INFO : computing the final decomposition\n",
      "2018-12-10 15:00:59,156 : INFO : keeping 10 factors (discarding 63.602% of energy spectrum)\n",
      "2018-12-10 15:00:59,169 : INFO : processed documents up to #299\n",
      "2018-12-10 15:00:59,182 : INFO : topic #0(74.073): 0.513*\"the\" + 0.364*\"-PRON-\" + 0.132*\"force\" + 0.124*\"israeli\" + 0.117*\"palestinian\" + 0.113*\"people\" + 0.112*\"australian\" + 0.111*\"arafat\" + 0.110*\"us\" + 0.110*\"government\"\n",
      "2018-12-10 15:00:59,189 : INFO : topic #1(44.190): -0.366*\"palestinian\" + -0.352*\"israeli\" + -0.337*\"arafat\" + 0.222*\"-PRON-\" + -0.180*\"israel\" + -0.156*\"official\" + -0.156*\"sharon\" + -0.152*\"hamas\" + -0.142*\"west_bank\" + -0.128*\"kill\"\n",
      "2018-12-10 15:00:59,195 : INFO : topic #2(35.484): 0.310*\"the\" + -0.247*\"afghanistan\" + -0.227*\"force\" + -0.227*\"us\" + -0.201*\"-PRON-\" + -0.197*\"al_qaeda\" + -0.185*\"bin_laden\" + 0.172*\"fire\" + -0.150*\"pakistan\" + -0.133*\"tora_bora\"\n",
      "2018-12-10 15:00:59,199 : INFO : topic #3(34.318): 0.470*\"-PRON-\" + -0.253*\"the\" + 0.202*\"win\" + -0.190*\"force\" + 0.155*\"good\" + -0.155*\"fire\" + -0.155*\"afghanistan\" + 0.140*\"test\" + -0.133*\"area\" + 0.125*\"metre\"\n",
      "2018-12-10 15:00:59,209 : INFO : topic #4(31.809): 0.331*\"fire\" + -0.316*\"the\" + 0.261*\"area\" + 0.211*\"sydney\" + -0.159*\"company\" + 0.158*\"firefighter\" + 0.156*\"south\" + -0.149*\"australian\" + 0.142*\"wind\" + 0.140*\"new_south\"\n"
     ]
    }
   ],
   "source": [
    "lsimodel = LsiModel(corpus=corpus, num_topics=10, id2word=dictionary)"
   ]
  },
  {
   "cell_type": "code",
   "execution_count": 38,
   "metadata": {},
   "outputs": [
    {
     "data": {
      "text/plain": [
       "[(0,\n",
       "  '0.513*\"the\" + 0.364*\"-PRON-\" + 0.132*\"force\" + 0.124*\"israeli\" + 0.117*\"palestinian\" + 0.113*\"people\" + 0.112*\"australian\" + 0.111*\"arafat\" + 0.110*\"us\" + 0.110*\"government\"'),\n",
       " (1,\n",
       "  '-0.366*\"palestinian\" + -0.352*\"israeli\" + -0.337*\"arafat\" + 0.222*\"-PRON-\" + -0.180*\"israel\" + -0.156*\"official\" + -0.156*\"sharon\" + -0.152*\"hamas\" + -0.142*\"west_bank\" + -0.128*\"kill\"'),\n",
       " (2,\n",
       "  '0.310*\"the\" + -0.247*\"afghanistan\" + -0.227*\"force\" + -0.227*\"us\" + -0.201*\"-PRON-\" + -0.197*\"al_qaeda\" + -0.185*\"bin_laden\" + 0.172*\"fire\" + -0.150*\"pakistan\" + -0.133*\"tora_bora\"'),\n",
       " (3,\n",
       "  '0.470*\"-PRON-\" + -0.253*\"the\" + 0.202*\"win\" + -0.190*\"force\" + 0.155*\"good\" + -0.155*\"fire\" + -0.155*\"afghanistan\" + 0.140*\"test\" + -0.133*\"area\" + 0.125*\"metre\"'),\n",
       " (4,\n",
       "  '0.331*\"fire\" + -0.316*\"the\" + 0.261*\"area\" + 0.211*\"sydney\" + -0.159*\"company\" + 0.158*\"firefighter\" + 0.156*\"south\" + -0.149*\"australian\" + 0.142*\"wind\" + 0.140*\"new_south\"'),\n",
       " (5,\n",
       "  '-0.305*\"-PRON-\" + 0.236*\"australia\" + 0.225*\"test\" + 0.189*\"day\" + 0.185*\"force\" + 0.170*\"good\" + 0.154*\"match\" + 0.149*\"wicket\" + 0.145*\"afghanistan\" + 0.136*\"australian\"'),\n",
       " (6,\n",
       "  '0.346*\"pakistan\" + -0.258*\"the\" + 0.211*\"india\" + 0.190*\"union\" + 0.160*\"government\" + 0.153*\"president\" + 0.132*\"want\" + -0.131*\"metre\" + 0.116*\"qantas\" + 0.114*\"indian\"'),\n",
       " (7,\n",
       "  '0.326*\"metre\" + 0.272*\"win\" + 0.221*\"event\" + 0.214*\"australian\" + 0.200*\"race\" + 0.168*\"force\" + 0.146*\"government\" + 0.121*\"afghanistan\" + 0.108*\"water\" + -0.101*\"test\"'),\n",
       " (8,\n",
       "  '-0.360*\"pakistan\" + -0.281*\"the\" + -0.206*\"india\" + 0.196*\"australian\" + 0.137*\"qantas\" + -0.134*\"metre\" + 0.129*\"people\" + -0.127*\"win\" + 0.116*\"man\" + 0.115*\"union\"'),\n",
       " (9,\n",
       "  '0.223*\"qantas\" + -0.207*\"man\" + 0.202*\"union\" + 0.197*\"us\" + -0.189*\"government\" + -0.181*\"police\" + -0.158*\"australia\" + 0.154*\"company\" + -0.153*\"people\" + -0.153*\"australian\"')]"
      ]
     },
     "execution_count": 38,
     "metadata": {},
     "output_type": "execute_result"
    }
   ],
   "source": [
    "lsimodel.show_topics()"
   ]
  },
  {
   "cell_type": "markdown",
   "metadata": {},
   "source": [
    "# Hierarchical Dirichlet process - HDP Model"
   ]
  },
  {
   "cell_type": "code",
   "execution_count": 39,
   "metadata": {},
   "outputs": [
    {
     "name": "stderr",
     "output_type": "stream",
     "text": [
      "2018-12-10 15:03:37,442 : INFO : (0, '0.008*-PRON- + 0.004*us + 0.004*taliban + 0.003*the + 0.003*airport + 0.003*people + 0.003*force + 0.003*afghanistan + 0.003*kandahar + 0.002*hit')\n",
      "2018-12-10 15:03:37,454 : INFO : (1, '0.008*the + 0.004*government + 0.003*-PRON- + 0.003*australian + 0.003*report + 0.002*agreement + 0.002*afghanistan + 0.002*company + 0.002*year + 0.002*call')\n",
      "2018-12-10 15:03:37,466 : INFO : (2, '0.006*israeli + 0.005*palestinian + 0.005*the + 0.005*arafat + 0.004*sharon + 0.004*government + 0.004*group + 0.003*choose + 0.003*official + 0.003*terrorism')\n",
      "2018-12-10 15:03:37,478 : INFO : (3, '0.003*director + 0.003*-PRON- + 0.003*friedli + 0.003*the + 0.002*job + 0.002*know + 0.002*reply + 0.002*cent + 0.002*company + 0.002*end')\n",
      "2018-12-10 15:03:37,491 : INFO : (4, '0.003*match + 0.002*israeli + 0.002*the + 0.002*rafter + 0.002*play + 0.002*ask + 0.002*team + 0.002*guarantee + 0.002*tennis + 0.002*disappointed')\n",
      "2018-12-10 15:03:37,503 : INFO : (5, '0.003*arrest + 0.003*australia + 0.002*the + 0.002*people + 0.002*believe + 0.002*afp + 0.002*malaysian + 0.002*australian + 0.002*conference + 0.001*university')\n",
      "2018-12-10 15:03:37,532 : INFO : (6, '0.004*the + 0.003*india + 0.002*indonesia + 0.002*australia + 0.002*union + 0.002*howard + 0.002*sector + 0.002*megawati + 0.002*direct + 0.002*government')\n",
      "2018-12-10 15:03:37,556 : INFO : (7, '0.004*storm + 0.003*the + 0.003*tree + 0.002*ses + 0.002*work + 0.002*sydney + 0.002*damage + 0.002*area + 0.002*hornsby + 0.002*service')\n",
      "2018-12-10 15:03:37,579 : INFO : (8, '0.003*israeli + 0.003*palestinian + 0.002*arrest + 0.002*militant + 0.002*source + 0.002*hamas + 0.002*police + 0.002*the + 0.002*soldier + 0.002*osama')\n",
      "2018-12-10 15:03:37,600 : INFO : (9, '0.003*people + 0.002*adventure_world + 0.002*-PRON- + 0.002*guide + 0.002*interlaken + 0.002*manslaughter + 0.002*group + 0.002*manager + 0.001*safety + 0.001*ravage')\n",
      "2018-12-10 15:03:37,617 : INFO : (10, '0.005*company + 0.004*the + 0.003*staff + 0.002*entitlement + 0.002*austar + 0.002*receive + 0.002*cent + 0.002*$ + 0.002*job + 0.002*administrator')\n",
      "2018-12-10 15:03:37,634 : INFO : (11, '0.003*the + 0.002*commission + 0.002*hih + 0.002*collapse + 0.001*expect + 0.001*today + 0.001*end + 0.001*australian + 0.001*beset + 0.001*include')\n",
      "2018-12-10 15:03:37,654 : INFO : (12, '0.002*australian + 0.002*state + 0.002*head + 0.001*new_south + 0.001*the + 0.001*phillips + 0.001*process + 0.001*go + 0.001*across + 0.001*year')\n",
      "2018-12-10 15:03:37,686 : INFO : (13, '0.003*-PRON- + 0.002*cow + 0.002*the + 0.002*case + 0.002*tell + 0.002*australian + 0.002*disease + 0.002*mad + 0.002*japan + 0.002*flash')\n",
      "2018-12-10 15:03:37,694 : INFO : (14, '0.003*economy + 0.003*strong + 0.002*australia + 0.002*the + 0.002*follow + 0.001*relocate + 0.001*breuer + 0.001*rural + 0.001*set + 0.001*share')\n",
      "2018-12-10 15:03:37,742 : INFO : (15, '0.002*-PRON- + 0.002*band + 0.001*song + 0.001*beatle + 0.001*lennon + 0.001*life + 0.001*know + 0.001*criminal + 0.001*build + 0.001*success')\n",
      "2018-12-10 15:03:37,762 : INFO : (16, '0.003*harrison + 0.003*tonight + 0.002*george + 0.002*-PRON- + 0.002*student + 0.002*beatle + 0.002*die + 0.002*music + 0.002*liverpool + 0.002*green')\n",
      "2018-12-10 15:03:37,785 : INFO : (17, '0.003*krishna + 0.003*hare + 0.003*ash + 0.003*benare + 0.002*ceremony + 0.002*ganges + 0.002*fan + 0.002*harrison + 0.002*holy + 0.002*scatter')\n",
      "2018-12-10 15:03:37,809 : INFO : (18, '0.002*the + 0.001*-PRON- + 0.001*adhere + 0.001*finding + 0.001*undan + 0.001*year + 0.001*man + 0.001*terrorism + 0.001*victim + 0.001*metre_butterfly')\n",
      "2018-12-10 15:03:37,836 : INFO : (19, '0.002*australia + 0.002*game + 0.001*match + 0.001*conferencing + 0.001*buchanan + 0.001*peacekeeping + 0.001*win + 0.001*engineer + 0.001*beginning + 0.001*western')\n"
     ]
    }
   ],
   "source": [
    "hdpmodel = HdpModel(corpus=corpus, id2word=dictionary)"
   ]
  },
  {
   "cell_type": "code",
   "execution_count": 40,
   "metadata": {},
   "outputs": [
    {
     "data": {
      "text/plain": [
       "[(0,\n",
       "  '0.008*-PRON- + 0.004*us + 0.004*taliban + 0.003*the + 0.003*airport + 0.003*people + 0.003*force + 0.003*afghanistan + 0.003*kandahar + 0.002*hit + 0.002*damage + 0.002*powell + 0.002*kill + 0.002*southern + 0.002*osama_bin + 0.002*state + 0.002*president + 0.002*city + 0.002*storm + 0.002*laden'),\n",
       " (1,\n",
       "  '0.008*the + 0.004*government + 0.003*-PRON- + 0.003*australian + 0.003*report + 0.002*agreement + 0.002*afghanistan + 0.002*company + 0.002*year + 0.002*call + 0.002*time + 0.002*month + 0.002*afghan + 0.002*day + 0.002*qantas + 0.002*bid + 0.002*a + 0.002*state + 0.002*go + 0.002*troop'),\n",
       " (2,\n",
       "  '0.006*israeli + 0.005*palestinian + 0.005*the + 0.005*arafat + 0.004*sharon + 0.004*government + 0.004*group + 0.003*choose + 0.003*official + 0.003*terrorism + 0.003*kill + 0.003*west_bank + 0.002*militant + 0.002*gaza_strip + 0.002*security + 0.002*target + 0.002*attack + 0.002*hamas + 0.002*israel + 0.002*air_strike'),\n",
       " (3,\n",
       "  '0.003*director + 0.003*-PRON- + 0.003*friedli + 0.003*the + 0.002*job + 0.002*know + 0.002*reply + 0.002*cent + 0.002*company + 0.002*end + 0.001*turnidge + 0.001*preventable + 0.001*region + 0.001*carry + 0.001*river + 0.001*deny + 0.001*court + 0.001*trial + 0.001*japanese + 0.001*appear'),\n",
       " (4,\n",
       "  '0.003*match + 0.002*israeli + 0.002*the + 0.002*rafter + 0.002*play + 0.002*ask + 0.002*team + 0.002*guarantee + 0.002*tennis + 0.002*disappointed + 0.002*-PRON- + 0.002*australia + 0.002*a + 0.002*response + 0.001*france + 0.001*wndu + 0.001*visit + 0.001*attack + 0.001*arrest + 0.001*decide'),\n",
       " (5,\n",
       "  '0.003*arrest + 0.003*australia + 0.002*the + 0.002*people + 0.002*believe + 0.002*afp + 0.002*malaysian + 0.002*australian + 0.002*conference + 0.001*university + 0.001*republic + 0.001*maguire + 0.001*power + 0.001*corowa + 0.001*police + 0.001*force + 0.001*australians + 0.001*change + 0.001*currently + 0.001*negative'),\n",
       " (6,\n",
       "  '0.004*the + 0.003*india + 0.002*indonesia + 0.002*australia + 0.002*union + 0.002*howard + 0.002*sector + 0.002*megawati + 0.002*direct + 0.002*government + 0.002*summit + 0.002*truce + 0.002*it + 0.001*president + 0.001*law + 0.001*expect + 0.001*meeting + 0.001*economy + 0.001*foreign_affairs + 0.001*job'),\n",
       " (7,\n",
       "  '0.004*storm + 0.003*the + 0.003*tree + 0.002*ses + 0.002*work + 0.002*sydney + 0.002*damage + 0.002*area + 0.002*hornsby + 0.002*service + 0.002*road + 0.002*home + 0.002*help + 0.002*emergency + 0.002*bring + 0.002*bad + 0.001*hit + 0.001*spend + 0.001*strait + 0.001*low'),\n",
       " (8,\n",
       "  '0.003*israeli + 0.003*palestinian + 0.002*arrest + 0.002*militant + 0.002*source + 0.002*hamas + 0.002*police + 0.002*the + 0.002*soldier + 0.002*osama + 0.001*kill + 0.001*ferguson + 0.001*west_bank + 0.001*come + 0.001*palestinians + 0.001*slide + 0.001*near + 0.001*inquiry + 0.001*palestinian_security + 0.001*fire'),\n",
       " (9,\n",
       "  '0.003*people + 0.002*adventure_world + 0.002*-PRON- + 0.002*guide + 0.002*interlaken + 0.002*manslaughter + 0.002*group + 0.002*manager + 0.001*safety + 0.001*ravage + 0.001*allege + 0.001*twenty + 0.001*australians + 0.001*pakistan + 0.001*kill + 0.001*tourist + 0.001*sweep + 0.001*indecent + 0.001*inexperienced + 0.001*year'),\n",
       " (10,\n",
       "  '0.005*company + 0.004*the + 0.003*staff + 0.002*entitlement + 0.002*austar + 0.002*receive + 0.002*cent + 0.002*$ + 0.002*job + 0.002*administrator + 0.001*morning + 0.001*nearly + 0.001*-PRON- + 0.001*operator + 0.001*review + 0.001*redundancy + 0.001*pay + 0.001*network + 0.001*leave + 0.001*policy'),\n",
       " (11,\n",
       "  '0.003*the + 0.002*commission + 0.002*hih + 0.002*collapse + 0.001*expect + 0.001*today + 0.001*end + 0.001*australian + 0.001*beset + 0.001*include + 0.001*hearing + 0.001*j + 0.001*sampling + 0.001*salman + 0.001*tie + 0.001*dickie + 0.001*hamas + 0.001*hills + 0.001*securities + 0.001*begin'),\n",
       " (12,\n",
       "  '0.002*australian + 0.002*state + 0.002*head + 0.001*new_south + 0.001*the + 0.001*phillips + 0.001*process + 0.001*go + 0.001*across + 0.001*year + 0.001*roar + 0.001*soon + 0.001*cadibarra + 0.001*magnificent + 0.001*density + 0.001*forward + 0.001*walter + 0.001*proposal + 0.001*birth + 0.001*3:14pm'),\n",
       " (13,\n",
       "  '0.003*-PRON- + 0.002*cow + 0.002*the + 0.002*case + 0.002*tell + 0.002*australian + 0.002*disease + 0.002*mad + 0.002*japan + 0.002*flash + 0.001*government + 0.001*winger + 0.001*party + 0.001*source + 0.001*health + 0.001*standby + 0.001*a + 0.001*ally + 0.001*afghanistan + 0.001*confirm'),\n",
       " (14,\n",
       "  '0.003*economy + 0.003*strong + 0.002*australia + 0.002*the + 0.002*follow + 0.001*relocate + 0.001*breuer + 0.001*rural + 0.001*set + 0.001*share + 0.001*jenin + 0.001*investigation + 0.001*find + 0.001*casa + 0.001*tantamount + 0.001*constant + 0.001*company + 0.001*taylor + 0.001*recession + 0.001*firm'),\n",
       " (15,\n",
       "  '0.002*-PRON- + 0.002*band + 0.001*song + 0.001*beatle + 0.001*lennon + 0.001*life + 0.001*know + 0.001*criminal + 0.001*build + 0.001*success + 0.001*under + 0.001*maker + 0.001*pay + 0.001*shift + 0.001*trap + 0.001*reliable + 0.001*harrison + 0.001*aud1.102 + 0.001*retain + 0.001*beatles'),\n",
       " (16,\n",
       "  '0.003*harrison + 0.003*tonight + 0.002*george + 0.002*-PRON- + 0.002*student + 0.002*beatle + 0.002*die + 0.002*music + 0.002*liverpool + 0.002*green + 0.002*pay + 0.002*memory + 0.002*  + 0.002*hear + 0.001*juniors + 0.001*shape + 0.001*display + 0.001*-PRON-_feel + 0.001*learn + 0.001*lose'),\n",
       " (17,\n",
       "  '0.003*krishna + 0.003*hare + 0.003*ash + 0.003*benare + 0.002*ceremony + 0.002*ganges + 0.002*fan + 0.002*harrison + 0.002*holy + 0.002*scatter + 0.002*river + 0.001*devotee + 0.001*prayer + 0.001*group + 0.001*noticed + 0.001*spot + 0.001*hindu + 0.001*member + 0.001*badly + 0.001*but'),\n",
       " (18,\n",
       "  '0.002*the + 0.001*-PRON- + 0.001*adhere + 0.001*finding + 0.001*undan + 0.001*year + 0.001*man + 0.001*terrorism + 0.001*victim + 0.001*metre_butterfly + 0.001*cove + 0.001*mountainous + 0.001*alsosaid + 0.001*force + 0.001*datum + 0.001*buoy + 0.001*repeatedly + 0.001*hicks + 0.001*transcript + 0.001*advent'),\n",
       " (19,\n",
       "  '0.002*australia + 0.002*game + 0.001*match + 0.001*conferencing + 0.001*buchanan + 0.001*peacekeeping + 0.001*win + 0.001*engineer + 0.001*beginning + 0.001*western + 0.001*team + 0.001*tanzin + 0.001*day + 0.001*ariel_sharon + 0.001*face + 0.001*investigator + 0.001*new_zealand + 0.001*vinyl + 0.001*remain + 0.001*berlin')]"
      ]
     },
     "execution_count": 40,
     "metadata": {},
     "output_type": "execute_result"
    }
   ],
   "source": [
    "hdpmodel.show_topics()"
   ]
  },
  {
   "cell_type": "markdown",
   "metadata": {},
   "source": [
    "# Topic Modelling with scikit-learn"
   ]
  },
  {
   "cell_type": "code",
   "execution_count": 41,
   "metadata": {},
   "outputs": [],
   "source": [
    "import sklearn\n",
    "from sklearn.feature_extraction.text import TfidfVectorizer, CountVectorizer\n",
    "from sklearn.datasets import fetch_20newsgroups\n",
    "from sklearn.decomposition import NMF, LatentDirichletAllocation"
   ]
  },
  {
   "cell_type": "code",
   "execution_count": 42,
   "metadata": {},
   "outputs": [
    {
     "name": "stderr",
     "output_type": "stream",
     "text": [
      "Downloading 20news dataset. This may take a few minutes.\n",
      "2018-12-10 15:13:07,435 : INFO : Downloading 20news dataset. This may take a few minutes.\n",
      "Downloading dataset from https://ndownloader.figshare.com/files/5975967 (14 MB)\n",
      "2018-12-10 15:13:07,451 : INFO : Downloading dataset from https://ndownloader.figshare.com/files/5975967 (14 MB)\n"
     ]
    }
   ],
   "source": [
    "dataset = fetch_20newsgroups(shuffle=True, random_state=1, remove=('headers', 'footers', 'quotes'))\n",
    "documents = dataset.data"
   ]
  },
  {
   "cell_type": "code",
   "execution_count": 49,
   "metadata": {},
   "outputs": [],
   "source": [
    "def display_topics(model, feature_names, no_top_words):\n",
    "    for topic_idx, topic in enumerate(model.components_):\n",
    "        print(\"Topic %d:\" % (topic_idx))\n",
    "        print(\" \".join([feature_names[i] for i in topic.argsort()[:-no_top_words - 1:-1]]))"
   ]
  },
  {
   "cell_type": "code",
   "execution_count": 52,
   "metadata": {},
   "outputs": [],
   "source": [
    "num_topics = 10\n",
    "num_top_words = 10\n",
    "num_features = 1000"
   ]
  },
  {
   "cell_type": "code",
   "execution_count": 45,
   "metadata": {},
   "outputs": [],
   "source": [
    "# NMF is able to use tf-idf\n",
    "tfidf_vectorizer = TfidfVectorizer(max_df=0.95, min_df=2, max_features=num_features, stop_words='english')\n",
    "tfidf = tfidf_vectorizer.fit_transform(skl_texts)\n",
    "tfidf_feature_names = tfidf_vectorizer.get_feature_names()"
   ]
  },
  {
   "cell_type": "code",
   "execution_count": 47,
   "metadata": {},
   "outputs": [],
   "source": [
    "nmf = NMF(n_components=num_topics, random_state=1, alpha=.1, l1_ratio=.5, init='nndsvd').fit(tfidf)"
   ]
  },
  {
   "cell_type": "code",
   "execution_count": 53,
   "metadata": {},
   "outputs": [
    {
     "name": "stdout",
     "output_type": "stream",
     "text": [
      "Topic 0:\n",
      "pron government australia australian year man people new minister india\n",
      "Topic 1:\n",
      "palestinian arafat israeli israel hamas gaza attack suicide sharon militant\n",
      "Topic 2:\n",
      "bin laden afghanistan qaeda al bora tora force taliban afghan\n",
      "Topic 3:\n",
      "qantas worker union industrial maintenance wage dispute freeze action relations\n",
      "Topic 4:\n",
      "test south africa match waugh day bowler wicket cricket lee\n",
      "Topic 5:\n",
      "south sydney wind firefighter line area yacht wales storm new\n",
      "Topic 6:\n",
      "river guide adventure canyon court trip australians interlaken swiss accident\n",
      "Topic 7:\n",
      "hollingworth dr governor abuse general anglican child school allegation statement\n",
      "Topic 8:\n",
      "rate bank cut economy reserve cent growth economic market recession\n",
      "Topic 9:\n",
      "commission hih royal collapse hearing company union report martin evidence\n"
     ]
    }
   ],
   "source": [
    "display_topics(nmf, tfidf_feature_names, num_top_words)"
   ]
  },
  {
   "cell_type": "code",
   "execution_count": 55,
   "metadata": {},
   "outputs": [],
   "source": [
    "# LDA can only use raw term counts for LDA because it is a probabilistic graphical model\n",
    "tf_vectorizer = CountVectorizer(max_df=0.95, min_df=2, max_features=num_features, stop_words='english')\n",
    "tf = tf_vectorizer.fit_transform(skl_texts)\n",
    "tf_feature_names = tf_vectorizer.get_feature_names()"
   ]
  },
  {
   "cell_type": "code",
   "execution_count": 56,
   "metadata": {},
   "outputs": [],
   "source": [
    "lda = LatentDirichletAllocation(n_topics=num_topics, max_iter=5, learning_method='online', learning_offset=50.,random_state=0).fit(tf)\n"
   ]
  },
  {
   "cell_type": "code",
   "execution_count": 57,
   "metadata": {},
   "outputs": [
    {
     "name": "stdout",
     "output_type": "stream",
     "text": [
      "Topic 0:\n",
      "official israel smoke flame palestinian hamas building damage inside attack\n",
      "Topic 1:\n",
      "test south day australia match lee africa wicket pron waugh\n",
      "Topic 2:\n",
      "pron people world think child river day good australia metre\n",
      "Topic 3:\n",
      "ice pron police inside people vaughan rise level sea child\n",
      "Topic 4:\n",
      "club south sydney melbourne area pron property wind great today\n",
      "Topic 5:\n",
      "pron palestinian government attack israeli force arafat australia afghanistan people\n",
      "Topic 6:\n",
      "commission company report royal hih collapse australian pron tell director\n",
      "Topic 7:\n",
      "company union qantas worker industrial pay maintenance dispute cent action\n",
      "Topic 8:\n",
      "new south year pron sydney storm area wales state australian\n",
      "Topic 9:\n",
      "road highway debt reduce prisoner close illawarra hospital action use\n"
     ]
    }
   ],
   "source": [
    "display_topics(lda, tf_feature_names, num_top_words)"
   ]
  },
  {
   "cell_type": "code",
   "execution_count": 89,
   "metadata": {},
   "outputs": [],
   "source": [
    "texts = [['bank','river','shore','water'],\n",
    "['river','water','flow','fast','tree'],\n",
    "['bank','water','fall','flow'],\n",
    "['bank','bank','water','rain','river'],\n",
    "['river','water','mud','tree'],\n",
    "['money','transaction','bank','finance'],\n",
    "['bank','borrow','money'],\n",
    "['bank', 'finance'],\n",
    "['finance', 'money', 'sell', 'bank'],\n",
    "['borrow','sell'],\n",
    "['bank','loan','sell']]"
   ]
  },
  {
   "cell_type": "code",
   "execution_count": 90,
   "metadata": {},
   "outputs": [
    {
     "name": "stderr",
     "output_type": "stream",
     "text": [
      "2018-12-10 16:02:11,975 : INFO : adding document #0 to Dictionary(0 unique tokens: [])\n",
      "2018-12-10 16:02:11,979 : INFO : built Dictionary(16 unique tokens: ['bank', 'river', 'shore', 'water', 'fast']...) from 11 documents (total 40 corpus positions)\n"
     ]
    }
   ],
   "source": [
    "dictionary = Dictionary(texts)\n",
    "corpus = [dictionary.doc2bow(text) for text in texts]"
   ]
  },
  {
   "cell_type": "code",
   "execution_count": 91,
   "metadata": {},
   "outputs": [
    {
     "name": "stderr",
     "output_type": "stream",
     "text": [
      "2018-12-10 16:02:12,972 : INFO : using symmetric alpha at 0.5\n",
      "2018-12-10 16:02:12,978 : INFO : using symmetric eta at 0.5\n",
      "2018-12-10 16:02:12,979 : INFO : using serial LDA version on this node\n",
      "2018-12-10 16:02:12,982 : INFO : running online (single-pass) LDA training, 2 topics, 1 passes over the supplied corpus of 11 documents, updating model once every 11 documents, evaluating perplexity every 11 documents, iterating 50x with a convergence threshold of 0.001000\n",
      "2018-12-10 16:02:12,986 : WARNING : too few updates, training might not converge; consider increasing the number of passes or iterations to improve accuracy\n",
      "2018-12-10 16:02:13,008 : INFO : -3.572 per-word bound, 11.9 perplexity estimate based on a held-out corpus of 11 documents with 40 words\n",
      "2018-12-10 16:02:13,011 : INFO : PROGRESS: pass 0, at document #11/11\n",
      "2018-12-10 16:02:13,022 : INFO : topic #0 (0.500): 0.191*\"bank\" + 0.132*\"finance\" + 0.127*\"money\" + 0.085*\"sell\" + 0.074*\"borrow\" + 0.060*\"transaction\" + 0.048*\"water\" + 0.042*\"river\" + 0.037*\"flow\" + 0.033*\"loan\"\n",
      "2018-12-10 16:02:13,024 : INFO : topic #1 (0.500): 0.170*\"bank\" + 0.149*\"water\" + 0.123*\"river\" + 0.069*\"tree\" + 0.065*\"flow\" + 0.062*\"sell\" + 0.043*\"shore\" + 0.042*\"fast\" + 0.042*\"rain\" + 0.041*\"fall\"\n",
      "2018-12-10 16:02:13,027 : INFO : topic diff=0.710531, rho=1.000000\n"
     ]
    }
   ],
   "source": [
    "dummy_model = LdaModel(corpus=corpus, num_topics=2, id2word=dictionary)"
   ]
  },
  {
   "cell_type": "code",
   "execution_count": 92,
   "metadata": {},
   "outputs": [
    {
     "data": {
      "text/plain": [
       "[(0,\n",
       "  '0.191*\"bank\" + 0.132*\"finance\" + 0.127*\"money\" + 0.085*\"sell\" + 0.074*\"borrow\" + 0.060*\"transaction\" + 0.048*\"water\" + 0.042*\"river\" + 0.037*\"flow\" + 0.033*\"loan\"'),\n",
       " (1,\n",
       "  '0.170*\"bank\" + 0.149*\"water\" + 0.123*\"river\" + 0.069*\"tree\" + 0.065*\"flow\" + 0.062*\"sell\" + 0.043*\"shore\" + 0.042*\"fast\" + 0.042*\"rain\" + 0.041*\"fall\"')]"
      ]
     },
     "execution_count": 92,
     "metadata": {},
     "output_type": "execute_result"
    }
   ],
   "source": [
    "dummy_model.show_topics()"
   ]
  },
  {
   "cell_type": "code",
   "execution_count": 93,
   "metadata": {},
   "outputs": [
    {
     "data": {
      "text/plain": [
       "[(0, 0.029276578), (1, 0.13637443)]"
      ]
     },
     "execution_count": 93,
     "metadata": {},
     "output_type": "execute_result"
    }
   ],
   "source": [
    "dummy_model.get_term_topics('water')"
   ]
  },
  {
   "cell_type": "code",
   "execution_count": 94,
   "metadata": {},
   "outputs": [
    {
     "data": {
      "text/plain": [
       "[(0, 0.11370327), (1, 0.015358636)]"
      ]
     },
     "execution_count": 94,
     "metadata": {},
     "output_type": "execute_result"
    }
   ],
   "source": [
    "dummy_model.get_term_topics('finance')"
   ]
  },
  {
   "cell_type": "code",
   "execution_count": 95,
   "metadata": {},
   "outputs": [
    {
     "data": {
      "text/plain": [
       "[(0, 0.17326507), (1, 0.15740158)]"
      ]
     },
     "execution_count": 95,
     "metadata": {},
     "output_type": "execute_result"
    }
   ],
   "source": [
    "dummy_model.get_term_topics('bank')"
   ]
  },
  {
   "cell_type": "code",
   "execution_count": 96,
   "metadata": {},
   "outputs": [],
   "source": [
    "bow_water = ['bank','water','bank']\n",
    "bow_finance = ['bank','finance','bank']"
   ]
  },
  {
   "cell_type": "code",
   "execution_count": 97,
   "metadata": {},
   "outputs": [],
   "source": [
    "bow = dummy_model.id2word.doc2bow(bow_water) # convert to bag of words format first\n",
    "doc_topics, word_topics, phi_values = dummy_model.get_document_topics(bow, per_word_topics=True) "
   ]
  },
  {
   "cell_type": "code",
   "execution_count": 98,
   "metadata": {},
   "outputs": [
    {
     "data": {
      "text/plain": [
       "[(0, [1, 0]), (3, [1, 0])]"
      ]
     },
     "execution_count": 98,
     "metadata": {},
     "output_type": "execute_result"
    }
   ],
   "source": [
    "word_topics"
   ]
  },
  {
   "cell_type": "code",
   "execution_count": 99,
   "metadata": {},
   "outputs": [
    {
     "data": {
      "text/plain": [
       "[(0, 0.19781494), (1, 0.80218506)]"
      ]
     },
     "execution_count": 99,
     "metadata": {},
     "output_type": "execute_result"
    }
   ],
   "source": [
    "doc_topics"
   ]
  },
  {
   "cell_type": "code",
   "execution_count": 75,
   "metadata": {},
   "outputs": [
    {
     "data": {
      "text/plain": [
       "{'bank': 0,\n",
       " 'river': 1,\n",
       " 'shore': 2,\n",
       " 'water': 3,\n",
       " 'fast': 4,\n",
       " 'flow': 5,\n",
       " 'tree': 6,\n",
       " 'fall': 7,\n",
       " 'rain': 8,\n",
       " 'mud': 9,\n",
       " 'finance': 10,\n",
       " 'money': 11,\n",
       " 'transaction': 12,\n",
       " 'borrow': 13,\n",
       " 'sell': 14,\n",
       " 'loan': 15}"
      ]
     },
     "execution_count": 75,
     "metadata": {},
     "output_type": "execute_result"
    }
   ],
   "source": [
    "dummy_model.id2word.token2id"
   ]
  },
  {
   "cell_type": "code",
   "execution_count": 100,
   "metadata": {},
   "outputs": [
    {
     "data": {
      "text/plain": [
       "[(0, [(0, 0.26219475), (1, 1.7378051)]),\n",
       " (3, [(0, 0.028583394), (1, 0.97141653)])]"
      ]
     },
     "execution_count": 100,
     "metadata": {},
     "output_type": "execute_result"
    }
   ],
   "source": [
    "phi_values"
   ]
  },
  {
   "cell_type": "code",
   "execution_count": 101,
   "metadata": {},
   "outputs": [],
   "source": [
    "bow = dummy_model.id2word.doc2bow(bow_finance) # convert to bag of words format first\n",
    "doc_topics, word_topics, phi_values = dummy_model.get_document_topics(bow, per_word_topics=True) "
   ]
  },
  {
   "cell_type": "code",
   "execution_count": 102,
   "metadata": {},
   "outputs": [
    {
     "data": {
      "text/plain": [
       "[(0, [0, 1]), (10, [0, 1])]"
      ]
     },
     "execution_count": 102,
     "metadata": {},
     "output_type": "execute_result"
    }
   ],
   "source": [
    "word_topics"
   ]
  },
  {
   "cell_type": "code",
   "execution_count": 103,
   "metadata": {},
   "outputs": [
    {
     "data": {
      "text/plain": [
       "[(0, 0.83138365), (1, 0.16861637)]"
      ]
     },
     "execution_count": 103,
     "metadata": {},
     "output_type": "execute_result"
    }
   ],
   "source": [
    "doc_topics"
   ]
  },
  {
   "cell_type": "code",
   "execution_count": 104,
   "metadata": {},
   "outputs": [
    {
     "data": {
      "text/plain": [
       "[(0, [(0, 1.8388255), (1, 0.1611747)]),\n",
       " (10, [(0, 0.9871349), (1, 0.012865138)])]"
      ]
     },
     "execution_count": 104,
     "metadata": {},
     "output_type": "execute_result"
    }
   ],
   "source": [
    "phi_values"
   ]
  },
  {
   "cell_type": "markdown",
   "metadata": {},
   "source": [
    "# Topic coherence and evaluating topic models"
   ]
  },
  {
   "cell_type": "code",
   "execution_count": 105,
   "metadata": {},
   "outputs": [],
   "source": [
    "lsitopics = [[word for word, prob in topic] for topicid, topic in lsimodel.show_topics(formatted=False)]\n",
    "\n",
    "hdptopics = [[word for word, prob in topic] for topicid, topic in hdpmodel.show_topics(formatted=False)]\n",
    "\n",
    "ldatopics = [[word for word, prob in topic] for topicid, topic in ldamodel.show_topics(formatted=False)]"
   ]
  },
  {
   "cell_type": "code",
   "execution_count": 122,
   "metadata": {},
   "outputs": [
    {
     "name": "stderr",
     "output_type": "stream",
     "text": [
      "2018-12-10 16:12:16,441 : INFO : using WordOccurrenceAccumulator to estimate probabilities from sliding windows\n",
      "2018-12-10 16:12:16,507 : INFO : WordOccurrenceAccumulator accumulated stats from 1000 documents\n",
      "2018-12-10 16:12:16,552 : INFO : WordOccurrenceAccumulator accumulated stats from 2000 documents\n",
      "2018-12-10 16:12:16,616 : INFO : WordOccurrenceAccumulator accumulated stats from 3000 documents\n",
      "2018-12-10 16:12:16,647 : INFO : WordOccurrenceAccumulator accumulated stats from 4000 documents\n",
      "2018-12-10 16:12:16,700 : INFO : WordOccurrenceAccumulator accumulated stats from 5000 documents\n",
      "2018-12-10 16:12:16,742 : INFO : WordOccurrenceAccumulator accumulated stats from 6000 documents\n",
      "2018-12-10 16:12:16,783 : INFO : WordOccurrenceAccumulator accumulated stats from 7000 documents\n",
      "2018-12-10 16:12:16,834 : INFO : WordOccurrenceAccumulator accumulated stats from 8000 documents\n",
      "2018-12-10 16:12:16,914 : INFO : WordOccurrenceAccumulator accumulated stats from 9000 documents\n",
      "2018-12-10 16:12:16,975 : INFO : WordOccurrenceAccumulator accumulated stats from 10000 documents\n",
      "2018-12-10 16:12:17,032 : INFO : WordOccurrenceAccumulator accumulated stats from 11000 documents\n",
      "2018-12-10 16:12:17,055 : INFO : WordOccurrenceAccumulator accumulated stats from 12000 documents\n",
      "2018-12-10 16:12:17,113 : INFO : WordOccurrenceAccumulator accumulated stats from 13000 documents\n",
      "2018-12-10 16:12:17,161 : INFO : WordOccurrenceAccumulator accumulated stats from 14000 documents\n",
      "2018-12-10 16:12:17,227 : INFO : WordOccurrenceAccumulator accumulated stats from 15000 documents\n",
      "2018-12-10 16:12:17,249 : INFO : WordOccurrenceAccumulator accumulated stats from 16000 documents\n",
      "2018-12-10 16:12:17,297 : INFO : WordOccurrenceAccumulator accumulated stats from 17000 documents\n",
      "2018-12-10 16:12:17,367 : INFO : WordOccurrenceAccumulator accumulated stats from 18000 documents\n",
      "2018-12-10 16:12:17,436 : INFO : WordOccurrenceAccumulator accumulated stats from 19000 documents\n",
      "2018-12-10 16:12:17,523 : INFO : WordOccurrenceAccumulator accumulated stats from 20000 documents\n",
      "2018-12-10 16:12:17,587 : INFO : WordOccurrenceAccumulator accumulated stats from 21000 documents\n",
      "2018-12-10 16:12:17,655 : INFO : WordOccurrenceAccumulator accumulated stats from 22000 documents\n",
      "2018-12-10 16:12:17,691 : INFO : WordOccurrenceAccumulator accumulated stats from 23000 documents\n",
      "2018-12-10 16:12:17,712 : INFO : WordOccurrenceAccumulator accumulated stats from 24000 documents\n",
      "2018-12-10 16:12:17,741 : INFO : WordOccurrenceAccumulator accumulated stats from 25000 documents\n",
      "2018-12-10 16:12:17,788 : INFO : WordOccurrenceAccumulator accumulated stats from 26000 documents\n",
      "2018-12-10 16:12:17,839 : INFO : WordOccurrenceAccumulator accumulated stats from 27000 documents\n",
      "2018-12-10 16:12:17,912 : INFO : WordOccurrenceAccumulator accumulated stats from 28000 documents\n",
      "2018-12-10 16:12:18,725 : INFO : using WordOccurrenceAccumulator to estimate probabilities from sliding windows\n",
      "2018-12-10 16:12:18,767 : INFO : WordOccurrenceAccumulator accumulated stats from 1000 documents\n",
      "2018-12-10 16:12:18,819 : INFO : WordOccurrenceAccumulator accumulated stats from 2000 documents\n",
      "2018-12-10 16:12:18,904 : INFO : WordOccurrenceAccumulator accumulated stats from 3000 documents\n",
      "2018-12-10 16:12:18,977 : INFO : WordOccurrenceAccumulator accumulated stats from 4000 documents\n",
      "2018-12-10 16:12:19,052 : INFO : WordOccurrenceAccumulator accumulated stats from 5000 documents\n",
      "2018-12-10 16:12:19,129 : INFO : WordOccurrenceAccumulator accumulated stats from 6000 documents\n",
      "2018-12-10 16:12:19,219 : INFO : WordOccurrenceAccumulator accumulated stats from 7000 documents\n",
      "2018-12-10 16:12:19,287 : INFO : WordOccurrenceAccumulator accumulated stats from 8000 documents\n",
      "2018-12-10 16:12:19,389 : INFO : WordOccurrenceAccumulator accumulated stats from 9000 documents\n",
      "2018-12-10 16:12:19,471 : INFO : WordOccurrenceAccumulator accumulated stats from 10000 documents\n",
      "2018-12-10 16:12:19,564 : INFO : WordOccurrenceAccumulator accumulated stats from 11000 documents\n",
      "2018-12-10 16:12:19,652 : INFO : WordOccurrenceAccumulator accumulated stats from 12000 documents\n",
      "2018-12-10 16:12:19,728 : INFO : WordOccurrenceAccumulator accumulated stats from 13000 documents\n",
      "2018-12-10 16:12:19,801 : INFO : WordOccurrenceAccumulator accumulated stats from 14000 documents\n",
      "2018-12-10 16:12:19,878 : INFO : WordOccurrenceAccumulator accumulated stats from 15000 documents\n",
      "2018-12-10 16:12:19,955 : INFO : WordOccurrenceAccumulator accumulated stats from 16000 documents\n",
      "2018-12-10 16:12:20,037 : INFO : WordOccurrenceAccumulator accumulated stats from 17000 documents\n",
      "2018-12-10 16:12:20,109 : INFO : WordOccurrenceAccumulator accumulated stats from 18000 documents\n",
      "2018-12-10 16:12:20,181 : INFO : WordOccurrenceAccumulator accumulated stats from 19000 documents\n",
      "2018-12-10 16:12:20,264 : INFO : WordOccurrenceAccumulator accumulated stats from 20000 documents\n",
      "2018-12-10 16:12:20,337 : INFO : WordOccurrenceAccumulator accumulated stats from 21000 documents\n",
      "2018-12-10 16:12:20,369 : INFO : WordOccurrenceAccumulator accumulated stats from 22000 documents\n",
      "2018-12-10 16:12:20,405 : INFO : WordOccurrenceAccumulator accumulated stats from 23000 documents\n",
      "2018-12-10 16:12:20,444 : INFO : WordOccurrenceAccumulator accumulated stats from 24000 documents\n",
      "2018-12-10 16:12:20,529 : INFO : WordOccurrenceAccumulator accumulated stats from 25000 documents\n",
      "2018-12-10 16:12:20,610 : INFO : WordOccurrenceAccumulator accumulated stats from 26000 documents\n",
      "2018-12-10 16:12:20,662 : INFO : WordOccurrenceAccumulator accumulated stats from 27000 documents\n",
      "2018-12-10 16:12:20,727 : INFO : WordOccurrenceAccumulator accumulated stats from 28000 documents\n",
      "2018-12-10 16:12:21,938 : INFO : using WordOccurrenceAccumulator to estimate probabilities from sliding windows\n",
      "2018-12-10 16:12:21,956 : INFO : WordOccurrenceAccumulator accumulated stats from 1000 documents\n",
      "2018-12-10 16:12:21,979 : INFO : WordOccurrenceAccumulator accumulated stats from 2000 documents\n",
      "2018-12-10 16:12:22,008 : INFO : WordOccurrenceAccumulator accumulated stats from 3000 documents\n",
      "2018-12-10 16:12:22,047 : INFO : WordOccurrenceAccumulator accumulated stats from 4000 documents\n",
      "2018-12-10 16:12:22,078 : INFO : WordOccurrenceAccumulator accumulated stats from 5000 documents\n",
      "2018-12-10 16:12:22,099 : INFO : WordOccurrenceAccumulator accumulated stats from 6000 documents\n",
      "2018-12-10 16:12:22,149 : INFO : WordOccurrenceAccumulator accumulated stats from 7000 documents\n",
      "2018-12-10 16:12:22,198 : INFO : WordOccurrenceAccumulator accumulated stats from 8000 documents\n",
      "2018-12-10 16:12:22,248 : INFO : WordOccurrenceAccumulator accumulated stats from 9000 documents\n",
      "2018-12-10 16:12:22,328 : INFO : WordOccurrenceAccumulator accumulated stats from 10000 documents\n",
      "2018-12-10 16:12:22,391 : INFO : WordOccurrenceAccumulator accumulated stats from 11000 documents\n",
      "2018-12-10 16:12:22,465 : INFO : WordOccurrenceAccumulator accumulated stats from 12000 documents\n",
      "2018-12-10 16:12:22,484 : INFO : WordOccurrenceAccumulator accumulated stats from 13000 documents\n",
      "2018-12-10 16:12:22,510 : INFO : WordOccurrenceAccumulator accumulated stats from 14000 documents\n",
      "2018-12-10 16:12:22,534 : INFO : WordOccurrenceAccumulator accumulated stats from 15000 documents\n",
      "2018-12-10 16:12:22,577 : INFO : WordOccurrenceAccumulator accumulated stats from 16000 documents\n",
      "2018-12-10 16:12:22,599 : INFO : WordOccurrenceAccumulator accumulated stats from 17000 documents\n",
      "2018-12-10 16:12:22,649 : INFO : WordOccurrenceAccumulator accumulated stats from 18000 documents\n",
      "2018-12-10 16:12:22,670 : INFO : WordOccurrenceAccumulator accumulated stats from 19000 documents\n",
      "2018-12-10 16:12:22,739 : INFO : WordOccurrenceAccumulator accumulated stats from 20000 documents\n",
      "2018-12-10 16:12:22,764 : INFO : WordOccurrenceAccumulator accumulated stats from 21000 documents\n",
      "2018-12-10 16:12:22,798 : INFO : WordOccurrenceAccumulator accumulated stats from 22000 documents\n",
      "2018-12-10 16:12:22,864 : INFO : WordOccurrenceAccumulator accumulated stats from 23000 documents\n",
      "2018-12-10 16:12:22,938 : INFO : WordOccurrenceAccumulator accumulated stats from 24000 documents\n",
      "2018-12-10 16:12:23,013 : INFO : WordOccurrenceAccumulator accumulated stats from 25000 documents\n"
     ]
    },
    {
     "name": "stderr",
     "output_type": "stream",
     "text": [
      "2018-12-10 16:12:23,081 : INFO : WordOccurrenceAccumulator accumulated stats from 26000 documents\n",
      "2018-12-10 16:12:23,163 : INFO : WordOccurrenceAccumulator accumulated stats from 27000 documents\n",
      "2018-12-10 16:12:23,191 : INFO : WordOccurrenceAccumulator accumulated stats from 28000 documents\n"
     ]
    }
   ],
   "source": [
    "lsi_coherence = CoherenceModel(topics=lsitopics[:10], texts=texts, dictionary=dictionary, window_size=10).get_coherence()\n",
    "\n",
    "hdp_coherence = CoherenceModel(topics=hdptopics[:10], texts=texts, dictionary=dictionary, window_size=10).get_coherence()\n",
    "\n",
    "lda_coherence = CoherenceModel(topics=ldatopics, texts=texts, dictionary=dictionary, window_size=10).get_coherence()"
   ]
  },
  {
   "cell_type": "code",
   "execution_count": 123,
   "metadata": {},
   "outputs": [],
   "source": [
    "def evaluate_bar_graph(coherences, indices):\n",
    "    \"\"\"\n",
    "    Function to plot bar graph.\n",
    "    \n",
    "    coherences: list of coherence values\n",
    "    indices: Indices to be used to mark bars. Length of this and coherences should be equal.\n",
    "    \"\"\"\n",
    "    assert len(coherences) == len(indices)\n",
    "    n = len(coherences)\n",
    "    x = np.arange(n)\n",
    "    plt.bar(x, coherences, width=0.2, tick_label=indices, align='center')\n",
    "    plt.xlabel('Models')\n",
    "    plt.ylabel('Coherence Value')"
   ]
  },
  {
   "cell_type": "code",
   "execution_count": 124,
   "metadata": {},
   "outputs": [
    {
     "data": {
      "image/png": "[encoded data removed]",
      "text/plain": [
       "<Figure size 432x288 with 1 Axes>"
      ]
     },
     "metadata": {
      "needs_background": "light"
     },
     "output_type": "display_data"
    }
   ],
   "source": [
    "evaluate_bar_graph([lsi_coherence, hdp_coherence, lda_coherence],\n",
    "                   ['LSI', 'HDP', 'LDA'])"
   ]
  },
  {
   "cell_type": "code",
   "execution_count": 125,
   "metadata": {},
   "outputs": [
    {
     "name": "stderr",
     "output_type": "stream",
     "text": [
      "2018-12-10 16:14:38,192 : INFO : using symmetric alpha at 1.0\n",
      "2018-12-10 16:14:38,203 : INFO : using symmetric eta at 1.0\n",
      "2018-12-10 16:14:38,213 : INFO : using serial LDA version on this node\n",
      "2018-12-10 16:14:38,224 : INFO : running online (single-pass) LDA training, 1 topics, 1 passes over the supplied corpus of 299 documents, updating model once every 299 documents, evaluating perplexity every 299 documents, iterating 50x with a convergence threshold of 0.001000\n",
      "2018-12-10 16:14:38,225 : WARNING : too few updates, training might not converge; consider increasing the number of passes or iterations to improve accuracy\n",
      "2018-12-10 16:14:38,632 : INFO : -8.935 per-word bound, 489.4 perplexity estimate based on a held-out corpus of 299 documents with 30718 words\n",
      "2018-12-10 16:14:38,634 : INFO : PROGRESS: pass 0, at document #299/299\n",
      "2018-12-10 16:14:38,752 : INFO : topic #0 (1.000): 0.016*\"the\" + 0.011*\"-PRON-\" + 0.004*\"australian\" + 0.004*\"australia\" + 0.004*\"people\" + 0.004*\"government\" + 0.003*\"year\" + 0.003*\"day\" + 0.003*\"force\" + 0.003*\"us\"\n",
      "2018-12-10 16:14:38,754 : INFO : topic diff=0.756141, rho=1.000000\n",
      "2018-12-10 16:14:38,772 : INFO : using WordOccurrenceAccumulator to estimate probabilities from sliding windows\n",
      "2018-12-10 16:14:38,864 : INFO : WordOccurrenceAccumulator accumulated stats from 1000 documents\n",
      "2018-12-10 16:14:38,929 : INFO : WordOccurrenceAccumulator accumulated stats from 2000 documents\n",
      "2018-12-10 16:14:38,996 : INFO : WordOccurrenceAccumulator accumulated stats from 3000 documents\n",
      "2018-12-10 16:14:39,088 : INFO : WordOccurrenceAccumulator accumulated stats from 4000 documents\n",
      "2018-12-10 16:14:39,145 : INFO : WordOccurrenceAccumulator accumulated stats from 5000 documents\n",
      "2018-12-10 16:14:39,352 : INFO : using symmetric alpha at 0.5\n",
      "2018-12-10 16:14:39,353 : INFO : using symmetric eta at 0.5\n",
      "2018-12-10 16:14:39,355 : INFO : using serial LDA version on this node\n",
      "2018-12-10 16:14:39,361 : INFO : running online (single-pass) LDA training, 2 topics, 1 passes over the supplied corpus of 299 documents, updating model once every 299 documents, evaluating perplexity every 299 documents, iterating 50x with a convergence threshold of 0.001000\n",
      "2018-12-10 16:14:39,364 : WARNING : too few updates, training might not converge; consider increasing the number of passes or iterations to improve accuracy\n",
      "2018-12-10 16:14:40,421 : INFO : -9.138 per-word bound, 563.4 perplexity estimate based on a held-out corpus of 299 documents with 30718 words\n",
      "2018-12-10 16:14:40,422 : INFO : PROGRESS: pass 0, at document #299/299\n",
      "2018-12-10 16:14:40,936 : INFO : topic #0 (0.500): 0.016*\"the\" + 0.009*\"-PRON-\" + 0.005*\"australia\" + 0.004*\"year\" + 0.004*\"people\" + 0.003*\"australian\" + 0.003*\"government\" + 0.003*\"force\" + 0.003*\"new\" + 0.003*\"fire\"\n",
      "2018-12-10 16:14:40,947 : INFO : topic #1 (0.500): 0.016*\"the\" + 0.013*\"-PRON-\" + 0.005*\"australian\" + 0.004*\"day\" + 0.004*\"people\" + 0.004*\"government\" + 0.003*\"palestinian\" + 0.003*\"force\" + 0.003*\"man\" + 0.003*\"israeli\"\n",
      "2018-12-10 16:14:40,948 : INFO : topic diff=0.961680, rho=1.000000\n",
      "2018-12-10 16:14:40,952 : INFO : using WordOccurrenceAccumulator to estimate probabilities from sliding windows\n",
      "2018-12-10 16:14:40,986 : INFO : WordOccurrenceAccumulator accumulated stats from 1000 documents\n",
      "2018-12-10 16:14:41,048 : INFO : WordOccurrenceAccumulator accumulated stats from 2000 documents\n",
      "2018-12-10 16:14:41,143 : INFO : WordOccurrenceAccumulator accumulated stats from 3000 documents\n",
      "2018-12-10 16:14:41,228 : INFO : WordOccurrenceAccumulator accumulated stats from 4000 documents\n",
      "2018-12-10 16:14:41,293 : INFO : WordOccurrenceAccumulator accumulated stats from 5000 documents\n",
      "2018-12-10 16:14:41,489 : INFO : using symmetric alpha at 0.3333333333333333\n",
      "2018-12-10 16:14:41,493 : INFO : using symmetric eta at 0.3333333333333333\n",
      "2018-12-10 16:14:41,494 : INFO : using serial LDA version on this node\n",
      "2018-12-10 16:14:41,506 : INFO : running online (single-pass) LDA training, 3 topics, 1 passes over the supplied corpus of 299 documents, updating model once every 299 documents, evaluating perplexity every 299 documents, iterating 50x with a convergence threshold of 0.001000\n",
      "2018-12-10 16:14:41,520 : WARNING : too few updates, training might not converge; consider increasing the number of passes or iterations to improve accuracy\n",
      "2018-12-10 16:14:41,989 : INFO : -9.336 per-word bound, 646.4 perplexity estimate based on a held-out corpus of 299 documents with 30718 words\n",
      "2018-12-10 16:14:41,991 : INFO : PROGRESS: pass 0, at document #299/299\n",
      "2018-12-10 16:14:42,285 : INFO : topic #0 (0.333): 0.015*\"the\" + 0.013*\"-PRON-\" + 0.006*\"australia\" + 0.004*\"people\" + 0.004*\"year\" + 0.004*\"australian\" + 0.003*\"day\" + 0.003*\"police\" + 0.003*\"man\" + 0.003*\"good\"\n",
      "2018-12-10 16:14:42,295 : INFO : topic #1 (0.333): 0.016*\"the\" + 0.010*\"-PRON-\" + 0.006*\"palestinian\" + 0.006*\"israeli\" + 0.004*\"people\" + 0.004*\"official\" + 0.004*\"force\" + 0.004*\"arafat\" + 0.004*\"day\" + 0.003*\"attack\"\n",
      "2018-12-10 16:14:42,296 : INFO : topic #2 (0.333): 0.017*\"the\" + 0.009*\"-PRON-\" + 0.005*\"australian\" + 0.005*\"government\" + 0.003*\"us\" + 0.003*\"day\" + 0.003*\"year\" + 0.003*\"force\" + 0.003*\"union\" + 0.003*\"time\"\n",
      "2018-12-10 16:14:42,301 : INFO : topic diff=1.237817, rho=1.000000\n",
      "2018-12-10 16:14:42,315 : INFO : using WordOccurrenceAccumulator to estimate probabilities from sliding windows\n",
      "2018-12-10 16:14:42,439 : INFO : WordOccurrenceAccumulator accumulated stats from 1000 documents\n",
      "2018-12-10 16:14:42,513 : INFO : WordOccurrenceAccumulator accumulated stats from 2000 documents\n",
      "2018-12-10 16:14:42,572 : INFO : WordOccurrenceAccumulator accumulated stats from 3000 documents\n",
      "2018-12-10 16:14:42,658 : INFO : WordOccurrenceAccumulator accumulated stats from 4000 documents\n",
      "2018-12-10 16:14:42,740 : INFO : WordOccurrenceAccumulator accumulated stats from 5000 documents\n",
      "2018-12-10 16:14:43,056 : INFO : using symmetric alpha at 0.25\n",
      "2018-12-10 16:14:43,059 : INFO : using symmetric eta at 0.25\n",
      "2018-12-10 16:14:43,073 : INFO : using serial LDA version on this node\n",
      "2018-12-10 16:14:43,081 : INFO : running online (single-pass) LDA training, 4 topics, 1 passes over the supplied corpus of 299 documents, updating model once every 299 documents, evaluating perplexity every 299 documents, iterating 50x with a convergence threshold of 0.001000\n",
      "2018-12-10 16:14:43,103 : WARNING : too few updates, training might not converge; consider increasing the number of passes or iterations to improve accuracy\n",
      "2018-12-10 16:14:43,778 : INFO : -9.564 per-word bound, 757.0 perplexity estimate based on a held-out corpus of 299 documents with 30718 words\n",
      "2018-12-10 16:14:43,796 : INFO : PROGRESS: pass 0, at document #299/299\n",
      "2018-12-10 16:14:44,228 : INFO : topic #0 (0.250): 0.018*\"the\" + 0.009*\"-PRON-\" + 0.006*\"australian\" + 0.006*\"people\" + 0.004*\"government\" + 0.004*\"australia\" + 0.003*\"year\" + 0.003*\"fire\" + 0.003*\"man\" + 0.003*\"report\"\n",
      "2018-12-10 16:14:44,232 : INFO : topic #1 (0.250): 0.015*\"the\" + 0.009*\"-PRON-\" + 0.004*\"palestinian\" + 0.004*\"people\" + 0.004*\"force\" + 0.003*\"israeli\" + 0.003*\"australian\" + 0.003*\"year\" + 0.003*\"report\" + 0.003*\"fire\"\n",
      "2018-12-10 16:14:44,247 : INFO : topic #2 (0.250): 0.015*\"-PRON-\" + 0.015*\"the\" + 0.004*\"day\" + 0.004*\"us\" + 0.004*\"australian\" + 0.004*\"year\" + 0.003*\"government\" + 0.003*\"australia\" + 0.003*\"force\" + 0.003*\"good\"\n",
      "2018-12-10 16:14:44,253 : INFO : topic #3 (0.250): 0.017*\"the\" + 0.008*\"-PRON-\" + 0.006*\"australia\" + 0.004*\"government\" + 0.004*\"people\" + 0.004*\"australian\" + 0.003*\"day\" + 0.003*\"israeli\" + 0.003*\"tell\" + 0.003*\"police\"\n",
      "2018-12-10 16:14:44,257 : INFO : topic diff=1.553770, rho=1.000000\n",
      "2018-12-10 16:14:44,262 : INFO : using WordOccurrenceAccumulator to estimate probabilities from sliding windows\n",
      "2018-12-10 16:14:44,336 : INFO : WordOccurrenceAccumulator accumulated stats from 1000 documents\n",
      "2018-12-10 16:14:44,410 : INFO : WordOccurrenceAccumulator accumulated stats from 2000 documents\n",
      "2018-12-10 16:14:44,552 : INFO : WordOccurrenceAccumulator accumulated stats from 3000 documents\n",
      "2018-12-10 16:14:44,619 : INFO : WordOccurrenceAccumulator accumulated stats from 4000 documents\n",
      "2018-12-10 16:14:44,735 : INFO : WordOccurrenceAccumulator accumulated stats from 5000 documents\n"
     ]
    },
    {
     "name": "stderr",
     "output_type": "stream",
     "text": [
      "2018-12-10 16:14:45,046 : INFO : using symmetric alpha at 0.2\n",
      "2018-12-10 16:14:45,070 : INFO : using symmetric eta at 0.2\n",
      "2018-12-10 16:14:45,081 : INFO : using serial LDA version on this node\n",
      "2018-12-10 16:14:45,104 : INFO : running online (single-pass) LDA training, 5 topics, 1 passes over the supplied corpus of 299 documents, updating model once every 299 documents, evaluating perplexity every 299 documents, iterating 50x with a convergence threshold of 0.001000\n",
      "2018-12-10 16:14:45,113 : WARNING : too few updates, training might not converge; consider increasing the number of passes or iterations to improve accuracy\n",
      "2018-12-10 16:14:45,770 : INFO : -9.814 per-word bound, 900.1 perplexity estimate based on a held-out corpus of 299 documents with 30718 words\n",
      "2018-12-10 16:14:45,795 : INFO : PROGRESS: pass 0, at document #299/299\n",
      "2018-12-10 16:14:46,108 : INFO : topic #0 (0.200): 0.017*\"the\" + 0.016*\"-PRON-\" + 0.005*\"australia\" + 0.005*\"australian\" + 0.004*\"year\" + 0.004*\"day\" + 0.004*\"government\" + 0.004*\"us\" + 0.003*\"people\" + 0.003*\"company\"\n",
      "2018-12-10 16:14:46,115 : INFO : topic #1 (0.200): 0.018*\"the\" + 0.009*\"-PRON-\" + 0.004*\"australia\" + 0.004*\"force\" + 0.004*\"government\" + 0.004*\"australian\" + 0.003*\"people\" + 0.003*\"new\" + 0.003*\"israeli\" + 0.003*\"company\"\n",
      "2018-12-10 16:14:46,119 : INFO : topic #2 (0.200): 0.014*\"the\" + 0.008*\"-PRON-\" + 0.005*\"israeli\" + 0.005*\"palestinian\" + 0.005*\"people\" + 0.004*\"government\" + 0.004*\"group\" + 0.004*\"arafat\" + 0.004*\"force\" + 0.004*\"attack\"\n",
      "2018-12-10 16:14:46,120 : INFO : topic #3 (0.200): 0.019*\"the\" + 0.012*\"-PRON-\" + 0.005*\"australian\" + 0.004*\"report\" + 0.003*\"police\" + 0.003*\"day\" + 0.003*\"force\" + 0.003*\"government\" + 0.003*\"fire\" + 0.003*\"man\"\n",
      "2018-12-10 16:14:46,132 : INFO : topic #4 (0.200): 0.012*\"the\" + 0.007*\"-PRON-\" + 0.005*\"year\" + 0.005*\"people\" + 0.003*\"new\" + 0.003*\"day\" + 0.003*\"australian\" + 0.003*\"government\" + 0.003*\"a\" + 0.003*\"report\"\n",
      "2018-12-10 16:14:46,134 : INFO : topic diff=1.938013, rho=1.000000\n",
      "2018-12-10 16:14:46,140 : INFO : using WordOccurrenceAccumulator to estimate probabilities from sliding windows\n",
      "2018-12-10 16:14:46,246 : INFO : WordOccurrenceAccumulator accumulated stats from 1000 documents\n",
      "2018-12-10 16:14:46,341 : INFO : WordOccurrenceAccumulator accumulated stats from 2000 documents\n",
      "2018-12-10 16:14:46,430 : INFO : WordOccurrenceAccumulator accumulated stats from 3000 documents\n",
      "2018-12-10 16:14:46,504 : INFO : WordOccurrenceAccumulator accumulated stats from 4000 documents\n",
      "2018-12-10 16:14:46,567 : INFO : WordOccurrenceAccumulator accumulated stats from 5000 documents\n",
      "2018-12-10 16:14:46,918 : INFO : using symmetric alpha at 0.16666666666666666\n",
      "2018-12-10 16:14:46,922 : INFO : using symmetric eta at 0.16666666666666666\n",
      "2018-12-10 16:14:46,927 : INFO : using serial LDA version on this node\n",
      "2018-12-10 16:14:46,937 : INFO : running online (single-pass) LDA training, 6 topics, 1 passes over the supplied corpus of 299 documents, updating model once every 299 documents, evaluating perplexity every 299 documents, iterating 50x with a convergence threshold of 0.001000\n",
      "2018-12-10 16:14:46,941 : WARNING : too few updates, training might not converge; consider increasing the number of passes or iterations to improve accuracy\n",
      "2018-12-10 16:14:47,352 : INFO : -10.083 per-word bound, 1084.3 perplexity estimate based on a held-out corpus of 299 documents with 30718 words\n",
      "2018-12-10 16:14:47,353 : INFO : PROGRESS: pass 0, at document #299/299\n",
      "2018-12-10 16:14:47,631 : INFO : topic #5 (0.167): 0.018*\"the\" + 0.012*\"-PRON-\" + 0.005*\"australia\" + 0.005*\"people\" + 0.004*\"australian\" + 0.004*\"afghanistan\" + 0.004*\"us\" + 0.004*\"year\" + 0.003*\"day\" + 0.003*\"new\"\n",
      "2018-12-10 16:14:47,637 : INFO : topic #4 (0.167): 0.013*\"the\" + 0.012*\"-PRON-\" + 0.005*\"day\" + 0.005*\"australia\" + 0.004*\"australian\" + 0.004*\"force\" + 0.003*\"new\" + 0.003*\"government\" + 0.003*\"man\" + 0.003*\"attack\"\n",
      "2018-12-10 16:14:47,644 : INFO : topic #2 (0.167): 0.021*\"the\" + 0.011*\"-PRON-\" + 0.005*\"australian\" + 0.005*\"people\" + 0.004*\"year\" + 0.004*\"government\" + 0.004*\"arafat\" + 0.004*\"attack\" + 0.004*\"israeli\" + 0.003*\"palestinian\"\n",
      "2018-12-10 16:14:47,649 : INFO : topic #3 (0.167): 0.011*\"the\" + 0.006*\"-PRON-\" + 0.004*\"day\" + 0.004*\"australia\" + 0.003*\"police\" + 0.003*\"good\" + 0.003*\"government\" + 0.003*\"take\" + 0.003*\"union\" + 0.003*\"claim\"\n",
      "2018-12-10 16:14:47,653 : INFO : topic #1 (0.167): 0.013*\"the\" + 0.009*\"-PRON-\" + 0.004*\"year\" + 0.004*\"day\" + 0.004*\"good\" + 0.003*\"a\" + 0.003*\"australian\" + 0.003*\"win\" + 0.003*\"metre\" + 0.003*\"work\"\n",
      "2018-12-10 16:14:47,657 : INFO : topic diff=2.381325, rho=1.000000\n",
      "2018-12-10 16:14:47,667 : INFO : using WordOccurrenceAccumulator to estimate probabilities from sliding windows\n",
      "2018-12-10 16:14:47,740 : INFO : WordOccurrenceAccumulator accumulated stats from 1000 documents\n",
      "2018-12-10 16:14:47,798 : INFO : WordOccurrenceAccumulator accumulated stats from 2000 documents\n",
      "2018-12-10 16:14:47,853 : INFO : WordOccurrenceAccumulator accumulated stats from 3000 documents\n",
      "2018-12-10 16:14:47,907 : INFO : WordOccurrenceAccumulator accumulated stats from 4000 documents\n",
      "2018-12-10 16:14:47,968 : INFO : WordOccurrenceAccumulator accumulated stats from 5000 documents\n",
      "2018-12-10 16:14:48,340 : INFO : using symmetric alpha at 0.14285714285714285\n",
      "2018-12-10 16:14:48,342 : INFO : using symmetric eta at 0.14285714285714285\n",
      "2018-12-10 16:14:48,343 : INFO : using serial LDA version on this node\n",
      "2018-12-10 16:14:48,370 : INFO : running online (single-pass) LDA training, 7 topics, 1 passes over the supplied corpus of 299 documents, updating model once every 299 documents, evaluating perplexity every 299 documents, iterating 50x with a convergence threshold of 0.001000\n",
      "2018-12-10 16:14:48,377 : WARNING : too few updates, training might not converge; consider increasing the number of passes or iterations to improve accuracy\n",
      "2018-12-10 16:14:48,752 : INFO : -10.374 per-word bound, 1327.2 perplexity estimate based on a held-out corpus of 299 documents with 30718 words\n",
      "2018-12-10 16:14:48,757 : INFO : PROGRESS: pass 0, at document #299/299\n",
      "2018-12-10 16:14:49,012 : INFO : topic #1 (0.143): 0.010*\"the\" + 0.005*\"-PRON-\" + 0.003*\"a\" + 0.003*\"taliban\" + 0.003*\"union\" + 0.003*\"government\" + 0.003*\"tell\" + 0.002*\"official\" + 0.002*\"us\" + 0.002*\"today\"\n",
      "2018-12-10 16:14:49,019 : INFO : topic #4 (0.143): 0.020*\"the\" + 0.010*\"-PRON-\" + 0.005*\"government\" + 0.005*\"force\" + 0.005*\"australian\" + 0.005*\"year\" + 0.004*\"people\" + 0.004*\"palestinian\" + 0.003*\"good\" + 0.003*\"area\"\n",
      "2018-12-10 16:14:49,023 : INFO : topic #2 (0.143): 0.013*\"the\" + 0.008*\"-PRON-\" + 0.007*\"government\" + 0.006*\"australia\" + 0.005*\"day\" + 0.005*\"police\" + 0.004*\"people\" + 0.003*\"time\" + 0.003*\"us\" + 0.003*\"australian\"\n",
      "2018-12-10 16:14:49,028 : INFO : topic #6 (0.143): 0.017*\"the\" + 0.009*\"-PRON-\" + 0.006*\"people\" + 0.005*\"australian\" + 0.005*\"australia\" + 0.004*\"year\" + 0.003*\"company\" + 0.003*\"police\" + 0.003*\"a\" + 0.003*\"fire\"\n",
      "2018-12-10 16:14:49,034 : INFO : topic #5 (0.143): 0.019*\"-PRON-\" + 0.013*\"the\" + 0.005*\"australia\" + 0.004*\"force\" + 0.003*\"us\" + 0.003*\"day\" + 0.003*\"fire\" + 0.003*\"area\" + 0.003*\"new\" + 0.003*\"attack\"\n",
      "2018-12-10 16:14:49,038 : INFO : topic diff=2.878814, rho=1.000000\n",
      "2018-12-10 16:14:49,043 : INFO : using WordOccurrenceAccumulator to estimate probabilities from sliding windows\n",
      "2018-12-10 16:14:49,107 : INFO : WordOccurrenceAccumulator accumulated stats from 1000 documents\n",
      "2018-12-10 16:14:49,162 : INFO : WordOccurrenceAccumulator accumulated stats from 2000 documents\n",
      "2018-12-10 16:14:49,243 : INFO : WordOccurrenceAccumulator accumulated stats from 3000 documents\n",
      "2018-12-10 16:14:49,316 : INFO : WordOccurrenceAccumulator accumulated stats from 4000 documents\n",
      "2018-12-10 16:14:49,387 : INFO : WordOccurrenceAccumulator accumulated stats from 5000 documents\n",
      "2018-12-10 16:14:49,784 : INFO : using symmetric alpha at 0.125\n",
      "2018-12-10 16:14:49,787 : INFO : using symmetric eta at 0.125\n",
      "2018-12-10 16:14:49,798 : INFO : using serial LDA version on this node\n",
      "2018-12-10 16:14:49,808 : INFO : running online (single-pass) LDA training, 8 topics, 1 passes over the supplied corpus of 299 documents, updating model once every 299 documents, evaluating perplexity every 299 documents, iterating 50x with a convergence threshold of 0.001000\n"
     ]
    },
    {
     "name": "stderr",
     "output_type": "stream",
     "text": [
      "2018-12-10 16:14:49,809 : WARNING : too few updates, training might not converge; consider increasing the number of passes or iterations to improve accuracy\n",
      "2018-12-10 16:14:50,243 : INFO : -10.681 per-word bound, 1641.3 perplexity estimate based on a held-out corpus of 299 documents with 30718 words\n",
      "2018-12-10 16:14:50,244 : INFO : PROGRESS: pass 0, at document #299/299\n",
      "2018-12-10 16:14:50,532 : INFO : topic #5 (0.125): 0.020*\"the\" + 0.011*\"-PRON-\" + 0.006*\"australia\" + 0.005*\"australian\" + 0.004*\"us\" + 0.004*\"people\" + 0.004*\"day\" + 0.004*\"government\" + 0.003*\"good\" + 0.003*\"afghanistan\"\n",
      "2018-12-10 16:14:50,534 : INFO : topic #1 (0.125): 0.014*\"the\" + 0.011*\"-PRON-\" + 0.005*\"day\" + 0.004*\"people\" + 0.004*\"fire\" + 0.003*\"australian\" + 0.003*\"palestinian\" + 0.003*\"year\" + 0.003*\"israeli\" + 0.003*\"a\"\n",
      "2018-12-10 16:14:50,538 : INFO : topic #4 (0.125): 0.013*\"the\" + 0.009*\"-PRON-\" + 0.004*\"us\" + 0.004*\"year\" + 0.004*\"government\" + 0.004*\"call\" + 0.004*\"people\" + 0.003*\"day\" + 0.003*\"month\" + 0.003*\"official\"\n",
      "2018-12-10 16:14:50,548 : INFO : topic #2 (0.125): 0.015*\"the\" + 0.011*\"-PRON-\" + 0.007*\"australian\" + 0.005*\"police\" + 0.004*\"a\" + 0.004*\"government\" + 0.004*\"force\" + 0.004*\"palestinian\" + 0.004*\"australia\" + 0.004*\"group\"\n",
      "2018-12-10 16:14:50,550 : INFO : topic #7 (0.125): 0.015*\"the\" + 0.007*\"-PRON-\" + 0.005*\"australian\" + 0.005*\"government\" + 0.005*\"people\" + 0.004*\"president\" + 0.003*\"fire\" + 0.003*\"year\" + 0.003*\"man\" + 0.003*\"australia\"\n",
      "2018-12-10 16:14:50,553 : INFO : topic diff=3.312520, rho=1.000000\n",
      "2018-12-10 16:14:50,559 : INFO : using WordOccurrenceAccumulator to estimate probabilities from sliding windows\n",
      "2018-12-10 16:14:50,659 : INFO : WordOccurrenceAccumulator accumulated stats from 1000 documents\n",
      "2018-12-10 16:14:50,728 : INFO : WordOccurrenceAccumulator accumulated stats from 2000 documents\n",
      "2018-12-10 16:14:50,788 : INFO : WordOccurrenceAccumulator accumulated stats from 3000 documents\n",
      "2018-12-10 16:14:50,850 : INFO : WordOccurrenceAccumulator accumulated stats from 4000 documents\n",
      "2018-12-10 16:14:50,911 : INFO : WordOccurrenceAccumulator accumulated stats from 5000 documents\n",
      "2018-12-10 16:14:51,378 : INFO : using symmetric alpha at 0.1111111111111111\n",
      "2018-12-10 16:14:51,379 : INFO : using symmetric eta at 0.1111111111111111\n",
      "2018-12-10 16:14:51,381 : INFO : using serial LDA version on this node\n",
      "2018-12-10 16:14:51,438 : INFO : running online (single-pass) LDA training, 9 topics, 1 passes over the supplied corpus of 299 documents, updating model once every 299 documents, evaluating perplexity every 299 documents, iterating 50x with a convergence threshold of 0.001000\n",
      "2018-12-10 16:14:51,445 : WARNING : too few updates, training might not converge; consider increasing the number of passes or iterations to improve accuracy\n",
      "2018-12-10 16:14:51,852 : INFO : -11.002 per-word bound, 2050.7 perplexity estimate based on a held-out corpus of 299 documents with 30718 words\n",
      "2018-12-10 16:14:51,858 : INFO : PROGRESS: pass 0, at document #299/299\n",
      "2018-12-10 16:14:52,138 : INFO : topic #8 (0.111): 0.018*\"the\" + 0.012*\"-PRON-\" + 0.006*\"israeli\" + 0.006*\"arafat\" + 0.006*\"force\" + 0.005*\"australian\" + 0.004*\"official\" + 0.004*\"attack\" + 0.004*\"us\" + 0.004*\"palestinian\"\n",
      "2018-12-10 16:14:52,140 : INFO : topic #7 (0.111): 0.014*\"the\" + 0.008*\"-PRON-\" + 0.006*\"year\" + 0.005*\"australian\" + 0.004*\"fire\" + 0.004*\"people\" + 0.004*\"kill\" + 0.004*\"palestinian\" + 0.004*\"police\" + 0.003*\"day\"\n",
      "2018-12-10 16:14:52,149 : INFO : topic #2 (0.111): 0.014*\"the\" + 0.011*\"-PRON-\" + 0.008*\"australia\" + 0.004*\"child\" + 0.004*\"australian\" + 0.004*\"a\" + 0.003*\"good\" + 0.003*\"today\" + 0.003*\"government\" + 0.003*\"year\"\n",
      "2018-12-10 16:14:52,152 : INFO : topic #4 (0.111): 0.019*\"the\" + 0.013*\"-PRON-\" + 0.005*\"people\" + 0.005*\"company\" + 0.005*\"australian\" + 0.005*\"australia\" + 0.005*\"year\" + 0.004*\"director\" + 0.004*\"day\" + 0.004*\"claim\"\n",
      "2018-12-10 16:14:52,163 : INFO : topic #6 (0.111): 0.013*\"the\" + 0.011*\"-PRON-\" + 0.006*\"people\" + 0.004*\"man\" + 0.004*\"government\" + 0.004*\"report\" + 0.003*\"qantas\" + 0.003*\"australia\" + 0.003*\"australian\" + 0.003*\"fire\"\n",
      "2018-12-10 16:14:52,167 : INFO : topic diff=3.975425, rho=1.000000\n",
      "2018-12-10 16:14:52,174 : INFO : using WordOccurrenceAccumulator to estimate probabilities from sliding windows\n",
      "2018-12-10 16:14:52,254 : INFO : WordOccurrenceAccumulator accumulated stats from 1000 documents\n",
      "2018-12-10 16:14:52,332 : INFO : WordOccurrenceAccumulator accumulated stats from 2000 documents\n",
      "2018-12-10 16:14:52,399 : INFO : WordOccurrenceAccumulator accumulated stats from 3000 documents\n",
      "2018-12-10 16:14:52,481 : INFO : WordOccurrenceAccumulator accumulated stats from 4000 documents\n",
      "2018-12-10 16:14:52,595 : INFO : WordOccurrenceAccumulator accumulated stats from 5000 documents\n"
     ]
    }
   ],
   "source": [
    "c_v = []\n",
    "limit = 10\n",
    "for num_topics in range(1, limit):\n",
    "    lm = LdaModel(corpus=corpus, num_topics=num_topics,id2word=dictionary)\n",
    "    cm = CoherenceModel(model=lm, texts=texts, dictionary=dictionary,coherence='c_v')\n",
    "    c_v.append(cm.get_coherence())"
   ]
  },
  {
   "cell_type": "code",
   "execution_count": 126,
   "metadata": {},
   "outputs": [
    {
     "data": {
      "text/plain": [
       "[0.2156966307588212,\n",
       " 0.22512865214341005,\n",
       " 0.2544241501387238,\n",
       " 0.19167101100120026,\n",
       " 0.21521355264748238,\n",
       " 0.23113206355086066,\n",
       " 0.21016891624915415,\n",
       " 0.21480719783724123,\n",
       " 0.2488837606296479]"
      ]
     },
     "execution_count": 126,
     "metadata": {},
     "output_type": "execute_result"
    }
   ],
   "source": [
    "c_v"
   ]
  },
  {
   "cell_type": "code",
   "execution_count": 127,
   "metadata": {},
   "outputs": [
    {
     "data": {
      "image/png": "[encoded data removed]",
      "text/plain": [
       "<Figure size 432x288 with 1 Axes>"
      ]
     },
     "metadata": {
      "needs_background": "light"
     },
     "output_type": "display_data"
    }
   ],
   "source": [
    "x = range(1, limit)\n",
    "plt.plot(x, c_v)\n",
    "plt.xlabel(\"Num Topics\")\n",
    "plt.ylabel(\"Coherence score\")\n",
    "plt.legend((\"coherence_values\"), loc='best')\n",
    "plt.show()"
   ]
  },
  {
   "cell_type": "code",
   "execution_count": 131,
   "metadata": {},
   "outputs": [],
   "source": [
    "pyLDAvis.enable_notebook()\n",
    "vis = pyLDAvis.gensim.prepare(ldamodel, corpus, dictionary)"
   ]
  },
  {
   "cell_type": "code",
   "execution_count": 132,
   "metadata": {},
   "outputs": [
    {
     "data": {
      "text/html": [
       "\n",
       "<link rel=\"stylesheet\" type=\"text/css\" href=\"https://cdn.rawgit.com/bmabey/pyLDAvis/files/ldavis.v1.0.0.css\">\n",
       "\n",
       "\n",
       "<div id=\"ldavis_el244431406403425557685211557859\"></div>\n",
       "<script type=\"text/javascript\">\n",
       "\n",
       "var ldavis_el244431406403425557685211557859_data = {\"mdsDat\": {\"x\": [-0.015309199639163483, -0.011459198664307852, -0.030698362635731995, -0.0293826294695461, -0.009125179798385665, 0.005224404148696389, 0.022481954280007963, 0.07089790315011818, 0.009819706360101543, -0.012449397731789075], \"y\": [-0.013707980014338893, 0.00658419736955392, 0.011369311025869994, -0.04805742542896212, 0.020033471394526985, 0.03286312404715254, 0.036124024686513406, -0.03487809472696162, 0.015524240490249449, -0.025854868843603693], \"topics\": [1, 2, 3, 4, 5, 6, 7, 8, 9, 10], \"cluster\": [1, 1, 1, 1, 1, 1, 1, 1, 1, 1], \"Freq\": [16.705997467041016, 13.931211471557617, 12.172755241394043, 11.378809928894043, 10.227583885192871, 10.218811988830566, 10.182361602783203, 6.276652812957764, 5.809731960296631, 3.0960819721221924]}, \"tinfo\": {\"Category\": [\"Default\", \"Default\", \"Default\", \"Default\", \"Default\", \"Default\", \"Default\", \"Default\", \"Default\", \"Default\", \"Default\", \"Default\", \"Default\", \"Default\", \"Default\", \"Default\", \"Default\", \"Default\", \"Default\", \"Default\", \"Default\", \"Default\", \"Default\", \"Default\", \"Default\", \"Default\", \"Default\", \"Default\", \"Default\", \"Default\", \"Topic1\", \"Topic1\", \"Topic1\", \"Topic1\", \"Topic1\", \"Topic1\", \"Topic1\", \"Topic1\", \"Topic1\", \"Topic1\", \"Topic1\", \"Topic1\", \"Topic1\", \"Topic1\", \"Topic1\", \"Topic1\", \"Topic1\", \"Topic1\", \"Topic1\", \"Topic1\", \"Topic1\", \"Topic1\", \"Topic1\", \"Topic1\", \"Topic1\", \"Topic1\", \"Topic1\", \"Topic1\", \"Topic1\", \"Topic1\", \"Topic1\", \"Topic1\", \"Topic1\", \"Topic1\", \"Topic1\", \"Topic1\", \"Topic1\", \"Topic1\", \"Topic1\", \"Topic1\", \"Topic1\", \"Topic1\", \"Topic1\", \"Topic1\", \"Topic1\", \"Topic1\", \"Topic1\", \"Topic1\", \"Topic1\", \"Topic1\", \"Topic1\", \"Topic1\", \"Topic1\", \"Topic1\", \"Topic1\", \"Topic1\", \"Topic1\", \"Topic1\", \"Topic1\", \"Topic1\", \"Topic1\", \"Topic1\", \"Topic1\", \"Topic1\", \"Topic1\", \"Topic1\", \"Topic1\", \"Topic1\", \"Topic1\", \"Topic1\", \"Topic1\", \"Topic1\", \"Topic1\", \"Topic1\", \"Topic1\", \"Topic1\", \"Topic1\", \"Topic2\", \"Topic2\", \"Topic2\", \"Topic2\", \"Topic2\", \"Topic2\", \"Topic2\", \"Topic2\", \"Topic2\", \"Topic2\", \"Topic2\", \"Topic2\", \"Topic2\", \"Topic2\", \"Topic2\", \"Topic2\", \"Topic2\", \"Topic2\", \"Topic2\", \"Topic2\", \"Topic2\", \"Topic2\", \"Topic2\", \"Topic2\", \"Topic2\", \"Topic2\", \"Topic2\", \"Topic2\", \"Topic2\", \"Topic2\", \"Topic2\", \"Topic2\", \"Topic2\", \"Topic2\", \"Topic2\", \"Topic2\", \"Topic2\", \"Topic2\", \"Topic2\", \"Topic2\", \"Topic2\", \"Topic2\", \"Topic2\", \"Topic2\", \"Topic2\", \"Topic2\", \"Topic2\", \"Topic2\", \"Topic2\", \"Topic2\", \"Topic2\", \"Topic2\", \"Topic2\", \"Topic2\", \"Topic2\", \"Topic2\", \"Topic2\", \"Topic2\", \"Topic2\", \"Topic2\", \"Topic2\", \"Topic2\", \"Topic2\", \"Topic2\", \"Topic2\", \"Topic2\", \"Topic2\", \"Topic2\", \"Topic2\", \"Topic2\", \"Topic2\", \"Topic2\", \"Topic2\", \"Topic2\", \"Topic2\", \"Topic2\", \"Topic2\", \"Topic2\", \"Topic3\", \"Topic3\", \"Topic3\", \"Topic3\", \"Topic3\", \"Topic3\", \"Topic3\", \"Topic3\", \"Topic3\", \"Topic3\", \"Topic3\", \"Topic3\", \"Topic3\", \"Topic3\", \"Topic3\", \"Topic3\", \"Topic3\", \"Topic3\", \"Topic3\", \"Topic3\", \"Topic3\", \"Topic3\", \"Topic3\", \"Topic3\", \"Topic3\", \"Topic3\", \"Topic3\", \"Topic3\", \"Topic3\", \"Topic3\", \"Topic3\", \"Topic3\", \"Topic3\", \"Topic3\", \"Topic3\", \"Topic3\", \"Topic3\", \"Topic3\", \"Topic3\", \"Topic3\", \"Topic3\", \"Topic3\", \"Topic3\", \"Topic3\", \"Topic3\", \"Topic3\", \"Topic3\", \"Topic3\", \"Topic3\", \"Topic3\", \"Topic3\", \"Topic3\", \"Topic3\", \"Topic3\", \"Topic3\", \"Topic3\", \"Topic3\", \"Topic3\", \"Topic3\", \"Topic3\", \"Topic3\", \"Topic3\", \"Topic3\", \"Topic3\", \"Topic3\", \"Topic3\", \"Topic3\", \"Topic3\", \"Topic3\", \"Topic3\", \"Topic3\", \"Topic3\", \"Topic3\", \"Topic3\", \"Topic3\", \"Topic3\", \"Topic3\", \"Topic3\", \"Topic3\", \"Topic4\", \"Topic4\", \"Topic4\", \"Topic4\", \"Topic4\", \"Topic4\", \"Topic4\", \"Topic4\", \"Topic4\", \"Topic4\", \"Topic4\", \"Topic4\", \"Topic4\", \"Topic4\", \"Topic4\", \"Topic4\", \"Topic4\", \"Topic4\", \"Topic4\", \"Topic4\", \"Topic4\", \"Topic4\", \"Topic4\", \"Topic4\", \"Topic4\", \"Topic4\", \"Topic4\", \"Topic4\", \"Topic4\", \"Topic4\", \"Topic4\", \"Topic4\", \"Topic4\", \"Topic4\", \"Topic4\", \"Topic4\", \"Topic4\", \"Topic4\", \"Topic4\", \"Topic4\", \"Topic4\", \"Topic4\", \"Topic4\", \"Topic4\", \"Topic4\", \"Topic4\", \"Topic4\", \"Topic4\", \"Topic4\", \"Topic4\", \"Topic4\", \"Topic4\", \"Topic4\", \"Topic4\", \"Topic4\", \"Topic4\", \"Topic4\", \"Topic4\", \"Topic4\", \"Topic4\", \"Topic4\", \"Topic4\", \"Topic4\", \"Topic4\", \"Topic4\", \"Topic4\", \"Topic4\", \"Topic4\", \"Topic4\", \"Topic4\", \"Topic4\", \"Topic4\", \"Topic4\", \"Topic4\", \"Topic4\", \"Topic4\", \"Topic4\", \"Topic4\", \"Topic5\", \"Topic5\", \"Topic5\", \"Topic5\", \"Topic5\", \"Topic5\", \"Topic5\", \"Topic5\", \"Topic5\", \"Topic5\", \"Topic5\", \"Topic5\", \"Topic5\", \"Topic5\", \"Topic5\", \"Topic5\", \"Topic5\", \"Topic5\", \"Topic5\", \"Topic5\", \"Topic5\", \"Topic5\", \"Topic5\", \"Topic5\", \"Topic5\", \"Topic5\", \"Topic5\", \"Topic5\", \"Topic5\", \"Topic5\", \"Topic5\", \"Topic5\", \"Topic5\", \"Topic5\", \"Topic5\", \"Topic5\", \"Topic5\", \"Topic5\", \"Topic5\", \"Topic5\", \"Topic5\", \"Topic5\", \"Topic5\", \"Topic5\", \"Topic5\", \"Topic5\", \"Topic5\", \"Topic5\", \"Topic5\", \"Topic5\", \"Topic5\", \"Topic5\", \"Topic5\", \"Topic5\", \"Topic5\", \"Topic5\", \"Topic5\", \"Topic5\", \"Topic5\", \"Topic5\", \"Topic5\", \"Topic5\", \"Topic5\", \"Topic5\", \"Topic5\", \"Topic5\", \"Topic5\", \"Topic5\", \"Topic5\", \"Topic5\", \"Topic5\", \"Topic5\", \"Topic6\", \"Topic6\", \"Topic6\", \"Topic6\", \"Topic6\", \"Topic6\", \"Topic6\", \"Topic6\", \"Topic6\", \"Topic6\", \"Topic6\", \"Topic6\", \"Topic6\", \"Topic6\", \"Topic6\", \"Topic6\", \"Topic6\", \"Topic6\", \"Topic6\", \"Topic6\", \"Topic6\", \"Topic6\", \"Topic6\", \"Topic6\", \"Topic6\", \"Topic6\", \"Topic6\", \"Topic6\", \"Topic6\", \"Topic6\", \"Topic6\", \"Topic6\", \"Topic6\", \"Topic6\", \"Topic6\", \"Topic6\", \"Topic6\", \"Topic6\", \"Topic6\", \"Topic6\", \"Topic6\", \"Topic6\", \"Topic6\", \"Topic6\", \"Topic6\", \"Topic6\", \"Topic6\", \"Topic6\", \"Topic6\", \"Topic6\", \"Topic6\", \"Topic6\", \"Topic6\", \"Topic6\", \"Topic6\", \"Topic6\", \"Topic6\", \"Topic6\", \"Topic6\", \"Topic6\", \"Topic6\", \"Topic6\", \"Topic6\", \"Topic6\", \"Topic6\", \"Topic6\", \"Topic6\", \"Topic6\", \"Topic6\", \"Topic6\", \"Topic6\", \"Topic6\", \"Topic6\", \"Topic6\", \"Topic6\", \"Topic6\", \"Topic6\", \"Topic6\", \"Topic6\", \"Topic6\", \"Topic6\", \"Topic6\", \"Topic7\", \"Topic7\", \"Topic7\", \"Topic7\", \"Topic7\", \"Topic7\", \"Topic7\", \"Topic7\", \"Topic7\", \"Topic7\", \"Topic7\", \"Topic7\", \"Topic7\", \"Topic7\", \"Topic7\", \"Topic7\", \"Topic7\", \"Topic7\", \"Topic7\", \"Topic7\", \"Topic7\", \"Topic7\", \"Topic7\", \"Topic7\", \"Topic7\", \"Topic7\", \"Topic7\", \"Topic7\", \"Topic7\", \"Topic7\", \"Topic7\", \"Topic7\", \"Topic7\", \"Topic7\", \"Topic7\", \"Topic7\", \"Topic7\", \"Topic7\", \"Topic7\", \"Topic7\", \"Topic7\", \"Topic7\", \"Topic7\", \"Topic7\", \"Topic7\", \"Topic7\", \"Topic7\", \"Topic7\", \"Topic7\", \"Topic7\", \"Topic7\", \"Topic7\", \"Topic7\", \"Topic7\", \"Topic7\", \"Topic7\", \"Topic7\", \"Topic7\", \"Topic7\", \"Topic7\", \"Topic7\", \"Topic7\", \"Topic7\", \"Topic7\", \"Topic7\", \"Topic7\", \"Topic7\", \"Topic7\", \"Topic7\", \"Topic7\", \"Topic7\", \"Topic7\", \"Topic7\", \"Topic7\", \"Topic7\", \"Topic7\", \"Topic7\", \"Topic8\", \"Topic8\", \"Topic8\", \"Topic8\", \"Topic8\", \"Topic8\", \"Topic8\", \"Topic8\", \"Topic8\", \"Topic8\", \"Topic8\", \"Topic8\", \"Topic8\", \"Topic8\", \"Topic8\", \"Topic8\", \"Topic8\", \"Topic8\", \"Topic8\", \"Topic8\", \"Topic8\", \"Topic8\", \"Topic8\", \"Topic8\", \"Topic8\", \"Topic8\", \"Topic8\", \"Topic8\", \"Topic8\", \"Topic8\", \"Topic8\", \"Topic8\", \"Topic8\", \"Topic8\", \"Topic8\", \"Topic8\", \"Topic8\", \"Topic8\", \"Topic8\", \"Topic8\", \"Topic8\", \"Topic8\", \"Topic8\", \"Topic8\", \"Topic8\", \"Topic8\", \"Topic8\", \"Topic8\", \"Topic8\", \"Topic8\", \"Topic8\", \"Topic8\", \"Topic8\", \"Topic8\", \"Topic8\", \"Topic8\", \"Topic8\", \"Topic8\", \"Topic8\", \"Topic8\", \"Topic8\", \"Topic8\", \"Topic8\", \"Topic8\", \"Topic8\", \"Topic8\", \"Topic8\", \"Topic8\", \"Topic8\", \"Topic8\", \"Topic8\", \"Topic9\", \"Topic9\", \"Topic9\", \"Topic9\", \"Topic9\", \"Topic9\", \"Topic9\", \"Topic9\", \"Topic9\", \"Topic9\", \"Topic9\", \"Topic9\", \"Topic9\", \"Topic9\", \"Topic9\", \"Topic9\", \"Topic9\", \"Topic9\", \"Topic9\", \"Topic9\", \"Topic9\", \"Topic9\", \"Topic9\", \"Topic9\", \"Topic9\", \"Topic9\", \"Topic9\", \"Topic9\", \"Topic9\", \"Topic9\", \"Topic9\", \"Topic9\", \"Topic9\", \"Topic9\", \"Topic9\", \"Topic9\", \"Topic9\", \"Topic9\", \"Topic9\", \"Topic9\", \"Topic9\", \"Topic9\", \"Topic9\", \"Topic9\", \"Topic9\", \"Topic9\", \"Topic9\", \"Topic9\", \"Topic9\", \"Topic9\", \"Topic9\", \"Topic9\", \"Topic9\", \"Topic9\", \"Topic9\", \"Topic9\", \"Topic9\", \"Topic9\", \"Topic9\", \"Topic9\", \"Topic9\", \"Topic9\", \"Topic9\", \"Topic9\", \"Topic9\", \"Topic9\", \"Topic9\", \"Topic9\", \"Topic9\", \"Topic9\", \"Topic10\", \"Topic10\", \"Topic10\", \"Topic10\", \"Topic10\", \"Topic10\", \"Topic10\", \"Topic10\", \"Topic10\", \"Topic10\", \"Topic10\", \"Topic10\", \"Topic10\", \"Topic10\", \"Topic10\", \"Topic10\", \"Topic10\", \"Topic10\", \"Topic10\", \"Topic10\", \"Topic10\", \"Topic10\", \"Topic10\", \"Topic10\", \"Topic10\", \"Topic10\", \"Topic10\", \"Topic10\", \"Topic10\", \"Topic10\", \"Topic10\", \"Topic10\", \"Topic10\", \"Topic10\", \"Topic10\", \"Topic10\", \"Topic10\", \"Topic10\", \"Topic10\", \"Topic10\", \"Topic10\", \"Topic10\", \"Topic10\", \"Topic10\", \"Topic10\", \"Topic10\", \"Topic10\", \"Topic10\", \"Topic10\", \"Topic10\", \"Topic10\", \"Topic10\", \"Topic10\", \"Topic10\", \"Topic10\", \"Topic10\", \"Topic10\", \"Topic10\", \"Topic10\", \"Topic10\", \"Topic10\", \"Topic10\", \"Topic10\", \"Topic10\", \"Topic10\", \"Topic10\"], \"Freq\": [493.0, 109.0, 342.0, 78.0, 78.0, 80.0, 111.0, 113.0, 30.0, 59.0, 98.0, 25.0, 67.0, 13.0, 129.0, 12.0, 61.0, 67.0, 43.0, 42.0, 69.0, 69.0, 19.0, 5.0, 66.0, 36.0, 18.0, 8.0, 43.0, 74.0, 4.144691467285156, 1.9682519435882568, 1.927274227142334, 2.4418318271636963, 3.0377700328826904, 2.272557020187378, 2.231377124786377, 1.6552727222442627, 1.0844311714172363, 1.0808770656585693, 1.080488920211792, 1.075040340423584, 1.0718835592269897, 1.6548857688903809, 1.0669775009155273, 1.0639879703521729, 1.0603864192962646, 1.0589805841445923, 1.056839942932129, 1.5975433588027954, 2.1203808784484863, 1.9993367195129395, 1.475926399230957, 1.8888310194015503, 0.9863193035125732, 1.481711983680725, 2.303468704223633, 1.4880326986312866, 1.8933262825012207, 4.713254928588867, 4.487517356872559, 3.470266819000244, 12.368057250976562, 3.0624783039093018, 8.179906845092773, 12.46618938446045, 3.0690104961395264, 5.700390815734863, 7.100090503692627, 7.818485736846924, 12.388309478759766, 5.2941436767578125, 111.24688720703125, 3.834827423095703, 14.847447395324707, 19.04113006591797, 10.664278984069824, 14.9074068069458, 17.410343170166016, 55.847408294677734, 10.430865287780762, 12.453364372253418, 20.845874786376953, 16.83321762084961, 10.420782089233398, 15.141755104064941, 15.577200889587402, 14.55625057220459, 8.893757820129395, 18.768226623535156, 10.972862243652344, 20.164213180541992, 14.504233360290527, 11.8502197265625, 11.807812690734863, 15.861761093139648, 10.30683422088623, 12.620807647705078, 11.091248512268066, 13.491552352905273, 12.043379783630371, 11.488480567932129, 12.538771629333496, 11.771724700927734, 13.199335098266602, 12.899521827697754, 12.064209938049316, 7.763861179351807, 2.7198355197906494, 2.8397679328918457, 2.0132908821105957, 1.506882667541504, 4.039460182189941, 5.5139546394348145, 4.916213512420654, 1.860583782196045, 1.3294695615768433, 1.401296615600586, 1.4384708404541016, 1.391031265258789, 5.160709857940674, 2.861452579498291, 0.9077756404876709, 0.9077750444412231, 0.9077740907669067, 2.2439284324645996, 1.3067374229431152, 0.8552103638648987, 1.1692475080490112, 1.7205866575241089, 0.8351684808731079, 0.8326873779296875, 0.8303900361061096, 0.8291978240013123, 0.8210000991821289, 0.8163100481033325, 0.815866231918335, 2.746624708175659, 1.2646127939224243, 2.4094293117523193, 1.847866177558899, 3.058185577392578, 3.7573494911193848, 2.285069465637207, 14.779043197631836, 6.189589023590088, 7.670222759246826, 99.26335906982422, 3.0033457279205322, 2.817901611328125, 10.202796936035156, 7.097411632537842, 7.7061285972595215, 23.113643646240234, 20.571487426757812, 4.274800777435303, 20.338123321533203, 3.266657590866089, 45.86754608154297, 8.544172286987305, 13.784079551696777, 14.320231437683105, 5.657246112823486, 12.29123306274414, 13.14192008972168, 18.06869888305664, 7.930408954620361, 9.528055191040039, 18.860143661499023, 12.881094932556152, 13.437848091125488, 10.71389389038086, 10.40701961517334, 11.88623332977295, 14.32547378540039, 11.546906471252441, 9.631891250610352, 10.365767478942871, 9.504345893859863, 10.400486946105957, 9.479011535644531, 9.284883499145508, 10.07663631439209, 10.038060188293457, 9.786726951599121, 2.2097883224487305, 2.1508569717407227, 2.676029682159424, 2.667235851287842, 3.2576849460601807, 3.9014344215393066, 5.191473960876465, 3.04563570022583, 3.6985273361206055, 1.177032232284546, 1.1757076978683472, 1.1638891696929932, 1.1589956283569336, 1.1579171419143677, 1.1569368839263916, 1.1539013385772705, 1.1523500680923462, 2.2509067058563232, 1.1424936056137085, 1.1389567852020264, 1.1327565908432007, 1.1285840272903442, 2.4062299728393555, 7.458190441131592, 3.485107660293579, 1.1083588600158691, 2.2911465167999268, 1.692689061164856, 2.2629289627075195, 1.710251808166504, 3.7029478549957275, 2.1578383445739746, 4.18450927734375, 3.1127843856811523, 3.7023723125457764, 2.686462879180908, 3.4892489910125732, 5.8093132972717285, 2.3729300498962402, 1.622145652770996, 1.6231374740600586, 66.49755096435547, 4.43858003616333, 16.5574893951416, 28.835124969482422, 5.822426795959473, 2.821906328201294, 9.111616134643555, 5.86293363571167, 6.963810443878174, 14.170792579650879, 14.100454330444336, 16.878360748291016, 9.285537719726562, 6.631110191345215, 12.60254192352295, 12.604718208312988, 31.934946060180664, 7.16591739654541, 7.989511966705322, 13.09398365020752, 9.357720375061035, 7.644261837005615, 10.375844955444336, 7.461280822753906, 10.463497161865234, 8.399630546569824, 9.997186660766602, 8.544536590576172, 11.191900253295898, 8.66877555847168, 9.721155166625977, 9.989206314086914, 7.907289505004883, 7.512553691864014, 9.031230926513672, 8.245059967041016, 8.188905715942383, 7.754647731781006, 1.8701726198196411, 1.0928560495376587, 1.5847914218902588, 3.7758495807647705, 1.5435446500778198, 1.0597590208053589, 1.058442234992981, 1.0528903007507324, 1.5263586044311523, 1.5171560049057007, 1.5016164779663086, 1.5043765306472778, 0.9642903804779053, 0.9504801034927368, 3.627546548843384, 1.385620355606079, 0.9104611277580261, 0.8782781362533569, 1.3134807348251343, 0.8680305480957031, 0.8614234328269958, 0.8644169569015503, 0.8616631031036377, 0.8517910242080688, 1.2863304615020752, 0.8641241192817688, 1.2508370876312256, 0.8600002527236938, 1.2878472805023193, 1.2279229164123535, 2.5736660957336426, 1.3137767314910889, 1.962359070777893, 2.872012138366699, 1.2469830513000488, 4.419766902923584, 2.310987710952759, 2.244292736053467, 12.44292163848877, 3.075679063796997, 2.2435195446014404, 5.976263999938965, 3.4982712268829346, 4.674769401550293, 18.578712463378906, 10.71389389038086, 8.205193519592285, 13.50531005859375, 20.397138595581055, 10.481382369995117, 14.727903366088867, 8.8672513961792, 5.450003623962402, 6.696623802185059, 5.955094337463379, 5.257043838500977, 14.81829833984375, 8.129192352294922, 14.012528419494629, 13.40544605255127, 7.459274768829346, 35.8077278137207, 15.502903938293457, 41.73727035522461, 10.918810844421387, 8.462058067321777, 9.333232879638672, 9.878239631652832, 8.828557968139648, 11.360974311828613, 11.359082221984863, 13.361832618713379, 8.226131439208984, 10.545572280883789, 8.389456748962402, 8.515263557434082, 8.165511131286621, 8.056259155273438, 3.4040446281433105, 1.7435342073440552, 3.3681981563568115, 1.8678736686706543, 0.8695095181465149, 0.8689867854118347, 0.8683293461799622, 1.2209376096725464, 0.8126189112663269, 0.8123759627342224, 1.2773950099945068, 1.0490299463272095, 1.1901549100875854, 1.1833252906799316, 0.7917636632919312, 0.7654412388801575, 1.9227795600891113, 1.1273267269134521, 3.6173675060272217, 1.7955020666122437, 1.109054446220398, 0.7411491870880127, 0.661986231803894, 2.0151078701019287, 1.7239952087402344, 2.518889904022217, 1.0244752168655396, 1.2244269847869873, 0.9942327737808228, 1.417919635772705, 2.9281575679779053, 3.657921552658081, 1.3133265972137451, 1.6409680843353271, 23.29945182800293, 4.2014336585998535, 13.545733451843262, 10.995500564575195, 19.439579010009766, 3.5301761627197266, 7.771308898925781, 2.865943670272827, 50.052494049072266, 2.851137399673462, 4.221368789672852, 7.464441776275635, 3.336538314819336, 11.06208324432373, 11.156999588012695, 13.72056770324707, 8.091209411621094, 10.794066429138184, 15.036763191223145, 7.764664173126221, 7.572229862213135, 12.334298133850098, 6.956087112426758, 6.504363059997559, 10.219314575195312, 9.225700378417969, 8.227324485778809, 6.879932403564453, 20.73289680480957, 6.907006740570068, 5.712536811828613, 8.375788688659668, 7.2809576988220215, 9.676482200622559, 7.604344367980957, 8.823714256286621, 7.085631847381592, 6.825787544250488, 1.5554991960525513, 2.0735394954681396, 3.626758337020874, 1.5320535898208618, 1.3316760063171387, 1.297950267791748, 1.2970679998397827, 1.7324072122573853, 0.8447081446647644, 0.8446688652038574, 0.8446685671806335, 0.844664990901947, 0.8446594476699829, 0.8446579575538635, 0.8446575999259949, 0.8446418046951294, 1.2831183671951294, 0.8260661959648132, 0.8230141401290894, 1.5853195190429688, 0.8202841877937317, 0.8193944692611694, 0.8187931180000305, 0.8153820633888245, 0.8127151131629944, 0.8116576671600342, 0.8095107078552246, 0.8086889386177063, 0.8086869120597839, 2.4642956256866455, 2.465217351913452, 1.5575273036956787, 1.2063324451446533, 1.56076979637146, 1.212801218032837, 1.196828842163086, 2.3103885650634766, 1.1933618783950806, 1.5742411613464355, 1.8952878713607788, 3.971994161605835, 1.561360478401184, 3.0003185272216797, 2.4882991313934326, 1.171073079109192, 4.888913154602051, 4.102051258087158, 3.198732376098633, 14.818489074707031, 4.6305670738220215, 60.37031555175781, 6.419511318206787, 17.476160049438477, 9.471199989318848, 11.678793907165527, 2.708893299102783, 6.652650833129883, 32.031532287597656, 7.1310343742370605, 3.3171396255493164, 7.489079475402832, 6.693671703338623, 6.4332661628723145, 7.509491443634033, 10.600767135620117, 8.671628952026367, 13.692008972167969, 11.564140319824219, 9.32175350189209, 9.040204048156738, 9.396747589111328, 8.768220901489258, 8.675971984863281, 10.983945846557617, 5.8328166007995605, 7.918726444244385, 8.975076675415039, 6.766681671142578, 6.486383438110352, 6.14745569229126, 6.371404647827148, 6.405128002166748, 3.513615846633911, 2.063243865966797, 2.062072277069092, 4.230565547943115, 1.4478230476379395, 3.3201816082000732, 1.419321894645691, 1.3512898683547974, 1.6760817766189575, 1.664290189743042, 1.270599365234375, 1.2545456886291504, 1.6184542179107666, 3.5767455101013184, 1.1978167295455933, 1.6580287218093872, 1.6345205307006836, 3.5886318683624268, 1.1705025434494019, 2.4448435306549072, 1.1668320894241333, 0.7942133545875549, 0.7738155126571655, 1.162376046180725, 0.7721874713897705, 0.7685608863830566, 0.7650008201599121, 0.7617524862289429, 0.7612046599388123, 0.757904589176178, 3.301072835922241, 1.51632559299469, 3.357848644256592, 2.3301165103912354, 2.8243048191070557, 2.352346181869507, 1.6956926584243774, 4.125395774841309, 16.68168830871582, 11.772308349609375, 9.89836311340332, 3.561962604522705, 5.6658430099487305, 9.185046195983887, 39.11766052246094, 6.168756008148193, 4.470354080200195, 4.18415641784668, 37.73480224609375, 7.969452857971191, 4.745169639587402, 10.674174308776855, 14.12453556060791, 9.879840850830078, 6.527617454528809, 6.2749762535095215, 8.809680938720703, 12.302824974060059, 9.76779842376709, 7.503558158874512, 6.983498573303223, 5.951656341552734, 7.433940887451172, 8.687551498413086, 8.149986267089844, 10.625033378601074, 9.707291603088379, 7.179702281951904, 8.88795280456543, 7.842757225036621, 6.299321174621582, 6.5244574546813965, 6.487302780151367, 7.394886493682861, 6.749832630157471, 6.684481143951416, 6.5235724449157715, 3.6566436290740967, 1.8458107709884644, 1.7892730236053467, 2.5889623165130615, 1.27522611618042, 1.248683214187622, 1.2172062397003174, 1.1992963552474976, 3.6152327060699463, 1.6471368074417114, 1.133082389831543, 1.1397532224655151, 1.8198192119598389, 1.0572479963302612, 5.617724895477295, 0.6795742511749268, 1.057295322418213, 0.673274040222168, 0.694174587726593, 0.6856027841567993, 0.6600348949432373, 0.6583530306816101, 0.6573113799095154, 0.6584758758544922, 1.672103762626648, 0.6403104066848755, 0.6666077375411987, 1.2581183910369873, 1.2365349531173706, 2.298947811126709, 2.8655219078063965, 2.5016086101531982, 3.112360715866089, 1.776911973953247, 1.2331647872924805, 2.4005231857299805, 8.348360061645508, 4.930660724639893, 2.3579580783843994, 2.4538004398345947, 2.4879150390625, 3.9571614265441895, 2.6802098751068115, 3.342630386352539, 11.985140800476074, 7.72594690322876, 23.805654525756836, 7.540623188018799, 16.94530487060547, 4.324629306793213, 6.976452350616455, 7.73273229598999, 8.583809852600098, 5.609893798828125, 4.881089687347412, 3.981475353240967, 4.023076057434082, 6.937382698059082, 5.732975959777832, 4.57793664932251, 5.349224090576172, 3.708420515060425, 3.9419445991516113, 4.535420894622803, 4.807037830352783, 4.918699741363525, 4.541851043701172, 4.082540035247803, 4.218835830688477, 3.7575416564941406, 3.7346415519714355, 2.6260263919830322, 1.9855239391326904, 1.3450382947921753, 1.3450344800949097, 1.3450160026550293, 1.4310685396194458, 0.7045484185218811, 0.7045472860336304, 0.7045449614524841, 0.704544723033905, 0.7045408487319946, 0.7045400142669678, 0.7045370936393738, 0.7045368552207947, 0.7045359015464783, 0.7045353651046753, 1.2855257987976074, 1.918444037437439, 0.9826353788375854, 1.4585773944854736, 0.8926543593406677, 0.8397343754768372, 0.6933961510658264, 0.5388566851615906, 1.0929878950119019, 0.7657390832901001, 1.2994095087051392, 1.785308599472046, 0.5297855138778687, 0.9991549253463745, 1.5432332754135132, 4.42031717300415, 1.9855138063430786, 1.8537843227386475, 4.874456882476807, 3.107107639312744, 3.5063564777374268, 21.651123046875, 26.947771072387695, 3.7872495651245117, 9.1053466796875, 3.623480796813965, 1.7639724016189575, 6.248785018920898, 3.4619455337524414, 2.816602945327759, 4.8838887214660645, 3.4553940296173096, 5.696430683135986, 5.218044281005859, 5.31421422958374, 2.955575942993164, 5.3229780197143555, 3.886204957962036, 4.6208906173706055, 4.282368183135986, 4.763833045959473, 4.06146764755249, 5.202821731567383, 4.432662010192871, 3.1673455238342285, 3.651108741760254, 4.451067924499512, 4.073556423187256, 4.2502336502075195, 3.8321707248687744, 3.4581801891326904, 3.7092504501342773, 3.553769111633301, 3.493715524673462, 2.5719480514526367, 1.4225009679794312, 0.48944708704948425, 0.48928725719451904, 0.7487658262252808, 0.48664775490760803, 0.7424932718276978, 0.4755176603794098, 0.42927324771881104, 0.4285225570201874, 0.4246434271335602, 0.4165611267089844, 0.4124600887298584, 0.39450666308403015, 0.409824401140213, 0.39018556475639343, 0.4031141996383667, 0.39743196964263916, 0.39151909947395325, 0.3901558518409729, 0.3824533522129059, 0.7503867745399475, 0.5073573589324951, 0.3568771183490753, 0.5487210154533386, 0.9563101530075073, 2.145981788635254, 1.0627676248550415, 0.8785259127616882, 0.3291323781013489, 1.1239709854125977, 2.510681390762329, 1.182088851928711, 0.9544758796691895, 1.655173659324646, 2.8521108627319336, 6.671933174133301, 5.3282599449157715, 5.299702167510986, 2.3602402210235596, 0.747401237487793, 5.466192245483398, 2.0188567638397217, 1.7195515632629395, 3.5538291931152344, 10.166036605834961, 1.960963249206543, 8.086125373840332, 2.471585750579834, 3.2628066539764404, 3.274228096008301, 3.5426623821258545, 1.6933974027633667, 3.3911490440368652, 2.8846821784973145, 3.2389392852783203, 2.019925117492676, 3.2198028564453125, 2.481447458267212, 2.552137613296509, 2.3418664932250977, 2.205411672592163, 1.9905366897583008, 2.099382162094116, 1.8786369562149048, 1.8948417901992798], \"Term\": [\"the\", \"government\", \"-PRON-\", \"palestinian\", \"us\", \"israeli\", \"people\", \"australia\", \"qantas\", \"company\", \"year\", \"troop\", \"fire\", \"cost\", \"australian\", \"space\", \"arafat\", \"afghanistan\", \"cent\", \"test\", \"tell\", \"report\", \"rate\", \"farmer\", \"kill\", \"centre\", \"wicket\", \"project\", \"child\", \"official\", \"sultan\", \"encouraging\", \"abbott\", \"villawood\", \"rudd\", \"example\", \"mohamad\", \"journal\", \"narrative\", \"attitude\", \"mathematical\", \"oecd\", \"masters\", \"battlefield\", \"educational\", \"literacy\", \"storybook\", \"text\", \"negative\", \"psychological\", \"habeel\", \"ferguson\", \"reduction\", \"emission\", \"seeker\", \"fazalur\", \"alarming\", \"belgium\", \"publish\", \"survey\", \"reserve_bank\", \"unemployment\", \"tora_bora\", \"petrol\", \"kandahar\", \"taliban\", \"japanese\", \"surrender\", \"cave\", \"rate\", \"bin_laden\", \"supporter\", \"the\", \"vehicle\", \"al_qaeda\", \"kill\", \"fighter\", \"union\", \"today\", \"-PRON-\", \"afghan\", \"leader\", \"force\", \"us\", \"militant\", \"area\", \"official\", \"afghanistan\", \"head\", \"government\", \"include\", \"australian\", \"police\", \"work\", \"month\", \"year\", \"yesterday\", \"time\", \"go\", \"palestinian\", \"united_states\", \"call\", \"attack\", \"group\", \"people\", \"australia\", \"day\", \"nauru\", \"cahill\", \"midwife\", \"stoltenberg\", \"hilton\", \"solution\", \"hewitt\", \"lockett\", \"mitsubishi\", \"darren\", \"nitrous\", \"fare\", \"oxide\", \"pacific\", \"goal\", \"reith\", \"allocate\", \"distribution\", \"swans\", \"relocate\", \"meal\", \"kentucky\", \"comeback\", \"rene\", \"aid\", \"catering\", \"volleyball\", \"practical\", \"sanitation\", \"ablution\", \"lung_cancer\", \"processing\", \"blue\", \"cow\", \"season\", \"club\", \"ruddock\", \"pakistan\", \"asylum_seeker\", \"base\", \"the\", \"gas\", \"giuliani\", \"change\", \"face\", \"offer\", \"people\", \"day\", \"tension\", \"force\", \"camp\", \"-PRON-\", \"-PRON-_be\", \"come\", \"fire\", \"reach\", \"company\", \"afghanistan\", \"australia\", \"india\", \"want\", \"australian\", \"area\", \"us\", \"month\", \"work\", \"official\", \"government\", \"new\", \"sydney\", \"good\", \"claim\", \"today\", \"believe\", \"security\", \"attack\", \"israeli\", \"year\", \"rodriguez\", \"mentha\", \"jackson\", \"facilitate\", \"ganges\", \"benare\", \"krishna\", \"huegill\", \"hare\", \"klim\", \"swim\", \"pension\", \"argentine\", \"8:00am\", \"us1,000\", \"retiree\", \"adolfo\", \"megawati\", \"complexity\", \"sheer\", \"remainder\", \"size\", \"corowa\", \"harrison\", \"ash\", \"opt\", \"devotee\", \"sect\", \"saa\", \"constitutional\", \"metre_butterfly\", \"difficulty\", \"lord\", \"redundancy\", \"beatle\", \"holy\", \"building_industry\", \"investigate\", \"mcmenamin\", \"hindus\", \"prayer\", \"-PRON-\", \"george\", \"arafat\", \"australian\", \"new_zealand\", \"assa_abloy\", \"$\", \"event\", \"line\", \"attack\", \"police\", \"australia\", \"win\", \"worker\", \"palestinian\", \"israeli\", \"the\", \"metre\", \"second\", \"year\", \"go\", \"night\", \"area\", \"pay\", \"official\", \"week\", \"report\", \"claim\", \"government\", \"but\", \"a\", \"people\", \" \", \"morning\", \"force\", \"kill\", \"afghanistan\", \"union\", \"lavarch\", \"background\", \"palos\", \"cease_fire\", \"essential\", \"ought\", \"psychiatrist\", \"motivate\", \"section\", \"alp\", \"typhoid\", \"los\", \"draconian\", \"safeguard\", \"friedli\", \"memorandum\", \"rajoub\", \"circulate\", \"nabil\", \"disclose\", \"commissions\", \"clap\", \"6b\", \"carmen\", \"along\", \"contaminate\", \"potts\", \"abdominal\", \"organise\", \"lawrence\", \"owen\", \"mitchell\", \"willingness\", \"world_heritage\", \"preventable\", \"zinni\", \"seven\", \"reply\", \"hamas\", \"spread\", \"aware\", \"vote\", \"senator_hill\", \"asio\", \"palestinian\", \"israel\", \"peace\", \"united_states\", \"government\", \"try\", \"official\", \"return\", \"region\", \"senior\", \"suspect\", \"armed\", \"israeli\", \"military\", \"a\", \"man\", \"charge\", \"-PRON-\", \"force\", \"the\", \"group\", \"pakistan\", \"know\", \"call\", \"leader\", \"police\", \"us\", \"people\", \"member\", \"attack\", \"state\", \"tell\", \"arafat\", \"day\", \"boje\", \"nicky\", \"centrelink\", \"sheldon\", \"campaigner\", \"ridiculous\", \"judgment\", \"awu\", \"hazara\", \"hassan\", \"shed\", \"muslims\", \"twu\", \"kirribilli\", \"ghulam\", \"bully\", \"imf\", \"stringer\", \"refugee\", \"hume\", \"repayment\", \"pleasant\", \"neighbouring\", \"brain\", \"dixon\", \"employment\", \"left\", \"christians\", \"picton\", \"assume\", \"bichel\", \"south_african\", \"musical\", \"murray\", \"australia\", \"arrive\", \"good\", \"sydney\", \"government\", \"howard\", \"support\", \"highway\", \"the\", \"pacific\", \"road\", \"leave\", \"accept\", \"afghanistan\", \"new\", \"force\", \"continue\", \"man\", \"australian\", \"week\", \"cent\", \"day\", \"start\", \"service\", \"us\", \"time\", \"work\", \"morning\", \"-PRON-\", \"member\", \"talk\", \"fire\", \"but\", \"people\", \"group\", \"year\", \"call\", \"attack\", \"nobel\", \"solvency\", \"apra\", \"annan\", \"zeus\", \"shaft\", \"du\", \"united\", \"mum\", \"lineup\", \"relevance\", \"dad\", \"counterpart\", \"significance\", \"milestone\", \"inspection\", \"theatre\", \"solvently\", \"nationals\", \"100th\", \"kofi\", \"gala\", \"oslo\", \"fake\", \"tom\", \"ghana\", \"smell\", \"jetliner\", \"kinton\", \"launceston\", \"paris\", \"ernst\", \"burakin\", \"attendant\", \"sherrard\", \"richter\", \"terminal\", \"jeopardise\", \"prize\", \"sacrifice\", \"virus\", \"boston\", \"passenger\", \"computer\", \"earthquake\", \"hih\", \"allegation\", \"away\", \"report\", \"abuse\", \"the\", \"flight\", \"year\", \"test\", \"company\", \"insurance\", \"match\", \"-PRON-\", \"action\", \"dr_hollingworth\", \"start\", \"play\", \"set\", \"expect\", \"a\", \"take\", \"australian\", \"day\", \"tell\", \"fire\", \"man\", \"kill\", \"time\", \"people\", \"family\", \"new\", \"australia\", \"arrest\", \"know\", \"child\", \"give\", \"today\", \"antarctic\", \"climate\", \"sheet\", \"ice\", \"malaysian\", \"spill\", \"so\", \"sri\", \"britt\", \"obese\", \"prosecution\", \"phillip\", \"obesity\", \"vaughan\", \"amalgamation\", \"coastal\", \"trounson\", \"century\", \"worry\", \"ward\", \"helena\", \"favourably\", \"environmental\", \"blood\", \"damn\", \"p-3\", \"disintegrate\", \"continent\", \"severity\", \"developed\", \"professor\", \"smuggle\", \"tailender\", \"oil\", \"impact\", \"drug\", \"dixon\", \"disease\", \"israeli\", \"arrest\", \"child\", \"sea\", \"boat\", \"test\", \"-PRON-\", \"west\", \"level\", \"canyon\", \"the\", \"lead\", \"lot\", \"tell\", \"people\", \"good\", \"there\", \"match\", \"give\", \"day\", \"police\", \"continue\", \"power\", \"party\", \"hour\", \"fire\", \"time\", \"australian\", \"australia\", \"believe\", \"year\", \"man\", \"need\", \"cent\", \"authority\", \"government\", \"today\", \"force\", \"a\", \"product\", \"alcohol\", \"gibbons\", \"aboriginal\", \"grocery\", \"sidestep\", \"hooke\", \"modify\", \"secret\", \"dfat\", \"smith\", \"refugees\", \"burden\", \"belligerent\", \"space\", \"label\", \"lubbers\", \"gm\", \"boyd\", \"torres\", \"mitch\", \"crop\", \"shelf\", \"disrepute\", \"hiv\", \"ingredient\", \"avenue\", \"genetically\", \"downturn\", \"consumer\", \"shuttle\", \"food\", \"population\", \"creditor\", \"deserve\", \"technology\", \"qantas\", \"station\", \"russian\", \"ballot\", \"endeavour\", \"rise\", \"wage_freeze\", \"boy\", \"australia\", \"company\", \"the\", \"tell\", \"-PRON-\", \"community\", \"a\", \"day\", \"australian\", \"union\", \"find\", \"indian\", \"die\", \"people\", \"report\", \"in\", \"new\", \"christmas\", \"pay\", \"but\", \"police\", \"year\", \"attack\", \"believe\", \"us\", \"end\", \"official\", \"chechen\", \"raduyev\", \"salman\", \"hostage\", \"dagestan\", \"payout\", \"jealous\", \"achievement\", \"solder\", \"corner\", \"forefront\", \"insurgency\", \"caucuses\", \"warlord\", \"destabilise\", \"outperform\", \"termination\", \"fatality\", \"cmag\", \"male\", \"mugabe\", \"statutory\", \"female\", \"sturesteps\", \"olivier\", \"gibbs\", \"shepherd\", \"mcgrath\", \"agenda\", \"utn\", \"northern_territory\", \"wicket\", \"russian\", \"hayden\", \"metre\", \"road\", \"rate\", \"-PRON-\", \"the\", \"radio\", \"year\", \"terrorism\", \"twice\", \"company\", \"cut\", \"mark\", \"cent\", \"director\", \"attack\", \"group\", \"tell\", \"queensland\", \"a\", \"follow\", \"arafat\", \"call\", \"us\", \"take\", \"australia\", \"israeli\", \"help\", \"include\", \"government\", \"palestinian\", \"people\", \"new\", \"president\", \"day\", \"time\", \"good\", \"farmer\", \"truss\", \"undercover\", \"daka\", \"subsidy\", \"iffam\", \"lobby\", \"front\", \"reprioritis\", \"undertaking\", \"mentality\", \"degenerate\", \"proudly\", \"blowout\", \"entrench\", \"chris\", \"obvious\", \"usa\", \"agriculture\", \"boast\", \"intent\", \"spending\", \"female\", \"aside\", \"especially\", \"male\", \"project\", \"treasurer\", \"compound\", \"inauguration\", \"farm\", \"cost\", \"costello\", \"bit\", \"tank\", \"troop\", \"government\", \"us\", \"palestinian\", \"building\", \"taxpayer\", \"people\", \"detainee\", \"defence\", \"fire\", \"the\", \"economy\", \"-PRON-\", \"centre\", \"kill\", \"afghanistan\", \"israeli\", \"the_federal\", \"year\", \"official\", \"force\", \"war\", \"australian\", \"arafat\", \"new\", \"come\", \"report\", \"call\", \"day\", \"include\", \"believe\"], \"Total\": [493.0, 109.0, 342.0, 78.0, 78.0, 80.0, 111.0, 113.0, 30.0, 59.0, 98.0, 25.0, 67.0, 13.0, 129.0, 12.0, 61.0, 67.0, 43.0, 42.0, 69.0, 69.0, 19.0, 5.0, 66.0, 36.0, 18.0, 8.0, 43.0, 74.0, 5.8171563148498535, 2.859055519104004, 2.8830997943878174, 3.7694923877716064, 4.86934757232666, 3.7640345096588135, 3.762270450592041, 2.7927470207214355, 1.831196665763855, 1.8298463821411133, 1.8296990394592285, 1.8276290893554688, 1.8264299631118774, 2.823704481124878, 1.82456636428833, 1.8234302997589111, 1.822062373161316, 1.8215281963348389, 1.8207147121429443, 2.7648496627807617, 3.7883589267730713, 3.6382839679718018, 2.7228615283966064, 3.522783041000366, 1.8481581211090088, 2.7783446311950684, 4.344309329986572, 2.8106741905212402, 3.6057400703430176, 8.976544380187988, 8.7011079788208, 6.774532794952393, 28.99139976501465, 6.184577941894531, 19.528478622436523, 32.54438781738281, 6.311668395996094, 13.191533088684082, 17.365488052368164, 19.63724136352539, 34.2419319152832, 12.442253112792969, 493.25958251953125, 8.803642272949219, 48.588436126708984, 66.67227172851562, 33.175575256347656, 52.771636962890625, 66.44026184082031, 342.5848388671875, 35.55586624145508, 47.03596878051758, 101.61772155761719, 78.10921478271484, 38.69927215576172, 69.97209930419922, 74.0360107421875, 67.99958801269531, 32.44927978515625, 109.6137924194336, 45.878299713134766, 129.20053100585938, 76.697021484375, 53.80487823486328, 53.7998161315918, 98.01963806152344, 43.09458541870117, 65.64246368408203, 50.29792022705078, 78.51334381103516, 61.12232971191406, 55.348289489746094, 75.42974090576172, 63.87802505493164, 111.10279846191406, 113.93360900878906, 97.8282241821289, 9.045629501342773, 3.9007365703582764, 4.100134372711182, 3.1099202632904053, 2.4611194133758545, 6.705877780914307, 9.165437698364258, 8.33487319946289, 3.221832752227783, 2.329840660095215, 2.4607620239257812, 2.5285873413085938, 2.460390090942383, 9.145113945007324, 5.14152717590332, 1.6431915760040283, 1.6431912183761597, 1.6431912183761597, 4.163081645965576, 2.4577882289886475, 1.6195472478866577, 2.216616630554199, 3.299419641494751, 1.610532283782959, 1.6094163656234741, 1.6083825826644897, 1.6078464984893799, 1.6041592359542847, 1.6020498275756836, 1.6018500328063965, 5.6216888427734375, 2.521444082260132, 5.0180158615112305, 3.791421413421631, 6.627167701721191, 8.370532989501953, 4.891502857208252, 41.74831771850586, 15.923750877380371, 21.462373733520508, 493.25958251953125, 7.104644775390625, 6.617241859436035, 33.97468948364258, 22.240156173706055, 25.12095069885254, 111.10279846191406, 97.8282241821289, 11.51307487487793, 101.61772155761719, 8.090839385986328, 342.5848388671875, 31.447710037231445, 63.050018310546875, 67.02528381347656, 17.803224563598633, 59.364830017089844, 67.99958801269531, 113.93360900878906, 30.934667587280273, 41.721397399902344, 129.20053100585938, 69.97209930419922, 78.10921478271484, 53.7998161315918, 53.80487823486328, 74.0360107421875, 109.6137924194336, 71.95663452148438, 48.968475341796875, 62.07004928588867, 51.299564361572266, 66.44026184082031, 51.996192932128906, 51.68783187866211, 75.42974090576172, 80.47712707519531, 98.01963806152344, 2.9529032707214355, 2.9361119270324707, 3.8537158966064453, 3.875732421875, 4.913868427276611, 5.910604476928711, 7.930130481719971, 4.734316349029541, 5.901605606079102, 1.8903578519821167, 1.8898829221725464, 1.8869301080703735, 1.885535717010498, 1.8852287530899048, 1.8849493265151978, 1.8840844631195068, 1.8836424350738525, 3.6861464977264404, 1.8808337450027466, 1.8798261880874634, 1.8780597448349, 1.8768705129623413, 4.016432762145996, 12.524876594543457, 5.855700492858887, 1.8711079359054565, 3.869123697280884, 2.8680002689361572, 3.842923402786255, 2.9412734508514404, 6.4440693855285645, 3.7349629402160645, 7.4545111656188965, 5.479351997375488, 6.596814155578613, 4.791705131530762, 6.833469390869141, 13.038541793823242, 4.559410095214844, 2.8526272773742676, 2.8669676780700684, 342.5848388671875, 10.735907554626465, 61.542118072509766, 129.20053100585938, 16.79552459716797, 5.981123447418213, 33.13102722167969, 17.439720153808594, 22.695966720581055, 75.42974090576172, 76.697021484375, 113.93360900878906, 41.717369079589844, 23.50752067565918, 78.51334381103516, 80.47712707519531, 493.25958251953125, 27.79986572265625, 34.70791244506836, 98.01963806152344, 50.29792022705078, 34.99543380737305, 69.97209930419922, 33.25821304321289, 74.0360107421875, 44.93581771850586, 69.48175048828125, 51.299564361572266, 109.6137924194336, 54.35098648071289, 77.45752716064453, 111.10279846191406, 48.65288543701172, 40.948726654052734, 101.61772155761719, 66.67227172851562, 67.99958801269531, 52.771636962890625, 2.7389485836029053, 1.8697059154510498, 2.7668073177337646, 6.592677593231201, 2.706190824508667, 1.8624522686004639, 1.8621094226837158, 1.858838677406311, 2.711907148361206, 2.701570749282837, 2.734947681427002, 2.7440383434295654, 1.7645812034606934, 1.756648302078247, 7.162417888641357, 2.766373634338379, 1.822719931602478, 1.7910878658294678, 2.695111036300659, 1.781265139579773, 1.780473232269287, 1.7871674299240112, 1.7820264101028442, 1.7664966583251953, 2.6702721118927, 1.7960129976272583, 2.601257562637329, 1.7923165559768677, 2.685441732406616, 2.56050443649292, 5.443177700042725, 2.750328302383423, 4.338402271270752, 6.5788092613220215, 2.6652445793151855, 10.715394020080566, 5.331263065338135, 5.229711532592773, 40.39934158325195, 7.811859607696533, 5.361364841461182, 18.014299392700195, 9.306673049926758, 13.653560638427734, 78.51334381103516, 40.941062927246094, 30.146745681762695, 61.12232971191406, 109.6137924194336, 44.39549255371094, 74.0360107421875, 36.23998260498047, 18.561805725097656, 24.930505752563477, 21.217679977416992, 17.922380447387695, 80.47712707519531, 34.19099426269531, 77.45752716064453, 72.64854431152344, 30.254112243652344, 342.5848388671875, 101.61772155761719, 493.25958251953125, 63.87802505493164, 41.74831771850586, 49.44082260131836, 55.348289489746094, 47.03596878051758, 76.697021484375, 78.10921478271484, 111.10279846191406, 41.79867935180664, 75.42974090576172, 45.67281723022461, 69.44774627685547, 61.542118072509766, 97.8282241821289, 4.138973236083984, 2.4784562587738037, 5.152449131011963, 3.2867867946624756, 1.6449135541915894, 1.6448742151260376, 1.6448249816894531, 2.4648241996765137, 1.6475905179977417, 1.647589087486267, 2.5960896015167236, 2.1637520790100098, 2.4654042720794678, 2.4612879753112793, 1.6474651098251343, 1.6473063230514526, 4.183779716491699, 2.4990317821502686, 8.039424896240234, 4.090487957000732, 2.5286049842834473, 1.6958718299865723, 1.5343273878097534, 4.754768371582031, 4.074757099151611, 6.028777599334717, 2.4644477367401123, 2.9536681175231934, 2.4096128940582275, 3.437845230102539, 7.274349689483643, 10.44629955291748, 3.298095941543579, 4.3218913078308105, 113.93360900878906, 13.893321990966797, 62.07004928588867, 48.968475341796875, 109.6137924194336, 11.709535598754883, 33.85403823852539, 8.980192184448242, 493.25958251953125, 9.145113945007324, 16.12203025817871, 37.5772819519043, 11.630109786987305, 67.99958801269531, 71.95663452148438, 101.61772155761719, 45.40642166137695, 72.64854431152344, 129.20053100585938, 44.93581771850586, 43.41220474243164, 97.8282241821289, 38.64845275878906, 34.91087341308594, 78.10921478271484, 65.64246368408203, 53.80487823486328, 40.948726654052734, 342.5848388671875, 41.79867935180664, 29.059032440185547, 67.02528381347656, 54.35098648071289, 111.10279846191406, 63.87802505493164, 98.01963806152344, 55.348289489746094, 75.42974090576172, 2.358515739440918, 3.161909341812134, 5.558504581451416, 2.360417366027832, 2.3736824989318848, 2.419048309326172, 2.419175386428833, 3.2496581077575684, 1.5859278440475464, 1.5859432220458984, 1.585943341255188, 1.5859445333480835, 1.5859466791152954, 1.5859476327896118, 1.585947871208191, 1.5859534740447998, 2.415966510772705, 1.5873007774353027, 1.587670087814331, 3.0626907348632812, 1.5878918170928955, 1.5879639387130737, 1.5880125761032104, 1.5870753526687622, 1.5871814489364624, 1.588591456413269, 1.5873088836669922, 1.5873416662216187, 1.587341547012329, 4.837760925292969, 4.901416778564453, 3.078559398651123, 2.381108522415161, 3.124941825866699, 2.4096264839172363, 2.3815042972564697, 4.884956359863281, 2.38510799407959, 3.2448716163635254, 3.9920268058776855, 9.44785213470459, 3.2816250324249268, 7.19942569732666, 6.00553560256958, 2.3842761516571045, 15.053433418273926, 12.3609037399292, 9.018783569335938, 69.48175048828125, 14.994040489196777, 493.25958251953125, 23.79979705810547, 98.01963806152344, 42.30808639526367, 59.364830017089844, 7.366509914398193, 28.936450958251953, 342.5848388671875, 33.54509353637695, 10.312091827392578, 38.64845275878906, 33.00495910644531, 32.07927322387695, 42.73440170288086, 77.45752716064453, 54.773799896240234, 129.20053100585938, 97.8282241821289, 69.44774627685547, 67.02528381347656, 72.64854431152344, 66.67227172851562, 65.64246368408203, 111.10279846191406, 29.585710525512695, 71.95663452148438, 113.93360900878906, 52.502071380615234, 49.44082260131836, 43.93621063232422, 53.015506744384766, 66.44026184082031, 4.735240936279297, 3.1587347984313965, 3.1663928031921387, 7.019382476806641, 2.409823417663574, 5.5814948081970215, 2.3948264122009277, 2.389533758163452, 3.106058359146118, 3.113316297531128, 2.417713165283203, 2.4073100090026855, 3.114407539367676, 6.982355117797852, 2.347046136856079, 3.253880739212036, 3.2081246376037598, 7.110410213470459, 2.347649574279785, 4.905808448791504, 2.3469626903533936, 1.6339325904846191, 1.6035784482955933, 2.409932851791382, 1.6027302742004395, 1.6072378158569336, 1.6028248071670532, 1.6031792163848877, 1.6021766662597656, 1.6028088331222534, 7.30790901184082, 3.379544258117676, 8.089611053466797, 5.628271579742432, 7.30266809463501, 5.990995407104492, 4.074757099151611, 12.322857856750488, 80.47712707519531, 52.502071380615234, 43.93621063232422, 10.836698532104492, 21.14842987060547, 42.30808639526367, 342.5848388671875, 24.54159164428711, 15.38764762878418, 14.111010551452637, 493.25958251953125, 41.66118240356445, 18.091365814208984, 69.44774627685547, 111.10279846191406, 62.07004928588867, 30.91600799560547, 28.936450958251953, 53.015506744384766, 97.8282241821289, 76.697021484375, 45.40642166137695, 39.334861755371094, 29.052305221557617, 46.67750549316406, 67.02528381347656, 65.64246368408203, 129.20053100585938, 113.93360900878906, 51.996192932128906, 98.01963806152344, 72.64854431152344, 37.69759750366211, 43.41220474243164, 43.1904182434082, 109.6137924194336, 66.44026184082031, 101.61772155761719, 77.45752716064453, 4.8502936363220215, 3.0345685482025146, 2.951859951019287, 4.370271682739258, 2.163623094558716, 2.149808645248413, 2.1466784477233887, 2.1407883167266846, 6.713924884796143, 3.129429817199707, 2.2556312084198, 2.3040640354156494, 3.7888689041137695, 2.2555954456329346, 12.034811019897461, 1.4904509782791138, 2.328050136566162, 1.4882844686508179, 1.540205955505371, 1.5440362691879272, 1.4882270097732544, 1.4859731197357178, 1.4863166809082031, 1.489874005317688, 3.848604917526245, 1.4858862161636353, 1.5542913675308228, 2.95344877243042, 2.9038569927215576, 5.437473773956299, 6.896761894226074, 6.1637654304504395, 8.288512229919434, 4.469231605529785, 3.059431552886963, 6.7306108474731445, 30.56332778930664, 17.690601348876953, 7.180099964141846, 7.857435703277588, 8.01652717590332, 16.829450607299805, 9.446566581726074, 14.088269233703613, 113.93360900878906, 59.364830017089844, 493.25958251953125, 69.44774627685547, 342.5848388671875, 25.136655807495117, 77.45752716064453, 97.8282241821289, 129.20053100585938, 52.771636962890625, 40.64081573486328, 25.423992156982422, 26.13861846923828, 111.10279846191406, 69.48175048828125, 44.71672058105469, 71.95663452148438, 24.737211227416992, 33.25821304321289, 54.35098648071289, 76.697021484375, 98.01963806152344, 75.42974090576172, 51.996192932128906, 78.10921478271484, 45.88188171386719, 74.0360107421875, 3.3799898624420166, 2.7394778728485107, 2.0989644527435303, 2.0989649295806885, 2.0989668369293213, 2.8651888370513916, 1.4584513902664185, 1.4584513902664185, 1.4584513902664185, 1.4584516286849976, 1.4584521055221558, 1.4584523439407349, 1.4584523439407349, 1.4584521055221558, 1.4584524631500244, 1.458452582359314, 2.8985393047332764, 4.365246772766113, 2.3014016151428223, 3.793337821960449, 2.363171339035034, 2.2452609539031982, 1.9092433452606201, 1.4974926710128784, 3.0402655601501465, 2.151789903640747, 3.770232915878296, 5.207661151885986, 1.5591037273406982, 2.9498488903045654, 4.8868584632873535, 18.55759620666504, 7.180099964141846, 6.697800636291504, 27.79986572265625, 16.12203025817871, 19.63724136352539, 342.5848388671875, 493.25958251953125, 22.23300552368164, 98.01963806152344, 22.097360610961914, 6.86715841293335, 59.364830017089844, 22.823272705078125, 15.959967613220215, 43.41220474243164, 27.047121047973633, 75.42974090576172, 63.87802505493164, 69.44774627685547, 20.59652328491211, 77.45752716064453, 38.63337707519531, 61.542118072509766, 55.348289489746094, 78.10921478271484, 54.773799896240234, 113.93360900878906, 80.47712707519531, 28.467315673828125, 45.878299713134766, 109.6137924194336, 78.51334381103516, 111.10279846191406, 71.95663452148438, 46.30718231201172, 97.8282241821289, 65.64246368408203, 62.07004928588867, 5.415201187133789, 3.166987895965576, 1.2789020538330078, 1.2790108919143677, 1.967795491218567, 1.2808386087417603, 1.9840508699417114, 1.288543701171875, 1.3035211563110352, 1.3043620586395264, 1.3625781536102295, 1.371062994003296, 1.3755652904510498, 1.319342017173767, 1.3812742233276367, 1.3209680318832397, 1.3884716033935547, 1.3937623500823975, 1.4018746614456177, 1.405430555343628, 1.413586139678955, 2.817643165588379, 1.9092433452606201, 1.3814085721969604, 2.148676872253418, 3.793337821960449, 8.672002792358398, 4.312513828277588, 3.6713290214538574, 1.4024548530578613, 4.96381950378418, 13.896214485168457, 5.892558574676514, 5.015684127807617, 11.213480949401855, 25.28209686279297, 109.6137924194336, 78.10921478271484, 78.51334381103516, 23.113866806030273, 3.690464735031128, 111.10279846191406, 21.646312713623047, 17.2376766204834, 67.02528381347656, 493.25958251953125, 22.456298828125, 342.5848388671875, 36.367919921875, 66.67227172851562, 67.99958801269531, 80.47712707519531, 18.120378494262695, 98.01963806152344, 74.0360107421875, 101.61772155761719, 32.92155075073242, 129.20053100585938, 61.542118072509766, 71.95663452148438, 63.050018310546875, 69.48175048828125, 55.348289489746094, 97.8282241821289, 45.878299713134766, 51.996192932128906], \"loglift\": [30.0, 29.0, 28.0, 27.0, 26.0, 25.0, 24.0, 23.0, 22.0, 21.0, 20.0, 19.0, 18.0, 17.0, 16.0, 15.0, 14.0, 13.0, 12.0, 11.0, 10.0, 9.0, 8.0, 7.0, 6.0, 5.0, 4.0, 3.0, 2.0, 1.0, 1.4503999948501587, 1.416100025177002, 1.3866000175476074, 1.3552000522613525, 1.3176000118255615, 1.2848000526428223, 1.2669999599456787, 1.2662999629974365, 1.2654999494552612, 1.2628999948501587, 1.2626999616622925, 1.2587000131607056, 1.256500005722046, 1.2551000118255615, 1.2529000043869019, 1.2506999969482422, 1.2481000423431396, 1.246999979019165, 1.2454999685287476, 1.2409000396728516, 1.2091000080108643, 1.1907000541687012, 1.1770000457763672, 1.166100025177002, 1.1613999605178833, 1.1606999635696411, 1.1549999713897705, 1.15339994430542, 1.1452000141143799, 1.1452000141143799, 1.1273000240325928, 1.1204999685287476, 0.9375, 1.0865999460220337, 0.9192000031471252, 0.829800009727478, 1.0684000253677368, 0.9503999948501587, 0.8949999809265137, 0.8684999942779541, 0.7727000117301941, 0.9348999857902527, 0.3000999987125397, 0.9584000110626221, 0.6037999987602234, 0.5361999869346619, 0.6545000076293945, 0.5253000259399414, 0.45019999146461487, -0.02449999935925007, 0.5630999803543091, 0.46050000190734863, 0.2053000032901764, 0.25459998846054077, 0.477400004863739, 0.2587999999523163, 0.23070000112056732, 0.24789999425411224, 0.4950999915599823, 0.02459999918937683, 0.3587999939918518, -0.06809999793767929, 0.12399999797344208, 0.27639999985694885, 0.2728999853134155, -0.03189999982714653, 0.3587999939918518, 0.1404999941587448, 0.2775999903678894, 0.028200000524520874, 0.16500000655651093, 0.21709999442100525, -0.004999999888241291, 0.09809999912977219, -0.3409000039100647, -0.3889999985694885, -0.303600013256073, 1.8181999921798706, 1.6103999614715576, 1.603700041770935, 1.5362000465393066, 1.4804999828338623, 1.4642000198364258, 1.4629000425338745, 1.4430999755859375, 1.4220000505447388, 1.409999966621399, 1.4079999923706055, 1.406999945640564, 1.4007999897003174, 1.398900032043457, 1.3849999904632568, 1.3775999546051025, 1.3775999546051025, 1.3775999546051025, 1.3530000448226929, 1.3393000364303589, 1.3324999809265137, 1.3314000368118286, 1.3200000524520874, 1.3143999576568604, 1.3121000528335571, 1.3099000453948975, 1.3087999820709229, 1.301200032234192, 1.2968000173568726, 1.2963999509811401, 1.2547999620437622, 1.281000018119812, 1.2374000549316406, 1.2523000240325928, 1.197700023651123, 1.1699999570846558, 1.2099000215530396, 0.9326000213623047, 1.0261000394821167, 0.9420999884605408, 0.3677999973297119, 1.1100000143051147, 1.117400050163269, 0.7681000232696533, 0.8288999795913696, 0.7893999814987183, 0.4009999930858612, 0.4117000102996826, 0.9803000092506409, 0.36230000853538513, 1.0641000270843506, -0.03970000147819519, 0.6679999828338623, 0.4505999982357025, 0.4275999963283539, 0.8245999813079834, 0.3962000012397766, 0.3273000121116638, 0.12960000336170197, 0.6098999977111816, 0.4943000078201294, 0.04670000076293945, 0.27869999408721924, 0.210999995470047, 0.3573000133037567, 0.32820001244544983, 0.14190000295639038, -0.06390000134706497, 0.14139999449253082, 0.3449000120162964, 0.18129999935626984, 0.2851000130176544, 0.11659999936819077, 0.2689000070095062, 0.2542000114917755, -0.04190000146627426, -0.11060000211000443, -0.33309999108314514, 1.816100001335144, 1.794800043106079, 1.7412999868392944, 1.732300043106079, 1.6949000358581543, 1.690600037574768, 1.6822999715805054, 1.6648000478744507, 1.638700008392334, 1.632200002670288, 1.6312999725341797, 1.6227999925613403, 1.6193000078201294, 1.618499994277954, 1.617799997329712, 1.6157000064849854, 1.6145999431610107, 1.6126999855041504, 1.6074999570846558, 1.6049000024795532, 1.6003999710083008, 1.5973000526428223, 1.5936000347137451, 1.5875999927520752, 1.5871000289916992, 1.5822999477386475, 1.5820000171661377, 1.5786999464035034, 1.5764000415802002, 1.5637999773025513, 1.551900029182434, 1.5572999715805054, 1.528499960899353, 1.5405000448226929, 1.52839994430542, 1.5273000001907349, 1.4337999820709229, 1.2975000143051147, 1.4529000520706177, 1.5414999723434448, 1.5370999574661255, 0.4666000008583069, 1.2226999998092651, 0.7930999994277954, 0.6061999797821045, 1.0465999841690063, 1.3547999858856201, 0.8149999976158142, 1.0159000158309937, 0.9244999885559082, 0.4339999854564667, 0.4122999906539917, 0.1964000016450882, 0.6035000085830688, 0.840399980545044, 0.2766000032424927, 0.25209999084472656, -0.6313999891281128, 0.7502999901771545, 0.6370999813079834, 0.09300000220537186, 0.42419999837875366, 0.5846999883651733, 0.19740000367164612, 0.6114000082015991, 0.1492999941110611, 0.42890000343322754, 0.1671999990940094, 0.31360000371932983, -0.17579999566078186, 0.2702000141143799, 0.030500000342726707, -0.30300000309944153, 0.289000004529953, 0.41019999980926514, -0.31459999084472656, 0.015799999237060547, -0.01080000028014183, 0.1882999986410141, 1.7919000387191772, 1.6363999843597412, 1.6161999702453613, 1.6160999536514282, 1.6119999885559082, 1.6095999479293823, 1.6085000038146973, 1.6050000190734863, 1.5987000465393066, 1.5964000225067139, 1.573799967765808, 1.5723999738693237, 1.569100022315979, 1.5592000484466553, 1.4931000471115112, 1.4819999933242798, 1.4793000221252441, 1.460800051689148, 1.454699993133545, 1.4545999765396118, 1.4473999738693237, 1.447100043296814, 1.4467999935150146, 1.444000005722046, 1.4429999589920044, 1.4417999982833862, 1.4412000179290771, 1.4391000270843506, 1.4385000467300415, 1.4385000467300415, 1.424399971961975, 1.4345999956130981, 1.3801000118255615, 1.344599962234497, 1.4138000011444092, 1.2877999544143677, 1.337499976158142, 1.3274999856948853, 0.9958000183105469, 1.2412999868392944, 1.3021999597549438, 1.0700000524520874, 1.1950000524520874, 1.1016000509262085, 0.732200026512146, 0.8327999711036682, 0.8720999956130981, 0.6636000275611877, 0.4918000102043152, 0.7299000024795532, 0.5586000084877014, 0.7656000256538391, 0.9478999972343445, 0.8589000105857849, 0.9028000235557556, 0.9469000101089478, 0.4812999963760376, 0.7368999719619751, 0.4636000096797943, 0.48339998722076416, 0.7731999754905701, -0.08489999920129776, 0.29319998621940613, -0.2962000072002411, 0.40689998865127563, 0.5774000287055969, 0.5062000155448914, 0.45010000467300415, 0.5005000233650208, 0.263700008392334, 0.24529999494552612, 0.055399999022483826, 0.5479000210762024, 0.20589999854564667, 0.4788999855518341, 0.0746999979019165, 0.15360000729560852, -0.32330000400543213, 2.0845999717712402, 1.9284000396728516, 1.8550000190734863, 1.715000033378601, 1.6426000595092773, 1.6419999599456787, 1.6412999629974365, 1.5776000022888184, 1.5733000040054321, 1.5729999542236328, 1.5708999633789062, 1.5561000108718872, 1.551800012588501, 1.547700047492981, 1.5473999977111816, 1.5135999917984009, 1.5025999546051025, 1.4839999675750732, 1.4815000295639038, 1.4566999673843384, 1.455899953842163, 1.452299952507019, 1.4394999742507935, 1.4215999841690063, 1.4198999404907227, 1.4074000120162964, 1.4023000001907349, 1.3995000123977661, 1.3947999477386475, 1.3944000005722046, 1.3701000213623047, 1.2307000160217285, 1.3593000173568726, 1.3116999864578247, 0.6929000020027161, 1.0841000080108643, 0.7578999996185303, 0.7864000201225281, 0.5504000186920166, 1.0809999704360962, 0.8084999918937683, 1.1380000114440918, -0.007899999618530273, 1.1145999431610107, 0.9401000142097473, 0.6638000011444092, 1.0313999652862549, 0.4641000032424927, 0.41609999537467957, 0.2777999937534332, 0.5551999807357788, 0.3734000027179718, 0.12919999659061432, 0.524399995803833, 0.5338000059127808, 0.2092999964952469, 0.5651999711990356, 0.5997999906539917, 0.24629999697208405, 0.31790000200271606, 0.40220001339912415, 0.49639999866485596, -0.5246999859809875, 0.4797999858856201, 0.6534000039100647, 0.2003999948501587, 0.26989999413490295, -0.1606999933719635, 0.1518000066280365, -0.12759999930858612, 0.22450000047683716, -0.12240000069141388, 1.8646999597549438, 1.8589999675750732, 1.8539999723434448, 1.8487000465393066, 1.7029000520706177, 1.658400058746338, 1.6576000452041626, 1.651900053024292, 1.6510000228881836, 1.6510000228881836, 1.6509000062942505, 1.6509000062942505, 1.6509000062942505, 1.6509000062942505, 1.6509000062942505, 1.6509000062942505, 1.6481000185012817, 1.6277999877929688, 1.623900055885315, 1.6224000453948975, 1.6203999519348145, 1.6193000078201294, 1.618499994277954, 1.61489999294281, 1.6116000413894653, 1.6094000339508057, 1.6075999736785889, 1.6065000295639038, 1.6065000295639038, 1.6064000129699707, 1.5937000513076782, 1.5995999574661255, 1.6009999513626099, 1.5866999626159668, 1.5944000482559204, 1.592900037765503, 1.5321999788284302, 1.5885000228881836, 1.5576000213623047, 1.5360000133514404, 1.4143999814987183, 1.5382000207901, 1.4056999683380127, 1.399899959564209, 1.5700000524520874, 1.1562999486923218, 1.177899956703186, 1.2444000244140625, 0.73580002784729, 1.1059999465942383, 0.18039999902248383, 0.9706000089645386, 0.5565999746322632, 0.7842000126838684, 0.6549999713897705, 1.280500054359436, 0.8108999729156494, -0.08889999985694885, 0.7325000166893005, 1.1467000246047974, 0.6399000287055969, 0.6854000091552734, 0.6741999983787537, 0.5421000123023987, 0.2921000123023987, 0.43779999017715454, 0.036400001496076584, 0.14560000598430634, 0.2727000117301941, 0.2775999903678894, 0.23569999635219574, 0.2522999942302704, 0.2572999894618988, -0.03310000151395798, 0.6571000218391418, 0.07410000264644623, -0.26019999384880066, 0.2320999950170517, 0.2498999983072281, 0.3142000138759613, 0.16220000386238098, -0.05829999968409538, 1.9860999584197998, 1.8586000204086304, 1.8555999994277954, 1.7782000303268433, 1.774999976158142, 1.7651000022888184, 1.7613999843597412, 1.7144999504089355, 1.6676000356674194, 1.6582000255584717, 1.6411999464035034, 1.6327999830245972, 1.6298999786376953, 1.6155999898910522, 1.611899971961975, 1.6102999448776245, 1.610200047492981, 1.6007000207901, 1.5885000228881836, 1.5880999565124512, 1.5857000350952148, 1.563099980354309, 1.555899977684021, 1.555400013923645, 1.5542999505996704, 1.5468000173568726, 1.5448999404907227, 1.5404000282287598, 1.5403000116348267, 1.535599946975708, 1.489799976348877, 1.4831000566482544, 1.4052000045776367, 1.4026000499725342, 1.3344999551773071, 1.3496999740600586, 1.4077999591827393, 1.1901999711990356, 0.7109000086784363, 0.7893999814987183, 0.7940999865531921, 1.1719000339508057, 0.9674000144004822, 0.757099986076355, 0.11460000276565552, 0.9035999774932861, 1.0484000444412231, 1.0688999891281128, -0.2858999967575073, 0.6305999755859375, 0.9462000131607056, 0.41179999709129333, 0.22200000286102295, 0.44670000672340393, 0.7293000221252441, 0.7559999823570251, 0.48980000615119934, 0.2110999971628189, 0.22370000183582306, 0.48420000076293945, 0.5559999942779541, 0.6991000175476074, 0.447299987077713, 0.24130000174045563, 0.19830000400543213, -0.21359999477863312, -0.17820000648498535, 0.3046000003814697, -0.11599999666213989, 0.05849999934434891, 0.49540001153945923, 0.38929998874664307, 0.388700008392334, -0.4117000102996826, -0.002300000051036477, -0.43689998984336853, -0.18979999423027039, 2.48580002784729, 2.271199941635132, 2.267699956893921, 2.244800090789795, 2.2397000789642334, 2.2249999046325684, 2.2009999752044678, 2.1888999938964844, 2.1493000984191895, 2.126499891281128, 2.0797998905181885, 2.064500093460083, 2.0350000858306885, 2.0106000900268555, 2.006500005722046, 1.9830000400543213, 1.9789999723434448, 1.975100040435791, 1.9714000225067139, 1.9565000534057617, 1.955299973487854, 1.954200029373169, 1.9523999691009521, 1.951799988746643, 1.9347000122070312, 1.9264999628067017, 1.9218000173568726, 1.9149999618530273, 1.9146000146865845, 1.9075000286102295, 1.8899999856948853, 1.8666000366210938, 1.7888000011444092, 1.8459999561309814, 1.8596999645233154, 1.7374000549316406, 1.4706000089645386, 1.4908000230789185, 1.6548000574111938, 1.6045000553131104, 1.5982999801635742, 1.3207000494003296, 1.5085999965667725, 1.329699993133545, 0.5163999795913696, 0.729200005531311, -0.262800008058548, 0.5480999946594238, -0.23819999396800995, 1.0082999467849731, 0.3610999882221222, 0.2305999994277954, 0.0568000003695488, 0.5268999934196472, 0.6488999724388123, 0.9143000245094299, 0.8970000147819519, -0.005200000014156103, 0.273499995470047, 0.48919999599456787, 0.16920000314712524, 0.8705999851226807, 0.635699987411499, 0.2847999930381775, -0.00139999995008111, -0.22380000352859497, -0.04149999842047691, 0.22390000522136688, -0.1501999944448471, 0.26600000262260437, -0.21860000491142273, 2.5931999683380127, 2.5237998962402344, 2.400599956512451, 2.400599956512451, 2.400599956512451, 2.151400089263916, 2.1180999279022217, 2.1180999279022217, 2.1180999279022217, 2.1180999279022217, 2.1180999279022217, 2.118000030517578, 2.118000030517578, 2.118000030517578, 2.118000030517578, 2.118000030517578, 2.032599925994873, 2.0234999656677246, 1.9946000576019287, 1.8898999691009521, 1.8720999956130981, 1.8621000051498413, 1.832800030708313, 1.8235000371932983, 1.82260000705719, 1.812399983406067, 1.780400037765503, 1.7750999927520752, 1.7661999464035034, 1.7630000114440918, 1.6929999589920044, 1.4110000133514404, 1.5601999759674072, 1.5611000061035156, 1.104599952697754, 1.1991000175476074, 1.1227999925613403, 0.08420000225305557, -0.061500001698732376, 1.075700044631958, 0.4693000018596649, 1.037600040435791, 1.4865000247955322, 0.5942999720573425, 0.9596999883651733, 1.1110999584197998, 0.6607999801635742, 0.7879999876022339, 0.2623000144958496, 0.3407999873161316, 0.2754000127315521, 0.90420001745224, 0.1678999960422516, 0.5490000247955322, 0.2565000057220459, 0.2865000069141388, 0.04859999939799309, 0.24400000274181366, -0.24079999327659607, -0.053300000727176666, 0.6498000025749207, 0.31470000743865967, -0.3582000136375427, -0.11309999972581863, -0.41780000925064087, -0.08699999749660492, 0.25110000371932983, -0.42669999599456787, -0.0706000030040741, -0.031700000166893005, 2.7304999828338623, 2.6747000217437744, 2.5146000385284424, 2.5141000747680664, 2.5088000297546387, 2.5072999000549316, 2.4921998977661133, 2.4781999588012695, 2.364300012588501, 2.3619000911712646, 2.3090999126434326, 2.2836999893188477, 2.2706000804901123, 2.2678000926971436, 2.259999990463257, 2.255500078201294, 2.238300085067749, 2.2202999591827393, 2.19950008392334, 2.19350004196167, 2.167799949645996, 2.1519999504089355, 2.1498000621795654, 2.1215999126434326, 2.109999895095825, 2.097100019454956, 2.0785000324249268, 2.074399948120117, 2.0450000762939453, 2.0255000591278076, 1.9896999597549438, 1.7640000581741333, 1.8686000108718872, 1.8158999681472778, 1.5618000030517578, 1.2929999828338623, 0.6759999990463257, 0.789900004863739, 0.7793999910354614, 1.1934000253677368, 1.878100037574768, 0.46320000290870667, 1.1026999950408936, 1.1699999570846558, 0.5379999876022339, -0.40700000524520874, 1.0369000434875488, -0.27129998803138733, 0.7861999869346619, 0.4578000009059906, 0.4415999948978424, 0.35190001130104065, 1.104699969291687, 0.11100000143051147, 0.22990000247955322, 0.029100000858306885, 0.6840000152587891, -0.21699999272823334, 0.26420000195503235, 0.13590000569820404, 0.18209999799728394, 0.024900000542402267, 0.14980000257492065, -0.36649999022483826, 0.27959999442100525, 0.16300000250339508], \"logprob\": [30.0, 29.0, 28.0, 27.0, 26.0, 25.0, 24.0, 23.0, 22.0, 21.0, 20.0, 19.0, 18.0, 17.0, 16.0, 15.0, 14.0, 13.0, 12.0, 11.0, 10.0, 9.0, 8.0, 7.0, 6.0, 5.0, 4.0, 3.0, 2.0, 1.0, -7.121399879455566, -7.866099834442139, -7.8871002197265625, -7.6504998207092285, -7.43209981918335, -7.722300052642822, -7.740600109100342, -8.039199829101562, -8.4621000289917, -8.465399742126465, -8.465800285339355, -8.470800399780273, -8.473799705505371, -8.03950023651123, -8.478400230407715, -8.481200218200684, -8.484600067138672, -8.485899925231934, -8.487899780273438, -8.074700355529785, -7.791600227355957, -7.850399971008301, -8.153900146484375, -7.907199859619141, -8.557000160217285, -8.149999618530273, -7.708799839019775, -8.145700454711914, -7.904900074005127, -6.992800235748291, -7.041900157928467, -7.298999786376953, -6.02810001373291, -7.423999786376953, -6.441500186920166, -6.020199775695801, -7.421800136566162, -6.802700042724609, -6.583099842071533, -6.486700057983398, -6.026400089263916, -6.8765997886657715, -3.831399917602539, -7.199100017547607, -5.845399856567383, -5.59660005569458, -6.176300048828125, -5.841300010681152, -5.686100006103516, -4.520599842071533, -6.198400020599365, -6.021200180053711, -5.50600004196167, -5.719799995422363, -6.199399948120117, -5.825699806213379, -5.797399997711182, -5.865200042724609, -6.357900142669678, -5.611000061035156, -6.147799968719482, -5.539299964904785, -5.868800163269043, -6.070899963378906, -6.074399948120117, -5.779300212860107, -6.210400104522705, -6.007900238037109, -6.13700008392334, -5.941100120544434, -6.054699897766113, -6.101900100708008, -6.014400005340576, -6.077499866485596, -5.9629998207092285, -5.986000061035156, -6.052999973297119, -6.312099933624268, -7.361000061035156, -7.317800045013428, -7.661799907684326, -7.951499938964844, -6.9654998779296875, -6.654300212860107, -6.769000053405762, -7.740699768066406, -8.076800346374512, -8.024200439453125, -7.998000144958496, -8.031499862670898, -6.7204999923706055, -7.310200214385986, -8.45829963684082, -8.45829963684082, -8.45829963684082, -7.553299903869629, -8.093999862670898, -8.517999649047852, -8.2052001953125, -7.818900108337402, -8.54170036315918, -8.544699668884277, -8.54740047454834, -8.54889965057373, -8.558799743652344, -8.564499855041504, -8.565099716186523, -7.351200103759766, -8.126799583435059, -7.4822001457214355, -7.747499942779541, -7.24370002746582, -7.037899971008301, -7.535200119018555, -5.668399810791016, -6.538700103759766, -6.32420015335083, -3.7637999057769775, -7.2617998123168945, -7.3256001472473145, -6.038899898529053, -6.401800155639648, -6.3196001052856445, -5.221099853515625, -5.337699890136719, -6.90880012512207, -5.349100112915039, -7.177800178527832, -4.535799980163574, -6.216300010681152, -5.738100051879883, -5.699900150299072, -6.628600120544434, -5.852700233459473, -5.785799980163574, -5.467400074005127, -6.290900230407715, -6.1072998046875, -5.424499988555908, -5.805799961090088, -5.763500213623047, -5.989999771118164, -6.019100189208984, -5.886199951171875, -5.69950008392334, -5.91510009765625, -6.096499919891357, -6.023099899291992, -6.109799861907959, -6.019700050354004, -6.112500190734863, -6.133200168609619, -6.051300048828125, -6.055200099945068, -6.08050012588501, -7.433700084686279, -7.4608001708984375, -7.242300033569336, -7.24560022354126, -7.045599937438965, -6.865300178527832, -6.579599857330322, -7.1128997802734375, -6.918700218200684, -8.063599586486816, -8.064800262451172, -8.074899673461914, -8.079099655151367, -8.079999923706055, -8.080900192260742, -8.083499908447266, -8.084799766540527, -7.415299892425537, -8.093400001525879, -8.096500396728516, -8.10200023651123, -8.10569953918457, -7.348599910736084, -6.217299938201904, -6.978099822998047, -8.123800277709961, -7.397600173950195, -7.700300216674805, -7.409999847412109, -7.690000057220459, -6.917500019073486, -7.457499980926514, -6.795199871063232, -7.091100215911865, -6.917699813842773, -7.238399982452393, -6.976900100708008, -6.467199802398682, -7.362500190734863, -7.7428998947143555, -7.742300033569336, -4.0295000076293945, -6.736299991607666, -5.4197998046875, -4.864999771118164, -6.464900016784668, -7.189199924468994, -6.017099857330322, -6.458000183105469, -6.285900115966797, -5.575500011444092, -5.580399990081787, -5.400599956512451, -5.998199939727783, -6.33489990234375, -5.692699909210205, -5.692599773406982, -4.762899875640869, -6.257299900054932, -6.148499965667725, -5.6545000076293945, -5.9903998374938965, -6.192699909210205, -5.887199878692627, -6.216899871826172, -5.878699779510498, -6.098400115966797, -5.924300193786621, -6.081299781799316, -5.811399936676025, -6.06689977645874, -5.952300071716309, -5.925099849700928, -6.15880012512207, -6.210100173950195, -6.025899887084961, -6.117000102996826, -6.123899936676025, -6.178299903869629, -7.533199787139893, -8.07040023803711, -7.698699951171875, -6.830599784851074, -7.725100040435791, -8.101099967956543, -8.102399826049805, -8.107600212097168, -7.736299991607666, -7.742300033569336, -7.752600193023682, -7.750800132751465, -8.195599555969238, -8.210000038146973, -6.87060022354126, -7.833000183105469, -8.253000259399414, -8.288999557495117, -7.886499881744385, -8.300700187683105, -8.30840015411377, -8.304900169372559, -8.308099746704102, -8.319600105285645, -7.907400131225586, -8.30519962310791, -7.935400009155273, -8.3100004196167, -7.906199932098389, -7.95389986038208, -7.213900089263916, -7.886300086975098, -7.485000133514404, -7.1041998863220215, -7.938499927520752, -6.673099994659424, -7.321499824523926, -7.350800037384033, -5.638000011444092, -7.035699844360352, -7.351099967956543, -6.371399879455566, -6.906899929046631, -6.617000102996826, -5.237199783325195, -5.787600040435791, -6.0543999671936035, -5.556099891662598, -5.143799781799316, -5.809599876403809, -5.469399929046631, -5.976799964904785, -6.463600158691406, -6.257599830627441, -6.374899864196777, -6.499599933624268, -5.4633002281188965, -6.063700199127197, -5.519199848175049, -5.563499927520752, -6.149700164794922, -4.580999851226807, -5.4182000160217285, -4.427800178527832, -5.768700122833252, -6.023600101470947, -5.925600051879883, -5.868899822235107, -5.981200218200684, -5.729000091552734, -5.7291998863220215, -5.566800117492676, -6.0518999099731445, -5.803500175476074, -6.032199859619141, -6.017300128936768, -6.059299945831299, -6.072700023651123, -6.827600002288818, -7.496600151062012, -6.838099956512451, -7.427700042724609, -8.192299842834473, -8.192999839782715, -8.193699836730957, -7.85290002822876, -8.260000228881836, -8.260299682617188, -7.807700157165527, -8.00469970703125, -7.878399848937988, -7.884200096130371, -8.28600025177002, -8.31980037689209, -7.398799896240234, -7.932700157165527, -6.7667999267578125, -7.467199802398682, -7.948999881744385, -8.352100372314453, -8.46500015258789, -7.351799964904785, -7.507900238037109, -7.128699779510498, -8.028300285339355, -7.849999904632568, -8.058300018310547, -7.7032999992370605, -6.978099822998047, -6.7555999755859375, -7.78000020980835, -7.557199954986572, -4.904099941253662, -6.617099761962891, -5.446499824523926, -5.65500020980835, -5.08519983291626, -6.791200160980225, -6.002099990844727, -6.999599933624268, -4.139400005340576, -7.004799842834473, -6.612400054931641, -6.042399883270264, -6.847599983215332, -5.64900016784668, -5.640500068664551, -5.433599948883057, -5.961699962615967, -5.673500061035156, -5.3420000076293945, -6.002900123596191, -6.0279998779296875, -5.54010009765625, -6.1128997802734375, -6.179999828338623, -5.7281999588012695, -5.83050012588501, -5.945099830627441, -6.123899936676025, -5.0208001136779785, -6.119999885559082, -6.309899806976318, -5.927199840545654, -6.067299842834473, -5.782800197601318, -6.023799896240234, -5.875100135803223, -6.0945000648498535, -6.131800174713135, -7.609899997711182, -7.322400093078613, -6.763299942016602, -7.625100135803223, -7.765200138092041, -7.790900230407715, -7.791600227355957, -7.502200126647949, -8.220399856567383, -8.220499992370605, -8.220499992370605, -8.220499992370605, -8.220499992370605, -8.220499992370605, -8.220499992370605, -8.220499992370605, -7.8024001121521, -8.24269962310791, -8.246399879455566, -7.59089994430542, -8.249799728393555, -8.250900268554688, -8.25160026550293, -8.255800247192383, -8.258999824523926, -8.260299682617188, -8.262999534606934, -8.263999938964844, -8.263999938964844, -7.149799823760986, -7.149400234222412, -7.60860013961792, -7.864099979400635, -7.606500148773193, -7.858699798583984, -7.872000217437744, -7.214200019836426, -7.874899864196777, -7.597899913787842, -7.412300109863281, -6.672399997711182, -7.606100082397461, -6.952899932861328, -7.140100002288818, -7.893700122833252, -6.464700222015381, -6.640200138092041, -6.888899803161621, -5.355800151824951, -6.519000053405762, -3.951200008392334, -6.192299842834473, -5.190800189971924, -5.803400039672852, -5.593900203704834, -7.055099964141846, -6.156599998474121, -4.58489990234375, -6.087200164794922, -6.85260009765625, -6.0381999015808105, -6.1504998207092285, -6.190199851989746, -6.0355000495910645, -5.690700054168701, -5.891600131988525, -5.434899806976318, -5.603799819946289, -5.819300174713135, -5.849999904632568, -5.811299800872803, -5.880499839782715, -5.89109992980957, -5.655200004577637, -6.2881999015808105, -5.982399940490723, -5.8572001457214355, -6.139699935913086, -6.182000160217285, -6.235599994659424, -6.19980001449585, -6.1946001052856445, -6.791399955749512, -7.323800086975098, -7.324399948120117, -6.605800151824951, -7.677999973297119, -6.848100185394287, -7.69789981842041, -7.747000217437744, -7.531599998474121, -7.538700103759766, -7.808599948883057, -7.821300029754639, -7.5665998458862305, -6.773600101470947, -7.867599964141846, -7.542500019073486, -7.556700229644775, -6.770299911499023, -7.890699863433838, -7.154099941253662, -7.893799781799316, -8.278499603271484, -8.304499626159668, -7.897600173950195, -8.306599617004395, -8.311300277709961, -8.315999984741211, -8.320199966430664, -8.320899963378906, -8.325300216674805, -6.853799819946289, -7.631800174713135, -6.8368000984191895, -7.202199935913086, -7.009799957275391, -7.192699909210205, -7.519999980926514, -6.630899906158447, -5.233799934387207, -5.582300186157227, -5.75570011138916, -6.7778000831604, -6.313600063323975, -5.83050012588501, -4.381499767303467, -6.228600025177002, -6.550600051879883, -6.616799831390381, -4.417500019073486, -5.972499847412109, -6.491000175476074, -5.680300235748291, -5.400199890136719, -5.757599830627441, -6.171999931335449, -6.21150016784668, -5.872200012207031, -5.538300037384033, -5.769000053405762, -6.032700061798096, -6.104499816894531, -6.264400005340576, -6.041999816894531, -5.886199951171875, -5.950099945068359, -5.684899806976318, -5.775199890136719, -6.0767998695373535, -5.863399982452393, -5.988500118255615, -6.207600116729736, -6.172500133514404, -6.178199768066406, -6.047299861907959, -6.138599872589111, -6.1483001708984375, -6.172699928283691, -6.2677001953125, -6.951399803161621, -6.982500076293945, -6.61299991607666, -7.321100234985352, -7.342199802398682, -7.367700099945068, -7.382500171661377, -6.279099941253662, -7.065199851989746, -7.439300060272217, -7.433499813079834, -6.9654998779296875, -7.508600234985352, -5.8383002281188965, -7.9506001472473145, -7.508600234985352, -7.95989990234375, -7.929299831390381, -7.941699981689453, -7.979700088500977, -7.9822998046875, -7.98390007019043, -7.982100009918213, -7.05019998550415, -8.010100364685059, -7.969799995422363, -7.334700107574463, -7.3520002365112305, -6.731800079345703, -6.511499881744385, -6.647299766540527, -6.428899765014648, -6.9893999099731445, -7.354700088500977, -6.688600063323975, -5.442200183868408, -5.968800067901611, -6.706500053405762, -6.666600227355957, -6.6528000831604, -6.188700199127197, -6.578400135040283, -6.357500076293945, -5.080599784851074, -5.519700050354004, -4.3942999839782715, -5.544000148773193, -4.734300136566162, -6.099899768829346, -5.621699810028076, -5.518799781799316, -5.414400100708008, -5.839700222015381, -5.978899955749512, -6.182600021362305, -6.1722002029418945, -5.627299785614014, -5.817999839782715, -6.043000221252441, -5.88730001449585, -6.253699779510498, -6.192599773406982, -6.0524001121521, -5.994200229644775, -5.971199989318848, -6.050899982452393, -6.157599925994873, -6.12470006942749, -6.240499973297119, -6.246600151062012, -6.521500110626221, -6.80109977722168, -7.190499782562256, -7.190499782562256, -7.1905999183654785, -7.128499984741211, -7.837200164794922, -7.837200164794922, -7.837200164794922, -7.837200164794922, -7.837200164794922, -7.837200164794922, -7.837200164794922, -7.837200164794922, -7.837200164794922, -7.837200164794922, -7.235799789428711, -6.8354997634887695, -7.504499912261963, -7.109499931335449, -7.600500106811523, -7.661600112915039, -7.853099822998047, -8.105299949645996, -7.398099899291992, -7.753900051116943, -7.225100040435791, -6.907400131225586, -8.122300148010254, -7.487800121307373, -7.053100109100342, -6.000800132751465, -6.80109977722168, -6.869699954986572, -5.9029998779296875, -6.353300094604492, -6.232399940490723, -4.411900043487549, -4.1930999755859375, -6.155300140380859, -5.27810001373291, -6.19950008392334, -6.919400215148926, -5.654600143432617, -6.245100021362305, -6.451399803161621, -5.901000022888184, -6.247000217437744, -5.747099876403809, -5.834799766540527, -5.8165998458862305, -6.403299808502197, -5.814899921417236, -6.129499912261963, -5.956399917602539, -6.03249979019165, -5.925899982452393, -6.085400104522705, -5.837800025939941, -5.998000144958496, -6.334099769592285, -6.19189977645874, -5.993800163269043, -6.082499980926514, -6.039999961853027, -6.143499851226807, -6.246200084686279, -6.17609977722168, -6.218999862670898, -6.236000061035156, -5.912899971008301, -6.505199909210205, -7.5721001625061035, -7.572400093078613, -7.146900177001953, -7.5777997970581055, -7.155300140380859, -7.600900173187256, -7.703199863433838, -7.704999923706055, -7.714099884033203, -7.73330020904541, -7.743199825286865, -7.787700176239014, -7.749599933624268, -7.798699855804443, -7.76609992980957, -7.780300140380859, -7.795300006866455, -7.798799991607666, -7.818699836730957, -7.144700050354004, -7.536099910736084, -7.887899875640869, -7.457699775695801, -6.902200222015381, -6.093999862670898, -6.7967000007629395, -6.987100124359131, -7.968900203704834, -6.740699768066406, -5.936999797821045, -6.690299987792969, -6.904200077056885, -6.353700160980225, -5.809500217437744, -4.959700107574463, -5.184500217437744, -5.189899921417236, -5.998799800872803, -7.14870023727417, -5.158999919891357, -6.15500020980835, -6.315499782562256, -5.5894999504089355, -4.53849983215332, -6.184100151062012, -4.767399787902832, -5.952700138092041, -5.675000190734863, -5.671500205993652, -5.592700004577637, -6.3308000564575195, -5.63640022277832, -5.7982001304626465, -5.682300090789795, -6.1545000076293945, -5.688300132751465, -5.948699951171875, -5.920599937438965, -6.0065999031066895, -6.066699981689453, -6.1691999435424805, -6.115900039672852, -6.2270002365112305, -6.218400001525879]}, \"token.table\": {\"Topic\": [1, 2, 3, 4, 5, 6, 7, 8, 9, 10, 1, 2, 3, 4, 5, 6, 7, 8, 9, 1, 2, 3, 4, 5, 6, 7, 8, 9, 10, 1, 2, 3, 4, 5, 6, 7, 8, 9, 10, 6, 4, 3, 1, 2, 3, 4, 5, 6, 7, 8, 9, 10, 1, 4, 2, 8, 1, 2, 4, 5, 6, 7, 8, 9, 10, 1, 2, 3, 5, 6, 7, 8, 9, 1, 2, 3, 4, 5, 6, 7, 8, 9, 3, 1, 2, 3, 4, 5, 6, 7, 8, 10, 1, 2, 3, 4, 5, 6, 7, 8, 9, 10, 9, 2, 1, 2, 3, 4, 5, 6, 7, 8, 9, 10, 1, 2, 8, 1, 2, 3, 4, 5, 6, 7, 2, 4, 4, 7, 6, 7, 2, 6, 1, 2, 3, 4, 5, 6, 7, 8, 9, 10, 1, 2, 3, 4, 5, 6, 7, 8, 9, 10, 3, 1, 2, 3, 4, 5, 6, 7, 8, 9, 1, 2, 3, 4, 5, 6, 7, 8, 9, 10, 1, 2, 4, 5, 6, 7, 10, 3, 4, 6, 1, 2, 3, 4, 7, 10, 3, 8, 4, 5, 1, 2, 4, 5, 7, 8, 10, 1, 2, 3, 4, 5, 6, 7, 8, 9, 10, 6, 1, 1, 2, 3, 4, 5, 6, 7, 8, 9, 10, 1, 2, 3, 4, 5, 6, 7, 8, 9, 10, 1, 2, 3, 4, 5, 6, 7, 8, 9, 10, 8, 2, 4, 5, 1, 2, 3, 6, 7, 9, 2, 5, 4, 2, 4, 6, 8, 1, 2, 3, 4, 5, 6, 7, 8, 9, 10, 1, 1, 3, 7, 1, 3, 1, 2, 3, 4, 5, 6, 7, 8, 9, 10, 8, 3, 4, 6, 1, 2, 5, 1, 2, 3, 4, 5, 6, 7, 8, 9, 10, 2, 3, 9, 10, 7, 1, 2, 6, 1, 2, 3, 5, 6, 7, 5, 4, 6, 7, 1, 2, 4, 5, 6, 7, 8, 8, 2, 5, 7, 7, 1, 2, 3, 4, 5, 6, 7, 8, 9, 10, 1, 2, 3, 5, 2, 6, 7, 8, 1, 2, 3, 4, 5, 6, 7, 8, 9, 10, 2, 1, 2, 3, 4, 5, 6, 7, 8, 9, 10, 1, 2, 4, 5, 9, 5, 1, 2, 3, 4, 5, 6, 7, 8, 4, 2, 9, 1, 2, 3, 4, 5, 6, 7, 8, 1, 2, 4, 1, 2, 3, 4, 5, 6, 7, 8, 9, 10, 1, 2, 3, 4, 5, 6, 7, 8, 9, 10, 4, 5, 2, 5, 7, 9, 1, 2, 3, 4, 5, 6, 7, 9, 10, 1, 2, 3, 4, 5, 6, 7, 8, 9, 10, 9, 1, 2, 3, 4, 5, 6, 7, 8, 9, 10, 5, 10, 1, 2, 3, 4, 5, 6, 7, 8, 9, 4, 1, 2, 3, 4, 5, 6, 7, 8, 9, 10, 4, 7, 1, 2, 5, 7, 9, 7, 1, 2, 3, 4, 5, 6, 7, 8, 9, 10, 2, 7, 4, 1, 2, 3, 4, 5, 6, 7, 8, 9, 1, 2, 3, 4, 5, 6, 7, 8, 9, 10, 3, 1, 10, 1, 6, 3, 4, 1, 7, 8, 4, 7, 1, 2, 3, 4, 5, 6, 7, 8, 9, 10, 9, 3, 4, 1, 2, 6, 7, 8, 9, 10, 1, 3, 5, 10, 6, 2, 9, 7, 8, 9, 8, 1, 2, 3, 4, 5, 6, 7, 8, 9, 10, 6, 9, 7, 2, 1, 2, 3, 4, 5, 6, 7, 8, 9, 10, 1, 2, 3, 4, 5, 6, 7, 9, 10, 8, 9, 1, 2, 3, 4, 5, 6, 7, 10, 7, 3, 4, 1, 8, 1, 2, 3, 4, 5, 6, 7, 8, 9, 2, 3, 1, 2, 3, 4, 5, 6, 7, 8, 9, 4, 2, 4, 5, 6, 7, 8, 9, 7, 8, 2, 5, 7, 8, 4, 5, 6, 7, 8, 9, 4, 3, 5, 7, 6, 2, 6, 1, 2, 3, 4, 5, 6, 7, 8, 9, 10, 1, 1, 8, 1, 5, 9, 1, 1, 2, 3, 4, 5, 6, 7, 8, 9, 10, 1, 2, 4, 5, 8, 7, 6, 8, 10, 4, 1, 2, 3, 4, 5, 6, 7, 9, 1, 2, 1, 2, 3, 4, 5, 6, 7, 8, 9, 10, 1, 2, 3, 4, 5, 6, 7, 8, 3, 6, 1, 2, 3, 5, 6, 7, 8, 2, 1, 4, 5, 9, 10, 4, 9, 10, 5, 8, 9, 7, 1, 9, 10, 1, 2, 1, 2, 3, 4, 5, 6, 7, 8, 9, 10, 1, 2, 3, 4, 5, 6, 7, 8, 9, 10, 1, 2, 3, 4, 5, 6, 7, 8, 9, 10, 1, 2, 3, 4, 5, 6, 7, 8, 9, 1, 2, 3, 4, 5, 6, 7, 8, 9, 10, 4, 7, 8, 1, 2, 3, 4, 5, 6, 7, 8, 9, 10, 9, 2, 4, 8, 6, 3, 4, 1, 2, 8, 9, 7, 8, 1, 3, 4, 6, 7, 9, 6, 5, 8, 9, 1, 2, 7, 1, 2, 3, 4, 5, 6, 7, 8, 9, 10, 8, 1, 2, 3, 4, 5, 6, 7, 8, 9, 10, 1, 2, 4, 1, 2, 3, 4, 5, 6, 7, 8, 9, 10, 1, 2, 3, 4, 5, 6, 7, 8, 9, 10, 8, 1, 2, 3, 4, 5, 6, 7, 8, 9, 10, 1, 3, 1, 2, 3, 4, 5, 6, 7, 8, 9, 10, 3, 4, 6, 1, 3, 6, 7, 5, 1, 2, 5, 7, 9, 5, 1, 2, 3, 4, 5, 6, 7, 8, 9, 7, 1, 2, 3, 4, 5, 6, 7, 8, 9, 10, 2, 3, 4, 1, 2, 4, 5, 7, 8, 9, 1, 2, 4, 6, 7, 8, 9, 2, 3, 8, 9, 10, 3, 4, 8, 9, 1, 2, 3, 4, 5, 6, 7, 8, 9, 10, 1, 2, 3, 4, 5, 3, 5, 7, 8, 9, 5, 1, 2, 3, 5, 6, 7, 1, 2, 3, 4, 5, 6, 7, 8, 9, 10, 1, 2, 3, 4, 5, 6, 7, 8, 9, 10, 1, 2, 3, 4, 5, 6, 8, 9, 10, 1, 2, 3, 4, 5, 6, 7, 8, 9, 8, 6, 1, 2, 4, 6, 9, 9, 1, 2, 3, 4, 6, 7, 1, 2, 3, 4, 5, 6, 7, 8, 9, 10, 1, 2, 3, 4, 5, 6, 7, 8, 9, 10, 3, 6, 1, 2, 3, 7, 9, 6, 6, 1, 5, 1, 2, 3, 4, 5, 6, 7, 8, 10, 2, 1, 2, 3, 4, 5, 6, 7, 8, 9, 10, 6, 2, 5, 3, 1, 2, 3, 4, 5, 6, 7, 8, 9, 10, 6, 3, 4, 6, 8, 2, 6, 4, 4, 1, 2, 3, 4, 5, 6, 7, 8, 9, 10, 1, 2, 3, 4, 5, 6, 7, 8, 9, 10, 1, 2, 3, 4, 5, 6, 7, 8, 9, 10, 5, 1, 2, 3, 5, 6, 7, 8, 9, 1, 2, 3, 4, 5, 6, 7, 8, 9, 6, 1, 4, 10, 2, 3, 7, 1, 3, 6, 7, 4, 6, 2, 3, 4, 5, 6, 7, 8, 8, 2, 5, 9, 7, 2, 9, 10, 1, 2, 3, 4, 5, 6, 7, 8, 9, 10, 1, 2, 3, 5, 6, 7, 9, 10, 1, 1, 2, 3, 4, 5, 6, 7, 9, 1, 6, 9, 3, 7, 2, 3, 1, 2, 3, 4, 5, 6, 7, 8, 9, 10, 4, 3, 1, 2, 3, 4, 5, 6, 7, 9, 1, 3, 9, 2, 6, 1, 2, 3, 4, 5, 6, 7, 8, 9, 10, 1, 2, 3, 4, 5, 6, 7, 8, 9, 10, 8, 4, 2, 8, 1, 6, 1, 2, 3, 4, 5, 6, 7, 8, 9, 10, 1, 2, 3, 4, 5, 6, 7, 8, 9, 10, 4, 9, 6, 4, 5, 6, 5, 7, 5, 4, 1, 6, 2, 1, 2, 3, 4, 5, 6, 7, 8, 9, 10, 1, 5, 1, 2, 3, 4, 5, 6, 7, 8, 9, 10, 1, 2, 3, 5, 6, 7, 8, 9, 5, 1, 2, 3, 4, 5, 6, 7, 8, 9, 10, 2, 6, 8, 9, 7, 7, 1, 1, 2, 3, 4, 5, 6, 7, 8, 9, 1, 2, 3, 4, 5, 6, 7, 8, 9, 10, 1, 7, 9, 5, 9, 3, 4, 6, 4, 9, 1, 4, 9, 2, 7, 2, 5, 1, 2, 3, 4, 5, 6, 8, 9, 10, 1, 2, 3, 4, 5, 6, 7, 8, 9, 10, 4, 6, 4, 6, 7, 1, 2, 3, 4, 5, 6, 7, 8, 9, 2, 4, 6, 7, 9, 1, 2, 3, 5, 6, 7, 8, 9, 10, 6, 9, 1, 2, 3, 4, 5, 6, 7, 8, 9, 10, 3, 1, 2, 3, 4, 5, 6, 7, 8, 9, 10, 1, 4, 8, 7, 5, 1, 2, 3, 4, 5, 6, 7, 9, 5, 1, 2, 3, 4, 5, 6, 7, 8, 9, 10, 1, 6, 7, 8, 4, 8, 1, 2, 3, 4, 5, 6, 7, 8, 9, 10, 2, 3, 1, 2, 3, 4, 5, 6, 7, 8, 9, 10, 4, 6, 2, 8, 1, 6, 7, 2, 5, 6, 8, 9, 10, 7, 4, 1, 1, 1, 2, 3, 5, 6, 7, 8, 9, 10, 1, 2, 3, 4, 5, 6, 7, 8, 9, 10, 1, 2, 3, 4, 5, 6, 7, 8, 9, 9, 4, 1, 3, 4, 5, 6, 7, 8, 9, 10, 1, 2, 3, 4, 5, 6, 7, 8, 9, 1, 3, 9, 1, 5, 7, 8, 8, 1, 2, 3, 4, 5, 7, 8, 10, 2, 6, 2, 3, 2, 5, 2, 4, 8, 1, 2, 3, 4, 5, 6, 7, 8, 9, 10, 1, 5, 7, 9, 3, 1, 2, 3, 4, 5, 6, 7, 8, 9, 10, 2, 6, 5, 1, 2, 4, 5, 6, 7, 8, 9, 10, 1, 2, 3, 4, 5, 7, 8, 9, 3, 1, 4, 1, 2, 8, 1, 8, 9, 3, 5, 6, 4, 9, 2, 1, 2, 3, 4, 6, 7, 8, 9, 1, 2, 3, 6, 7, 1, 2, 3, 4, 5, 6, 7, 8, 9, 2, 8, 3, 4, 1, 2, 3, 4, 5, 6, 7, 8, 9, 10, 1, 1, 2, 4, 5, 10, 1, 2, 3, 4, 5, 6, 7, 8, 9, 1, 2, 3, 4, 5, 6, 7, 8, 9, 10, 1, 2, 3, 4, 5, 6, 7, 8, 9, 10, 2, 4, 9, 7, 6, 1, 5, 3, 7, 2, 5, 8, 7, 9, 6, 1, 4, 5, 8, 10, 8, 6, 3, 6, 8, 3, 7, 7, 9, 1, 2, 5, 6, 6, 2, 5, 6, 7, 9, 1, 4, 5, 6, 8, 10, 3, 5, 10, 1, 7, 2, 3, 4, 6, 7, 9, 7, 1, 2, 3, 4, 5, 6, 7, 8, 9, 10, 1, 2, 3, 4, 5, 6, 7, 8, 9, 10, 1, 2, 3, 4, 5, 6, 7, 8, 9, 10, 9, 2, 1, 5, 9, 4, 10, 1, 4, 1, 2, 3, 4, 5, 6, 7, 8, 9, 10, 1, 2, 3, 4, 6, 1, 3, 4, 5, 6, 7, 1, 5, 7, 9, 1, 2, 3, 4, 5, 7, 8, 9, 2, 7, 3, 1, 2, 3, 4, 5, 6, 7, 8, 9, 10, 2, 5, 6, 7, 1, 2, 3, 4, 5, 6, 7, 8, 9, 10, 1, 2, 3, 4, 5, 6, 7, 8, 10, 1, 2, 3, 4, 5, 6, 7, 8, 9, 1, 2, 3, 4, 6, 7, 10, 5, 10, 1, 6, 7, 8, 1, 2, 3, 4, 5, 6, 7, 8, 9, 10, 1, 2, 4, 6, 8, 1, 6, 6, 9, 1, 2, 3, 4, 5, 6, 7, 8, 9, 10, 1, 2, 3, 4, 5, 6, 7, 8, 9, 10, 1, 1, 2, 3, 4, 5, 6, 7, 8, 9, 10, 1, 2, 3, 4, 5, 6, 7, 8, 9, 10, 6, 1, 2, 3, 4, 5, 6, 7, 8, 9, 10, 1, 2, 3, 4, 5, 6, 7, 8, 9, 10, 1, 2, 3, 4, 5, 6, 7, 8, 9, 10, 6, 1, 2, 3, 4, 5, 6, 7, 8, 9, 8, 1, 5, 10, 1, 2, 3, 4, 5, 6, 7, 8, 9, 10, 6, 7, 4, 10, 1, 2, 3, 4, 5, 6, 7, 8, 9, 10, 1, 2, 3, 8, 9, 2, 5, 4, 1, 8, 1, 2, 3, 4, 5, 6, 7, 8, 9, 10, 6, 1, 2, 3, 4, 5, 6, 7, 8, 9, 10, 1, 2, 3, 4, 5, 6, 7, 8, 9, 10, 3, 8, 9, 2, 3, 7, 9, 1, 3, 4, 7, 8, 1, 1, 2, 3, 6, 7, 2, 1, 2, 3, 4, 5, 6, 7, 8, 1, 2, 5, 7, 8, 1, 2, 3, 4, 5, 6, 7, 8, 9, 10, 1, 2, 3, 4, 5, 6, 7, 8, 9, 10, 1, 7, 9, 1, 2, 3, 4, 5, 6, 7, 8, 9, 10, 1, 2, 3, 4, 5, 6, 7, 8, 9, 1, 2, 3, 5, 6, 7, 8, 9, 10, 2, 4, 8, 1, 2, 3, 4, 5, 6, 7, 8, 9, 10, 1, 2, 3, 4, 5, 6, 7, 8, 9, 10, 1, 2, 3, 4, 5, 6, 7, 8, 9, 2, 3, 4, 9, 7, 1, 2, 3, 4, 5, 6, 7, 8, 9, 10, 1, 2, 3, 4, 5, 6, 7, 8, 9, 10, 6, 1, 2, 4, 5, 7], \"Freq\": [0.18498389422893524, 0.18498389422893524, 0.16443012654781342, 0.10276883095502853, 0.10276883095502853, 0.08221506327390671, 0.08221506327390671, 0.041107531636953354, 0.041107531636953354, 0.020553765818476677, 0.060366373509168625, 0.2414654940366745, 0.27164867520332336, 0.060366373509168625, 0.060366373509168625, 0.12073274701833725, 0.030183186754584312, 0.09054955840110779, 0.09054955840110779, 0.16346316039562225, 0.13427330553531647, 0.19265301525592804, 0.10508345812559128, 0.061298683285713196, 0.0934075191617012, 0.11384041607379913, 0.04962274432182312, 0.06421767175197601, 0.0233518797904253, 0.12719526886940002, 0.28618934750556946, 0.22259172797203064, 0.031798817217350006, 0.031798817217350006, 0.09539645165205002, 0.12719526886940002, 0.031798817217350006, 0.031798817217350006, 0.031798817217350006, 0.6530205607414246, 0.5611588954925537, 0.5304396152496338, 0.11619271337985992, 0.11619271337985992, 0.12910300493240356, 0.1807442158460617, 0.06455150246620178, 0.1420133113861084, 0.09037210792303085, 0.09037210792303085, 0.06455150246620178, 0.012910300865769386, 0.6936978101730347, 0.5579371452331543, 0.62427818775177, 0.6864562034606934, 0.06669316440820694, 0.06669316440820694, 0.13338632881641388, 0.06669316440820694, 0.3334658145904541, 0.06669316440820694, 0.13338632881641388, 0.06669316440820694, 0.06669316440820694, 0.08598370850086212, 0.25795114040374756, 0.08598370850086212, 0.25795114040374756, 0.08598370850086212, 0.08598370850086212, 0.08598370850086212, 0.6856587529182434, 0.17886371910572052, 0.08943185955286026, 0.08943185955286026, 0.08943185955286026, 0.08943185955286026, 0.2086743265390396, 0.17886371910572052, 0.029810618609189987, 0.059621237218379974, 0.5308862924575806, 0.2812475562095642, 0.196873277425766, 0.056249506771564484, 0.11249901354312897, 0.1406237781047821, 0.11249901354312897, 0.028124753385782242, 0.028124753385782242, 0.028124753385782242, 0.22058957815170288, 0.1911776214838028, 0.11764777451753616, 0.11764777451753616, 0.1617656797170639, 0.07352985441684723, 0.02941194362938404, 0.01470597181469202, 0.01470597181469202, 0.04411791265010834, 0.6413941383361816, 0.6213432550430298, 0.30871543288230896, 0.12348616868257523, 0.10290514677762985, 0.1440671980381012, 0.12348616868257523, 0.06174308434128761, 0.04116205871105194, 0.04116205871105194, 0.02058102935552597, 0.02058102935552597, 0.4603723883628845, 0.23018619418144226, 0.6590722799301147, 0.08090023696422577, 0.16180047392845154, 0.08090023696422577, 0.08090023696422577, 0.16180047392845154, 0.3236009478569031, 0.08090023696422577, 0.6085718870162964, 0.37449365854263306, 0.7403100728988647, 0.4260674715042114, 0.8473078012466431, 0.8447299599647522, 0.179904505610466, 0.719618022441864, 0.17873938381671906, 0.08124516904354095, 0.27623358368873596, 0.12999227643013, 0.04874710366129875, 0.064996138215065, 0.08124516904354095, 0.01624903455376625, 0.08124516904354095, 0.0324980691075325, 0.21437115967273712, 0.1857883334159851, 0.14291410148143768, 0.08574846386909485, 0.10003987699747086, 0.08574846386909485, 0.08574846386909485, 0.042874231934547424, 0.042874231934547424, 0.014291410334408283, 0.5303532481193542, 0.16738848388195038, 0.11159232258796692, 0.11159232258796692, 0.2789807915687561, 0.05579616129398346, 0.05579616129398346, 0.11159232258796692, 0.05579616129398346, 0.05579616129398346, 0.1904686689376831, 0.09523433446884155, 0.09523433446884155, 0.13332808017730713, 0.03809373453259468, 0.13332808017730713, 0.22856241464614868, 0.05714060366153717, 0.01904686726629734, 0.01904686726629734, 0.07197702676057816, 0.21593107283115387, 0.1439540535211563, 0.2879081070423126, 0.07197702676057816, 0.07197702676057816, 0.07197702676057816, 0.5123212933540344, 0.17077375948429108, 0.17077375948429108, 0.0732409656047821, 0.0732409656047821, 0.2197229117155075, 0.3662048280239105, 0.1464819312095642, 0.0732409656047821, 0.5015780329704285, 0.33438533544540405, 0.29087987542152405, 0.29087987542152405, 0.06279927492141724, 0.3767956495285034, 0.06279927492141724, 0.12559854984283447, 0.12559854984283447, 0.12559854984283447, 0.06279927492141724, 0.1723458170890808, 0.1325737088918686, 0.18560318648815155, 0.14583107829093933, 0.09280159324407578, 0.0662868544459343, 0.05302948132157326, 0.0662868544459343, 0.07954422384500504, 0.02651474066078663, 0.6400119066238403, 0.5464939475059509, 0.11410153657197952, 0.15798674523830414, 0.14920970797538757, 0.043885208666324615, 0.20187194645404816, 0.07899337261915207, 0.08777041733264923, 0.10532449930906296, 0.043885208666324615, 0.017554081976413727, 0.15479812026023865, 0.14705821871757507, 0.2244572788476944, 0.06191924959421158, 0.11609859764575958, 0.10835868865251541, 0.0851389691233635, 0.06965915858745575, 0.015479812398552895, 0.023219719529151917, 0.18522626161575317, 0.06945984810590744, 0.11576642096042633, 0.13891969621181488, 0.11576642096042633, 0.11576642096042633, 0.13891969621181488, 0.023153282701969147, 0.04630656540393829, 0.023153282701969147, 0.6433799862861633, 0.18651966750621796, 0.3730393350124359, 0.18651966750621796, 0.11087969690561295, 0.11087969690561295, 0.2217593938112259, 0.33263909816741943, 0.11087969690561295, 0.11087969690561295, 0.4057084619998932, 0.4057084619998932, 0.5348434448242188, 0.254535973072052, 0.127267986536026, 0.127267986536026, 0.254535973072052, 0.2329658418893814, 0.3727453351020813, 0.04659316688776016, 0.04659316688776016, 0.04659316688776016, 0.04659316688776016, 0.04659316688776016, 0.13977950811386108, 0.04659316688776016, 0.04659316688776016, 0.7082894444465637, 0.1515883207321167, 0.6063532829284668, 0.1515883207321167, 0.35578653216362, 0.35578653216362, 0.19232177734375, 0.17308959364891052, 0.05769653245806694, 0.096160888671875, 0.096160888671875, 0.07692871242761612, 0.13462524116039276, 0.07692871242761612, 0.05769653245806694, 0.03846435621380806, 0.4433419108390808, 0.6767497062683105, 0.16918742656707764, 0.16918742656707764, 0.2749386727809906, 0.1374693363904953, 0.4124079942703247, 0.35044750571250916, 0.11681583523750305, 0.058407917618751526, 0.08761187642812729, 0.1460198014974594, 0.058407917618751526, 0.029203958809375763, 0.058407917618751526, 0.029203958809375763, 0.029203958809375763, 0.19937460124492645, 0.19937460124492645, 0.19937460124492645, 0.19937460124492645, 0.41494932770729065, 0.1992819458246231, 0.3985638916492462, 0.1992819458246231, 0.14185450971126556, 0.23642417788505554, 0.09456966817378998, 0.04728483408689499, 0.18913933634757996, 0.28370901942253113, 0.7248174548149109, 0.30472707748413086, 0.6094541549682617, 0.30472707748413086, 0.21294312179088593, 0.07098104059696198, 0.14196208119392395, 0.07098104059696198, 0.07098104059696198, 0.07098104059696198, 0.21294312179088593, 0.6492637991905212, 0.21031518280506134, 0.4206303656101227, 0.21031518280506134, 0.6439028978347778, 0.17305628955364227, 0.17305628955364227, 0.1297922134399414, 0.08652814477682114, 0.08652814477682114, 0.1297922134399414, 0.04326407238841057, 0.08652814477682114, 0.04326407238841057, 0.08652814477682114, 0.292677104473114, 0.146338552236557, 0.439015656709671, 0.6070516109466553, 0.4199724495410919, 0.4199724495410919, 0.263931006193161, 0.527862012386322, 0.16559037566184998, 0.12879250943660736, 0.16559037566184998, 0.07359571754932404, 0.12879250943660736, 0.09199465066194534, 0.11039358377456665, 0.09199465066194534, 0.01839892938733101, 0.01839892938733101, 0.7690855264663696, 0.19874146580696106, 0.10840443521738052, 0.07226962596178055, 0.18067406117916107, 0.12647183239459991, 0.05420221760869026, 0.07226962596178055, 0.07226962596178055, 0.07226962596178055, 0.036134812980890274, 0.12359657138586044, 0.37078970670700073, 0.12359657138586044, 0.12359657138586044, 0.12359657138586044, 0.6079346537590027, 0.0708666443824768, 0.1417332887649536, 0.0708666443824768, 0.1417332887649536, 0.0708666443824768, 0.1417332887649536, 0.2834665775299072, 0.0708666443824768, 0.5660921931266785, 0.6217426061630249, 0.68565833568573, 0.40309837460517883, 0.11517096310853958, 0.05758548155426979, 0.17275644838809967, 0.11517096310853958, 0.05758548155426979, 0.05758548155426979, 0.05758548155426979, 0.15168343484401703, 0.15168343484401703, 0.6067337393760681, 0.20731496810913086, 0.09213998913764954, 0.04606999456882477, 0.023034997284412384, 0.18427997827529907, 0.06910499185323715, 0.1612449735403061, 0.09213998913764954, 0.11517498642206192, 0.023034997284412384, 0.16498056054115295, 0.19247733056545258, 0.05499352142214775, 0.13748380541801453, 0.05499352142214775, 0.13748380541801453, 0.05499352142214775, 0.08249028027057648, 0.05499352142214775, 0.05499352142214775, 0.19408245384693146, 0.5822473764419556, 0.14063885807991028, 0.14063885807991028, 0.5625554323196411, 0.14063885807991028, 0.1471683830022812, 0.2943367660045624, 0.08830102533102036, 0.08830102533102036, 0.08830102533102036, 0.08830102533102036, 0.11773470044136047, 0.02943367511034012, 0.02943367511034012, 0.1983201503753662, 0.13221342861652374, 0.0991600751876831, 0.23137350380420685, 0.06610671430826187, 0.0991600751876831, 0.06610671430826187, 0.033053357154130936, 0.033053357154130936, 0.033053357154130936, 0.8875766396522522, 0.09104108065366745, 0.022760270163416862, 0.13656161725521088, 0.13656161725521088, 0.06828080862760544, 0.13656161725521088, 0.22760269045829773, 0.09104108065366745, 0.06828080862760544, 0.022760270163416862, 0.3385620713233948, 0.3385620713233948, 0.040424928069114685, 0.16169971227645874, 0.12127478420734406, 0.12127478420734406, 0.12127478420734406, 0.08084985613822937, 0.08084985613822937, 0.16169971227645874, 0.040424928069114685, 0.5583199262619019, 0.155946746468544, 0.1949334293603897, 0.17544008791446686, 0.09746671468019485, 0.1169600561261177, 0.09746671468019485, 0.038986686617136, 0.038986686617136, 0.038986686617136, 0.038986686617136, 0.5595446825027466, 0.6331648826599121, 0.11946670711040497, 0.4778668284416199, 0.11946670711040497, 0.11946670711040497, 0.4345178008079529, 0.6146506667137146, 0.1744646579027176, 0.2220459282398224, 0.1110229641199112, 0.0951625406742096, 0.079302117228508, 0.0634416937828064, 0.0951625406742096, 0.0634416937828064, 0.0475812703371048, 0.0317208468914032, 0.606167197227478, 0.303083598613739, 0.561648428440094, 0.19891269505023956, 0.11934761703014374, 0.07956507802009583, 0.07956507802009583, 0.11934761703014374, 0.03978253901004791, 0.07956507802009583, 0.15913015604019165, 0.03978253901004791, 0.13475991785526276, 0.20213988423347473, 0.03368997946381569, 0.06737995892763138, 0.05053497105836868, 0.20213988423347473, 0.06737995892763138, 0.13475991785526276, 0.10106994211673737, 0.016844989731907845, 0.531679093837738, 0.27238091826438904, 0.27238091826438904, 0.33302608132362366, 0.33302608132362366, 0.6799775958061218, 0.3399887979030609, 0.18390893936157227, 0.18390893936157227, 0.36781787872314453, 0.5567888617515564, 0.6237605810165405, 0.1541632115840912, 0.1321399062871933, 0.1321399062871933, 0.06606995314359665, 0.17618653178215027, 0.08809326589107513, 0.17618653178215027, 0.022023316472768784, 0.04404663294553757, 0.022023316472768784, 0.6856586933135986, 0.4979543089866638, 0.2489771544933319, 0.07196204364299774, 0.14392408728599548, 0.07196204364299774, 0.14392408728599548, 0.14392408728599548, 0.07196204364299774, 0.21588613092899323, 0.1697055697441101, 0.1697055697441101, 0.3394111394882202, 0.1697055697441101, 0.6305382251739502, 0.5275066494941711, 0.26375332474708557, 0.22375211119651794, 0.4475042223930359, 0.22375211119651794, 0.6729596853256226, 0.30670449137687683, 0.04381492733955383, 0.08762985467910767, 0.04381492733955383, 0.08762985467910767, 0.04381492733955383, 0.08762985467910767, 0.08762985467910767, 0.1314447820186615, 0.04381492733955383, 0.630539059638977, 0.4764248728752136, 0.6239352822303772, 0.42921391129493713, 0.12266398966312408, 0.21466197073459625, 0.07155399024486542, 0.08177599310874939, 0.12266398966312408, 0.12266398966312408, 0.12266398966312408, 0.08177599310874939, 0.040887996554374695, 0.020443998277187347, 0.1740373820066452, 0.1740373820066452, 0.1160249188542366, 0.1740373820066452, 0.0580124594271183, 0.0580124594271183, 0.0580124594271183, 0.0580124594271183, 0.1160249188542366, 0.3268581032752991, 0.6856582760810852, 0.277183473110199, 0.1385917365550995, 0.04619724303483963, 0.1385917365550995, 0.04619724303483963, 0.09239448606967926, 0.09239448606967926, 0.09239448606967926, 0.6239047050476074, 0.5169129371643066, 0.2584564685821533, 0.31954702734947205, 0.6390940546989441, 0.11477270722389221, 0.07651513814926147, 0.1912878453731537, 0.07651513814926147, 0.07651513814926147, 0.11477270722389221, 0.1912878453731537, 0.15303027629852295, 0.03825756907463074, 0.26774027943611145, 0.5354805588722229, 0.07394502311944962, 0.14789004623889923, 0.11091753840446472, 0.14789004623889923, 0.07394502311944962, 0.14789004623889923, 0.07394502311944962, 0.11091753840446472, 0.11091753840446472, 0.5613987445831299, 0.08115001022815704, 0.1623000204563141, 0.08115001022815704, 0.08115001022815704, 0.3246000409126282, 0.08115001022815704, 0.1623000204563141, 0.6238985061645508, 0.6711977124214172, 0.6085718870162964, 0.490826815366745, 0.490826815366745, 0.3443695902824402, 0.19394707679748535, 0.19394707679748535, 0.290920615196228, 0.09697353839874268, 0.09697353839874268, 0.09697353839874268, 0.5667067170143127, 0.16691717505455017, 0.33383435010910034, 0.33383435010910034, 0.4133639931678772, 0.4194144904613495, 0.4194144904613495, 0.22265468537807465, 0.13359281420707703, 0.04453093558549881, 0.04453093558549881, 0.08906187117099762, 0.17812374234199524, 0.04453093558549881, 0.08906187117099762, 0.04453093558549881, 0.08906187117099762, 0.5480754375457764, 0.5677329301834106, 0.2838664650917053, 0.33174219727516174, 0.4976133108139038, 0.16587109863758087, 0.6995317339897156, 0.17436076700687408, 0.15256567299365997, 0.15256567299365997, 0.13077057898044586, 0.10897547751665115, 0.08718038350343704, 0.06538528949022293, 0.08718038350343704, 0.04359019175171852, 0.02179509587585926, 0.249484583735466, 0.124742291867733, 0.124742291867733, 0.124742291867733, 0.249484583735466, 0.6236053109169006, 0.6496545076370239, 0.32482725381851196, 0.4654026925563812, 0.7390461564064026, 0.11468073725700378, 0.11468073725700378, 0.34404221177101135, 0.05734036862850189, 0.05734036862850189, 0.05734036862850189, 0.05734036862850189, 0.17202110588550568, 0.5313447713851929, 0.26567238569259644, 0.16380245983600616, 0.16380245983600616, 0.11700175702571869, 0.046800702810287476, 0.11700175702571869, 0.1872028112411499, 0.11700175702571869, 0.046800702810287476, 0.046800702810287476, 0.023400351405143738, 0.1798548549413681, 0.3147459924221039, 0.044963713735342026, 0.13489113748073578, 0.08992742747068405, 0.13489113748073578, 0.044963713735342026, 0.044963713735342026, 0.7740472555160522, 0.6300898194313049, 0.169000506401062, 0.169000506401062, 0.20280060172080994, 0.10140030086040497, 0.20280060172080994, 0.10140030086040497, 0.03380009904503822, 0.3954777419567108, 0.20145776867866516, 0.20145776867866516, 0.20145776867866516, 0.20145776867866516, 0.20145776867866516, 0.18466535210609436, 0.18466535210609436, 0.5539960265159607, 0.2290821224451065, 0.2290821224451065, 0.458164244890213, 0.6120203733444214, 0.3599265515804291, 0.5237677097320557, 0.5237677097320557, 0.549709677696228, 0.274854838848114, 0.33156922459602356, 0.15071327984333038, 0.09042797237634659, 0.12057062983512878, 0.06028531491756439, 0.09042797237634659, 0.06028531491756439, 0.030142657458782196, 0.06028531491756439, 0.030142657458782196, 0.12302902340888977, 0.0738174170255661, 0.09842322021722794, 0.17224062979221344, 0.12302902340888977, 0.09842322021722794, 0.09842322021722794, 0.12302902340888977, 0.04921161010861397, 0.024605805054306984, 0.14919742941856384, 0.20887640118598938, 0.0895184576511383, 0.07459871470928192, 0.11935794353485107, 0.13427768647670746, 0.13427768647670746, 0.014919742941856384, 0.014919742941856384, 0.05967897176742554, 0.08403433114290237, 0.16806866228580475, 0.04201716557145119, 0.12605150043964386, 0.04201716557145119, 0.2521030008792877, 0.12605150043964386, 0.08403433114290237, 0.04201716557145119, 0.12942177057266235, 0.18119047582149506, 0.07765305787324905, 0.103537417948246, 0.103537417948246, 0.12942177057266235, 0.07765305787324905, 0.051768708974123, 0.103537417948246, 0.0258843544870615, 0.1622384935617447, 0.1622384935617447, 0.4867154657840729, 0.20665687322616577, 0.19681605696678162, 0.08856722712516785, 0.15745285153388977, 0.13777124881744385, 0.059044819325208664, 0.06888562440872192, 0.03936321288347244, 0.029522409662604332, 0.029522409662604332, 0.6856584548950195, 0.1396176517009735, 0.558470606803894, 0.1396176517009735, 0.6297371983528137, 0.6105169653892517, 0.20350565016269684, 0.14075298607349396, 0.42225897312164307, 0.14075298607349396, 0.14075298607349396, 0.33858722448349, 0.33858722448349, 0.09314536303281784, 0.37258145213127136, 0.09314536303281784, 0.09314536303281784, 0.18629072606563568, 0.09314536303281784, 0.629488468170166, 0.6069931387901306, 0.6775389313697815, 0.4647293984889984, 0.1511203646659851, 0.4533610939979553, 0.1511203646659851, 0.16976165771484375, 0.1131744310259819, 0.13203683495521545, 0.0754496231675148, 0.0754496231675148, 0.1131744310259819, 0.16976165771484375, 0.0754496231675148, 0.0377248115837574, 0.0188624057918787, 0.6719145774841309, 0.21869692206382751, 0.13917076587677002, 0.17893384397029877, 0.05964461341500282, 0.09940768778324127, 0.0795261487364769, 0.09940768778324127, 0.019881537184119225, 0.05964461341500282, 0.019881537184119225, 0.19449473917484283, 0.5834842324256897, 0.19449473917484283, 0.1288866400718689, 0.16110830008983612, 0.09666498005390167, 0.048332490026950836, 0.22555162012577057, 0.06444332003593445, 0.16110830008983612, 0.016110830008983612, 0.048332490026950836, 0.016110830008983612, 0.17333585023880005, 0.1277211606502533, 0.10035233199596405, 0.1824587881565094, 0.17333585023880005, 0.0273688193410635, 0.06386058032512665, 0.036491759121418, 0.036491759121418, 0.06386058032512665, 0.4621877074241638, 0.18785803020000458, 0.14089351892471313, 0.06261934340000153, 0.1722031980752945, 0.12523868680000305, 0.0782741829752922, 0.0782741829752922, 0.06261934340000153, 0.0782741829752922, 0.01565483585000038, 0.5279330611228943, 0.26396653056144714, 0.14851726591587067, 0.14851726591587067, 0.17327015101909637, 0.29703453183174133, 0.02475287951529026, 0.04950575903058052, 0.07425863295793533, 0.04950575903058052, 0.02475287951529026, 0.02475287951529026, 0.6777816414833069, 0.16944541037082672, 0.16944541037082672, 0.15968221426010132, 0.5588877201080322, 0.07984110713005066, 0.07984110713005066, 0.6069474816322327, 0.14930273592472076, 0.14930273592472076, 0.14930273592472076, 0.14930273592472076, 0.29860547184944153, 0.6069469451904297, 0.27735593914985657, 0.061634648591279984, 0.2157212793827057, 0.1540866196155548, 0.061634648591279984, 0.061634648591279984, 0.030817324295639992, 0.09245197474956512, 0.061634648591279984, 0.4260826110839844, 0.1756400167942047, 0.14051201939582825, 0.14051201939582825, 0.03512800484895706, 0.14051201939582825, 0.10538401454687119, 0.07025600969791412, 0.03512800484895706, 0.10538401454687119, 0.07025600969791412, 0.6546332240104675, 0.10910553485155106, 0.10910553485155106, 0.11135619133710861, 0.11135619133710861, 0.11135619133710861, 0.33406856656074524, 0.11135619133710861, 0.11135619133710861, 0.11135619133710861, 0.06643002480268478, 0.19929008185863495, 0.06643002480268478, 0.3321501314640045, 0.06643002480268478, 0.19929008185863495, 0.06643002480268478, 0.8126383423805237, 0.7011080980300903, 0.5196688175201416, 0.2598344087600708, 0.2598344087600708, 0.6260819435119629, 0.2086939811706543, 0.46583595871925354, 0.47642529010772705, 0.14996516704559326, 0.14996516704559326, 0.10711798071861267, 0.12854157388210297, 0.12854157388210297, 0.10711798071861267, 0.14996516704559326, 0.04284719005227089, 0.021423595026135445, 0.021423595026135445, 0.08540048450231552, 0.08540048450231552, 0.3416019380092621, 0.08540048450231552, 0.3416019380092621, 0.633671224117279, 0.48893922567367554, 0.5698506832122803, 0.14246267080307007, 0.14246267080307007, 0.47803664207458496, 0.1369362473487854, 0.1369362473487854, 0.1369362473487854, 0.1369362473487854, 0.1369362473487854, 0.4108087420463562, 0.13417799770832062, 0.1789039969444275, 0.08945199847221375, 0.13417799770832062, 0.13417799770832062, 0.06708899885416031, 0.08945199847221375, 0.11181499809026718, 0.06708899885416031, 0.022362999618053436, 0.2397647649049759, 0.10898398607969284, 0.08718718588352203, 0.08718718588352203, 0.08718718588352203, 0.10898398607969284, 0.08718718588352203, 0.06539039313793182, 0.08718718588352203, 0.04359359294176102, 0.1939571499824524, 0.2586095333099365, 0.0969785749912262, 0.1939571499824524, 0.06465238332748413, 0.032326191663742065, 0.12930476665496826, 0.032326191663742065, 0.032326191663742065, 0.1573317050933838, 0.1573317050933838, 0.03933292627334595, 0.23599755764007568, 0.03933292627334595, 0.0786658525466919, 0.03933292627334595, 0.1573317050933838, 0.0786658525466919, 0.6729990243911743, 0.6305355429649353, 0.13574948906898499, 0.13574948906898499, 0.13574948906898499, 0.40724849700927734, 0.13574948906898499, 0.68565833568573, 0.15339139103889465, 0.15339139103889465, 0.46017417311668396, 0.07669569551944733, 0.07669569551944733, 0.07669569551944733, 0.14655213057994843, 0.12212677299976349, 0.17097748816013336, 0.2686789035797119, 0.07327606528997421, 0.07327606528997421, 0.048850711435079575, 0.048850711435079575, 0.048850711435079575, 0.024425355717539787, 0.12425890564918518, 0.12425890564918518, 0.1615365743637085, 0.18638835847377777, 0.037277672439813614, 0.04970356449484825, 0.21124014258384705, 0.024851782247424126, 0.04970356449484825, 0.04970356449484825, 0.778469443321228, 0.2594898045063019, 0.47531014680862427, 0.15843671560287476, 0.15843671560287476, 0.15843671560287476, 0.6856587529182434, 0.4192682206630707, 0.6299840807914734, 0.7161407470703125, 0.6079674363136292, 0.40965813398361206, 0.15362179279327393, 0.05120726674795151, 0.10241453349590302, 0.10241453349590302, 0.05120726674795151, 0.05120726674795151, 0.05120726674795151, 0.05120726674795151, 0.4511379897594452, 0.2849760353565216, 0.11998990923166275, 0.11998990923166275, 0.10499117523431778, 0.059994954615831375, 0.13498865067958832, 0.059994954615831375, 0.029997477307915688, 0.029997477307915688, 0.044996216893196106, 0.6299841403961182, 0.40629133582115173, 0.40629133582115173, 0.5290003418922424, 0.18203580379486084, 0.1415833979845047, 0.1415833979845047, 0.18203580379486084, 0.04045240208506584, 0.12135720252990723, 0.08090480417013168, 0.04045240208506584, 0.04045240208506584, 0.02022620104253292, 0.6297658085823059, 0.6305066347122192, 0.1261013299226761, 0.1261013299226761, 0.6709378957748413, 0.2067071944475174, 0.4134143888950348, 0.7302072048187256, 0.39054805040359497, 0.16802211105823517, 0.16802211105823517, 0.07200948148965836, 0.12001579999923706, 0.07200948148965836, 0.07200948148965836, 0.19202527403831482, 0.048006318509578705, 0.07200948148965836, 0.024003159254789352, 0.25512391328811646, 0.08504129946231842, 0.14882227778434753, 0.19134293496608734, 0.06378097832202911, 0.06378097832202911, 0.08504129946231842, 0.021260324865579605, 0.021260324865579605, 0.021260324865579605, 0.15967094898223877, 0.07983547449111938, 0.07983547449111938, 0.13305911421775818, 0.18628276884555817, 0.10644729435443878, 0.10644729435443878, 0.05322364717721939, 0.07983547449111938, 0.026611823588609695, 0.4057704210281372, 0.1299743801355362, 0.0649871900677681, 0.0649871900677681, 0.1299743801355362, 0.1299743801355362, 0.2599487602710724, 0.1299743801355362, 0.0649871900677681, 0.08812138438224792, 0.08812138438224792, 0.30842483043670654, 0.04406069219112396, 0.1321820765733719, 0.1321820765733719, 0.08812138438224792, 0.04406069219112396, 0.04406069219112396, 0.63053959608078, 0.5484169125556946, 0.5040193200111389, 0.5040193200111389, 0.5998891592025757, 0.11997783184051514, 0.11997783184051514, 0.13414695858955383, 0.5365878343582153, 0.13414695858955383, 0.13414695858955383, 0.7288528084754944, 0.3644264042377472, 0.11054997146129608, 0.11054997146129608, 0.11054997146129608, 0.22109994292259216, 0.11054997146129608, 0.2763749361038208, 0.05527498573064804, 0.42954400181770325, 0.5336474776268005, 0.3557649850845337, 0.17788249254226685, 0.4149681627750397, 0.2636200785636902, 0.2636200785636902, 0.2636200785636902, 0.1514139026403427, 0.09635430574417114, 0.09635430574417114, 0.1789437085390091, 0.1514139026403427, 0.12388410419225693, 0.11011920869350433, 0.027529802173376083, 0.027529802173376083, 0.013764901086688042, 0.12531353533267975, 0.12531353533267975, 0.12531353533267975, 0.12531353533267975, 0.12531353533267975, 0.06265676766633987, 0.18797031044960022, 0.06265676766633987, 0.5475162267684937, 0.0345584899187088, 0.1727924346923828, 0.1036754623055458, 0.0345584899187088, 0.1382339596748352, 0.24190941452980042, 0.2073509246110916, 0.0345584899187088, 0.5465379953384399, 0.19202478229999542, 0.38404956459999084, 0.43865323066711426, 0.21932661533355713, 0.6174564957618713, 0.542572021484375, 0.19139361381530762, 0.11962100118398666, 0.09569680690765381, 0.19139361381530762, 0.16746941208839417, 0.07177260518074036, 0.047848403453826904, 0.07177260518074036, 0.023924201726913452, 0.023924201726913452, 0.3614840805530548, 0.6811729669570923, 0.10791418701410294, 0.07194279134273529, 0.2517997920513153, 0.07194279134273529, 0.07194279134273529, 0.10791418701410294, 0.10791418701410294, 0.17985698580741882, 0.15518143773078918, 0.6207257509231567, 0.15518143773078918, 0.7316833138465881, 0.630537748336792, 0.2584027945995331, 0.103361114859581, 0.103361114859581, 0.1550416797399521, 0.0516805574297905, 0.07752083986997604, 0.12920139729976654, 0.02584027871489525, 0.0516805574297905, 0.02584027871489525, 0.2339797466993332, 0.0877424031496048, 0.1462373435497284, 0.2339797466993332, 0.0877424031496048, 0.02924746833741665, 0.0584949366748333, 0.02924746833741665, 0.0584949366748333, 0.02924746833741665, 0.6719405055046082, 0.3635929524898529, 0.6207646727561951, 0.46711763739585876, 0.531593918800354, 0.265796959400177, 0.2230490893125534, 0.20446166396141052, 0.05576227232813835, 0.130111962556839, 0.07434969395399094, 0.09293711930513382, 0.1115245446562767, 0.05576227232813835, 0.03717484697699547, 0.018587423488497734, 0.17094548046588898, 0.12210392206907272, 0.1953662633895874, 0.04884156584739685, 0.17094548046588898, 0.12210392206907272, 0.04884156584739685, 0.04884156584739685, 0.07326234877109528, 0.024420782923698425, 0.5379703044891357, 0.4231601655483246, 0.6305457353591919, 0.2313801795244217, 0.4627603590488434, 0.2313801795244217, 0.3032052516937256, 0.3032052516937256, 0.4621601700782776, 0.3710422217845917, 0.5460909605026245, 0.6298537850379944, 0.8844050168991089, 0.13263444602489471, 0.13263444602489471, 0.053053777664899826, 0.10610755532979965, 0.13263444602489471, 0.07958066463470459, 0.15916132926940918, 0.053053777664899826, 0.053053777664899826, 0.026526888832449913, 0.5492348670959473, 0.6517513990402222, 0.13897259533405304, 0.16676710546016693, 0.09728081524372101, 0.09728081524372101, 0.15286985039710999, 0.11117807030677795, 0.08338355273008347, 0.06948629766702652, 0.05558903515338898, 0.04169177636504173, 0.1190793439745903, 0.1190793439745903, 0.3572380244731903, 0.05953967198729515, 0.17861901223659515, 0.05953967198729515, 0.05953967198729515, 0.05953967198729515, 0.8069539070129395, 0.1428757756948471, 0.20002609491348267, 0.22860124707221985, 0.02857515588402748, 0.1428757756948471, 0.05715031176805496, 0.08572547137737274, 0.02857515588402748, 0.05715031176805496, 0.02857515588402748, 0.4063781797885895, 0.8479909300804138, 0.20463043451309204, 0.4092608690261841, 0.6424018144607544, 0.6421766877174377, 0.5471569895744324, 0.19903706014156342, 0.31845927238464355, 0.07961481809616089, 0.039807409048080444, 0.07961481809616089, 0.039807409048080444, 0.07961481809616089, 0.11942223459482193, 0.039807409048080444, 0.21611104905605316, 0.16208328306674957, 0.13506940007209778, 0.20260411500930786, 0.06753470003604889, 0.05402776226401329, 0.05402776226401329, 0.05402776226401329, 0.027013881132006645, 0.04052082076668739, 0.17767444252967834, 0.3553488850593567, 0.17767444252967834, 0.3289186358451843, 0.3289186358451843, 0.5344427227973938, 0.37237823009490967, 0.6297179460525513, 0.5369265079498291, 0.6856582164764404, 0.18371620774269104, 0.5511486530303955, 0.18371620774269104, 0.4064396023750305, 0.622185468673706, 0.5467400550842285, 0.32804402709007263, 0.21557754278182983, 0.35929590463638306, 0.04790612310171127, 0.1916244924068451, 0.023953061550855637, 0.07185918092727661, 0.023953061550855637, 0.023953061550855637, 0.023953061550855637, 0.16557694971561432, 0.10189350694417953, 0.16557694971561432, 0.24199707806110382, 0.03821006417274475, 0.06368344277143478, 0.0764201283454895, 0.025473376736044884, 0.05094675347208977, 0.06368344277143478, 0.7228547930717468, 0.3614273965358734, 0.20402264595031738, 0.40804529190063477, 0.20402264595031738, 0.1721033751964569, 0.206524059176445, 0.0344206765294075, 0.1721033751964569, 0.068841353058815, 0.068841353058815, 0.206524059176445, 0.0344206765294075, 0.068841353058815, 0.13889996707439423, 0.13889996707439423, 0.41669991612434387, 0.13889996707439423, 0.13889996707439423, 0.12027104198932648, 0.09020328521728516, 0.21047432720661163, 0.1503387987613678, 0.09020328521728516, 0.09020328521728516, 0.12027104198932648, 0.09020328521728516, 0.03006776049733162, 0.3490171432495117, 0.3490171432495117, 0.16585537791252136, 0.16585537791252136, 0.0995132252573967, 0.26536861062049866, 0.06634215265512466, 0.13268430531024933, 0.06634215265512466, 0.03317107632756233, 0.03317107632756233, 0.03317107632756233, 0.529961347579956, 0.1170087531208992, 0.2070154845714569, 0.09000673145055771, 0.1170087531208992, 0.09000673145055771, 0.09900740534067154, 0.12600943446159363, 0.06300471723079681, 0.036002691835165024, 0.045003365725278854, 0.48507755994796753, 0.1616925150156021, 0.1616925150156021, 0.415401428937912, 0.4150044322013855, 0.060596954077482224, 0.18179085850715637, 0.12119390815496445, 0.12119390815496445, 0.1514923870563507, 0.21208934485912323, 0.18179085850715637, 0.030298477038741112, 0.5896672010421753, 0.19557474553585052, 0.11734484136104584, 0.18253642320632935, 0.143421471118927, 0.06519158184528351, 0.05215326324105263, 0.13038316369056702, 0.06519158184528351, 0.039114948362112045, 0.026076631620526314, 0.12064891308546066, 0.12064891308546066, 0.24129782617092133, 0.3619467318058014, 0.3844294548034668, 0.3844294548034668, 0.20338192582130432, 0.1271136999130249, 0.05084548145532608, 0.17795918881893158, 0.10169096291065216, 0.02542274072766304, 0.17795918881893158, 0.02542274072766304, 0.07626822590827942, 0.02542274072766304, 0.6233795285224915, 0.6976011395454407, 0.1511644572019577, 0.1511644572019577, 0.10797461122274399, 0.17275938391685486, 0.10797461122274399, 0.06478476524353027, 0.10797461122274399, 0.06478476524353027, 0.06478476524353027, 0.021594922989606857, 0.375200092792511, 0.6163572072982788, 0.39659813046455383, 0.8246923089027405, 0.13683804869651794, 0.13683804869651794, 0.41051414608955383, 0.23062723875045776, 0.23062723875045776, 0.11531361937522888, 0.11531361937522888, 0.11531361937522888, 0.23062723875045776, 0.4136140048503876, 0.5370253920555115, 0.7233666181564331, 0.5546711683273315, 0.13087579607963562, 0.19631369411945343, 0.032718949019908905, 0.13087579607963562, 0.032718949019908905, 0.16359475255012512, 0.26175159215927124, 0.032718949019908905, 0.032718949019908905, 0.14565564692020416, 0.09710376709699631, 0.19420753419399261, 0.09710376709699631, 0.048551883548498154, 0.09710376709699631, 0.09710376709699631, 0.048551883548498154, 0.14565564692020416, 0.048551883548498154, 0.17991270124912262, 0.044978175312280655, 0.08995635062456131, 0.08995635062456131, 0.22489087283611298, 0.044978175312280655, 0.044978175312280655, 0.08995635062456131, 0.17991270124912262, 0.7300661206245422, 0.5486306548118591, 0.40738919377326965, 0.05092364922165871, 0.05092364922165871, 0.05092364922165871, 0.05092364922165871, 0.05092364922165871, 0.15277095139026642, 0.20369459688663483, 0.05092364922165871, 0.11233919858932495, 0.33701759576797485, 0.056169599294662476, 0.11233919858932495, 0.16850879788398743, 0.056169599294662476, 0.056169599294662476, 0.056169599294662476, 0.056169599294662476, 0.3672606945037842, 0.5475099682807922, 0.1825033277273178, 0.12438700348138809, 0.49754801392555237, 0.12438700348138809, 0.12438700348138809, 0.4340157210826874, 0.1077481359243393, 0.16162221133708954, 0.16162221133708954, 0.26937034726142883, 0.1077481359243393, 0.05387406796216965, 0.05387406796216965, 0.05387406796216965, 0.6085717678070068, 0.6305395364761353, 0.40686988830566406, 0.5324644446372986, 0.6209127306938171, 0.39547497034072876, 0.1912151426076889, 0.3824302852153778, 0.1912151426076889, 0.1295304149389267, 0.1295304149389267, 0.14392268657684326, 0.07196134328842163, 0.07196134328842163, 0.2158840298652649, 0.0863536074757576, 0.0863536074757576, 0.0431768037378788, 0.028784535825252533, 0.45971158146858215, 0.11492789536714554, 0.11492789536714554, 0.11492789536714554, 0.5307617783546448, 0.16556298732757568, 0.13796916604042053, 0.08278149366378784, 0.24834449589252472, 0.11037532985210419, 0.055187664926052094, 0.055187664926052094, 0.08278149366378784, 0.027593832463026047, 0.027593832463026047, 0.41990265250205994, 0.41990265250205994, 0.6079491972923279, 0.059419646859169006, 0.11883929371833801, 0.059419646859169006, 0.059419646859169006, 0.059419646859169006, 0.23767858743667603, 0.23767858743667603, 0.059419646859169006, 0.059419646859169006, 0.06202692911028862, 0.06202692911028862, 0.06202692911028862, 0.12405385822057724, 0.24810771644115448, 0.06202692911028862, 0.12405385822057724, 0.18608078360557556, 0.6772995591163635, 0.616098940372467, 0.2053663283586502, 0.20443615317344666, 0.4088723063468933, 0.20443615317344666, 0.13927382230758667, 0.27854764461517334, 0.27854764461517334, 0.5204371213912964, 0.2602185606956482, 0.5009986162185669, 0.5692659020423889, 0.4764254093170166, 0.6242002844810486, 0.18455804884433746, 0.09227902442216873, 0.09227902442216873, 0.09227902442216873, 0.09227902442216873, 0.3691160976886749, 0.09227902442216873, 0.09227902442216873, 0.15089403092861176, 0.4526820778846741, 0.15089403092861176, 0.15089403092861176, 0.15089403092861176, 0.11524749547243118, 0.17287124693393707, 0.23049499094486237, 0.08643562346696854, 0.05762374773621559, 0.11524749547243118, 0.14405937492847443, 0.028811873868107796, 0.05762374773621559, 0.1489441692829132, 0.5957766771316528, 0.697350025177002, 0.7374883890151978, 0.15477530658245087, 0.17412221431732178, 0.13542839884757996, 0.13542839884757996, 0.09673456847667694, 0.11608147621154785, 0.09673456847667694, 0.03869382664561272, 0.01934691332280636, 0.03869382664561272, 0.5410792231559753, 0.10744978487491608, 0.10744978487491608, 0.32234933972358704, 0.32234933972358704, 0.10744978487491608, 0.16044600307941437, 0.16044600307941437, 0.08022300153970718, 0.28078049421310425, 0.12033449858427048, 0.04011150076985359, 0.08022300153970718, 0.04011150076985359, 0.04011150076985359, 0.08593311160802841, 0.22915495932102203, 0.11457747966051102, 0.05728873983025551, 0.20051059126853943, 0.11457747966051102, 0.11457747966051102, 0.05728873983025551, 0.028644369915127754, 0.028644369915127754, 0.1870366632938385, 0.1870366632938385, 0.1870366632938385, 0.06234555318951607, 0.06234555318951607, 0.1870366632938385, 0.06234555318951607, 0.031172776594758034, 0.031172776594758034, 0.031172776594758034, 0.18757280707359314, 0.3751456141471863, 0.18757280707359314, 0.6241508722305298, 0.4133857190608978, 0.38519471883773804, 0.38519471883773804, 0.5319640636444092, 0.6316335797309875, 0.30424851179122925, 0.6084970235824585, 0.6728041172027588, 0.2652356028556824, 0.2652356028556824, 0.41500207781791687, 0.1449955850839615, 0.1449955850839615, 0.1449955850839615, 0.43498674035072327, 0.1449955850839615, 0.465157687664032, 0.6305378675460815, 0.5328018069267273, 0.6299970746040344, 0.4433348774909973, 0.29589787125587463, 0.5917957425117493, 0.41756680607795715, 0.6856587529182434, 0.1491229087114334, 0.5964916348457336, 0.1491229087114334, 0.6325291991233826, 0.6300002932548523, 0.09572767466306686, 0.38291069865226746, 0.19145534932613373, 0.09572767466306686, 0.09572767466306686, 0.16618457436561584, 0.08309228718280792, 0.08309228718280792, 0.08309228718280792, 0.49855372309684753, 0.08309228718280792, 0.3549065589904785, 0.3549065589904785, 0.3549065589904785, 0.17916347086429596, 0.5374904274940491, 0.12801049649715424, 0.12801049649715424, 0.3840314745903015, 0.12801049649715424, 0.12801049649715424, 0.12801049649715424, 0.4184916913509369, 0.10349702835083008, 0.10349702835083008, 0.18111979961395264, 0.07762277126312256, 0.18111979961395264, 0.18111979961395264, 0.05174851417541504, 0.02587425708770752, 0.05174851417541504, 0.02587425708770752, 0.17515888810157776, 0.08757944405078888, 0.13136917352676392, 0.17515888810157776, 0.08757944405078888, 0.13136917352676392, 0.1094743087887764, 0.04378972202539444, 0.02189486101269722, 0.02189486101269722, 0.1695815771818161, 0.056527189910411835, 0.11305437982082367, 0.11305437982082367, 0.056527189910411835, 0.056527189910411835, 0.056527189910411835, 0.28263595700263977, 0.056527189910411835, 0.056527189910411835, 0.4453825354576111, 0.643103301525116, 0.548828661441803, 0.4001549780368805, 0.6677829027175903, 0.5081828832626343, 0.5081828832626343, 0.6876211762428284, 0.1719052940607071, 0.14769287407398224, 0.11815429478883743, 0.14769287407398224, 0.11815429478883743, 0.23630858957767487, 0.059077147394418716, 0.08861572295427322, 0.029538573697209358, 0.059077147394418716, 0.029538573697209358, 0.4018564820289612, 0.08037129789590836, 0.1607425957918167, 0.1607425957918167, 0.08037129789590836, 0.45483720302581787, 0.07580620050430298, 0.22741860151290894, 0.07580620050430298, 0.07580620050430298, 0.07580620050430298, 0.5570071935653687, 0.11140144616365433, 0.11140144616365433, 0.11140144616365433, 0.28278303146362305, 0.04713050648570061, 0.09426101297140121, 0.28278303146362305, 0.09426101297140121, 0.04713050648570061, 0.04713050648570061, 0.04713050648570061, 0.4804133474826813, 0.24020667374134064, 0.5291333198547363, 0.14294910430908203, 0.2042130082845688, 0.12252780795097351, 0.040842603892087936, 0.2246343195438385, 0.08168520778417587, 0.08168520778417587, 0.061263903975486755, 0.040842603892087936, 0.020421301946043968, 0.1236153393983841, 0.1236153393983841, 0.2472306787967682, 0.3708460032939911, 0.14605523645877838, 0.14605523645877838, 0.12779833376407623, 0.09128452092409134, 0.07302761822938919, 0.16431213915348053, 0.10954142361879349, 0.054770711809396744, 0.07302761822938919, 0.036513809114694595, 0.3687271773815155, 0.1229090541601181, 0.030727263540029526, 0.15363632142543793, 0.09218179434537888, 0.06145452708005905, 0.030727263540029526, 0.030727263540029526, 0.030727263540029526, 0.13765083253383636, 0.17206354439258575, 0.06882541626691818, 0.20647624135017395, 0.20647624135017395, 0.06882541626691818, 0.06882541626691818, 0.03441270813345909, 0.06882541626691818, 0.17835675179958344, 0.08917837589979172, 0.08917837589979172, 0.17835675179958344, 0.08917837589979172, 0.08917837589979172, 0.17835675179958344, 0.27096858620643616, 0.27096858620643616, 0.14857491850852966, 0.14857491850852966, 0.2971498370170593, 0.2971498370170593, 0.15839247405529022, 0.05759726092219353, 0.1007952094078064, 0.1295938342809677, 0.07199657708406448, 0.1295938342809677, 0.15839247405529022, 0.11519452184438705, 0.07199657708406448, 0.014399315230548382, 0.1737155318260193, 0.3474310636520386, 0.26057329773902893, 0.08685776591300964, 0.08685776591300964, 0.20471012592315674, 0.4094202518463135, 0.34500136971473694, 0.34500136971473694, 0.09050855040550232, 0.13576282560825348, 0.13576282560825348, 0.09050855040550232, 0.09050855040550232, 0.09050855040550232, 0.04525427520275116, 0.04525427520275116, 0.18101710081100464, 0.09050855040550232, 0.07090842723846436, 0.18908914923667908, 0.023636143654584885, 0.023636143654584885, 0.1418168544769287, 0.21272529661655426, 0.21272529661655426, 0.023636143654584885, 0.07090842723846436, 0.023636143654584885, 0.5489895939826965, 0.22503364086151123, 0.20070567727088928, 0.0648745596408844, 0.08514786511659622, 0.10136650502681732, 0.12163980305194855, 0.07703854143619537, 0.0486559234559536, 0.054737914353609085, 0.020273301750421524, 0.22074593603610992, 0.11037296801805496, 0.11037296801805496, 0.11037296801805496, 0.05518648400902748, 0.05518648400902748, 0.11037296801805496, 0.05518648400902748, 0.05518648400902748, 0.11037296801805496, 0.4139130115509033, 0.12938280403614044, 0.12938280403614044, 0.16172851622104645, 0.06469140201807022, 0.09703710675239563, 0.12938280403614044, 0.22641991078853607, 0.06469140201807022, 0.03234570100903511, 0.03234570100903511, 0.19804254174232483, 0.13710637390613556, 0.07617020606994629, 0.09140424430370331, 0.13710637390613556, 0.13710637390613556, 0.12187232822179794, 0.030468082055449486, 0.06093616411089897, 0.030468082055449486, 0.25586894154548645, 0.15051114559173584, 0.10535780340433121, 0.07525557279586792, 0.10535780340433121, 0.09030668437480927, 0.10535780340433121, 0.04515334218740463, 0.04515334218740463, 0.015051114372909069, 0.6300476789474487, 0.41391584277153015, 0.13797195255756378, 0.10347896069288254, 0.17246493697166443, 0.06898597627878189, 0.034492988139390945, 0.034492988139390945, 0.034492988139390945, 0.034492988139390945, 0.6476531624794006, 0.23188331723213196, 0.4637666344642639, 0.23188331723213196, 0.23732209205627441, 0.1977684050798416, 0.0395536795258522, 0.0791073590517044, 0.1977684050798416, 0.0395536795258522, 0.0395536795258522, 0.0395536795258522, 0.0395536795258522, 0.11866104602813721, 0.31170859932899475, 0.6234171986579895, 0.3157574534416199, 0.3157574534416199, 0.1576736718416214, 0.11262404918670654, 0.13514885306358337, 0.22524809837341309, 0.11262404918670654, 0.06757442653179169, 0.09009923785924911, 0.02252480946481228, 0.04504961892962456, 0.02252480946481228, 0.14562064409255981, 0.14562064409255981, 0.14562064409255981, 0.14562064409255981, 0.29124128818511963, 0.4056130051612854, 0.4056130051612854, 0.7312754392623901, 0.4428349733352661, 0.14761166274547577, 0.2842436134815216, 0.11369743943214417, 0.15159659087657928, 0.07579829543828964, 0.11369743943214417, 0.03789914771914482, 0.0947478637099266, 0.11369743943214417, 0.01894957385957241, 0.01894957385957241, 0.6154493689537048, 0.1963275969028473, 0.14724569022655487, 0.11452443152666092, 0.22904886305332184, 0.0654425323009491, 0.08180316537618637, 0.0654425323009491, 0.04908189922571182, 0.04908189922571182, 0.016360633075237274, 0.21764397621154785, 0.16643363237380981, 0.038407761603593826, 0.1408284604549408, 0.1280258744955063, 0.051210347563028336, 0.06401293724775314, 0.051210347563028336, 0.06401293724775314, 0.06401293724775314, 0.5305182337760925, 0.339000403881073, 0.339000403881073, 0.14321815967559814, 0.14321815967559814, 0.5728726387023926, 0.14321815967559814, 0.454357385635376, 0.113589346408844, 0.113589346408844, 0.113589346408844, 0.113589346408844, 0.5305753946304321, 0.317532479763031, 0.1058441624045372, 0.1058441624045372, 0.4233766496181488, 0.1058441624045372, 0.6219499111175537, 0.11102291196584702, 0.16653436422348022, 0.05551145598292351, 0.33306872844696045, 0.11102291196584702, 0.05551145598292351, 0.05551145598292351, 0.05551145598292351, 0.10585856437683105, 0.2117171287536621, 0.2117171287536621, 0.2117171287536621, 0.31757569313049316, 0.14381109178066254, 0.23968516290187836, 0.14381109178066254, 0.11984258145093918, 0.07190554589033127, 0.09587406367063522, 0.09587406367063522, 0.04793703183531761, 0.023968515917658806, 0.023968515917658806, 0.24300192296504974, 0.0911257192492485, 0.0911257192492485, 0.182251438498497, 0.060750480741262436, 0.0911257192492485, 0.060750480741262436, 0.030375240370631218, 0.0911257192492485, 0.060750480741262436, 0.2038400024175644, 0.4076800048351288, 0.6856584548950195, 0.13352377712726593, 0.1557777374982834, 0.17803169786930084, 0.08901584893465042, 0.17803169786930084, 0.08901584893465042, 0.08901584893465042, 0.022253962233662605, 0.06676188856363297, 0.022253962233662605, 0.16298861801624298, 0.12224145978689194, 0.08149430900812149, 0.08149430900812149, 0.12224145978689194, 0.08149430900812149, 0.24448291957378387, 0.040747154504060745, 0.040747154504060745, 0.0538862906396389, 0.1616588681936264, 0.0538862906396389, 0.1077725812792778, 0.1077725812792778, 0.1616588681936264, 0.0538862906396389, 0.2155451625585556, 0.0538862906396389, 0.23049959540367126, 0.46099919080734253, 0.23049959540367126, 0.1438249796628952, 0.1677958220243454, 0.2157374769449234, 0.0719124898314476, 0.0958833247423172, 0.0958833247423172, 0.0958833247423172, 0.0239708311855793, 0.0719124898314476, 0.0239708311855793, 0.22302810847759247, 0.18585675954818726, 0.11151405423879623, 0.07434269785881042, 0.14868539571762085, 0.03717134892940521, 0.09292837977409363, 0.03717134892940521, 0.03717134892940521, 0.03717134892940521, 0.1276187300682068, 0.08507915586233139, 0.29777705669403076, 0.042539577931165695, 0.17015831172466278, 0.042539577931165695, 0.08507915586233139, 0.1276187300682068, 0.042539577931165695, 0.1520031839609146, 0.3040063679218292, 0.45600956678390503, 0.1520031839609146, 0.42595794796943665, 0.16323259472846985, 0.10202037543058395, 0.1326264888048172, 0.07141426205635071, 0.09181833267211914, 0.17343463003635406, 0.09181833267211914, 0.05101018771529198, 0.09181833267211914, 0.030606111511588097, 0.23204770684242249, 0.16243340075016022, 0.13922862708568573, 0.06961431354284286, 0.06961431354284286, 0.09281908720731735, 0.11602385342121124, 0.046409543603658676, 0.023204771801829338, 0.023204771801829338, 0.42128634452819824, 0.09332367777824402, 0.09332367777824402, 0.3732947111129761, 0.09332367777824402, 0.27997103333473206], \"Term\": [\" \", \" \", \" \", \" \", \" \", \" \", \" \", \" \", \" \", \" \", \"$\", \"$\", \"$\", \"$\", \"$\", \"$\", \"$\", \"$\", \"$\", \"-PRON-\", \"-PRON-\", \"-PRON-\", \"-PRON-\", \"-PRON-\", \"-PRON-\", \"-PRON-\", \"-PRON-\", \"-PRON-\", \"-PRON-\", \"-PRON-_be\", \"-PRON-_be\", \"-PRON-_be\", \"-PRON-_be\", \"-PRON-_be\", \"-PRON-_be\", \"-PRON-_be\", \"-PRON-_be\", \"-PRON-_be\", \"-PRON-_be\", \"100th\", \"6b\", \"8:00am\", \"a\", \"a\", \"a\", \"a\", \"a\", \"a\", \"a\", \"a\", \"a\", \"a\", \"abbott\", \"abdominal\", \"ablution\", \"aboriginal\", \"abuse\", \"abuse\", \"abuse\", \"abuse\", \"abuse\", \"abuse\", \"abuse\", \"abuse\", \"abuse\", \"accept\", \"accept\", \"accept\", \"accept\", \"accept\", \"accept\", \"accept\", \"achievement\", \"action\", \"action\", \"action\", \"action\", \"action\", \"action\", \"action\", \"action\", \"action\", \"adolfo\", \"afghan\", \"afghan\", \"afghan\", \"afghan\", \"afghan\", \"afghan\", \"afghan\", \"afghan\", \"afghan\", \"afghanistan\", \"afghanistan\", \"afghanistan\", \"afghanistan\", \"afghanistan\", \"afghanistan\", \"afghanistan\", \"afghanistan\", \"afghanistan\", \"afghanistan\", \"agenda\", \"aid\", \"al_qaeda\", \"al_qaeda\", \"al_qaeda\", \"al_qaeda\", \"al_qaeda\", \"al_qaeda\", \"al_qaeda\", \"al_qaeda\", \"al_qaeda\", \"al_qaeda\", \"alarming\", \"alarming\", \"alcohol\", \"allegation\", \"allegation\", \"allegation\", \"allegation\", \"allegation\", \"allegation\", \"allegation\", \"allocate\", \"along\", \"alp\", \"amalgamation\", \"annan\", \"antarctic\", \"apra\", \"apra\", \"arafat\", \"arafat\", \"arafat\", \"arafat\", \"arafat\", \"arafat\", \"arafat\", \"arafat\", \"arafat\", \"arafat\", \"area\", \"area\", \"area\", \"area\", \"area\", \"area\", \"area\", \"area\", \"area\", \"area\", \"argentine\", \"armed\", \"armed\", \"armed\", \"armed\", \"armed\", \"armed\", \"armed\", \"armed\", \"armed\", \"arrest\", \"arrest\", \"arrest\", \"arrest\", \"arrest\", \"arrest\", \"arrest\", \"arrest\", \"arrest\", \"arrest\", \"arrive\", \"arrive\", \"arrive\", \"arrive\", \"arrive\", \"arrive\", \"arrive\", \"ash\", \"ash\", \"ash\", \"asio\", \"asio\", \"asio\", \"asio\", \"asio\", \"asio\", \"assa_abloy\", \"assa_abloy\", \"assume\", \"assume\", \"asylum_seeker\", \"asylum_seeker\", \"asylum_seeker\", \"asylum_seeker\", \"asylum_seeker\", \"asylum_seeker\", \"asylum_seeker\", \"attack\", \"attack\", \"attack\", \"attack\", \"attack\", \"attack\", \"attack\", \"attack\", \"attack\", \"attack\", \"attendant\", \"attitude\", \"australia\", \"australia\", \"australia\", \"australia\", \"australia\", \"australia\", \"australia\", \"australia\", \"australia\", \"australia\", \"australian\", \"australian\", \"australian\", \"australian\", \"australian\", \"australian\", \"australian\", \"australian\", \"australian\", \"australian\", \"authority\", \"authority\", \"authority\", \"authority\", \"authority\", \"authority\", \"authority\", \"authority\", \"authority\", \"authority\", \"avenue\", \"aware\", \"aware\", \"aware\", \"away\", \"away\", \"away\", \"away\", \"away\", \"away\", \"awu\", \"awu\", \"background\", \"ballot\", \"ballot\", \"ballot\", \"ballot\", \"base\", \"base\", \"base\", \"base\", \"base\", \"base\", \"base\", \"base\", \"base\", \"base\", \"battlefield\", \"beatle\", \"beatle\", \"beatle\", \"belgium\", \"belgium\", \"believe\", \"believe\", \"believe\", \"believe\", \"believe\", \"believe\", \"believe\", \"believe\", \"believe\", \"believe\", \"belligerent\", \"benare\", \"benare\", \"benare\", \"bichel\", \"bichel\", \"bichel\", \"bin_laden\", \"bin_laden\", \"bin_laden\", \"bin_laden\", \"bin_laden\", \"bin_laden\", \"bin_laden\", \"bin_laden\", \"bin_laden\", \"bin_laden\", \"bit\", \"bit\", \"bit\", \"bit\", \"blood\", \"blue\", \"blue\", \"blue\", \"boat\", \"boat\", \"boat\", \"boat\", \"boat\", \"boat\", \"boje\", \"boston\", \"boston\", \"boston\", \"boy\", \"boy\", \"boy\", \"boy\", \"boy\", \"boy\", \"boy\", \"boyd\", \"brain\", \"brain\", \"brain\", \"britt\", \"building\", \"building\", \"building\", \"building\", \"building\", \"building\", \"building\", \"building\", \"building\", \"building\", \"building_industry\", \"building_industry\", \"building_industry\", \"bully\", \"burakin\", \"burakin\", \"burden\", \"burden\", \"but\", \"but\", \"but\", \"but\", \"but\", \"but\", \"but\", \"but\", \"but\", \"but\", \"cahill\", \"call\", \"call\", \"call\", \"call\", \"call\", \"call\", \"call\", \"call\", \"call\", \"call\", \"camp\", \"camp\", \"camp\", \"camp\", \"camp\", \"campaigner\", \"canyon\", \"canyon\", \"canyon\", \"canyon\", \"canyon\", \"canyon\", \"canyon\", \"canyon\", \"carmen\", \"catering\", \"caucuses\", \"cave\", \"cave\", \"cave\", \"cave\", \"cave\", \"cave\", \"cave\", \"cave\", \"cease_fire\", \"cease_fire\", \"cease_fire\", \"cent\", \"cent\", \"cent\", \"cent\", \"cent\", \"cent\", \"cent\", \"cent\", \"cent\", \"cent\", \"centre\", \"centre\", \"centre\", \"centre\", \"centre\", \"centre\", \"centre\", \"centre\", \"centre\", \"centre\", \"centrelink\", \"centrelink\", \"century\", \"century\", \"century\", \"century\", \"change\", \"change\", \"change\", \"change\", \"change\", \"change\", \"change\", \"change\", \"change\", \"charge\", \"charge\", \"charge\", \"charge\", \"charge\", \"charge\", \"charge\", \"charge\", \"charge\", \"charge\", \"chechen\", \"child\", \"child\", \"child\", \"child\", \"child\", \"child\", \"child\", \"child\", \"child\", \"child\", \"christians\", \"christians\", \"christmas\", \"christmas\", \"christmas\", \"christmas\", \"christmas\", \"christmas\", \"christmas\", \"christmas\", \"christmas\", \"circulate\", \"claim\", \"claim\", \"claim\", \"claim\", \"claim\", \"claim\", \"claim\", \"claim\", \"claim\", \"claim\", \"clap\", \"climate\", \"club\", \"club\", \"club\", \"club\", \"cmag\", \"coastal\", \"come\", \"come\", \"come\", \"come\", \"come\", \"come\", \"come\", \"come\", \"come\", \"come\", \"comeback\", \"comeback\", \"commissions\", \"community\", \"community\", \"community\", \"community\", \"community\", \"community\", \"community\", \"community\", \"community\", \"company\", \"company\", \"company\", \"company\", \"company\", \"company\", \"company\", \"company\", \"company\", \"company\", \"complexity\", \"compound\", \"compound\", \"computer\", \"computer\", \"constitutional\", \"constitutional\", \"consumer\", \"consumer\", \"consumer\", \"contaminate\", \"continent\", \"continue\", \"continue\", \"continue\", \"continue\", \"continue\", \"continue\", \"continue\", \"continue\", \"continue\", \"continue\", \"corner\", \"corowa\", \"corowa\", \"cost\", \"cost\", \"cost\", \"cost\", \"cost\", \"cost\", \"cost\", \"costello\", \"costello\", \"costello\", \"costello\", \"counterpart\", \"cow\", \"cow\", \"creditor\", \"creditor\", \"creditor\", \"crop\", \"cut\", \"cut\", \"cut\", \"cut\", \"cut\", \"cut\", \"cut\", \"cut\", \"cut\", \"cut\", \"dad\", \"dagestan\", \"damn\", \"darren\", \"day\", \"day\", \"day\", \"day\", \"day\", \"day\", \"day\", \"day\", \"day\", \"day\", \"defence\", \"defence\", \"defence\", \"defence\", \"defence\", \"defence\", \"defence\", \"defence\", \"defence\", \"deserve\", \"destabilise\", \"detainee\", \"detainee\", \"detainee\", \"detainee\", \"detainee\", \"detainee\", \"detainee\", \"detainee\", \"developed\", \"devotee\", \"devotee\", \"dfat\", \"dfat\", \"die\", \"die\", \"die\", \"die\", \"die\", \"die\", \"die\", \"die\", \"die\", \"difficulty\", \"difficulty\", \"director\", \"director\", \"director\", \"director\", \"director\", \"director\", \"director\", \"director\", \"director\", \"disclose\", \"disease\", \"disease\", \"disease\", \"disease\", \"disease\", \"disease\", \"disease\", \"disintegrate\", \"disrepute\", \"distribution\", \"dixon\", \"dixon\", \"downturn\", \"dr_hollingworth\", \"dr_hollingworth\", \"dr_hollingworth\", \"dr_hollingworth\", \"dr_hollingworth\", \"dr_hollingworth\", \"draconian\", \"drug\", \"drug\", \"drug\", \"du\", \"earthquake\", \"earthquake\", \"economy\", \"economy\", \"economy\", \"economy\", \"economy\", \"economy\", \"economy\", \"economy\", \"economy\", \"economy\", \"educational\", \"emission\", \"emission\", \"employment\", \"employment\", \"employment\", \"encouraging\", \"end\", \"end\", \"end\", \"end\", \"end\", \"end\", \"end\", \"end\", \"end\", \"end\", \"endeavour\", \"endeavour\", \"endeavour\", \"endeavour\", \"endeavour\", \"environmental\", \"ernst\", \"ernst\", \"especially\", \"essential\", \"event\", \"event\", \"event\", \"event\", \"event\", \"event\", \"event\", \"event\", \"example\", \"example\", \"expect\", \"expect\", \"expect\", \"expect\", \"expect\", \"expect\", \"expect\", \"expect\", \"expect\", \"expect\", \"face\", \"face\", \"face\", \"face\", \"face\", \"face\", \"face\", \"face\", \"facilitate\", \"fake\", \"family\", \"family\", \"family\", \"family\", \"family\", \"family\", \"family\", \"fare\", \"farm\", \"farm\", \"farm\", \"farm\", \"farm\", \"farmer\", \"farmer\", \"farmer\", \"fatality\", \"fatality\", \"fatality\", \"favourably\", \"fazalur\", \"female\", \"female\", \"ferguson\", \"ferguson\", \"fighter\", \"fighter\", \"fighter\", \"fighter\", \"fighter\", \"fighter\", \"fighter\", \"fighter\", \"fighter\", \"fighter\", \"find\", \"find\", \"find\", \"find\", \"find\", \"find\", \"find\", \"find\", \"find\", \"find\", \"fire\", \"fire\", \"fire\", \"fire\", \"fire\", \"fire\", \"fire\", \"fire\", \"fire\", \"fire\", \"flight\", \"flight\", \"flight\", \"flight\", \"flight\", \"flight\", \"flight\", \"flight\", \"flight\", \"follow\", \"follow\", \"follow\", \"follow\", \"follow\", \"follow\", \"follow\", \"follow\", \"follow\", \"follow\", \"food\", \"food\", \"food\", \"force\", \"force\", \"force\", \"force\", \"force\", \"force\", \"force\", \"force\", \"force\", \"force\", \"forefront\", \"friedli\", \"friedli\", \"friedli\", \"gala\", \"ganges\", \"ganges\", \"gas\", \"gas\", \"gas\", \"gas\", \"genetically\", \"genetically\", \"george\", \"george\", \"george\", \"george\", \"george\", \"george\", \"ghana\", \"ghulam\", \"gibbons\", \"gibbs\", \"giuliani\", \"giuliani\", \"giuliani\", \"give\", \"give\", \"give\", \"give\", \"give\", \"give\", \"give\", \"give\", \"give\", \"give\", \"gm\", \"go\", \"go\", \"go\", \"go\", \"go\", \"go\", \"go\", \"go\", \"go\", \"go\", \"goal\", \"goal\", \"goal\", \"good\", \"good\", \"good\", \"good\", \"good\", \"good\", \"good\", \"good\", \"good\", \"good\", \"government\", \"government\", \"government\", \"government\", \"government\", \"government\", \"government\", \"government\", \"government\", \"government\", \"grocery\", \"group\", \"group\", \"group\", \"group\", \"group\", \"group\", \"group\", \"group\", \"group\", \"group\", \"habeel\", \"habeel\", \"hamas\", \"hamas\", \"hamas\", \"hamas\", \"hamas\", \"hamas\", \"hamas\", \"hamas\", \"hamas\", \"hamas\", \"hare\", \"hare\", \"hare\", \"harrison\", \"harrison\", \"harrison\", \"harrison\", \"hassan\", \"hayden\", \"hayden\", \"hayden\", \"hayden\", \"hayden\", \"hazara\", \"head\", \"head\", \"head\", \"head\", \"head\", \"head\", \"head\", \"head\", \"head\", \"helena\", \"help\", \"help\", \"help\", \"help\", \"help\", \"help\", \"help\", \"help\", \"help\", \"help\", \"hewitt\", \"hewitt\", \"hewitt\", \"highway\", \"highway\", \"highway\", \"highway\", \"highway\", \"highway\", \"highway\", \"hih\", \"hih\", \"hih\", \"hih\", \"hih\", \"hih\", \"hih\", \"hilton\", \"hindus\", \"hiv\", \"hiv\", \"hiv\", \"holy\", \"holy\", \"hooke\", \"hostage\", \"hour\", \"hour\", \"hour\", \"hour\", \"hour\", \"hour\", \"hour\", \"hour\", \"hour\", \"hour\", \"howard\", \"howard\", \"howard\", \"howard\", \"howard\", \"huegill\", \"hume\", \"ice\", \"ice\", \"ice\", \"imf\", \"impact\", \"impact\", \"impact\", \"impact\", \"impact\", \"impact\", \"in\", \"in\", \"in\", \"in\", \"in\", \"in\", \"in\", \"in\", \"in\", \"in\", \"include\", \"include\", \"include\", \"include\", \"include\", \"include\", \"include\", \"include\", \"include\", \"include\", \"india\", \"india\", \"india\", \"india\", \"india\", \"india\", \"india\", \"india\", \"india\", \"indian\", \"indian\", \"indian\", \"indian\", \"indian\", \"indian\", \"indian\", \"indian\", \"indian\", \"ingredient\", \"inspection\", \"insurance\", \"insurance\", \"insurance\", \"insurance\", \"insurance\", \"insurgency\", \"investigate\", \"investigate\", \"investigate\", \"investigate\", \"investigate\", \"investigate\", \"israel\", \"israel\", \"israel\", \"israel\", \"israel\", \"israel\", \"israel\", \"israel\", \"israel\", \"israel\", \"israeli\", \"israeli\", \"israeli\", \"israeli\", \"israeli\", \"israeli\", \"israeli\", \"israeli\", \"israeli\", \"israeli\", \"jackson\", \"jackson\", \"japanese\", \"japanese\", \"japanese\", \"japanese\", \"jealous\", \"jeopardise\", \"jetliner\", \"journal\", \"judgment\", \"kandahar\", \"kandahar\", \"kandahar\", \"kandahar\", \"kandahar\", \"kandahar\", \"kandahar\", \"kandahar\", \"kandahar\", \"kentucky\", \"kill\", \"kill\", \"kill\", \"kill\", \"kill\", \"kill\", \"kill\", \"kill\", \"kill\", \"kill\", \"kinton\", \"kirribilli\", \"kirribilli\", \"klim\", \"know\", \"know\", \"know\", \"know\", \"know\", \"know\", \"know\", \"know\", \"know\", \"know\", \"kofi\", \"krishna\", \"krishna\", \"krishna\", \"label\", \"launceston\", \"launceston\", \"lavarch\", \"lawrence\", \"lead\", \"lead\", \"lead\", \"lead\", \"lead\", \"lead\", \"lead\", \"lead\", \"lead\", \"lead\", \"leader\", \"leader\", \"leader\", \"leader\", \"leader\", \"leader\", \"leader\", \"leader\", \"leader\", \"leader\", \"leave\", \"leave\", \"leave\", \"leave\", \"leave\", \"leave\", \"leave\", \"leave\", \"leave\", \"leave\", \"left\", \"level\", \"level\", \"level\", \"level\", \"level\", \"level\", \"level\", \"level\", \"line\", \"line\", \"line\", \"line\", \"line\", \"line\", \"line\", \"line\", \"line\", \"lineup\", \"literacy\", \"lobby\", \"lobby\", \"lockett\", \"lockett\", \"lockett\", \"lord\", \"lord\", \"lord\", \"lord\", \"los\", \"los\", \"lot\", \"lot\", \"lot\", \"lot\", \"lot\", \"lot\", \"lot\", \"lubbers\", \"lung_cancer\", \"lung_cancer\", \"lung_cancer\", \"malaysian\", \"male\", \"male\", \"male\", \"man\", \"man\", \"man\", \"man\", \"man\", \"man\", \"man\", \"man\", \"man\", \"man\", \"mark\", \"mark\", \"mark\", \"mark\", \"mark\", \"mark\", \"mark\", \"mark\", \"masters\", \"match\", \"match\", \"match\", \"match\", \"match\", \"match\", \"match\", \"match\", \"mathematical\", \"mcgrath\", \"mcgrath\", \"mcmenamin\", \"mcmenamin\", \"meal\", \"megawati\", \"member\", \"member\", \"member\", \"member\", \"member\", \"member\", \"member\", \"member\", \"member\", \"member\", \"memorandum\", \"mentha\", \"metre\", \"metre\", \"metre\", \"metre\", \"metre\", \"metre\", \"metre\", \"metre\", \"metre_butterfly\", \"metre_butterfly\", \"metre_butterfly\", \"midwife\", \"milestone\", \"militant\", \"militant\", \"militant\", \"militant\", \"militant\", \"militant\", \"militant\", \"militant\", \"militant\", \"militant\", \"military\", \"military\", \"military\", \"military\", \"military\", \"military\", \"military\", \"military\", \"military\", \"military\", \"mitch\", \"mitchell\", \"mitsubishi\", \"modify\", \"mohamad\", \"mohamad\", \"month\", \"month\", \"month\", \"month\", \"month\", \"month\", \"month\", \"month\", \"month\", \"month\", \"morning\", \"morning\", \"morning\", \"morning\", \"morning\", \"morning\", \"morning\", \"morning\", \"morning\", \"morning\", \"motivate\", \"mugabe\", \"mum\", \"murray\", \"murray\", \"murray\", \"musical\", \"musical\", \"muslims\", \"nabil\", \"narrative\", \"nationals\", \"nauru\", \"need\", \"need\", \"need\", \"need\", \"need\", \"need\", \"need\", \"need\", \"need\", \"need\", \"negative\", \"neighbouring\", \"new\", \"new\", \"new\", \"new\", \"new\", \"new\", \"new\", \"new\", \"new\", \"new\", \"new_zealand\", \"new_zealand\", \"new_zealand\", \"new_zealand\", \"new_zealand\", \"new_zealand\", \"new_zealand\", \"new_zealand\", \"nicky\", \"night\", \"night\", \"night\", \"night\", \"night\", \"night\", \"night\", \"night\", \"night\", \"night\", \"nitrous\", \"nobel\", \"northern_territory\", \"northern_territory\", \"obese\", \"obesity\", \"oecd\", \"offer\", \"offer\", \"offer\", \"offer\", \"offer\", \"offer\", \"offer\", \"offer\", \"offer\", \"official\", \"official\", \"official\", \"official\", \"official\", \"official\", \"official\", \"official\", \"official\", \"official\", \"oil\", \"oil\", \"oil\", \"olivier\", \"olivier\", \"opt\", \"organise\", \"oslo\", \"ought\", \"outperform\", \"owen\", \"owen\", \"owen\", \"oxide\", \"p-3\", \"pacific\", \"pacific\", \"pakistan\", \"pakistan\", \"pakistan\", \"pakistan\", \"pakistan\", \"pakistan\", \"pakistan\", \"pakistan\", \"pakistan\", \"palestinian\", \"palestinian\", \"palestinian\", \"palestinian\", \"palestinian\", \"palestinian\", \"palestinian\", \"palestinian\", \"palestinian\", \"palestinian\", \"palos\", \"palos\", \"paris\", \"paris\", \"paris\", \"party\", \"party\", \"party\", \"party\", \"party\", \"party\", \"party\", \"party\", \"party\", \"passenger\", \"passenger\", \"passenger\", \"passenger\", \"passenger\", \"pay\", \"pay\", \"pay\", \"pay\", \"pay\", \"pay\", \"pay\", \"pay\", \"pay\", \"payout\", \"payout\", \"peace\", \"peace\", \"peace\", \"peace\", \"peace\", \"peace\", \"peace\", \"peace\", \"peace\", \"peace\", \"pension\", \"people\", \"people\", \"people\", \"people\", \"people\", \"people\", \"people\", \"people\", \"people\", \"people\", \"petrol\", \"petrol\", \"petrol\", \"phillip\", \"picton\", \"play\", \"play\", \"play\", \"play\", \"play\", \"play\", \"play\", \"play\", \"pleasant\", \"police\", \"police\", \"police\", \"police\", \"police\", \"police\", \"police\", \"police\", \"police\", \"police\", \"population\", \"population\", \"population\", \"population\", \"potts\", \"potts\", \"power\", \"power\", \"power\", \"power\", \"power\", \"power\", \"power\", \"power\", \"power\", \"power\", \"practical\", \"prayer\", \"president\", \"president\", \"president\", \"president\", \"president\", \"president\", \"president\", \"president\", \"president\", \"president\", \"preventable\", \"prize\", \"processing\", \"product\", \"professor\", \"professor\", \"professor\", \"project\", \"project\", \"project\", \"project\", \"project\", \"project\", \"prosecution\", \"psychiatrist\", \"psychological\", \"publish\", \"qantas\", \"qantas\", \"qantas\", \"qantas\", \"qantas\", \"qantas\", \"qantas\", \"qantas\", \"qantas\", \"queensland\", \"queensland\", \"queensland\", \"queensland\", \"queensland\", \"queensland\", \"queensland\", \"queensland\", \"queensland\", \"queensland\", \"radio\", \"radio\", \"radio\", \"radio\", \"radio\", \"radio\", \"radio\", \"radio\", \"radio\", \"raduyev\", \"rajoub\", \"rate\", \"rate\", \"rate\", \"rate\", \"rate\", \"rate\", \"rate\", \"rate\", \"rate\", \"reach\", \"reach\", \"reach\", \"reach\", \"reach\", \"reach\", \"reach\", \"reach\", \"reach\", \"reduction\", \"redundancy\", \"redundancy\", \"refugee\", \"refugee\", \"refugee\", \"refugee\", \"refugees\", \"region\", \"region\", \"region\", \"region\", \"region\", \"region\", \"region\", \"region\", \"reith\", \"relevance\", \"relocate\", \"remainder\", \"rene\", \"repayment\", \"reply\", \"reply\", \"reply\", \"report\", \"report\", \"report\", \"report\", \"report\", \"report\", \"report\", \"report\", \"report\", \"report\", \"reserve_bank\", \"reserve_bank\", \"reserve_bank\", \"reserve_bank\", \"retiree\", \"return\", \"return\", \"return\", \"return\", \"return\", \"return\", \"return\", \"return\", \"return\", \"return\", \"richter\", \"richter\", \"ridiculous\", \"rise\", \"rise\", \"rise\", \"rise\", \"rise\", \"rise\", \"rise\", \"rise\", \"rise\", \"road\", \"road\", \"road\", \"road\", \"road\", \"road\", \"road\", \"road\", \"rodriguez\", \"rudd\", \"rudd\", \"ruddock\", \"ruddock\", \"ruddock\", \"russian\", \"russian\", \"russian\", \"saa\", \"saa\", \"sacrifice\", \"safeguard\", \"salman\", \"sanitation\", \"sea\", \"sea\", \"sea\", \"sea\", \"sea\", \"sea\", \"sea\", \"sea\", \"season\", \"season\", \"season\", \"season\", \"season\", \"second\", \"second\", \"second\", \"second\", \"second\", \"second\", \"second\", \"second\", \"second\", \"secret\", \"secret\", \"sect\", \"section\", \"security\", \"security\", \"security\", \"security\", \"security\", \"security\", \"security\", \"security\", \"security\", \"security\", \"seeker\", \"senator_hill\", \"senator_hill\", \"senator_hill\", \"senator_hill\", \"senator_hill\", \"senior\", \"senior\", \"senior\", \"senior\", \"senior\", \"senior\", \"senior\", \"senior\", \"senior\", \"service\", \"service\", \"service\", \"service\", \"service\", \"service\", \"service\", \"service\", \"service\", \"service\", \"set\", \"set\", \"set\", \"set\", \"set\", \"set\", \"set\", \"set\", \"set\", \"set\", \"seven\", \"seven\", \"seven\", \"severity\", \"shaft\", \"shed\", \"shed\", \"sheer\", \"sheet\", \"sheldon\", \"sheldon\", \"shelf\", \"shepherd\", \"shepherd\", \"sherrard\", \"shuttle\", \"shuttle\", \"shuttle\", \"shuttle\", \"shuttle\", \"sidestep\", \"significance\", \"size\", \"smell\", \"smith\", \"smuggle\", \"smuggle\", \"so\", \"solder\", \"solution\", \"solution\", \"solution\", \"solvency\", \"solvently\", \"south_african\", \"south_african\", \"south_african\", \"south_african\", \"south_african\", \"space\", \"space\", \"space\", \"space\", \"space\", \"space\", \"spending\", \"spending\", \"spending\", \"spill\", \"spill\", \"spread\", \"spread\", \"spread\", \"spread\", \"spread\", \"spread\", \"sri\", \"start\", \"start\", \"start\", \"start\", \"start\", \"start\", \"start\", \"start\", \"start\", \"start\", \"state\", \"state\", \"state\", \"state\", \"state\", \"state\", \"state\", \"state\", \"state\", \"state\", \"station\", \"station\", \"station\", \"station\", \"station\", \"station\", \"station\", \"station\", \"station\", \"station\", \"statutory\", \"stoltenberg\", \"storybook\", \"stringer\", \"sturesteps\", \"subsidy\", \"subsidy\", \"sultan\", \"sultan\", \"support\", \"support\", \"support\", \"support\", \"support\", \"support\", \"support\", \"support\", \"support\", \"support\", \"supporter\", \"supporter\", \"supporter\", \"supporter\", \"supporter\", \"surrender\", \"surrender\", \"surrender\", \"surrender\", \"surrender\", \"surrender\", \"survey\", \"survey\", \"survey\", \"survey\", \"suspect\", \"suspect\", \"suspect\", \"suspect\", \"suspect\", \"suspect\", \"suspect\", \"suspect\", \"swans\", \"swans\", \"swim\", \"sydney\", \"sydney\", \"sydney\", \"sydney\", \"sydney\", \"sydney\", \"sydney\", \"sydney\", \"sydney\", \"sydney\", \"tailender\", \"tailender\", \"tailender\", \"tailender\", \"take\", \"take\", \"take\", \"take\", \"take\", \"take\", \"take\", \"take\", \"take\", \"take\", \"taliban\", \"taliban\", \"taliban\", \"taliban\", \"taliban\", \"taliban\", \"taliban\", \"taliban\", \"taliban\", \"talk\", \"talk\", \"talk\", \"talk\", \"talk\", \"talk\", \"talk\", \"talk\", \"talk\", \"tank\", \"tank\", \"tank\", \"tank\", \"tank\", \"tank\", \"tank\", \"taxpayer\", \"taxpayer\", \"technology\", \"technology\", \"technology\", \"technology\", \"tell\", \"tell\", \"tell\", \"tell\", \"tell\", \"tell\", \"tell\", \"tell\", \"tell\", \"tell\", \"tension\", \"tension\", \"tension\", \"tension\", \"tension\", \"terminal\", \"terminal\", \"termination\", \"termination\", \"terrorism\", \"terrorism\", \"terrorism\", \"terrorism\", \"terrorism\", \"terrorism\", \"terrorism\", \"terrorism\", \"terrorism\", \"terrorism\", \"test\", \"test\", \"test\", \"test\", \"test\", \"test\", \"test\", \"test\", \"test\", \"test\", \"text\", \"the\", \"the\", \"the\", \"the\", \"the\", \"the\", \"the\", \"the\", \"the\", \"the\", \"the_federal\", \"the_federal\", \"the_federal\", \"the_federal\", \"the_federal\", \"the_federal\", \"the_federal\", \"the_federal\", \"the_federal\", \"the_federal\", \"theatre\", \"there\", \"there\", \"there\", \"there\", \"there\", \"there\", \"there\", \"there\", \"there\", \"there\", \"time\", \"time\", \"time\", \"time\", \"time\", \"time\", \"time\", \"time\", \"time\", \"time\", \"today\", \"today\", \"today\", \"today\", \"today\", \"today\", \"today\", \"today\", \"today\", \"today\", \"tom\", \"tora_bora\", \"tora_bora\", \"tora_bora\", \"tora_bora\", \"tora_bora\", \"tora_bora\", \"tora_bora\", \"tora_bora\", \"tora_bora\", \"torres\", \"treasurer\", \"treasurer\", \"treasurer\", \"troop\", \"troop\", \"troop\", \"troop\", \"troop\", \"troop\", \"troop\", \"troop\", \"troop\", \"troop\", \"trounson\", \"trounson\", \"truss\", \"truss\", \"try\", \"try\", \"try\", \"try\", \"try\", \"try\", \"try\", \"try\", \"try\", \"try\", \"twice\", \"twice\", \"twice\", \"twice\", \"twice\", \"twu\", \"twu\", \"typhoid\", \"unemployment\", \"unemployment\", \"union\", \"union\", \"union\", \"union\", \"union\", \"union\", \"union\", \"union\", \"union\", \"union\", \"united\", \"united_states\", \"united_states\", \"united_states\", \"united_states\", \"united_states\", \"united_states\", \"united_states\", \"united_states\", \"united_states\", \"united_states\", \"us\", \"us\", \"us\", \"us\", \"us\", \"us\", \"us\", \"us\", \"us\", \"us\", \"us1,000\", \"utn\", \"utn\", \"vaughan\", \"vaughan\", \"vaughan\", \"vaughan\", \"vehicle\", \"vehicle\", \"vehicle\", \"vehicle\", \"vehicle\", \"villawood\", \"virus\", \"virus\", \"virus\", \"virus\", \"virus\", \"volleyball\", \"vote\", \"vote\", \"vote\", \"vote\", \"vote\", \"vote\", \"vote\", \"vote\", \"wage_freeze\", \"wage_freeze\", \"wage_freeze\", \"wage_freeze\", \"wage_freeze\", \"want\", \"want\", \"want\", \"want\", \"want\", \"want\", \"want\", \"want\", \"want\", \"want\", \"war\", \"war\", \"war\", \"war\", \"war\", \"war\", \"war\", \"war\", \"war\", \"war\", \"ward\", \"ward\", \"warlord\", \"week\", \"week\", \"week\", \"week\", \"week\", \"week\", \"week\", \"week\", \"week\", \"week\", \"west\", \"west\", \"west\", \"west\", \"west\", \"west\", \"west\", \"west\", \"west\", \"wicket\", \"wicket\", \"wicket\", \"wicket\", \"wicket\", \"wicket\", \"wicket\", \"wicket\", \"wicket\", \"willingness\", \"willingness\", \"willingness\", \"win\", \"win\", \"win\", \"win\", \"win\", \"win\", \"win\", \"win\", \"win\", \"win\", \"work\", \"work\", \"work\", \"work\", \"work\", \"work\", \"work\", \"work\", \"work\", \"work\", \"worker\", \"worker\", \"worker\", \"worker\", \"worker\", \"worker\", \"worker\", \"worker\", \"worker\", \"world_heritage\", \"world_heritage\", \"world_heritage\", \"world_heritage\", \"worry\", \"year\", \"year\", \"year\", \"year\", \"year\", \"year\", \"year\", \"year\", \"year\", \"year\", \"yesterday\", \"yesterday\", \"yesterday\", \"yesterday\", \"yesterday\", \"yesterday\", \"yesterday\", \"yesterday\", \"yesterday\", \"yesterday\", \"zeus\", \"zinni\", \"zinni\", \"zinni\", \"zinni\", \"zinni\"]}, \"R\": 30, \"lambda.step\": 0.01, \"plot.opts\": {\"xlab\": \"PC1\", \"ylab\": \"PC2\"}, \"topic.order\": [6, 8, 1, 7, 9, 10, 2, 4, 3, 5]};\n",
       "\n",
       "function LDAvis_load_lib(url, callback){\n",
       "  var s = document.createElement('script');\n",
       "  s.src = url;\n",
       "  s.async = true;\n",
       "  s.onreadystatechange = s.onload = callback;\n",
       "  s.onerror = function(){console.warn(\"failed to load library \" + url);};\n",
       "  document.getElementsByTagName(\"head\")[0].appendChild(s);\n",
       "}\n",
       "\n",
       "if(typeof(LDAvis) !== \"undefined\"){\n",
       "   // already loaded: just create the visualization\n",
       "   !function(LDAvis){\n",
       "       new LDAvis(\"#\" + \"ldavis_el244431406403425557685211557859\", ldavis_el244431406403425557685211557859_data);\n",
       "   }(LDAvis);\n",
       "}else if(typeof define === \"function\" && define.amd){\n",
       "   // require.js is available: use it to load d3/LDAvis\n",
       "   require.config({paths: {d3: \"https://cdnjs.cloudflare.com/ajax/libs/d3/3.5.5/d3.min\"}});\n",
       "   require([\"d3\"], function(d3){\n",
       "      window.d3 = d3;\n",
       "      LDAvis_load_lib(\"https://cdn.rawgit.com/bmabey/pyLDAvis/files/ldavis.v1.0.0.js\", function(){\n",
       "        new LDAvis(\"#\" + \"ldavis_el244431406403425557685211557859\", ldavis_el244431406403425557685211557859_data);\n",
       "      });\n",
       "    });\n",
       "}else{\n",
       "    // require.js not available: dynamically load d3 & LDAvis\n",
       "    LDAvis_load_lib(\"https://cdnjs.cloudflare.com/ajax/libs/d3/3.5.5/d3.min.js\", function(){\n",
       "         LDAvis_load_lib(\"https://cdn.rawgit.com/bmabey/pyLDAvis/files/ldavis.v1.0.0.js\", function(){\n",
       "                 new LDAvis(\"#\" + \"ldavis_el244431406403425557685211557859\", ldavis_el244431406403425557685211557859_data);\n",
       "            })\n",
       "         });\n",
       "}\n",
       "</script>"
      ],
      "text/plain": [
       "PreparedData(topic_coordinates=              x         y  topics  cluster       Freq\n",
       "topic                                                \n",
       "5     -0.015309 -0.013708       1        1  16.705997\n",
       "7     -0.011459  0.006584       2        1  13.931211\n",
       "0     -0.030698  0.011369       3        1  12.172755\n",
       "6     -0.029383 -0.048057       4        1  11.378810\n",
       "8     -0.009125  0.020033       5        1  10.227584\n",
       "9      0.005224  0.032863       6        1  10.218812\n",
       "1      0.022482  0.036124       7        1  10.182362\n",
       "3      0.070898 -0.034878       8        1   6.276653\n",
       "2      0.009820  0.015524       9        1   5.809732\n",
       "4     -0.012449 -0.025855      10        1   3.096082, topic_info=     Category        Freq         Term       Total  loglift  logprob\n",
       "term                                                                \n",
       "102   Default  493.000000          the  493.000000  30.0000  30.0000\n",
       "234   Default  109.000000   government  109.000000  29.0000  29.0000\n",
       "209   Default  342.000000       -PRON-  342.000000  28.0000  28.0000\n",
       "866   Default   78.000000  palestinian   78.000000  27.0000  27.0000\n",
       "483   Default   78.000000           us   78.000000  26.0000  26.0000\n",
       "855   Default   80.000000      israeli   80.000000  25.0000  25.0000\n",
       "82    Default  111.000000       people  111.000000  24.0000  24.0000\n",
       "326   Default  113.000000    australia  113.000000  23.0000  23.0000\n",
       "2354  Default   30.000000       qantas   30.000000  22.0000  22.0000\n",
       "2319  Default   59.000000      company   59.000000  21.0000  21.0000\n",
       "117   Default   98.000000         year   98.000000  20.0000  20.0000\n",
       "184   Default   25.000000        troop   25.000000  19.0000  19.0000\n",
       "41    Default   67.000000         fire   67.000000  18.0000  18.0000\n",
       "2125  Default   13.000000         cost   13.000000  17.0000  17.0000\n",
       "883   Default  129.000000   australian  129.000000  16.0000  16.0000\n",
       "3510  Default   12.000000        space   12.000000  15.0000  15.0000\n",
       "2173  Default   61.000000       arafat   61.000000  14.0000  14.0000\n",
       "319   Default   67.000000  afghanistan   67.000000  13.0000  13.0000\n",
       "947   Default   43.000000         cent   43.000000  12.0000  12.0000\n",
       "939   Default   42.000000         test   42.000000  11.0000  11.0000\n",
       "273   Default   69.000000         tell   69.000000  10.0000  10.0000\n",
       "907   Default   69.000000       report   69.000000   9.0000   9.0000\n",
       "1319  Default   19.000000         rate   19.000000   8.0000   8.0000\n",
       "1306  Default    5.000000       farmer    5.000000   7.0000   7.0000\n",
       "686   Default   66.000000         kill   66.000000   6.0000   6.0000\n",
       "1300  Default   36.000000       centre   36.000000   5.0000   5.0000\n",
       "1633  Default   18.000000       wicket   18.000000   4.0000   4.0000\n",
       "2054  Default    8.000000      project    8.000000   3.0000   3.0000\n",
       "2067  Default   43.000000        child   43.000000   2.0000   2.0000\n",
       "693   Default   74.000000     official   74.000000   1.0000   1.0000\n",
       "...       ...         ...          ...         ...      ...      ...\n",
       "234   Topic10    6.671933   government  109.613792   0.6760  -4.9597\n",
       "483   Topic10    5.328260           us   78.109215   0.7899  -5.1845\n",
       "866   Topic10    5.299702  palestinian   78.513344   0.7794  -5.1899\n",
       "666   Topic10    2.360240     building   23.113867   1.1934  -5.9988\n",
       "4151  Topic10    0.747401     taxpayer    3.690465   1.8781  -7.1487\n",
       "82    Topic10    5.466192       people  111.102798   0.4632  -5.1590\n",
       "334   Topic10    2.018857     detainee   21.646313   1.1027  -6.1550\n",
       "1471  Topic10    1.719552      defence   17.237677   1.1700  -6.3155\n",
       "41    Topic10    3.553829         fire   67.025284   0.5380  -5.5895\n",
       "102   Topic10   10.166037          the  493.259583  -0.4070  -4.5385\n",
       "2126  Topic10    1.960963      economy   22.456299   1.0369  -6.1841\n",
       "209   Topic10    8.086125       -PRON-  342.584839  -0.2713  -4.7674\n",
       "1300  Topic10    2.471586       centre   36.367920   0.7862  -5.9527\n",
       "686   Topic10    3.262807         kill   66.672272   0.4578  -5.6750\n",
       "319   Topic10    3.274228  afghanistan   67.999588   0.4416  -5.6715\n",
       "855   Topic10    3.542662      israeli   80.477127   0.3519  -5.5927\n",
       "367   Topic10    1.693397  the_federal   18.120378   1.1047  -6.3308\n",
       "117   Topic10    3.391149         year   98.019638   0.1110  -5.6364\n",
       "693   Topic10    2.884682     official   74.036011   0.2299  -5.7982\n",
       "44    Topic10    3.238939        force  101.617722   0.0291  -5.6823\n",
       "186   Topic10    2.019925          war   32.921551   0.6840  -6.1545\n",
       "883   Topic10    3.219803   australian  129.200531  -0.2170  -5.6883\n",
       "2173  Topic10    2.481447       arafat   61.542118   0.2642  -5.9487\n",
       "75    Topic10    2.552138          new   71.956635   0.1359  -5.9206\n",
       "128   Topic10    2.341866         come   63.050018   0.1821  -6.0066\n",
       "907   Topic10    2.205412       report   69.481750   0.0249  -6.0667\n",
       "16    Topic10    1.990537         call   55.348289   0.1498  -6.1692\n",
       "222   Topic10    2.099382          day   97.828224  -0.3665  -6.1159\n",
       "852   Topic10    1.878637      include   45.878300   0.2796  -6.2270\n",
       "1260  Topic10    1.894842      believe   51.996193   0.1630  -6.2184\n",
       "\n",
       "[780 rows x 6 columns], token_table=      Topic      Freq            Term\n",
       "term                                 \n",
       "657       1  0.184984                \n",
       "657       2  0.184984                \n",
       "657       3  0.164430                \n",
       "657       4  0.102769                \n",
       "657       5  0.102769                \n",
       "657       6  0.082215                \n",
       "657       7  0.082215                \n",
       "657       8  0.041108                \n",
       "657       9  0.041108                \n",
       "657      10  0.020554                \n",
       "372       1  0.060366               $\n",
       "372       2  0.241465               $\n",
       "372       3  0.271649               $\n",
       "372       4  0.060366               $\n",
       "372       5  0.060366               $\n",
       "372       6  0.120733               $\n",
       "372       7  0.030183               $\n",
       "372       8  0.090550               $\n",
       "372       9  0.090550               $\n",
       "209       1  0.163463          -PRON-\n",
       "209       2  0.134273          -PRON-\n",
       "209       3  0.192653          -PRON-\n",
       "209       4  0.105083          -PRON-\n",
       "209       5  0.061299          -PRON-\n",
       "209       6  0.093408          -PRON-\n",
       "209       7  0.113840          -PRON-\n",
       "209       8  0.049623          -PRON-\n",
       "209       9  0.064218          -PRON-\n",
       "209      10  0.023352          -PRON-\n",
       "942       1  0.127195       -PRON-_be\n",
       "...     ...       ...             ...\n",
       "4547      3  0.304006  world_heritage\n",
       "4547      4  0.456010  world_heritage\n",
       "4547      9  0.152003  world_heritage\n",
       "4322      7  0.425958           worry\n",
       "117       1  0.163233            year\n",
       "117       2  0.102020            year\n",
       "117       3  0.132626            year\n",
       "117       4  0.071414            year\n",
       "117       5  0.091818            year\n",
       "117       6  0.173435            year\n",
       "117       7  0.091818            year\n",
       "117       8  0.051010            year\n",
       "117       9  0.091818            year\n",
       "117      10  0.030606            year\n",
       "187       1  0.232048       yesterday\n",
       "187       2  0.162433       yesterday\n",
       "187       3  0.139229       yesterday\n",
       "187       4  0.069614       yesterday\n",
       "187       5  0.069614       yesterday\n",
       "187       6  0.092819       yesterday\n",
       "187       7  0.116024       yesterday\n",
       "187       8  0.046410       yesterday\n",
       "187       9  0.023205       yesterday\n",
       "187      10  0.023205       yesterday\n",
       "920       6  0.421286            zeus\n",
       "1297      1  0.093324           zinni\n",
       "1297      2  0.093324           zinni\n",
       "1297      4  0.373295           zinni\n",
       "1297      5  0.093324           zinni\n",
       "1297      7  0.279971           zinni\n",
       "\n",
       "[2238 rows x 3 columns], R=30, lambda_step=0.01, plot_opts={'xlab': 'PC1', 'ylab': 'PC2'}, topic_order=[6, 8, 1, 7, 9, 10, 2, 4, 3, 5])"
      ]
     },
     "execution_count": 132,
     "metadata": {},
     "output_type": "execute_result"
    }
   ],
   "source": [
    "vis"
   ]
  },
  {
   "cell_type": "code",
   "execution_count": null,
   "metadata": {},
   "outputs": [],
   "source": []
  }
 ],
 "metadata": {
  "kernelspec": {
   "display_name": "Python 3",
   "language": "python",
   "name": "python3"
  },
  "language_info": {
   "codemirror_mode": {
    "name": "ipython",
    "version": 3
   },
   "file_extension": ".py",
   "mimetype": "text/x-python",
   "name": "python",
   "nbconvert_exporter": "python",
   "pygments_lexer": "ipython3",
   "version": "3.6.6"
  }
 },
 "nbformat": 4,
 "nbformat_minor": 2
}
