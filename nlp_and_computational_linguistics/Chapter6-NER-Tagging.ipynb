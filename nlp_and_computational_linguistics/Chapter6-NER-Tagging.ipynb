{
 "cells": [
  {
   "cell_type": "markdown",
   "metadata": {},
   "source": [
    "# NER Tagging"
   ]
  },
  {
   "cell_type": "code",
   "execution_count": 1,
   "metadata": {},
   "outputs": [],
   "source": [
    "import spacy\n",
    "nlp = spacy.load('en')"
   ]
  },
  {
   "cell_type": "code",
   "execution_count": 26,
   "metadata": {},
   "outputs": [],
   "source": [
    "sent_0 = nlp(u'Donald Trump visited at the government headquarters in France today.')\n",
    "sent_1 = nlp(u'Emmanuel Jean-Michel Frédéric Macron is a French politician serving as President of France and ex officio Co-Prince of Andorra since 14 May 2017.')\n",
    "sent_2 = nlp(u\"He studied philosophy at Paris Nanterre University, completed a Masters of Public Affairs at Sciences Po and graduated from the Ecole Nationale Administration ( ENA ) in 2004.\")\n",
    "sent_3 = nlp(u'He worked at the Inspectorate General of Finances, and later became an investment banker at Rothschild & Cie Banque.')"
   ]
  },
  {
   "cell_type": "code",
   "execution_count": 7,
   "metadata": {},
   "outputs": [
    {
     "name": "stdout",
     "output_type": "stream",
     "text": [
      "('Donald', 'PERSON')\n",
      "('Trump', 'PERSON')\n",
      "('visited', '')\n",
      "('at', '')\n",
      "('the', '')\n",
      "('government', '')\n",
      "('headquarters', '')\n",
      "('in', '')\n",
      "('France', 'GPE')\n",
      "('today', 'DATE')\n",
      "('.', '')\n"
     ]
    }
   ],
   "source": [
    "for token in sent_0:\n",
    "    print((token.text, token.ent_type_))"
   ]
  },
  {
   "cell_type": "code",
   "execution_count": 8,
   "metadata": {},
   "outputs": [
    {
     "name": "stdout",
     "output_type": "stream",
     "text": [
      "('Donald Trump', 'PERSON')\n",
      "('France', 'GPE')\n",
      "('today', 'DATE')\n"
     ]
    }
   ],
   "source": [
    "for ent in sent_0.ents:\n",
    "    print((ent.text, ent.label_))"
   ]
  },
  {
   "cell_type": "code",
   "execution_count": 10,
   "metadata": {},
   "outputs": [
    {
     "name": "stdout",
     "output_type": "stream",
     "text": [
      "('Emmanuel', 'PERSON')\n",
      "('Jean', 'PERSON')\n",
      "('-', 'PERSON')\n",
      "('Michel', 'PERSON')\n",
      "('Frédéric', 'PERSON')\n",
      "('Macron', 'PERSON')\n",
      "('is', '')\n",
      "('a', '')\n",
      "('French', 'NORP')\n",
      "('politician', '')\n",
      "('serving', '')\n",
      "('as', '')\n",
      "('President', '')\n",
      "('of', '')\n",
      "('France', 'GPE')\n",
      "('and', '')\n",
      "('ex', '')\n",
      "('officio', '')\n",
      "('Co', 'LOC')\n",
      "('-', 'LOC')\n",
      "('Prince', 'LOC')\n",
      "('of', 'LOC')\n",
      "('Andorra', 'LOC')\n",
      "('since', '')\n",
      "('14', 'DATE')\n",
      "('May', 'DATE')\n",
      "('2017', 'DATE')\n",
      "('.', '')\n"
     ]
    }
   ],
   "source": [
    "for token in sent_1:\n",
    "    print((token.text, token.ent_type_))"
   ]
  },
  {
   "cell_type": "code",
   "execution_count": 11,
   "metadata": {},
   "outputs": [
    {
     "name": "stdout",
     "output_type": "stream",
     "text": [
      "('Emmanuel Jean-Michel Frédéric Macron', 'PERSON')\n",
      "('French', 'NORP')\n",
      "('France', 'GPE')\n",
      "('Co-Prince of Andorra', 'LOC')\n",
      "('14 May 2017', 'DATE')\n"
     ]
    }
   ],
   "source": [
    "for ent in sent_1.ents:\n",
    "    print((ent.text, ent.label_))"
   ]
  },
  {
   "cell_type": "code",
   "execution_count": 27,
   "metadata": {},
   "outputs": [
    {
     "name": "stdout",
     "output_type": "stream",
     "text": [
      "('He', '')\n",
      "('studied', '')\n",
      "('philosophy', '')\n",
      "('at', '')\n",
      "('Paris', 'ORG')\n",
      "('Nanterre', 'ORG')\n",
      "('University', 'ORG')\n",
      "(',', '')\n",
      "('completed', '')\n",
      "('a', '')\n",
      "('Masters', 'ORG')\n",
      "('of', 'ORG')\n",
      "('Public', 'ORG')\n",
      "('Affairs', 'ORG')\n",
      "('at', '')\n",
      "('Sciences', 'PERSON')\n",
      "('Po', 'PERSON')\n",
      "('and', '')\n",
      "('graduated', '')\n",
      "('from', '')\n",
      "('the', 'ORG')\n",
      "('Ecole', 'ORG')\n",
      "('Nationale', 'ORG')\n",
      "('Administration', 'ORG')\n",
      "('(', 'ORG')\n",
      "('ENA', 'ORG')\n",
      "(')', '')\n",
      "('in', '')\n",
      "('2004', 'DATE')\n",
      "('.', '')\n"
     ]
    }
   ],
   "source": [
    "for token in sent_2:\n",
    "    print((token.text, token.ent_type_))"
   ]
  },
  {
   "cell_type": "code",
   "execution_count": 28,
   "metadata": {},
   "outputs": [
    {
     "name": "stdout",
     "output_type": "stream",
     "text": [
      "('Paris Nanterre University', 'ORG')\n",
      "('Masters of Public Affairs', 'ORG')\n",
      "('Sciences Po', 'PERSON')\n",
      "('the Ecole Nationale Administration ( ENA', 'ORG')\n",
      "('2004', 'DATE')\n"
     ]
    }
   ],
   "source": [
    "for ent in sent_2.ents:\n",
    "    print((ent.text, ent.label_))"
   ]
  },
  {
   "cell_type": "code",
   "execution_count": 29,
   "metadata": {},
   "outputs": [
    {
     "name": "stdout",
     "output_type": "stream",
     "text": [
      "('He', '')\n",
      "('worked', '')\n",
      "('at', '')\n",
      "('the', 'ORG')\n",
      "('Inspectorate', 'ORG')\n",
      "('General', 'ORG')\n",
      "('of', 'ORG')\n",
      "('Finances', 'ORG')\n",
      "(',', '')\n",
      "('and', '')\n",
      "('later', '')\n",
      "('became', '')\n",
      "('an', '')\n",
      "('investment', '')\n",
      "('banker', '')\n",
      "('at', '')\n",
      "('Rothschild', 'ORG')\n",
      "('&', 'ORG')\n",
      "('Cie', 'ORG')\n",
      "('Banque', 'ORG')\n",
      "('.', '')\n"
     ]
    }
   ],
   "source": [
    "for token in sent_3:\n",
    "    print((token.text, token.ent_type_))"
   ]
  },
  {
   "cell_type": "code",
   "execution_count": 34,
   "metadata": {},
   "outputs": [
    {
     "name": "stdout",
     "output_type": "stream",
     "text": [
      "('the Inspectorate General of Finances', 'ORG')\n",
      "('Rothschild & Cie Banque', 'ORG')\n"
     ]
    }
   ],
   "source": [
    "for ent in sent_3.ents:\n",
    "    print((ent.text, ent.label_))"
   ]
  },
  {
   "cell_type": "markdown",
   "metadata": {},
   "source": [
    "# Training NER-Tagger"
   ]
  },
  {
   "cell_type": "code",
   "execution_count": 36,
   "metadata": {},
   "outputs": [],
   "source": [
    "import random\n",
    "from pathlib import Path\n",
    "import spacy"
   ]
  },
  {
   "cell_type": "code",
   "execution_count": 35,
   "metadata": {},
   "outputs": [],
   "source": [
    "TRAIN_DATA = [\n",
    "    ('Who is Shaka Khan?', {\n",
    "        'entities': [(7, 17, 'PERSON')]\n",
    "    }),\n",
    "    ('I like London and Berlin.', {\n",
    "        'entities': [(7, 13, 'LOC'), (18, 24, 'LOC')]\n",
    "    })\n",
    "]"
   ]
  },
  {
   "cell_type": "code",
   "execution_count": 38,
   "metadata": {},
   "outputs": [
    {
     "name": "stdout",
     "output_type": "stream",
     "text": [
      "Created blank 'en' model\n",
      "Warning: Unnamed vectors -- this won't allow multiple vectors models to be loaded. (Shape: (0, 0))\n",
      "{'ner': 12.199768738465764}\n",
      "{'ner': 11.513408303260803}\n",
      "{'ner': 15.573740243911743}\n",
      "{'ner': 11.35499358177185}\n",
      "{'ner': 10.973198054301747}\n",
      "{'ner': 9.411028406186672}\n",
      "{'ner': 8.649543368980577}\n",
      "{'ner': 6.390611172650413}\n",
      "{'ner': 4.647946692830654}\n",
      "{'ner': 5.947591517907044}\n",
      "{'ner': 4.3240432240106585}\n",
      "{'ner': 3.5617322492489656}\n",
      "{'ner': 3.8325075377099513}\n",
      "{'ner': 6.087161831590495}\n",
      "{'ner': 5.87361541650935}\n",
      "{'ner': 3.0081661968533178}\n",
      "{'ner': 5.450491458907945}\n",
      "{'ner': 4.782577121783454}\n",
      "{'ner': 0.011780621182735434}\n",
      "{'ner': 2.637216401222697}\n",
      "{'ner': 3.693213673991523}\n",
      "{'ner': 2.062314101794708}\n",
      "{'ner': 1.2336936068781257}\n",
      "{'ner': 1.9985481408451848}\n",
      "{'ner': 0.9933587312698368}\n",
      "{'ner': 0.010272905720546684}\n",
      "{'ner': 1.943981082357273}\n",
      "{'ner': 6.777601073564012e-10}\n",
      "{'ner': 4.231733765828193e-10}\n",
      "{'ner': 1.9640578031541216}\n",
      "{'ner': 2.3289289733617304e-14}\n",
      "{'ner': 0.002388502017144102}\n",
      "{'ner': 7.793507125548667e-08}\n",
      "{'ner': 1.0148375034332275}\n",
      "{'ner': 0.011213295658495298}\n",
      "{'ner': 4.068295986602716e-07}\n",
      "{'ner': 1.9570468027077368}\n",
      "{'ner': 2.6684785022563373e-18}\n",
      "{'ner': 3.5420503991190866e-05}\n",
      "{'ner': 2.2330712138828182e-20}\n",
      "{'ner': 7.926763601064749e-08}\n",
      "{'ner': 1.0832546487009072e-08}\n",
      "{'ner': 6.733094241725785e-20}\n",
      "{'ner': 4.54435324741644e-14}\n",
      "{'ner': 1.0286995077988924e-10}\n",
      "{'ner': 1.2301351496295495e-15}\n",
      "{'ner': 6.962896253794543e-18}\n",
      "{'ner': 4.189536031725621e-16}\n",
      "{'ner': 1.0499836195341598e-06}\n",
      "{'ner': 3.7965365728978106e-22}\n",
      "{'ner': 1.9491832118038272e-10}\n",
      "{'ner': 7.974474556262737e-07}\n",
      "{'ner': 4.518930803551302e-12}\n",
      "{'ner': 6.574264507103907e-23}\n",
      "{'ner': 2.6416160352889448e-17}\n",
      "{'ner': 1.4678573388698872e-16}\n",
      "{'ner': 1.2467086846060578e-12}\n",
      "{'ner': 0.0025864546187292677}\n",
      "{'ner': 5.719031708278922e-13}\n",
      "{'ner': 7.882141325226222e-07}\n",
      "{'ner': 7.688382359530305e-12}\n",
      "{'ner': 8.47003486020295e-09}\n",
      "{'ner': 1.2299038602133749e-15}\n",
      "{'ner': 2.1398786049791846e-15}\n",
      "{'ner': 2.605799533998459e-11}\n",
      "{'ner': 1.470660563393955e-23}\n",
      "{'ner': 6.757983149640689e-16}\n",
      "{'ner': 0.04271060559358375}\n",
      "{'ner': 2.883813637148959e-09}\n",
      "{'ner': 1.8939974185722916e-09}\n",
      "{'ner': 7.829477897998072e-14}\n",
      "{'ner': 2.522632984005857e-19}\n",
      "{'ner': 4.6219174432085325e-27}\n",
      "{'ner': 5.577368293748931e-09}\n",
      "{'ner': 2.9821493344890973e-13}\n",
      "{'ner': 7.0425529800268034e-15}\n",
      "{'ner': 3.1291724766902007e-09}\n",
      "{'ner': 5.845925617197653e-05}\n",
      "{'ner': 1.5439891948836141e-19}\n",
      "{'ner': 3.975057071132122e-13}\n",
      "{'ner': 1.1158212966722745e-15}\n",
      "{'ner': 2.1419482577250047e-20}\n",
      "{'ner': 4.079455740789674e-18}\n",
      "{'ner': 1.2501802735282813e-25}\n",
      "{'ner': 1.9111800944297908e-16}\n",
      "{'ner': 1.997382514969068e-05}\n",
      "{'ner': 0.007143619526939746}\n",
      "{'ner': 2.3409492444315696e-25}\n",
      "{'ner': 2.6591636771175316e-15}\n",
      "{'ner': 7.995698505300902e-23}\n",
      "{'ner': 2.4382787616693104e-14}\n",
      "{'ner': 1.8412765397876757e-18}\n",
      "{'ner': 1.0797620234370697e-05}\n",
      "{'ner': 4.699116011343682e-23}\n",
      "{'ner': 1.1287783630332167e-20}\n",
      "{'ner': 1.0880916551624978e-12}\n",
      "{'ner': 3.3204257361992392e-21}\n",
      "{'ner': 1.3158558368015473e-15}\n",
      "{'ner': 0.04997562244679325}\n",
      "{'ner': 4.108560280186025e-12}\n",
      "Entities [('Shaka Khan', 'PERSON')]\n",
      "Tokens [('Who', '', 2), ('is', '', 2), ('Shaka', 'PERSON', 3), ('Khan', 'PERSON', 1), ('?', '', 2)]\n",
      "Entities [('London', 'LOC'), ('Berlin', 'LOC')]\n",
      "Tokens [('I', '', 2), ('like', '', 2), ('London', 'LOC', 3), ('and', '', 2), ('Berlin', 'LOC', 3), ('.', '', 2)]\n"
     ]
    }
   ],
   "source": [
    "def main(model=None, output_dir=None, n_iter=100):\n",
    "    \"\"\"Load the model, set up the pipeline and train the entity recognizer.\"\"\"\n",
    "    if model is not None:\n",
    "        nlp = spacy.load(model)  # load existing spaCy model\n",
    "        print(\"Loaded model '%s'\" % model)\n",
    "    else:\n",
    "        nlp = spacy.blank('en')  # create blank Language class\n",
    "        print(\"Created blank 'en' model\")\n",
    "\n",
    "    # create the built-in pipeline components and add them to the pipeline\n",
    "    # nlp.create_pipe works for built-ins that are registered with spaCy\n",
    "    if 'ner' not in nlp.pipe_names:\n",
    "        ner = nlp.create_pipe('ner')\n",
    "        nlp.add_pipe(ner, last=True)\n",
    "    # otherwise, get it so we can add labels\n",
    "    else:\n",
    "        ner = nlp.get_pipe('ner')\n",
    "\n",
    "    # add labels\n",
    "    for _, annotations in TRAIN_DATA:\n",
    "        for ent in annotations.get('entities'):\n",
    "            ner.add_label(ent[2])\n",
    "\n",
    "    # get names of other pipes to disable them during training\n",
    "    other_pipes = [pipe for pipe in nlp.pipe_names if pipe != 'ner']\n",
    "    with nlp.disable_pipes(*other_pipes):  # only train NER\n",
    "        optimizer = nlp.begin_training()\n",
    "        for itn in range(n_iter):\n",
    "            random.shuffle(TRAIN_DATA)\n",
    "            losses = {}\n",
    "            for text, annotations in TRAIN_DATA:\n",
    "                nlp.update(\n",
    "                    [text],  # batch of texts\n",
    "                    [annotations],  # batch of annotations\n",
    "                    drop=0.5,  # dropout - make it harder to memorise data\n",
    "                    sgd=optimizer,  # callable to update weights\n",
    "                    losses=losses)\n",
    "            print(losses)\n",
    "\n",
    "    # test the trained model\n",
    "    for text, _ in TRAIN_DATA:\n",
    "        doc = nlp(text)\n",
    "        print('Entities', [(ent.text, ent.label_) for ent in doc.ents])\n",
    "        print('Tokens', [(t.text, t.ent_type_, t.ent_iob) for t in doc])\n",
    "\n",
    "    # save model to output directory\n",
    "    if output_dir is not None:\n",
    "        output_dir = Path(output_dir)\n",
    "        if not output_dir.exists():\n",
    "            output_dir.mkdir()\n",
    "        nlp.to_disk(output_dir)\n",
    "        print(\"Saved model to\", output_dir)\n",
    "\n",
    "        # test the saved model\n",
    "        print(\"Loading from\", output_dir)\n",
    "        nlp2 = spacy.load(output_dir)\n",
    "        for text, _ in TRAIN_DATA:\n",
    "            doc = nlp2(text)\n",
    "            print('Entities', [(ent.text, ent.label_) for ent in doc.ents])\n",
    "            print('Tokens', [(t.text, t.ent_type_, t.ent_iob) for t in doc])\n",
    "\n",
    "\n",
    "if __name__ == '__main__':\n",
    "    main()"
   ]
  },
  {
   "cell_type": "markdown",
   "metadata": {},
   "source": [
    "Example of training an additional entity type\n",
    "This script shows how to add a new entity type to an existing pre-trained NER\n",
    "model. To keep the example short and simple, only four sentences are provided\n",
    "as examples. In practice, you'll need many more — a few hundred would be a\n",
    "good start. You will also likely need to mix in examples of other entity\n",
    "types, which might be obtained by running the entity recognizer over unlabelled\n",
    "sentences, and adding their annotations to the training set.\n",
    "The actual training is performed by looping over the examples, and calling\n",
    "`nlp.entity.update()`. The `update()` method steps through the words of the\n",
    "input. At each word, it makes a prediction. It then consults the annotations\n",
    "provided on the GoldParse instance, to see whether it was right. If it was\n",
    "wrong, it adjusts its weights so that the correct action will score higher\n",
    "next time.\n",
    "After training your model, you can save it to a directory. We recommend\n",
    "wrapping models as Python packages, for ease of deployment.\n",
    "For more details, see the documentation:\n",
    "* Training: https://spacy.io/usage/training\n",
    "* NER: https://spacy.io/usage/linguistic-features#named-entities\n",
    "Compatible with: spaCy v2.0.0+"
   ]
  },
  {
   "cell_type": "code",
   "execution_count": 42,
   "metadata": {},
   "outputs": [],
   "source": [
    "LABEL = 'ANIMAL'\n",
    "TRAIN_DATA = [\n",
    "    (\"Horses are too tall and they pretend to care about your feelings\", {\n",
    "        'entities': [(0, 6, 'ANIMAL')]\n",
    "    }),\n",
    "\n",
    "    (\"Do they bite?\", {\n",
    "        'entities': []\n",
    "    }),\n",
    "\n",
    "    (\"horses are too tall and they pretend to care about your feelings\", {\n",
    "        'entities': [(0, 6, 'ANIMAL')]\n",
    "    }),\n",
    "\n",
    "    (\"horses pretend to care about your feelings\", {\n",
    "        'entities': [(0, 6, 'ANIMAL')]\n",
    "    }),\n",
    "\n",
    "    (\"they pretend to care about your feelings, those horses\", {\n",
    "        'entities': [(48, 54, 'ANIMAL')]\n",
    "    }),\n",
    "\n",
    "    (\"horses?\", {\n",
    "        'entities': [(0, 6, 'ANIMAL')]\n",
    "    })\n",
    "]"
   ]
  },
  {
   "cell_type": "code",
   "execution_count": 43,
   "metadata": {},
   "outputs": [
    {
     "name": "stdout",
     "output_type": "stream",
     "text": [
      "Created blank 'en' model\n",
      "Warning: Unnamed vectors -- this won't allow multiple vectors models to be loaded. (Shape: (0, 0))\n",
      "{'ner': 32.08625324785015}\n",
      "{'ner': 7.327082341743982}\n",
      "{'ner': 4.014112027122389}\n",
      "{'ner': 1.941191638966806}\n",
      "{'ner': 5.188534382147202}\n",
      "{'ner': 2.1804696872675716e-08}\n",
      "{'ner': 1.709496386388387}\n",
      "{'ner': 2.000000004300269}\n",
      "{'ner': 4.3942900795221047e-07}\n",
      "{'ner': 5.675983793450685e-11}\n",
      "{'ner': 1.0282989332521685e-06}\n",
      "{'ner': 0.00024232443012479728}\n",
      "{'ner': 1.3095552429218662e-14}\n",
      "{'ner': 1.763662133395246e-08}\n",
      "{'ner': 0.00027838388449496934}\n",
      "{'ner': 7.2245108139340714e-12}\n",
      "{'ner': 2.801903138173593e-11}\n",
      "{'ner': 1.614592796453162}\n",
      "{'ner': 6.254393728426677e-24}\n",
      "{'ner': 6.181376252261e-20}\n",
      "Entities in 'Do you like horses?'\n",
      "ANIMAL horses\n"
     ]
    }
   ],
   "source": [
    "def main(model=None, new_model_name='animal', output_dir=None, n_iter=20):\n",
    "    \"\"\"Set up the pipeline and entity recognizer, and train the new entity.\"\"\"\n",
    "    if model is not None:\n",
    "        nlp = spacy.load(model)  # load existing spaCy model\n",
    "        print(\"Loaded model '%s'\" % model)\n",
    "    else:\n",
    "        nlp = spacy.blank('en')  # create blank Language class\n",
    "        print(\"Created blank 'en' model\")\n",
    "    # Add entity recognizer to model if it's not in the pipeline\n",
    "    # nlp.create_pipe works for built-ins that are registered with spaCy\n",
    "    if 'ner' not in nlp.pipe_names:\n",
    "        ner = nlp.create_pipe('ner')\n",
    "        nlp.add_pipe(ner)\n",
    "    # otherwise, get it, so we can add labels to it\n",
    "    else:\n",
    "        ner = nlp.get_pipe('ner')\n",
    "\n",
    "    ner.add_label(LABEL)   # add new entity label to entity recognizer\n",
    "    if model is None:\n",
    "        optimizer = nlp.begin_training()\n",
    "    else:\n",
    "        # Note that 'begin_training' initializes the models, so it'll zero out\n",
    "        # existing entity types.\n",
    "        optimizer = nlp.entity.create_optimizer()\n",
    "\n",
    "\n",
    "\n",
    "    # get names of other pipes to disable them during training\n",
    "    other_pipes = [pipe for pipe in nlp.pipe_names if pipe != 'ner']\n",
    "    with nlp.disable_pipes(*other_pipes):  # only train NER\n",
    "        for itn in range(n_iter):\n",
    "            random.shuffle(TRAIN_DATA)\n",
    "            losses = {}\n",
    "            for text, annotations in TRAIN_DATA:\n",
    "                nlp.update([text], [annotations], sgd=optimizer, drop=0.35,\n",
    "                           losses=losses)\n",
    "            print(losses)\n",
    "\n",
    "    # test the trained model\n",
    "    test_text = 'Do you like horses?'\n",
    "    doc = nlp(test_text)\n",
    "    print(\"Entities in '%s'\" % test_text)\n",
    "    for ent in doc.ents:\n",
    "        print(ent.label_, ent.text)\n",
    "\n",
    "    # save model to output directory\n",
    "    if output_dir is not None:\n",
    "        output_dir = Path(output_dir)\n",
    "        if not output_dir.exists():\n",
    "            output_dir.mkdir()\n",
    "        nlp.meta['name'] = new_model_name  # rename model\n",
    "        nlp.to_disk(output_dir)\n",
    "        print(\"Saved model to\", output_dir)\n",
    "\n",
    "        # test the saved model\n",
    "        print(\"Loading from\", output_dir)\n",
    "        nlp2 = spacy.load(output_dir)\n",
    "        doc2 = nlp2(test_text)\n",
    "        for ent in doc2.ents:\n",
    "            print(ent.label_, ent.text)\n",
    "\n",
    "\n",
    "if __name__ == '__main__':\n",
    "    main()"
   ]
  },
  {
   "cell_type": "code",
   "execution_count": null,
   "metadata": {},
   "outputs": [],
   "source": []
  }
 ],
 "metadata": {
  "kernelspec": {
   "display_name": "Python 3",
   "language": "python",
   "name": "python3"
  },
  "language_info": {
   "codemirror_mode": {
    "name": "ipython",
    "version": 3
   },
   "file_extension": ".py",
   "mimetype": "text/x-python",
   "name": "python",
   "nbconvert_exporter": "python",
   "pygments_lexer": "ipython3",
   "version": "3.6.6"
  }
 },
 "nbformat": 4,
 "nbformat_minor": 2
}
