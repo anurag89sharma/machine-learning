{
 "cells": [
  {
   "cell_type": "markdown",
   "metadata": {},
   "source": [
    "Creating your First Graph and Running it in a Session"
   ]
  },
  {
   "cell_type": "code",
   "execution_count": 8,
   "metadata": {},
   "outputs": [],
   "source": [
    "import tensorflow as tf\n",
    "\n",
    "x = tf.Variable(3, name=\"x\")\n",
    "y = tf.Variable(4, name=\"y\")\n",
    "\n",
    "f = x*x*y + y + 2"
   ]
  },
  {
   "cell_type": "code",
   "execution_count": 9,
   "metadata": {},
   "outputs": [
    {
     "name": "stdout",
     "output_type": "stream",
     "text": [
      "42\n"
     ]
    }
   ],
   "source": [
    "with tf.Session() as sess:\n",
    "    x.initializer.run()\n",
    "    y.initializer.run()\n",
    "    result = f.eval()\n",
    "    print(result)"
   ]
  },
  {
   "cell_type": "markdown",
   "metadata": {},
   "source": [
    "Global variable initializer"
   ]
  },
  {
   "cell_type": "code",
   "execution_count": 10,
   "metadata": {},
   "outputs": [
    {
     "name": "stdout",
     "output_type": "stream",
     "text": [
      "42\n"
     ]
    }
   ],
   "source": [
    "init = tf.global_variables_initializer()\n",
    "\n",
    "with tf.Session() as sess:\n",
    "    init.run()\n",
    "    result = f.eval()\n",
    "    print(result)"
   ]
  },
  {
   "cell_type": "markdown",
   "metadata": {},
   "source": [
    "Managing Graph"
   ]
  },
  {
   "cell_type": "code",
   "execution_count": 11,
   "metadata": {},
   "outputs": [
    {
     "data": {
      "text/plain": [
       "True"
      ]
     },
     "execution_count": 11,
     "metadata": {},
     "output_type": "execute_result"
    }
   ],
   "source": [
    "# Any node that is created is automatically added to the default graph\n",
    "x1 = tf.Variable(1, name=\"x1\")\n",
    "x1.graph is tf.get_default_graph()"
   ]
  },
  {
   "cell_type": "code",
   "execution_count": 5,
   "metadata": {},
   "outputs": [
    {
     "data": {
      "text/plain": [
       "True"
      ]
     },
     "execution_count": 5,
     "metadata": {},
     "output_type": "execute_result"
    }
   ],
   "source": [
    "# Managing multiple independent graph\n",
    "graph = tf.Graph()\n",
    "with graph.as_default():\n",
    "    x2 = tf.Variable(2, name=\"x2\")\n",
    "    \n",
    "x2.graph is graph"
   ]
  },
  {
   "cell_type": "code",
   "execution_count": 6,
   "metadata": {},
   "outputs": [
    {
     "data": {
      "text/plain": [
       "False"
      ]
     },
     "execution_count": 6,
     "metadata": {},
     "output_type": "execute_result"
    }
   ],
   "source": [
    "x2.graph is tf.get_default_graph()"
   ]
  },
  {
   "cell_type": "markdown",
   "metadata": {},
   "source": [
    "Lifecycle of a Node Value\n",
    "\n",
    "All node values are dropped between graph runs, except variable values which are maintained by the session across graph runs."
   ]
  },
  {
   "cell_type": "code",
   "execution_count": 7,
   "metadata": {},
   "outputs": [
    {
     "name": "stdout",
     "output_type": "stream",
     "text": [
      "10\n",
      "15\n"
     ]
    }
   ],
   "source": [
    "w = tf.constant(3)\n",
    "x = w + 2\n",
    "y = x + 5\n",
    "z = x * 3\n",
    "\n",
    "# Below code evaluates w & x twice\n",
    "\n",
    "with tf.Session() as sess:\n",
    "    print(y.eval())\n",
    "    print(z.eval())"
   ]
  },
  {
   "cell_type": "markdown",
   "metadata": {},
   "source": [
    "If one wants to evaluate y & z effectively, without evaluating w & x twice, one must evaluate y & z in just one graph run"
   ]
  },
  {
   "cell_type": "code",
   "execution_count": 8,
   "metadata": {},
   "outputs": [
    {
     "name": "stdout",
     "output_type": "stream",
     "text": [
      "10\n",
      "15\n"
     ]
    }
   ],
   "source": [
    "with tf.Session() as sess:\n",
    "    y_val, z_val = sess.run([y, z])\n",
    "    print(y_val)\n",
    "    print(z_val)"
   ]
  },
  {
   "cell_type": "markdown",
   "metadata": {},
   "source": [
    "Linear Regression with TensorFlow"
   ]
  },
  {
   "cell_type": "code",
   "execution_count": 13,
   "metadata": {},
   "outputs": [],
   "source": [
    "import numpy as np\n",
    "from sklearn.datasets import fetch_california_housing\n",
    "\n",
    "housing = fetch_california_housing()\n",
    "m, n = housing.data.shape"
   ]
  },
  {
   "cell_type": "code",
   "execution_count": 14,
   "metadata": {},
   "outputs": [
    {
     "name": "stdout",
     "output_type": "stream",
     "text": [
      "20640 8\n"
     ]
    }
   ],
   "source": [
    "print(m, n)"
   ]
  },
  {
   "cell_type": "code",
   "execution_count": 15,
   "metadata": {},
   "outputs": [
    {
     "name": "stdout",
     "output_type": "stream",
     "text": [
      "[[-3.7185181e+01]\n",
      " [ 4.3633747e-01]\n",
      " [ 9.3952334e-03]\n",
      " [-1.0711310e-01]\n",
      " [ 6.4479220e-01]\n",
      " [-4.0338000e-06]\n",
      " [-3.7813708e-03]\n",
      " [-4.2348403e-01]\n",
      " [-4.3721911e-01]]\n"
     ]
    }
   ],
   "source": [
    "# this line prevents creation of duplicate nodes\n",
    "tf.reset_default_graph()\n",
    "\n",
    "housing_data_plus_bias = np.c_[np.ones((m, 1)), housing.data]\n",
    "\n",
    "X = tf.constant(housing_data_plus_bias, dtype=tf.float32, name=\"X\")\n",
    "y = tf.constant(housing.target.reshape(-1, 1), dtype=tf.float32, name=\"y\")\n",
    "\n",
    "XT = tf.transpose(X)\n",
    "\n",
    "# theta = ((XT * X) ^ -1) * XT * y\n",
    "\n",
    "theta = tf.matmul(tf.matmul(tf.matrix_inverse(tf.matmul(XT, X)), XT), y)\n",
    "\n",
    "with tf.Session() as sess:\n",
    "    theta_value = theta.eval()\n",
    "    \n",
    "    print(theta_value)"
   ]
  },
  {
   "cell_type": "markdown",
   "metadata": {},
   "source": [
    "Gradient Descent"
   ]
  },
  {
   "cell_type": "code",
   "execution_count": 16,
   "metadata": {},
   "outputs": [
    {
     "name": "stdout",
     "output_type": "stream",
     "text": [
      "loss/sub\n",
      "loss/mse\n"
     ]
    }
   ],
   "source": [
    "from sklearn.preprocessing import StandardScaler\n",
    "scaler = StandardScaler()\n",
    "scaler.fit(housing.data)\n",
    "\n",
    "scaled_housing_data_plus_bias = np.c_[np.ones((m, 1)), scaler.transform(housing.data)]\n",
    "n_epochs = 1000\n",
    "learning_rate = 0.01\n",
    "\n",
    "X = tf.constant(scaled_housing_data_plus_bias, dtype=tf.float32, name=\"X\")\n",
    "y = tf.constant(housing.target.reshape(-1, 1), dtype=tf.float32, name=\"y\")\n",
    "\n",
    "theta = tf.Variable(tf.random_uniform([n + 1, 1], -1.0, 1.0), name=\"theta\")\n",
    "y_pred = tf.matmul(X, theta, name=\"predictions\")\n",
    "\n",
    "\n",
    "# Name scope\n",
    "with tf.name_scope(\"loss\") as scope:\n",
    "    error = y_pred - y\n",
    "    mse = tf.reduce_mean(tf.square(error), name=\"mse\")\n",
    "    \n",
    "print(error.op.name)\n",
    "print(mse.op.name)"
   ]
  },
  {
   "cell_type": "code",
   "execution_count": 17,
   "metadata": {},
   "outputs": [
    {
     "name": "stdout",
     "output_type": "stream",
     "text": [
      "Epoch 0 MSE =  12.726853\n",
      "Epoch 100 MSE =  0.8674888\n",
      "Epoch 200 MSE =  0.6087743\n",
      "Epoch 300 MSE =  0.5789399\n",
      "Epoch 400 MSE =  0.56418663\n",
      "Epoch 500 MSE =  0.5538119\n",
      "Epoch 600 MSE =  0.54622906\n",
      "Epoch 700 MSE =  0.5406549\n",
      "Epoch 800 MSE =  0.5365457\n",
      "Epoch 900 MSE =  0.5335081\n",
      "[[ 2.0685525 ]\n",
      " [ 0.843525  ]\n",
      " [ 0.14813282]\n",
      " [-0.24171986]\n",
      " [ 0.26398513]\n",
      " [ 0.00600371]\n",
      " [-0.04210785]\n",
      " [-0.67263275]\n",
      " [-0.64248383]]\n"
     ]
    }
   ],
   "source": [
    "# Manually computing the gradient\n",
    "# gradients = 2/m * tf.matmul(tf.transpose(X), error)\n",
    "# training_op = tf.assign(theta, theta - learning_rate * gradients)\n",
    "\n",
    "# Using autodiff\n",
    "# gradients = tf.gradients(mse, [theta])[0]\n",
    "# training_op = tf.assign(theta, theta - learning_rate * gradients)\n",
    "\n",
    "# Using an optimizer \n",
    "optimizer = tf.train.GradientDescentOptimizer(learning_rate=learning_rate)\n",
    "training_op = optimizer.minimize(mse)\n",
    "\n",
    "# Momentum optimizer\n",
    "# optimizer = tf.train.MomentumOptimizer(learning_rate=learning_rate, momentum=0.9)\n",
    "# training_op = optimizer.minimize(mse)\n",
    "\n",
    "# Saving the model\n",
    "init = tf.global_variables_initializer()\n",
    "saver = tf.train.Saver()\n",
    "\n",
    "with tf.Session() as sess:\n",
    "    sess.run(init)\n",
    "    \n",
    "    for epoch in range(n_epochs):\n",
    "        if epoch % 100 == 0:\n",
    "            save_path = saver.save(sess, \"/tmp/my_model.ckpt\")\n",
    "            print(\"Epoch\", epoch, \"MSE = \", mse.eval())\n",
    "        sess.run(training_op)\n",
    "        \n",
    "    best_theta = theta.eval()\n",
    "    save_path = saver.save(sess, \"/tmp/my_model_final.ckpt\")\n",
    "    \n",
    "    print(best_theta)"
   ]
  },
  {
   "cell_type": "markdown",
   "metadata": {},
   "source": [
    "Feeding Data to the Training Algorithm"
   ]
  },
  {
   "cell_type": "markdown",
   "metadata": {},
   "source": [
    "Placeholder node"
   ]
  },
  {
   "cell_type": "code",
   "execution_count": 25,
   "metadata": {},
   "outputs": [
    {
     "name": "stdout",
     "output_type": "stream",
     "text": [
      "[[6. 7. 8.]]\n",
      "[[ 9. 10. 11.]\n",
      " [12. 13. 14.]]\n"
     ]
    }
   ],
   "source": [
    "A = tf.placeholder(tf.float32, shape=(None, 3))\n",
    "B = A + 5\n",
    "\n",
    "with tf.Session() as sess:\n",
    "    B_val_1 = B.eval(feed_dict={A: [[1, 2, 3]]})\n",
    "    B_val_2 = B.eval(feed_dict={A: [[4, 5, 6], [7, 8 , 9]]})\n",
    "    \n",
    "print(B_val_1)\n",
    "print(B_val_2)"
   ]
  },
  {
   "cell_type": "markdown",
   "metadata": {},
   "source": [
    "Mini-Batch Gradient Descent"
   ]
  },
  {
   "cell_type": "code",
   "execution_count": 29,
   "metadata": {},
   "outputs": [
    {
     "name": "stdout",
     "output_type": "stream",
     "text": [
      "Epoch 0 MSE =  11.186439\n",
      "Epoch 100 MSE =  0.68642485\n",
      "Epoch 200 MSE =  0.57262284\n",
      "Epoch 300 MSE =  0.56014454\n",
      "Epoch 400 MSE =  0.55196947\n",
      "Epoch 500 MSE =  0.54578966\n",
      "Epoch 600 MSE =  0.5410779\n",
      "Epoch 700 MSE =  0.53746766\n",
      "Epoch 800 MSE =  0.53468627\n",
      "Epoch 900 MSE =  0.5325333\n",
      "Epoch 1000 MSE =  0.53085744\n",
      "Epoch 1100 MSE =  0.5295465\n",
      "Epoch 1200 MSE =  0.5285159\n",
      "Epoch 1300 MSE =  0.52770114\n",
      "Epoch 1400 MSE =  0.5270547\n",
      "Epoch 1500 MSE =  0.52653915\n",
      "Epoch 1600 MSE =  0.5261261\n",
      "Epoch 1700 MSE =  0.5257939\n",
      "Epoch 1800 MSE =  0.52552575\n",
      "Epoch 1900 MSE =  0.5253086\n",
      "Epoch 2000 MSE =  0.5251323\n",
      "Epoch 2100 MSE =  0.5249887\n",
      "Epoch 2200 MSE =  0.5248711\n",
      "Epoch 2300 MSE =  0.5247752\n",
      "Epoch 2400 MSE =  0.5246962\n",
      "[[ 2.0685525 ]\n",
      " [ 0.8468594 ]\n",
      " [ 0.12345095]\n",
      " [-0.29535553]\n",
      " [ 0.32915533]\n",
      " [-0.00301724]\n",
      " [-0.04009138]\n",
      " [-0.84944   ]\n",
      " [-0.82196915]]\n"
     ]
    }
   ],
   "source": [
    "# Visualizing the Graph and Training Curves using TensorBoard\n",
    "# tensorboard --logdir tf_logs/\n",
    "from datetime import datetime\n",
    "from numpy.random import permutation\n",
    "\n",
    "now = datetime.utcnow().strftime(\"%Y%m%d%H%M%S\")\n",
    "root_logdir = \"tf_logs\"\n",
    "logdir = \"{}/run-{}\".format(root_logdir, now)\n",
    "\n",
    "mse_summary = tf.summary.scalar('MSE', mse)\n",
    "file_writer = tf.summary.FileWriter(logdir, tf.get_default_graph())\n",
    "\n",
    "X_data = scaled_housing_data_plus_bias.astype(np.float32)\n",
    "y_data = housing.target.reshape(-1, 1).astype(np.float32)\n",
    "\n",
    "X = tf.placeholder(tf.float32, shape=(None, n + 1), name=\"X\")\n",
    "y = tf.placeholder(tf.float32, shape=(None, 1), name=\"y\")\n",
    "\n",
    "n_epochs = 2500\n",
    "batch_size = 100\n",
    "n_bacthes = int(np.ceil(m / batch_size))\n",
    "\n",
    "def fetch_batch():\n",
    "    perm = permutation(len(X_data))[:batch_size]\n",
    "    return X_data[perm], y_data[perm]\n",
    "    \n",
    "with tf.Session() as sess:\n",
    "    sess.run(init)\n",
    "    \n",
    "    for epoch in range(n_epochs):\n",
    "        if epoch % 100 == 0:\n",
    "           print(\"Epoch\", epoch, \"MSE = \", mse.eval())\n",
    "        X_batch, y_batch = fetch_batch()\n",
    "        if epoch % 10 == 0:\n",
    "            summary_str = mse_summary.eval(feed_dict={X:X_batch, y:y_batch})\n",
    "            step = epoch * n_bacthes + batch_index\n",
    "            file_writer.add_summary(summary_str, step)\n",
    "        sess.run(training_op, feed_dict={X:X_batch, y:y_batch})\n",
    "            \n",
    "            \n",
    "    best_theta = theta.eval()\n",
    "    print(best_theta)\n",
    "\n",
    "file_writer.close()"
   ]
  },
  {
   "cell_type": "markdown",
   "metadata": {},
   "source": [
    "\n",
    "Restoring Model"
   ]
  },
  {
   "cell_type": "code",
   "execution_count": 30,
   "metadata": {},
   "outputs": [
    {
     "name": "stdout",
     "output_type": "stream",
     "text": [
      "INFO:tensorflow:Restoring parameters from /tmp/my_model_final.ckpt\n",
      "['theta:0']\n",
      "[[ 2.0685525 ]\n",
      " [ 0.843525  ]\n",
      " [ 0.14813282]\n",
      " [-0.24171986]\n",
      " [ 0.26398513]\n",
      " [ 0.00600371]\n",
      " [-0.04210785]\n",
      " [-0.67263275]\n",
      " [-0.64248383]]\n"
     ]
    }
   ],
   "source": [
    "with tf.Session() as sess:\n",
    "    saver.restore(sess, '/tmp/my_model_final.ckpt')\n",
    "    var_names = [x.name for x in saver._var_list]\n",
    "    print(var_names)\n",
    "    #theta = tf.get_default_graph().get_tensor_by_name('theta:0')\n",
    "    #momentum_theta = tf.get_default_graph().get_tensor_by_name('theta/Momentum_2:0')\n",
    "    print(theta.eval())\n",
    "    #print(momentum_theta.eval())\n",
    "    #best_theta = theta.eval()\n",
    "    #print(best_theta)"
   ]
  },
  {
   "cell_type": "markdown",
   "metadata": {},
   "source": [
    "Modularity, Name Scope and Variable Sharing in TensorFlow"
   ]
  },
  {
   "cell_type": "code",
   "execution_count": 31,
   "metadata": {
    "scrolled": true
   },
   "outputs": [],
   "source": [
    "import tensorflow as tf\n",
    "import numpy as np\n",
    "from datetime import datetime\n",
    "\n",
    "tf.reset_default_graph()\n",
    "\n",
    "now = datetime.utcnow().strftime(\"%Y%m%d%H%M%S\")\n",
    "root_logdir = \"tf_logs\"\n",
    "logdir = \"{}/run-{}\".format(root_logdir, now)\n",
    "\n",
    "with tf.variable_scope(\"relu\"):\n",
    "        threshold = tf.get_variable(\"threshold\", shape=(), initializer=tf.constant_initializer(1.0))\n",
    "    \n",
    "def relu(X):\n",
    "    with tf.variable_scope(\"relu\", reuse=True) as scope:\n",
    "        threshold = tf.get_variable(\"threshold\")\n",
    "        w_shape = (int(X.shape[1]), 1)\n",
    "        w = tf.Variable(tf.random_normal(w_shape), name=\"weights\")\n",
    "        b = tf.Variable(0.0, name=\"bias\")\n",
    "        z = tf.reshape(tf.add(tf.matmul(X, w), b, name=\"z\"), [])\n",
    "        return tf.maximum(z, threshold, name=\"relu\")\n",
    "\n",
    "n_features = 3\n",
    "X = tf.placeholder(tf.float32, shape=(1, n_features), name=\"X\")\n",
    "relus = [relu(X) for i in range(5)]\n",
    "output = tf.add_n(relus, name=\"output\")\n",
    "\n",
    "relu_summary = tf.summary.scalar('RELU', output)\n",
    "file_writer = tf.summary.FileWriter(logdir, tf.get_default_graph())\n",
    "\n",
    "with tf.Session().as_default() as sess:\n",
    "    sess.run(tf.global_variables_initializer())\n",
    "    x_val = np.random.normal(0, np.sqrt(5), (1, n_features))\n",
    "    summary_str = relu_summary.eval(session=sess, feed_dict={X:x_val})\n",
    "    file_writer.add_summary(summary_str, 0)\n",
    "\n",
    "file_writer.close()\n"
   ]
  },
  {
   "cell_type": "code",
   "execution_count": null,
   "metadata": {},
   "outputs": [],
   "source": []
  }
 ],
 "metadata": {
  "kernelspec": {
   "display_name": "Python 3",
   "language": "python",
   "name": "python3"
  },
  "language_info": {
   "codemirror_mode": {
    "name": "ipython",
    "version": 3
   },
   "file_extension": ".py",
   "mimetype": "text/x-python",
   "name": "python",
   "nbconvert_exporter": "python",
   "pygments_lexer": "ipython3",
   "version": "3.5.2"
  }
 },
 "nbformat": 4,
 "nbformat_minor": 2
}
