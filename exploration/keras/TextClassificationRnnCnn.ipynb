{
 "cells": [
  {
   "cell_type": "code",
   "execution_count": 1,
   "metadata": {},
   "outputs": [],
   "source": [
    "import os\n",
    "import string\n",
    "import numpy as np\n",
    "import pandas as pd\n",
    "%matplotlib inline\n",
    "import matplotlib.pyplot as plt"
   ]
  },
  {
   "cell_type": "code",
   "execution_count": 2,
   "metadata": {},
   "outputs": [
    {
     "name": "stdout",
     "output_type": "stream",
     "text": [
      "3.4.3\n"
     ]
    }
   ],
   "source": [
    "import platform\n",
    "print(platform.python_version())"
   ]
  },
  {
   "cell_type": "code",
   "execution_count": 3,
   "metadata": {
    "collapsed": true
   },
   "outputs": [],
   "source": [
    "file_name = '/data/1/rathish/workspace/classification_work/new_labeled_resume.pkl'\n",
    "df = pd.read_pickle(file_name)"
   ]
  },
  {
   "cell_type": "code",
   "execution_count": 6,
   "metadata": {},
   "outputs": [
    {
     "data": {
      "text/plain": [
       "array(['clean_text', 'industry', 'nmf_ranks', 'len'], dtype=object)"
      ]
     },
     "execution_count": 6,
     "metadata": {},
     "output_type": "execute_result"
    }
   ],
   "source": [
    "df.shape\n",
    "df.columns.values"
   ]
  },
  {
   "cell_type": "code",
   "execution_count": 9,
   "metadata": {},
   "outputs": [
    {
     "data": {
      "text/plain": [
       "'high school data manager, twenty four years work experience education system programs dating back sims, nc wise power school. performs variety technical, computer organizational skills using computerized student information system generate accounting procedures. includes maintaining student records high degree accuracy preparing customized reports state local level. supports school operations able communicate effectively using confidentiality principals, counselors, teachers, central office staff, students, agencies, institutions higher education.'"
      ]
     },
     "execution_count": 9,
     "metadata": {},
     "output_type": "execute_result"
    }
   ],
   "source": [
    "df['clean_text'].iloc[0]"
   ]
  },
  {
   "cell_type": "code",
   "execution_count": 10,
   "metadata": {},
   "outputs": [
    {
     "data": {
      "text/html": [
       "<div>\n",
       "<style scoped>\n",
       "    .dataframe tbody tr th:only-of-type {\n",
       "        vertical-align: middle;\n",
       "    }\n",
       "\n",
       "    .dataframe tbody tr th {\n",
       "        vertical-align: top;\n",
       "    }\n",
       "\n",
       "    .dataframe thead th {\n",
       "        text-align: right;\n",
       "    }\n",
       "</style>\n",
       "<table border=\"1\" class=\"dataframe\">\n",
       "  <thead>\n",
       "    <tr style=\"text-align: right;\">\n",
       "      <th></th>\n",
       "      <th>clean_text</th>\n",
       "      <th>industry</th>\n",
       "      <th>nmf_ranks</th>\n",
       "      <th>len</th>\n",
       "    </tr>\n",
       "  </thead>\n",
       "  <tbody>\n",
       "    <tr>\n",
       "      <th>0</th>\n",
       "      <td>high school data manager, twenty four years wo...</td>\n",
       "      <td>Education and Training</td>\n",
       "      <td>6</td>\n",
       "      <td>65</td>\n",
       "    </tr>\n",
       "    <tr>\n",
       "      <th>3</th>\n",
       "      <td>highly organized meticulous bookkeeper experie...</td>\n",
       "      <td>Accounting and Finance</td>\n",
       "      <td>13</td>\n",
       "      <td>67</td>\n",
       "    </tr>\n",
       "    <tr>\n",
       "      <th>7</th>\n",
       "      <td>worked different areas healthcare field going ...</td>\n",
       "      <td>Healthcare</td>\n",
       "      <td>4</td>\n",
       "      <td>42</td>\n",
       "    </tr>\n",
       "    <tr>\n",
       "      <th>10</th>\n",
       "      <td>visionary solid experience managing levels sta...</td>\n",
       "      <td>Law Enforcement and Security</td>\n",
       "      <td>9</td>\n",
       "      <td>88</td>\n",
       "    </tr>\n",
       "    <tr>\n",
       "      <th>13</th>\n",
       "      <td>caring assistant managerdriven deliver excepti...</td>\n",
       "      <td>Funeral Services</td>\n",
       "      <td>20</td>\n",
       "      <td>36</td>\n",
       "    </tr>\n",
       "  </tbody>\n",
       "</table>\n",
       "</div>"
      ],
      "text/plain": [
       "                                           clean_text  \\\n",
       "0   high school data manager, twenty four years wo...   \n",
       "3   highly organized meticulous bookkeeper experie...   \n",
       "7   worked different areas healthcare field going ...   \n",
       "10  visionary solid experience managing levels sta...   \n",
       "13  caring assistant managerdriven deliver excepti...   \n",
       "\n",
       "                        industry  nmf_ranks  len  \n",
       "0         Education and Training          6   65  \n",
       "3         Accounting and Finance         13   67  \n",
       "7                     Healthcare          4   42  \n",
       "10  Law Enforcement and Security          9   88  \n",
       "13              Funeral Services         20   36  "
      ]
     },
     "execution_count": 10,
     "metadata": {},
     "output_type": "execute_result"
    }
   ],
   "source": [
    "df.head()"
   ]
  },
  {
   "cell_type": "code",
   "execution_count": 142,
   "metadata": {},
   "outputs": [
    {
     "name": "stdout",
     "output_type": "stream",
     "text": [
      "['Education and Training' 'Accounting and Finance' 'Healthcare'\n",
      " 'Law Enforcement and Security' 'Funeral Services' 'Customer Service'\n",
      " 'Administrative Support' 'Installation and Maintenance'\n",
      " 'Food and Beverage' 'Sales' 'Management' 'Manufacturing and Production'\n",
      " 'Insurance' 'Legal' 'Business' nan 'Computers and Technology'\n",
      " 'Banking and Financial Services' 'Transportation and Distribution'\n",
      " 'Marketing, Advertising and PR' 'Construction' 'Retail' 'Engineering'\n",
      " 'Fitness and Recreation' 'Performing Arts' 'Nursing' 'Skilled Trades'\n",
      " 'Science' 'Human Resources' 'Psychology' 'Childcare'\n",
      " 'Community and Public Service' 'Dental' 'Green Jobs' 'Military'\n",
      " 'Government' 'Entertainment and Media' 'Real Estate'\n",
      " 'Art, Fashion and Design' 'Personal Services'\n",
      " 'Natural Resources and Agriculture' 'Veterinary' 'Beauty and Spa'\n",
      " 'Social Sciences' 'Sports' 'Pharmacy' 'Travel and Hospitality'\n",
      " 'Humanities and Liberal Arts' 'Telecommunications and Wireless'\n",
      " 'Architecture' 'Library' 'Textile and Apparel']\n",
      "52\n",
      "[ 6 13  4  9 20 14  0  3 10 29  8 19 25  1 11 22  7 28 27 17 21 30 16  5  2\n",
      " 23 24 12 18 15 26]\n"
     ]
    }
   ],
   "source": [
    "industries = df.industry.unique()\n",
    "print(industries)\n",
    "print(len(industries))\n",
    "\n",
    "nmf_ranks = df.nmf_ranks.unique()\n",
    "print(nmf_ranks)"
   ]
  },
  {
   "cell_type": "code",
   "execution_count": 22,
   "metadata": {},
   "outputs": [
    {
     "data": {
      "text/html": [
       "<div>\n",
       "<style scoped>\n",
       "    .dataframe tbody tr th:only-of-type {\n",
       "        vertical-align: middle;\n",
       "    }\n",
       "\n",
       "    .dataframe tbody tr th {\n",
       "        vertical-align: top;\n",
       "    }\n",
       "\n",
       "    .dataframe thead th {\n",
       "        text-align: right;\n",
       "    }\n",
       "</style>\n",
       "<table border=\"1\" class=\"dataframe\">\n",
       "  <thead>\n",
       "    <tr style=\"text-align: right;\">\n",
       "      <th></th>\n",
       "      <th>nmf_ranks</th>\n",
       "      <th>len</th>\n",
       "    </tr>\n",
       "  </thead>\n",
       "  <tbody>\n",
       "    <tr>\n",
       "      <th>count</th>\n",
       "      <td>3895210.00</td>\n",
       "      <td>3895210.00</td>\n",
       "    </tr>\n",
       "    <tr>\n",
       "      <th>mean</th>\n",
       "      <td>13.23</td>\n",
       "      <td>83.59</td>\n",
       "    </tr>\n",
       "    <tr>\n",
       "      <th>std</th>\n",
       "      <td>9.11</td>\n",
       "      <td>59.93</td>\n",
       "    </tr>\n",
       "    <tr>\n",
       "      <th>min</th>\n",
       "      <td>0.00</td>\n",
       "      <td>17.00</td>\n",
       "    </tr>\n",
       "    <tr>\n",
       "      <th>25%</th>\n",
       "      <td>6.00</td>\n",
       "      <td>49.00</td>\n",
       "    </tr>\n",
       "    <tr>\n",
       "      <th>50%</th>\n",
       "      <td>12.00</td>\n",
       "      <td>68.00</td>\n",
       "    </tr>\n",
       "    <tr>\n",
       "      <th>75%</th>\n",
       "      <td>21.00</td>\n",
       "      <td>98.00</td>\n",
       "    </tr>\n",
       "    <tr>\n",
       "      <th>max</th>\n",
       "      <td>30.00</td>\n",
       "      <td>7523.00</td>\n",
       "    </tr>\n",
       "  </tbody>\n",
       "</table>\n",
       "</div>"
      ],
      "text/plain": [
       "       nmf_ranks        len\n",
       "count 3895210.00 3895210.00\n",
       "mean       13.23      83.59\n",
       "std         9.11      59.93\n",
       "min         0.00      17.00\n",
       "25%         6.00      49.00\n",
       "50%        12.00      68.00\n",
       "75%        21.00      98.00\n",
       "max        30.00    7523.00"
      ]
     },
     "execution_count": 22,
     "metadata": {},
     "output_type": "execute_result"
    }
   ],
   "source": [
    "pd.options.display.float_format = \"{:.2f}\".format\n",
    "df.describe()"
   ]
  },
  {
   "cell_type": "code",
   "execution_count": 21,
   "metadata": {},
   "outputs": [
    {
     "data": {
      "text/plain": [
       "Customer Service                     360205\n",
       "Healthcare                           238896\n",
       "Administrative Support               205939\n",
       "Food and Beverage                    185433\n",
       "Retail                               157512\n",
       "Sales                                132672\n",
       "Manufacturing and Production         122499\n",
       "Education and Training               107398\n",
       "Business                              98313\n",
       "Nursing                               97768\n",
       "Accounting and Finance                97055\n",
       "Computers and Technology              94986\n",
       "Management                            85601\n",
       "Skilled Trades                        79523\n",
       "Construction                          76868\n",
       "Transportation and Distribution       71899\n",
       "Engineering                           64909\n",
       "Banking and Financial Services        56990\n",
       "Marketing, Advertising and PR         53938\n",
       "Law Enforcement and Security          48451\n",
       "Human Resources                       42030\n",
       "Community and Public Service          36735\n",
       "Installation and Maintenance          36521\n",
       "Childcare                             36461\n",
       "Travel and Hospitality                26643\n",
       "Government                            26512\n",
       "Beauty and Spa                        23519\n",
       "Art, Fashion and Design               23310\n",
       "Entertainment and Media               22472\n",
       "Science                               20739\n",
       "Insurance                             20551\n",
       "Legal                                 19275\n",
       "Psychology                            18210\n",
       "Telecommunications and Wireless       18181\n",
       "Real Estate                           17249\n",
       "Pharmacy                              15189\n",
       "Dental                                15078\n",
       "Social Sciences                       14553\n",
       "Military                              14272\n",
       "Fitness and Recreation                13776\n",
       "Personal Services                     12587\n",
       "Veterinary                            12511\n",
       "Sports                                 8923\n",
       "Natural Resources and Agriculture      5966\n",
       "Performing Arts                        5212\n",
       "Architecture                           4575\n",
       "Green Jobs                             4112\n",
       "Humanities and Liberal Arts            3786\n",
       "Library                                2684\n",
       "Textile and Apparel                    1255\n",
       "Funeral Services                        953\n",
       "Name: industry, dtype: int64"
      ]
     },
     "execution_count": 21,
     "metadata": {},
     "output_type": "execute_result"
    }
   ],
   "source": [
    "df['industry'].value_counts()"
   ]
  },
  {
   "cell_type": "code",
   "execution_count": 51,
   "metadata": {},
   "outputs": [
    {
     "data": {
      "image/png": "[encoded data removed]",
      "text/plain": [
       "<matplotlib.figure.Figure at 0x7ff0a71b4ac8>"
      ]
     },
     "metadata": {},
     "output_type": "display_data"
    },
    {
     "name": "stdout",
     "output_type": "stream",
     "text": [
      "% documents with resume length >= 300 = 1.1141889654216333\n"
     ]
    }
   ],
   "source": [
    "max_len = 300\n",
    "df[\"truncated_len\"] = df[\"len\"] \n",
    "df[\"truncated_len\"].where(df[\"truncated_len\"] < max_len, max_len, inplace=True)\n",
    "\n",
    "df[\"truncated_len\"].hist(bins=50, figsize=(20, 15))\n",
    "plt.show()\n",
    "\n",
    "percent_resume = (df[\"truncated_len\"].value_counts()[max_len] / len(df) ) * 100\n",
    "print(\"% documents with resume length >= {} = {}\".format(max_len, percent_resume))"
   ]
  },
  {
   "cell_type": "code",
   "execution_count": 42,
   "metadata": {},
   "outputs": [
    {
     "name": "stdout",
     "output_type": "stream",
     "text": [
      "{'@', '#', '^', '`', '/', '&', '|', \"'\", ',', '[', '?', '-', '(', '\\\\', '<', '\"', '$', '+', '!', '.', ']', '%', '=', '{', ':', '>', ')', ';', '*', '_', '~', '}'}\n"
     ]
    }
   ],
   "source": [
    "import sys\n",
    "\n",
    "punctuations = set(string.punctuation)\n",
    "print(punctuations)\n",
    "count = 0\n",
    "\n",
    "def clean_text(text):\n",
    "    \"\"\"global count\n",
    "    if count % 100 == 0:\n",
    "        sys.stdout.flush()\n",
    "        print(\"processed {} items till now\".format(count))\n",
    "        \n",
    "    count += 1\"\"\"\n",
    "    text = \"\".join([x for x in text if x not in punctuations])\n",
    "    return text"
   ]
  },
  {
   "cell_type": "code",
   "execution_count": 104,
   "metadata": {},
   "outputs": [
    {
     "name": "stdout",
     "output_type": "stream",
     "text": [
      "high school data manager, twenty four years work experience education system programs dating back sims, nc wise power school. performs variety technical, computer organizational skills using computerized student information system generate accounting procedures. includes maintaining student records high degree accuracy preparing customized reports state local level. supports school operations able communicate effectively using confidentiality principals, counselors, teachers, central office staff, students, agencies, institutions higher education.\n",
      "\n",
      "high school data manager twenty four years work experience education system programs dating back sims nc wise power school performs variety technical computer organizational skills using computerized student information system generate accounting procedures includes maintaining student records high degree accuracy preparing customized reports state local level supports school operations able communicate effectively using confidentiality principals counselors teachers central office staff students agencies institutions higher education\n",
      "====================================================================================================\n",
      "highly organized meticulous bookkeeper experience business medical office settings. entered financial data company accounting database verified reconciled. generated invoices upon receipt billing information tracked collection progress. streamlined daily reporting information entry efficient record keeping purposes. entered financial information payments guarantee vendors paid accurately time. monitored, input updated ward social security pension benefits investigated, secured, liquidated ward assets reported findings probate court within sixty days appointment guardianship wards\n",
      "\n",
      "highly organized meticulous bookkeeper experience business medical office settings entered financial data company accounting database verified reconciled generated invoices upon receipt billing information tracked collection progress streamlined daily reporting information entry efficient record keeping purposes entered financial information payments guarantee vendors paid accurately time monitored input updated ward social security pension benefits investigated secured liquidated ward assets reported findings probate court within sixty days appointment guardianship wards\n",
      "====================================================================================================\n",
      "worked different areas healthcare field going complete bachelors degree human services continue assisting need. patient advocate, kind hearted, dependable honest. resigned position. worked several different units skilled setting. responsible caring alzheimer patients, ventilator patients, patients needed hands care. left position move florida\n",
      "\n",
      "worked different areas healthcare field going complete bachelors degree human services continue assisting need patient advocate kind hearted dependable honest resigned position worked several different units skilled setting responsible caring alzheimer patients ventilator patients patients needed hands care left position move florida\n",
      "====================================================================================================\n",
      "visionary solid experience managing levels staff. important solid base knowledge proven work ethic successful. history results dealing cert, inmate management, security. experience completing administrative weekly, monthly reports. assisted budget. positive productive interactions visitation alternative custody units investigations problem solving issues assigned 3050/3060. relief three shifts alpha, bravo charlie relief vacations, extended leave shift coverage needed. special projects, duties assigned. completion weekly, monthly assisted budget planning. eis reporting, monthly sanitation reports duties assigned. c shift watch commander responsible duties security watch commander including discipline staff well as, training, mentoring\n",
      "\n",
      "visionary solid experience managing levels staff important solid base knowledge proven work ethic successful history results dealing cert inmate management security experience completing administrative weekly monthly reports assisted budget positive productive interactions visitation alternative custody units investigations problem solving issues assigned 30503060 relief three shifts alpha bravo charlie relief vacations extended leave shift coverage needed special projects duties assigned completion weekly monthly assisted budget planning eis reporting monthly sanitation reports duties assigned c shift watch commander responsible duties security watch commander including discipline staff well as training mentoring\n",
      "====================================================================================================\n",
      "caring assistant managerdriven deliver exceptional professional service families need. committed coordinating funeral services offerings seamlessly simplify funeral burial process grieving families. set newly built store stock shelves new merchandise truck clean designated area assist customer requested\n",
      "\n",
      "caring assistant managerdriven deliver exceptional professional service families need committed coordinating funeral services offerings seamlessly simplify funeral burial process grieving families set newly built store stock shelves new merchandise truck clean designated area assist customer requested\n",
      "====================================================================================================\n"
     ]
    }
   ],
   "source": [
    "for i in range(5):\n",
    "    text = df['clean_text'].iloc[i]\n",
    "    print(text)\n",
    "    print()\n",
    "    print(clean_text(text))\n",
    "    print(\"=\" * 100)"
   ]
  },
  {
   "cell_type": "code",
   "execution_count": 105,
   "metadata": {
    "collapsed": true
   },
   "outputs": [],
   "source": [
    "df['clean_text'] = df['clean_text'].map(lambda x: clean_text(x))"
   ]
  },
  {
   "cell_type": "code",
   "execution_count": 107,
   "metadata": {},
   "outputs": [
    {
     "data": {
      "text/plain": [
       "Index(['clean_text', 'industry', 'nmf_ranks', 'len', 'truncated_len'], dtype='object')"
      ]
     },
     "execution_count": 107,
     "metadata": {},
     "output_type": "execute_result"
    }
   ],
   "source": [
    "df.columns"
   ]
  },
  {
   "cell_type": "code",
   "execution_count": 108,
   "metadata": {
    "collapsed": true
   },
   "outputs": [],
   "source": [
    "df.to_pickle(\"/data/1/anurag/resume_df.pkl\")"
   ]
  },
  {
   "cell_type": "code",
   "execution_count": 3,
   "metadata": {},
   "outputs": [],
   "source": [
    "file_path = \"/data/1/anurag/classification/resume_df.pkl\"\n",
    "df = pd.read_pickle(file_path)"
   ]
  },
  {
   "cell_type": "code",
   "execution_count": 6,
   "metadata": {},
   "outputs": [
    {
     "name": "stdout",
     "output_type": "stream",
     "text": [
      "(3895210, 5)\n",
      "(2960695, 5)\n",
      "['clean_text' 'industry' 'nmf_ranks' 'len' 'truncated_len']\n",
      "high school data manager twenty four years work experience education system programs dating back sims nc wise power school performs variety technical computer organizational skills using computerized student information system generate accounting procedures includes maintaining student records high degree accuracy preparing customized reports state local level supports school operations able communicate effectively using confidentiality principals counselors teachers central office staff students agencies institutions higher education\n"
     ]
    }
   ],
   "source": [
    "print(df.shape)\n",
    "new_df = df.dropna()\n",
    "\n",
    "print(new_df.shape)\n",
    "print(new_df.columns.values)"
   ]
  },
  {
   "cell_type": "code",
   "execution_count": 23,
   "metadata": {},
   "outputs": [],
   "source": [
    "from nltk.corpus import stopwords\n",
    "from keras.preprocessing.text import Tokenizer\n",
    "from keras.preprocessing.sequence import pad_sequences\n",
    "from keras.models import Sequential\n",
    "from keras.layers import Dense, Flatten, LSTM, Conv1D, MaxPooling1D, Dropout, Activation\n",
    "from keras.layers.embeddings import Embedding\n",
    "from sklearn.preprocessing import LabelEncoder, OneHotEncoder"
   ]
  },
  {
   "cell_type": "code",
   "execution_count": 8,
   "metadata": {},
   "outputs": [],
   "source": [
    "max_len_resume = 300\n",
    "embedding_dims = 100\n",
    "vocabulary_size = 20000\n",
    "\n",
    "tokenizer = Tokenizer(num_words= vocabulary_size)\n",
    "tokenizer.fit_on_texts(df['clean_text'])"
   ]
  },
  {
   "cell_type": "code",
   "execution_count": 9,
   "metadata": {},
   "outputs": [],
   "source": [
    "sequences = tokenizer.texts_to_sequences(new_df['clean_text'])\n",
    "data = pad_sequences(sequences, maxlen=max_len_resume)"
   ]
  },
  {
   "cell_type": "code",
   "execution_count": 52,
   "metadata": {},
   "outputs": [],
   "source": [
    "# saving tokenizer\n",
    "import pickle\n",
    "with open('/data/1/anurag/classification/saved_models/tokenizer.pickle', 'wb') as handle:\n",
    "    pickle.dump(tokenizer, handle, protocol=pickle.HIGHEST_PROTOCOL)"
   ]
  },
  {
   "cell_type": "code",
   "execution_count": 15,
   "metadata": {},
   "outputs": [],
   "source": [
    "num_units = 128\n",
    "\n",
    "model_lstm = Sequential()\n",
    "model_lstm.add(Embedding(vocabulary_size, embedding_dims, input_length=max_len_resume))\n",
    "model_lstm.add(LSTM(num_units, dropout=0.2, recurrent_dropout=0.2))\n",
    "model_lstm.add(Dense(51, activation='softmax'))\n",
    "model_lstm.compile(loss='categorical_crossentropy', optimizer='adam', metrics=['accuracy'])"
   ]
  },
  {
   "cell_type": "code",
   "execution_count": 25,
   "metadata": {},
   "outputs": [
    {
     "name": "stdout",
     "output_type": "stream",
     "text": [
      "['Accounting and Finance' 'Administrative Support' 'Architecture'\n",
      " 'Art, Fashion and Design' 'Banking and Financial Services'\n",
      " 'Beauty and Spa' 'Business' 'Childcare' 'Community and Public Service'\n",
      " 'Computers and Technology' 'Construction' 'Customer Service' 'Dental'\n",
      " 'Education and Training' 'Engineering' 'Entertainment and Media'\n",
      " 'Fitness and Recreation' 'Food and Beverage' 'Funeral Services'\n",
      " 'Government' 'Green Jobs' 'Healthcare' 'Human Resources'\n",
      " 'Humanities and Liberal Arts' 'Installation and Maintenance' 'Insurance'\n",
      " 'Law Enforcement and Security' 'Legal' 'Library' 'Management'\n",
      " 'Manufacturing and Production' 'Marketing, Advertising and PR' 'Military'\n",
      " 'Natural Resources and Agriculture' 'Nursing' 'Performing Arts'\n",
      " 'Personal Services' 'Pharmacy' 'Psychology' 'Real Estate' 'Retail'\n",
      " 'Sales' 'Science' 'Skilled Trades' 'Social Sciences' 'Sports'\n",
      " 'Telecommunications and Wireless' 'Textile and Apparel'\n",
      " 'Transportation and Distribution' 'Travel and Hospitality' 'Veterinary']\n",
      "[13  0 21 ...  9 30 41]\n"
     ]
    },
    {
     "name": "stderr",
     "output_type": "stream",
     "text": [
      "/data/1/anurag/mlEnv/lib/python3.4/site-packages/sklearn/preprocessing/_encoders.py:363: FutureWarning: The handling of integer data will change in version 0.22. Currently, the categories are determined based on the range [0, max(values)], while in the future they will be determined based on the unique values.\n",
      "If you want the future behaviour and silence this warning, you can specify \"categories='auto'\".\n",
      "In case you used a LabelEncoder before this OneHotEncoder to convert the categories to integers, then you can now use the OneHotEncoder directly.\n",
      "  warnings.warn(msg, FutureWarning)\n"
     ]
    }
   ],
   "source": [
    "labels = np.array(new_df['industry'])\n",
    "encoder = LabelEncoder()\n",
    "industry_encoded = encoder.fit_transform(labels)\n",
    "\n",
    "print(encoder.classes_)\n",
    "print(industry_encoded)\n",
    "\n",
    "one_hotencoder = OneHotEncoder()\n",
    "industry_1hot = one_hotencoder.fit_transform(industry_encoded.reshape(-1, 1))"
   ]
  },
  {
   "cell_type": "code",
   "execution_count": 13,
   "metadata": {},
   "outputs": [
    {
     "name": "stdout",
     "output_type": "stream",
     "text": [
      "(2960695, 300)\n",
      "(2960695, 51)\n",
      "(200000, 300)\n",
      "(200000, 51)\n"
     ]
    }
   ],
   "source": [
    "print(data.shape)\n",
    "print(industry_1hot.shape)\n",
    "\n",
    "print(data[:200000].shape)\n",
    "print(industry_1hot[:200000].shape)"
   ]
  },
  {
   "cell_type": "code",
   "execution_count": 34,
   "metadata": {},
   "outputs": [
    {
     "name": "stdout",
     "output_type": "stream",
     "text": [
      "Train on 2368556 samples, validate on 592139 samples\n",
      "Epoch 1/2\n",
      "2368556/2368556 [==============================] - 13567s 6ms/step - loss: 1.4487 - acc: 0.6130 - val_loss: 1.5936 - val_acc: 0.5786\n",
      "Epoch 2/2\n",
      "2368556/2368556 [==============================] - 13626s 6ms/step - loss: 1.3443 - acc: 0.6362 - val_loss: 1.5687 - val_acc: 0.5850\n"
     ]
    },
    {
     "data": {
      "text/plain": [
       "<keras.callbacks.History at 0x7fc84f270470>"
      ]
     },
     "execution_count": 34,
     "metadata": {},
     "output_type": "execute_result"
    }
   ],
   "source": [
    "batch_size = 256\n",
    "# num_docs = 20000\n",
    "num_docs = data.shape[0]\n",
    "\n",
    "model_lstm.fit(data[:num_docs], industry_1hot[:num_docs], validation_split=0.20, batch_size=batch_size, epochs=2)"
   ]
  },
  {
   "cell_type": "code",
   "execution_count": 40,
   "metadata": {},
   "outputs": [
    {
     "name": "stdout",
     "output_type": "stream",
     "text": [
      "Train on 2368556 samples, validate on 592139 samples\n",
      "Epoch 1/5\n",
      "2368556/2368556 [==============================] - 13639s 6ms/step - loss: 1.3075 - acc: 0.6441 - val_loss: 1.5609 - val_acc: 0.5870\n",
      "Epoch 2/5\n",
      "2368556/2368556 [==============================] - 13647s 6ms/step - loss: 1.2838 - acc: 0.6496 - val_loss: 1.5639 - val_acc: 0.5863\n",
      "Epoch 3/5\n",
      "2368556/2368556 [==============================] - 13677s 6ms/step - loss: 1.2655 - acc: 0.6535 - val_loss: 1.5694 - val_acc: 0.5870\n",
      "Epoch 4/5\n",
      "2368556/2368556 [==============================] - 13694s 6ms/step - loss: 1.2513 - acc: 0.6567 - val_loss: 1.5756 - val_acc: 0.5858\n",
      "Epoch 5/5\n",
      "1398272/2368556 [================>.............] - ETA: 1:27:04 - loss: 1.2320 - acc: 0.6613"
     ]
    },
    {
     "name": "stderr",
     "output_type": "stream",
     "text": [
      "IOPub message rate exceeded.\n",
      "The notebook server will temporarily stop sending output\n",
      "to the client in order to avoid crashing it.\n",
      "To change this limit, set the config variable\n",
      "`--NotebookApp.iopub_msg_rate_limit`.\n",
      "\n",
      "Current values:\n",
      "NotebookApp.iopub_msg_rate_limit=1000.0 (msgs/sec)\n",
      "NotebookApp.rate_limit_window=3.0 (secs)\n",
      "\n"
     ]
    },
    {
     "name": "stdout",
     "output_type": "stream",
     "text": [
      "2368556/2368556 [==============================] - 13676s 6ms/step - loss: 1.2390 - acc: 0.6596 - val_loss: 1.5864 - val_acc: 0.5852\n"
     ]
    },
    {
     "data": {
      "text/plain": [
       "<keras.callbacks.History at 0x7fc84f24c6a0>"
      ]
     },
     "execution_count": 40,
     "metadata": {},
     "output_type": "execute_result"
    }
   ],
   "source": [
    "model_lstm.fit(data[:num_docs], industry_1hot[:num_docs], validation_split=0.20, batch_size=batch_size, epochs=5)"
   ]
  },
  {
   "cell_type": "code",
   "execution_count": 41,
   "metadata": {},
   "outputs": [],
   "source": [
    "test_text = \"Maintenance of Workplace Health and Safety standards inclusive of sweeping, mopping and disinfecting workshop. Assisting tradesmen undertaking professional duties. Completing opening and closing of business practices. Nurturing team workplace environment. Communicating/interacting with customers. Processing orders for customers. Carrying out servicing. Carrying out daily banking duties. Ordering and procurement of parts. Introduction into MWIN computer system for processing of parts invoices. Effectively working as a team member. Able to take direction from employees/employers of a senior position Able to communicate clearly and efficiently with customers/staff members Operated a cash register for cash, check and credit card transactions with accuracy. Stocked and replenished merchandise according to store merchandising layout Priced merchandise, stocked shelves and took inventory of supplies.\""
   ]
  },
  {
   "cell_type": "code",
   "execution_count": 43,
   "metadata": {},
   "outputs": [
    {
     "name": "stdout",
     "output_type": "stream",
     "text": [
      "Maintenance of Workplace Health and Safety standards inclusive of sweeping, mopping and disinfecting workshop. Assisting tradesmen undertaking professional duties. Completing opening and closing of business practices. Nurturing team workplace environment. Communicating/interacting with customers. Processing orders for customers. Carrying out servicing. Carrying out daily banking duties. Ordering and procurement of parts. Introduction into MWIN computer system for processing of parts invoices. Effectively working as a team member. Able to take direction from employees/employers of a senior position Able to communicate clearly and efficiently with customers/staff members Operated a cash register for cash, check and credit card transactions with accuracy. Stocked and replenished merchandise according to store merchandising layout Priced merchandise, stocked shelves and took inventory of supplies.\n",
      "====================================================================================================\n",
      "maintenance workplace health safety standards inclusive sweeping mopping disinfecting workshop assisting tradesmen undertaking professional duties completing opening closing business practices nurturing team workplace environment communicatinginteracting customers processing orders customers carrying servicing carrying daily banking duties ordering procurement parts introduction mwin computer system processing parts invoices effectively working team member able take direction employeesemployers senior position able communicate clearly efficiently customersstaff members operated cash register cash check credit card transactions accuracy stocked replenished merchandise according store merchandising layout priced merchandise stocked shelves took inventory supplies\n",
      "84\n"
     ]
    }
   ],
   "source": [
    "def process_text(text):\n",
    "    text = text.lower().split()\n",
    "    \n",
    "    ## Remove stop words\n",
    "    stops = set(stopwords.words(\"english\"))\n",
    "    text = [w for w in text if not w in stops]\n",
    "    \n",
    "    text = \" \".join(text)\n",
    "    text = \"\".join([x for x in text if x not in punctuations])\n",
    "    return text\n",
    "\n",
    "cleaned_text = process_text(test_text)\n",
    "print(test_text)\n",
    "print(\"=\" * 100)\n",
    "print(cleaned_text)\n",
    "\n",
    "print(len(cleaned_text.split()))"
   ]
  },
  {
   "cell_type": "code",
   "execution_count": 44,
   "metadata": {},
   "outputs": [
    {
     "name": "stdout",
     "output_type": "stream",
     "text": [
      "[[4.39864583e-03 1.21216485e-02 3.32751195e-04 9.05947643e-04\n",
      "  3.38323950e-03 5.22237795e-04 1.97864249e-02 1.45674800e-03\n",
      "  4.74950485e-03 1.04022142e-03 1.97496247e-02 1.50950968e-01\n",
      "  6.71656569e-03 4.08532703e-03 3.38918786e-03 6.83928665e-04\n",
      "  1.35418016e-03 1.22293495e-02 1.31925335e-04 2.22150632e-03\n",
      "  1.81131135e-03 2.91778799e-02 1.54678174e-03 3.05246911e-04\n",
      "  1.45119756e-01 9.92137211e-05 2.57036672e-03 7.89040409e-04\n",
      "  9.68829991e-05 9.01739765e-03 3.60549651e-02 2.58460379e-04\n",
      "  2.42106835e-04 1.78287085e-03 2.94669415e-03 1.63143748e-04\n",
      "  2.64538778e-03 9.50018293e-04 4.49044514e-04 5.27966593e-04\n",
      "  4.37011331e-01 6.80673588e-03 9.33066767e-04 5.54982722e-02\n",
      "  4.52861947e-04 1.29973458e-04 1.70681661e-03 2.70770659e-04\n",
      "  5.85865323e-03 9.79057746e-04 3.58802313e-03]]\n"
     ]
    },
    {
     "data": {
      "text/plain": [
       "40"
      ]
     },
     "execution_count": 44,
     "metadata": {},
     "output_type": "execute_result"
    }
   ],
   "source": [
    "sequence = tokenizer.texts_to_sequences([cleaned_text])\n",
    "input_data = pad_sequences(sequence, maxlen=max_len_resume)\n",
    "predictions = model_lstm.predict(input_data)\n",
    "\n",
    "print(predictions)\n",
    "np.argmax(predictions)"
   ]
  },
  {
   "cell_type": "code",
   "execution_count": 39,
   "metadata": {},
   "outputs": [
    {
     "name": "stdout",
     "output_type": "stream",
     "text": [
      "[[    0     0     0     0     0     0     0     0     0     0     0     0\n",
      "      0     0     0     0     0     0     0     0     0     0     0     0\n",
      "      0     0     0     0     0     0     0     0     0     0     0     0\n",
      "      0     0     0     0     0     0     0     0     0     0     0     0\n",
      "      0     0     0     0     0     0     0     0     0     0     0     0\n",
      "      0     0     0     0     0     0     0     0     0     0     0     0\n",
      "      0     0     0     0     0     0     0     0     0     0     0     0\n",
      "      0     0     0     0     0     0     0     0     0     0     0     0\n",
      "      0     0     0     0     0     0     0     0     0     0     0     0\n",
      "      0     0     0     0     0     0     0     0     0     0     0     0\n",
      "      0     0     0     0     0     0     0     0     0     0     0     0\n",
      "      0     0     0     0     0     0     0     0     0     0     0     0\n",
      "      0     0     0     0     0     0     0     0     0     0     0     0\n",
      "      0     0     0     0     0     0     0     0     0     0     0     0\n",
      "      0     0     0     0     0     0     0     0     0     0     0     0\n",
      "      0     0     0     0     0     0     0     0     0     0     0     0\n",
      "      0     0     0     0     0     0     0     0     0     0     0     0\n",
      "      0     0     0     0     0     0     0     0     0     0     0     0\n",
      "      0     0     0     0    95  1708    98    54   103  5431  3023  2533\n",
      "   5863  3400   410 15052  7468    12   104   448   573   390    17   424\n",
      "   4364     9  1708    29    10   304    59    10  3244  2238  3244    31\n",
      "    734   104   797  1598   374  3939   169    86   304   374   645   128\n",
      "     14     9   247   179   323   935   497    48   179   534  1305   235\n",
      "    125   321    64   391    64   451   269   624   305   294   447  1403\n",
      "    139   333    34   554  2299  1957   139   447   700   435    76   227]]\n"
     ]
    }
   ],
   "source": [
    "print(input_data)"
   ]
  },
  {
   "cell_type": "code",
   "execution_count": 46,
   "metadata": {},
   "outputs": [
    {
     "data": {
      "text/plain": [
       "'Customer Service'"
      ]
     },
     "execution_count": 46,
     "metadata": {},
     "output_type": "execute_result"
    }
   ],
   "source": [
    "encoder.classes_[11]"
   ]
  },
  {
   "cell_type": "code",
   "execution_count": 48,
   "metadata": {},
   "outputs": [
    {
     "data": {
      "text/plain": [
       "['/data/1/anurag/classification/saved_models/labels_encoder.pkl']"
      ]
     },
     "execution_count": 48,
     "metadata": {},
     "output_type": "execute_result"
    }
   ],
   "source": [
    "from sklearn.externals import joblib\n",
    "\n",
    "joblib.dump(encoder, '/data/1/anurag/classification/saved_models/labels_encoder.pkl')"
   ]
  },
  {
   "cell_type": "code",
   "execution_count": 49,
   "metadata": {},
   "outputs": [
    {
     "name": "stdout",
     "output_type": "stream",
     "text": [
      "0 Accounting and Finance\n",
      "1 Administrative Support\n",
      "2 Architecture\n",
      "3 Art, Fashion and Design\n",
      "4 Banking and Financial Services\n",
      "5 Beauty and Spa\n",
      "6 Business\n",
      "7 Childcare\n",
      "8 Community and Public Service\n",
      "9 Computers and Technology\n",
      "10 Construction\n",
      "11 Customer Service\n",
      "12 Dental\n",
      "13 Education and Training\n",
      "14 Engineering\n",
      "15 Entertainment and Media\n",
      "16 Fitness and Recreation\n",
      "17 Food and Beverage\n",
      "18 Funeral Services\n",
      "19 Government\n",
      "20 Green Jobs\n",
      "21 Healthcare\n",
      "22 Human Resources\n",
      "23 Humanities and Liberal Arts\n",
      "24 Installation and Maintenance\n",
      "25 Insurance\n",
      "26 Law Enforcement and Security\n",
      "27 Legal\n",
      "28 Library\n",
      "29 Management\n",
      "30 Manufacturing and Production\n",
      "31 Marketing, Advertising and PR\n",
      "32 Military\n",
      "33 Natural Resources and Agriculture\n",
      "34 Nursing\n",
      "35 Performing Arts\n",
      "36 Personal Services\n",
      "37 Pharmacy\n",
      "38 Psychology\n",
      "39 Real Estate\n",
      "40 Retail\n",
      "41 Sales\n",
      "42 Science\n",
      "43 Skilled Trades\n",
      "44 Social Sciences\n",
      "45 Sports\n",
      "46 Telecommunications and Wireless\n",
      "47 Textile and Apparel\n",
      "48 Transportation and Distribution\n",
      "49 Travel and Hospitality\n",
      "50 Veterinary\n"
     ]
    }
   ],
   "source": [
    "for i in range(len(encoder.classes_)):\n",
    "    print(i, encoder.classes_[i])"
   ]
  },
  {
   "cell_type": "code",
   "execution_count": 50,
   "metadata": {},
   "outputs": [],
   "source": [
    "from keras.models import load_model\n",
    "\n",
    "model_lstm.save('/data/1/anurag/classification/saved_models/lstm_model.h5')"
   ]
  },
  {
   "cell_type": "markdown",
   "metadata": {},
   "source": [
    "# Ading CNN layer"
   ]
  },
  {
   "cell_type": "code",
   "execution_count": 60,
   "metadata": {},
   "outputs": [],
   "source": [
    "from keras.callbacks import ModelCheckpoint\n",
    "\n",
    "filepath=\"lstm_plus_cnn2_model-{epoch:02d}-{val_acc:.4f}.hdf5\"\n",
    "checkpoint = ModelCheckpoint(filepath, monitor='val_acc', verbose=1, save_best_only=False, mode='max')\n",
    "callbacks_list = [checkpoint]"
   ]
  },
  {
   "cell_type": "code",
   "execution_count": 69,
   "metadata": {},
   "outputs": [],
   "source": [
    "num_units = 128\n",
    "\n",
    "model_conv = Sequential()\n",
    "model_conv.add(Embedding(vocabulary_size, embedding_dims, input_length=max_len_resume))\n",
    "model_conv.add(Conv1D(128, 3, activation='relu'))\n",
    "model_conv.add(MaxPooling1D(pool_size=2))\n",
    "model_conv.add(LSTM(num_units, dropout=0.2))\n",
    "model_conv.add(Dense(51, activation='softmax'))\n",
    "model_conv.compile(loss='categorical_crossentropy', optimizer='adam', metrics=['accuracy'])"
   ]
  },
  {
   "cell_type": "code",
   "execution_count": 70,
   "metadata": {},
   "outputs": [
    {
     "name": "stdout",
     "output_type": "stream",
     "text": [
      "_________________________________________________________________\n",
      "Layer (type)                 Output Shape              Param #   \n",
      "=================================================================\n",
      "embedding_7 (Embedding)      (None, 300, 100)          2000000   \n",
      "_________________________________________________________________\n",
      "conv1d_6 (Conv1D)            (None, 298, 128)          38528     \n",
      "_________________________________________________________________\n",
      "max_pooling1d_6 (MaxPooling1 (None, 149, 128)          0         \n",
      "_________________________________________________________________\n",
      "lstm_7 (LSTM)                (None, 128)               131584    \n",
      "_________________________________________________________________\n",
      "dense_7 (Dense)              (None, 51)                6579      \n",
      "=================================================================\n",
      "Total params: 2,176,691\n",
      "Trainable params: 2,176,691\n",
      "Non-trainable params: 0\n",
      "_________________________________________________________________\n"
     ]
    }
   ],
   "source": [
    "model_conv.summary()"
   ]
  },
  {
   "cell_type": "code",
   "execution_count": null,
   "metadata": {},
   "outputs": [
    {
     "name": "stdout",
     "output_type": "stream",
     "text": [
      "Train on 2368556 samples, validate on 592139 samples\n",
      "Epoch 1/7\n",
      "2368556/2368556 [==============================] - 10913s 5ms/step - loss: 1.4936 - acc: 0.6008 - val_loss: 1.5940 - val_acc: 0.5794\n",
      "\n",
      "Epoch 00001: val_acc did not improve from 0.58837\n",
      "Epoch 2/7\n",
      "2368556/2368556 [==============================] - 10911s 5ms/step - loss: 1.3394 - acc: 0.6378 - val_loss: 1.5714 - val_acc: 0.5841\n",
      "\n",
      "Epoch 00002: val_acc did not improve from 0.58837\n",
      "Epoch 3/7\n",
      "2368556/2368556 [==============================] - 10910s 5ms/step - loss: 1.3030 - acc: 0.6466 - val_loss: 1.5670 - val_acc: 0.5863\n",
      "\n",
      "Epoch 00003: val_acc did not improve from 0.58837\n",
      "Epoch 4/7\n",
      "2368556/2368556 [==============================] - 10920s 5ms/step - loss: 1.2802 - acc: 0.6517 - val_loss: 1.5658 - val_acc: 0.5861\n",
      "\n",
      "Epoch 00004: val_acc did not improve from 0.58837\n",
      "Epoch 5/7\n",
      "2368556/2368556 [==============================] - 10816s 5ms/step - loss: 1.2637 - acc: 0.6557 - val_loss: 1.5701 - val_acc: 0.5870\n",
      "\n",
      "Epoch 00005: val_acc did not improve from 0.58837\n",
      "Epoch 6/7\n",
      "2368556/2368556 [==============================] - 10883s 5ms/step - loss: 1.2508 - acc: 0.6589 - val_loss: 1.5726 - val_acc: 0.5854\n",
      "\n",
      "Epoch 00006: val_acc did not improve from 0.58837\n",
      "Epoch 7/7\n",
      " 741248/2368556 [========>.....................] - ETA: 1:55:51 - loss: 1.2239 - acc: 0.6650"
     ]
    }
   ],
   "source": [
    "batch_size = 128\n",
    "# num_docs = 20000\n",
    "num_docs = data.shape[0]\n",
    "\n",
    "model_conv.fit(data[:num_docs], industry_1hot[:num_docs], validation_split=0.20, batch_size=batch_size, epochs=7, callbacks=callbacks_list)"
   ]
  },
  {
   "cell_type": "code",
   "execution_count": 74,
   "metadata": {},
   "outputs": [],
   "source": [
    "model_conv.save('/data/1/anurag/classification/saved_models/lstm_cnn_model.h5')"
   ]
  },
  {
   "cell_type": "code",
   "execution_count": 76,
   "metadata": {},
   "outputs": [
    {
     "name": "stdout",
     "output_type": "stream",
     "text": [
      "_________________________________________________________________\n",
      "Layer (type)                 Output Shape              Param #   \n",
      "=================================================================\n",
      "embedding_9 (Embedding)      (None, 300, 50)           1000000   \n",
      "_________________________________________________________________\n",
      "conv1d_8 (Conv1D)            (None, 298, 64)           9664      \n",
      "_________________________________________________________________\n",
      "max_pooling1d_8 (MaxPooling1 (None, 149, 64)           0         \n",
      "_________________________________________________________________\n",
      "lstm_9 (LSTM)                (None, 128)               98816     \n",
      "_________________________________________________________________\n",
      "dense_9 (Dense)              (None, 51)                6579      \n",
      "=================================================================\n",
      "Total params: 1,115,059\n",
      "Trainable params: 1,115,059\n",
      "Non-trainable params: 0\n",
      "_________________________________________________________________\n"
     ]
    }
   ],
   "source": [
    "num_units = 128\n",
    "embedding_dims = 50\n",
    "\n",
    "model_conv2 = Sequential()\n",
    "model_conv2.add(Embedding(vocabulary_size, embedding_dims, input_length=max_len_resume))\n",
    "model_conv2.add(Conv1D(64, 3, activation='relu'))\n",
    "model_conv2.add(MaxPooling1D(pool_size=2))\n",
    "model_conv2.add(LSTM(num_units, dropout=0.1))\n",
    "model_conv2.add(Dense(51, activation='softmax'))\n",
    "model_conv2.compile(loss='categorical_crossentropy', optimizer='adam', metrics=['accuracy'])\n",
    "\n",
    "model_conv2.summary()"
   ]
  },
  {
   "cell_type": "code",
   "execution_count": 78,
   "metadata": {},
   "outputs": [
    {
     "name": "stdout",
     "output_type": "stream",
     "text": [
      "Train on 2368556 samples, validate on 592139 samples\n",
      "Epoch 1/4\n",
      "2368556/2368556 [==============================] - 6621s 3ms/step - loss: 1.5287 - acc: 0.5924 - val_loss: 1.6125 - val_acc: 0.5741\n",
      "\n",
      "Epoch 00001: val_acc did not improve from 0.58837\n",
      "Epoch 2/4\n",
      "2368556/2368556 [==============================] - 6617s 3ms/step - loss: 1.3622 - acc: 0.6321 - val_loss: 1.5856 - val_acc: 0.5810\n",
      "\n",
      "Epoch 00002: val_acc did not improve from 0.58837\n",
      "Epoch 3/4\n",
      "2368556/2368556 [==============================] - 6639s 3ms/step - loss: 1.3181 - acc: 0.6424 - val_loss: 1.5683 - val_acc: 0.5852\n",
      "\n",
      "Epoch 00003: val_acc did not improve from 0.58837\n",
      "Epoch 4/4\n",
      "2368556/2368556 [==============================] - 6640s 3ms/step - loss: 1.2897 - acc: 0.6494 - val_loss: 1.5719 - val_acc: 0.5840\n",
      "\n",
      "Epoch 00004: val_acc did not improve from 0.58837\n"
     ]
    },
    {
     "data": {
      "text/plain": [
       "<keras.callbacks.History at 0x7fc7f35685c0>"
      ]
     },
     "execution_count": 78,
     "metadata": {},
     "output_type": "execute_result"
    }
   ],
   "source": [
    "batch_size = 256\n",
    "# num_docs = 20000\n",
    "num_docs = data.shape[0]\n",
    "\n",
    "model_conv2.fit(data[:num_docs], industry_1hot[:num_docs], validation_split=0.20, batch_size=batch_size, epochs=4, callbacks=callbacks_list)"
   ]
  },
  {
   "cell_type": "code",
   "execution_count": null,
   "metadata": {},
   "outputs": [],
   "source": []
  }
 ],
 "metadata": {
  "kernelspec": {
   "display_name": "Python 3",
   "language": "python",
   "name": "python3"
  },
  "language_info": {
   "codemirror_mode": {
    "name": "ipython",
    "version": 3
   },
   "file_extension": ".py",
   "mimetype": "text/x-python",
   "name": "python",
   "nbconvert_exporter": "python",
   "pygments_lexer": "ipython3",
   "version": "3.4.3"
  }
 },
 "nbformat": 4,
 "nbformat_minor": 2
}
